{
 "cells": [
  {
   "cell_type": "markdown",
   "metadata": {
    "nbpresent": {
     "id": "455d9b79-0cf5-467b-a6b1-01b3d8fd246e"
    },
    "slideshow": {
     "slide_type": "slide"
    }
   },
   "source": [
    "  \n",
    "\n",
    "  <span style=\"color: black; font-family: Babas; font-size: 2em;\">Reinforcement Learning Series</span>\n",
    "  \n",
    "  <span style=\"color: black; font-family: Garamond; font-size: 1.3em;\">Chi-Town Machine Learning Meetup</span>\n",
    "  \n",
    "  \n",
    "  <p><img src= \"demo_images/RL_images/maze.gif\",style=border:0px;margin:0px;float:left;width:400px;> \n",
    "  </p>\n",
    "  <p> <br></p>\n",
    "\n",
    "<p>\n",
    "<img src= \"demo_images/RL_images/looping_pacman.gif\",style=border:0px;margin:0px;float:left;width:400px;> \n",
    "  </p>\n",
    "\n",
    "\n",
    "<p> <br><br><br><br><br></p>\n",
    "\n",
    "<p>\n",
    "  <img src=\"demo_images/RL_images/lunar_lander.gif\",style=border:0px;margin:30px;float:left;width:400px;> \n",
    "    </p>\n",
    "\n",
    "<p>  \n",
    " <img src=\"demo_images/RL_images/chess.gif\",style=border:0px;margin:20px;float:left;width:300px;> \n",
    "  </p>\n",
    "\n",
    "\n"
   ]
  },
  {
   "cell_type": "markdown",
   "metadata": {
    "slideshow": {
     "slide_type": "subslide"
    }
   },
   "source": [
    "  \n",
    "\n",
    "  <span style=\"color: black; font-family: Babas; font-size: 2em;\">Reinforcement Learning Series</span>\n",
    "  \n",
    "  <span style=\"color: black; font-family: Garamond; font-size: 1.3em;\">Chi-Town Machine Learning Meetup</span>\n",
    "  \n",
    "  \n",
    "\n",
    "\n",
    "\n",
    "\n"
   ]
  },
  {
   "cell_type": "markdown",
   "metadata": {
    "slideshow": {
     "slide_type": "slide"
    }
   },
   "source": [
    "  \n",
    "\n",
    "  <span style=\"color: black; font-family: Babas; font-size: 2em;\">Reinforcement Learning Series</span>\n",
    "  \n",
    "  <span style=\"color: black; font-family: Garamond; font-size: 1.3em;\">Part 3: Large state spaces and function approximators</span>\n",
    "  \n",
    "  \n",
    " <p> <img src= \"demo_images/RL_images/cartpole.gif\",style=border:0px;margin:0px;float:center;width:700px;> \n",
    "  \n",
    "</p>\n",
    "\n"
   ]
  },
  {
   "cell_type": "markdown",
   "metadata": {
    "slideshow": {
     "slide_type": "slide"
    }
   },
   "source": [
    "# What this presentation is all about"
   ]
  },
  {
   "cell_type": "markdown",
   "metadata": {
    "slideshow": {
     "slide_type": "subslide"
    }
   },
   "source": [
    "## What this presentation is about"
   ]
  },
  {
   "cell_type": "markdown",
   "metadata": {
    "slideshow": {
     "slide_type": "fragment"
    }
   },
   "source": [
    "- Problems with huge state spaces"
   ]
  },
  {
   "cell_type": "markdown",
   "metadata": {
    "slideshow": {
     "slide_type": "fragment"
    }
   },
   "source": [
    "- The absolute need for *function approximators*"
   ]
  },
  {
   "cell_type": "markdown",
   "metadata": {
    "slideshow": {
     "slide_type": "fragment"
    }
   },
   "source": [
    "- Big picture overview of function approximation"
   ]
  },
  {
   "cell_type": "markdown",
   "metadata": {
    "slideshow": {
     "slide_type": "fragment"
    }
   },
   "source": [
    "- Intuition for injecting function approximators into our Q-Learning framework"
   ]
  },
  {
   "cell_type": "markdown",
   "metadata": {
    "slideshow": {
     "slide_type": "slide"
    }
   },
   "source": [
    "# Dealing with large state spaces"
   ]
  },
  {
   "cell_type": "markdown",
   "metadata": {
    "slideshow": {
     "slide_type": "subslide"
    }
   },
   "source": [
    "## Dealing with large state spaces"
   ]
  },
  {
   "cell_type": "markdown",
   "metadata": {
    "slideshow": {
     "slide_type": "fragment"
    }
   },
   "source": [
    "- With the chess example: the number of possible configurations of chess pieces on the board is enormous - i.e., the number of states or size of state space - is on the order of $10^{120}$.  That is far larger than the number of atoms in the known universe!"
   ]
  },
  {
   "cell_type": "markdown",
   "metadata": {
    "slideshow": {
     "slide_type": "fragment"
    }
   },
   "source": [
    "- With the cart-pole example: each of the four descriptors of the environment is continuous (or finely discretized in practice) - thus the number of states is - technically speaking - infinite.  "
   ]
  },
  {
   "cell_type": "markdown",
   "metadata": {
    "slideshow": {
     "slide_type": "fragment"
    }
   },
   "source": [
    "- With the Pac-man example: if we use raw pixels as input then one state is a single frame of the game, and we have as many states as there are ways to legally arrange pixels in the game.  This is an extremely large number.  "
   ]
  },
  {
   "cell_type": "markdown",
   "metadata": {
    "slideshow": {
     "slide_type": "fragment"
    }
   },
   "source": [
    "With such RL problems the **huge number of states** makes directly computing and storing the $Q$ function/matrix impossible."
   ]
  },
  {
   "cell_type": "markdown",
   "metadata": {
    "slideshow": {
     "slide_type": "slide"
    }
   },
   "source": [
    "Recall our Q-Learning algo so far - with all the trimmings..."
   ]
  },
  {
   "cell_type": "markdown",
   "metadata": {
    "slideshow": {
     "slide_type": "subslide"
    }
   },
   "source": [
    "### Q -Learning pseudo-code\n",
    "\n",
    "<hr style=\"height:1px;border:none;color:#555;background-color:#555;\">\n",
    "<p style=\"line-height: 1.7;\">\n",
    "<strong>1:</strong>&nbsp;&nbsp; initialize $Q$<br>\n",
    "<strong>2:</strong>&nbsp;&nbsp; set the number of episodes $E$<br>\n",
    "<strong>3:</strong>&nbsp;&nbsp; set the maximum number of steps per episode $T$<br>\n",
    "<strong>4:</strong>&nbsp;&nbsp; set the exploration-exploitation probability $p\\in[0,1]$<br>\n",
    "<strong>5:</strong>&nbsp;&nbsp; set the short-term long-term reward trade-off $\\gamma\\in[0,1]$<br>\n",
    "\n",
    "<strong>6:</strong>&nbsp;&nbsp; <code>for</code> $e$ = $1$, $2$, ..., $E$<br>\n",
    "<strong>7:</strong>&nbsp;&nbsp; &nbsp;&nbsp;&nbsp;&nbsp;&nbsp;&nbsp;$k \\longleftarrow 1$<br>\n",
    "<strong>8:</strong>&nbsp;&nbsp; &nbsp;&nbsp;&nbsp;&nbsp;&nbsp;&nbsp;select a random initial state $s_1$<br>\n",
    "<strong>9:</strong>&nbsp;&nbsp; &nbsp;&nbsp;&nbsp;&nbsp;&nbsp;&nbsp;<code>while</code> goal state not reached <code>and</code> $k \\leq T$<br>\n",
    "<strong>10:</strong>&nbsp;&nbsp;&nbsp;&nbsp;&nbsp;&nbsp;&nbsp;&nbsp;&nbsp;&nbsp;&nbsp;&nbsp;&nbsp;choose a random number $r$ uniformly from the unit interval $[0,1]$<br>\n",
    "\n",
    "<strong>11:</strong>&nbsp;&nbsp;&nbsp;&nbsp;&nbsp;&nbsp;&nbsp;&nbsp;&nbsp;&nbsp;&nbsp;&nbsp;&nbsp;<code>if</code> $r<p$<br>\n",
    "\n",
    "<strong>12:</strong>&nbsp;&nbsp;&nbsp;&nbsp;&nbsp;&nbsp;&nbsp;&nbsp;&nbsp;&nbsp;&nbsp;&nbsp;&nbsp;&nbsp;&nbsp;&nbsp;&nbsp;&nbsp;&nbsp;&nbsp;&nbsp;select a valid action $a_k$ at random<br>\n",
    "\n",
    "<strong>13:</strong>&nbsp;&nbsp;&nbsp;&nbsp;&nbsp;&nbsp;&nbsp;&nbsp;&nbsp;&nbsp;&nbsp;&nbsp;&nbsp;<code>else</code><br>\n",
    "\n",
    "<strong>14:</strong>&nbsp;&nbsp;&nbsp;&nbsp;&nbsp;&nbsp;&nbsp;&nbsp;&nbsp;&nbsp;&nbsp;&nbsp;&nbsp;&nbsp;&nbsp;&nbsp;&nbsp;&nbsp;&nbsp;&nbsp;&nbsp;select the valid action $a_k$ that maximizes $Q\\left(s_{k},\\,a_{k}\\right)$<br>\n",
    "\n",
    "<strong>15:</strong>&nbsp;&nbsp;&nbsp;&nbsp;&nbsp;&nbsp;&nbsp;&nbsp;&nbsp;&nbsp;&nbsp;&nbsp;&nbsp;<code>end if</code><br>\n",
    "\n",
    "<strong>16:</strong>&nbsp;\n",
    "&nbsp;&nbsp;&nbsp;&nbsp;&nbsp;&nbsp;&nbsp;&nbsp;&nbsp;&nbsp;&nbsp;&nbsp;record the resulting state $s_{k+1}$ and corresponding reward $r_k$<br>\n",
    "<strong>17:</strong>&nbsp;&nbsp; &nbsp;&nbsp;&nbsp;&nbsp;&nbsp;&nbsp;&nbsp;&nbsp;&nbsp;&nbsp;$Q\\left(s_{k},\\,a_{k}\\right) \\longleftarrow r_{k}+\\gamma\\cdot\\underset{i\\in\\varOmega(s_{k+1})}{\\text{maximum}}\\,\\,Q\\left(s_{k+1},\\,\\alpha_{i}\\right)$<br>\n",
    "<strong>18:</strong>&nbsp;&nbsp; &nbsp;&nbsp;&nbsp;&nbsp;&nbsp;&nbsp;&nbsp;&nbsp;&nbsp;&nbsp;$k \\longleftarrow k+1$<br>\n",
    "<strong>19:</strong>&nbsp;&nbsp; &nbsp;&nbsp;&nbsp;&nbsp;<code>end while</code><br>\n",
    "<strong>20:</strong>&nbsp; <code>end for</code><br>\n",
    "<hr style=\"height:1px;border:none;color:#555;background-color:#555;\">\n",
    "</p>\n"
   ]
  },
  {
   "cell_type": "markdown",
   "metadata": {
    "slideshow": {
     "slide_type": "subslide"
    }
   },
   "source": [
    "## The problem"
   ]
  },
  {
   "cell_type": "markdown",
   "metadata": {
    "slideshow": {
     "slide_type": "fragment"
    }
   },
   "source": [
    "- With a huge state-space we now have a serious problem recording / updating $\\,\\,Q\\left(s_{k},\\,a_{k}\\right)$"
   ]
  },
  {
   "cell_type": "markdown",
   "metadata": {
    "slideshow": {
     "slide_type": "fragment"
    }
   },
   "source": [
    "- Thus far have been thinking about / computing $Q$ as a **table of values**"
   ]
  },
  {
   "cell_type": "markdown",
   "metadata": {
    "slideshow": {
     "slide_type": "subslide"
    }
   },
   "source": [
    "## e.g., for simple grid world"
   ]
  },
  {
   "cell_type": "code",
   "execution_count": 1,
   "metadata": {
    "collapsed": false
   },
   "outputs": [
    {
     "name": "stdout",
     "output_type": "stream",
     "text": [
      "q-learning algorithm complete\n"
     ]
    }
   ],
   "source": [
    "# import gridworld library - make sure this is executed prior to running any gridworld cell\n",
    "import sys\n",
    "sys.path.append('demo_python_backend_files')\n",
    "\n",
    "# import custom gridworld simulator, qlearning module, and animation suite\n",
    "from gridworld_lib import gridworld_enviro\n",
    "from gridworld_lib import gridworld_qlearn\n",
    "from gridworld_lib import gridworld_animators\n",
    "\n",
    "# generate instance of gridworld, instance of q-learner, then print out Q function for visual examination\n",
    "small_maze = gridworld_enviro.environment(world_size = 'small', world_type = 'maze')\n",
    "\n",
    "# create an instance of the q-learner\n",
    "qlearner = gridworld_qlearn.learner(gridworld = small_maze)\n",
    "\n",
    "# run q-learning\n",
    "qlearner.train(verbose = False, action_method = 'exploit')\n",
    "\n",
    "# pull states and Q matrix for plotting\n",
    "states = small_maze.states "
   ]
  },
  {
   "cell_type": "markdown",
   "metadata": {
    "slideshow": {
     "slide_type": "subslide"
    }
   },
   "source": [
    "## e.g., for simple grid world"
   ]
  },
  {
   "cell_type": "code",
   "execution_count": 2,
   "metadata": {
    "collapsed": false,
    "slideshow": {
     "slide_type": "fragment"
    }
   },
   "outputs": [
    {
     "name": "stdout",
     "output_type": "stream",
     "text": [
      "        down     up   left  right\n",
      "0,0   -427.0 -227.0 -427.0 -227.0\n",
      "0,1   -227.0  -27.0 -427.0 -226.0\n",
      "0,2   -226.0  -26.0 -227.0 -225.0\n",
      "0,3   -225.0  -25.0 -226.0 -224.0\n",
      "0,4   -224.0  -24.0 -225.0 -223.0\n",
      "0,5   -223.0  -23.0 -224.0 -222.0\n",
      "0,6   -222.0  -22.0 -223.0 -221.0\n",
      "0,7   -221.0  -21.0 -222.0 -220.0\n",
      "0,8   -220.0  -20.0 -221.0 -219.0\n",
      "0,9   -219.0  -19.0 -220.0 -218.0\n",
      "0,10  -218.0  -18.0 -219.0 -217.0\n",
      "0,11  -217.0  -17.0 -218.0 -417.0\n",
      "0,12  -417.0 -217.0 -217.0 -417.0\n",
      "1,0   -427.0 -228.0 -227.0  -27.0\n",
      "1,1   -227.0  -28.0 -227.0  -26.0\n",
      "1,2   -226.0 -226.0  -27.0  -25.0\n",
      "1,3   -225.0 -225.0  -26.0  -24.0\n",
      "1,4   -224.0 -224.0  -25.0  -23.0\n",
      "1,5   -223.0 -223.0  -24.0  -22.0\n",
      "1,6   -222.0 -222.0  -23.0  -21.0\n",
      "1,7   -221.0 -221.0  -22.0  -20.0\n",
      "1,8   -220.0 -220.0  -21.0  -19.0\n",
      "1,9   -219.0  -20.0  -20.0  -18.0\n",
      "1,10  -218.0 -216.0  -19.0  -17.0\n",
      "1,11  -217.0  -16.0  -18.0 -217.0\n",
      "1,12  -417.0 -216.0  -17.0 -217.0\n",
      "2,0   -227.0 -229.0 -228.0  -28.0\n",
      "2,1    -27.0  -29.0 -228.0 -226.0\n",
      "2,2    -26.0 -229.0  -28.0 -225.0\n",
      "2,3    -25.0  -29.0 -226.0 -224.0\n",
      "...      ...    ...    ...    ...\n",
      "8,9     -9.0   -3.0 -204.0 -202.0\n",
      "8,10   -10.0   -2.0 -203.0 -201.0\n",
      "8,11   -11.0   -1.0 -202.0 -200.0\n",
      "8,12  -211.0    0.0 -201.0 -200.0\n",
      "9,0   -240.0 -240.0  -40.0  -39.0\n",
      "9,1   -233.0 -239.0  -40.0  -38.0\n",
      "9,2   -234.0 -238.0  -39.0  -37.0\n",
      "9,3    -36.0 -237.0  -38.0 -207.0\n",
      "9,4   -236.0 -407.0  -37.0   -7.0\n",
      "9,5   -207.0 -207.0 -207.0   -6.0\n",
      "9,6   -206.0 -206.0   -7.0   -5.0\n",
      "9,7     -6.0 -205.0   -6.0   -4.0\n",
      "9,8   -204.0 -204.0   -5.0   -3.0\n",
      "9,9   -203.0 -203.0   -4.0   -2.0\n",
      "9,10  -202.0 -202.0   -3.0   -1.0\n",
      "9,11  -201.0 -201.0   -2.0    0.0\n",
      "9,12     0.0    0.0    0.0    0.0\n",
      "10,0   -40.0 -240.0 -233.0 -236.0\n",
      "10,1   -39.0 -234.0 -230.0 -238.0\n",
      "10,2   -38.0 -220.0 -239.0 -228.0\n",
      "10,3   -37.0 -237.0 -231.0 -407.0\n",
      "10,4  -207.0 -407.0 -211.0 -207.0\n",
      "10,5    -7.0 -207.0 -407.0 -206.0\n",
      "10,6    -6.0 -206.0 -207.0 -205.0\n",
      "10,7    -5.0 -205.0 -206.0 -204.0\n",
      "10,8    -4.0 -204.0 -205.0 -203.0\n",
      "10,9    -3.0 -203.0 -204.0 -202.0\n",
      "10,10   -2.0 -202.0 -203.0 -201.0\n",
      "10,11   -1.0 -201.0 -202.0 -200.0\n",
      "10,12    0.0 -200.0    0.0 -200.0\n",
      "\n",
      "[143 rows x 4 columns]\n"
     ]
    }
   ],
   "source": [
    "# print out Q matrix\n",
    "import pandas as pd\n",
    "df = pd.DataFrame(qlearner.Q,columns=['down','up','left','right'], index=small_maze.states)\n",
    "print df.round(3)   "
   ]
  },
  {
   "cell_type": "markdown",
   "metadata": {
    "slideshow": {
     "slide_type": "subslide"
    }
   },
   "source": [
    "## e.g., for simple grid world"
   ]
  },
  {
   "cell_type": "markdown",
   "metadata": {
    "slideshow": {
     "slide_type": "fragment"
    }
   },
   "source": [
    "- In other words, Q here is a set of 4 *mathematical functions* --> one for each *possible action*"
   ]
  },
  {
   "cell_type": "markdown",
   "metadata": {
    "slideshow": {
     "slide_type": "fragment"
    }
   },
   "source": [
    "- With Q-Learning so far, we have been computing the raw *tabular-version of these functions*"
   ]
  },
  {
   "cell_type": "markdown",
   "metadata": {
    "slideshow": {
     "slide_type": "fragment"
    }
   },
   "source": [
    "- Lets plot em"
   ]
  },
  {
   "cell_type": "markdown",
   "metadata": {
    "slideshow": {
     "slide_type": "subslide"
    }
   },
   "source": [
    "## e.g., for simple grid world"
   ]
  },
  {
   "cell_type": "code",
   "execution_count": 3,
   "metadata": {
    "collapsed": false,
    "slideshow": {
     "slide_type": "fragment"
    }
   },
   "outputs": [
    {
     "data": {
      "application/javascript": [
       "/* Put everything inside the global mpl namespace */\n",
       "window.mpl = {};\n",
       "\n",
       "mpl.get_websocket_type = function() {\n",
       "    if (typeof(WebSocket) !== 'undefined') {\n",
       "        return WebSocket;\n",
       "    } else if (typeof(MozWebSocket) !== 'undefined') {\n",
       "        return MozWebSocket;\n",
       "    } else {\n",
       "        alert('Your browser does not have WebSocket support.' +\n",
       "              'Please try Chrome, Safari or Firefox ≥ 6. ' +\n",
       "              'Firefox 4 and 5 are also supported but you ' +\n",
       "              'have to enable WebSockets in about:config.');\n",
       "    };\n",
       "}\n",
       "\n",
       "mpl.figure = function(figure_id, websocket, ondownload, parent_element) {\n",
       "    this.id = figure_id;\n",
       "\n",
       "    this.ws = websocket;\n",
       "\n",
       "    this.supports_binary = (this.ws.binaryType != undefined);\n",
       "\n",
       "    if (!this.supports_binary) {\n",
       "        var warnings = document.getElementById(\"mpl-warnings\");\n",
       "        if (warnings) {\n",
       "            warnings.style.display = 'block';\n",
       "            warnings.textContent = (\n",
       "                \"This browser does not support binary websocket messages. \" +\n",
       "                    \"Performance may be slow.\");\n",
       "        }\n",
       "    }\n",
       "\n",
       "    this.imageObj = new Image();\n",
       "\n",
       "    this.context = undefined;\n",
       "    this.message = undefined;\n",
       "    this.canvas = undefined;\n",
       "    this.rubberband_canvas = undefined;\n",
       "    this.rubberband_context = undefined;\n",
       "    this.format_dropdown = undefined;\n",
       "\n",
       "    this.image_mode = 'full';\n",
       "\n",
       "    this.root = $('<div/>');\n",
       "    this._root_extra_style(this.root)\n",
       "    this.root.attr('style', 'display: inline-block');\n",
       "\n",
       "    $(parent_element).append(this.root);\n",
       "\n",
       "    this._init_header(this);\n",
       "    this._init_canvas(this);\n",
       "    this._init_toolbar(this);\n",
       "\n",
       "    var fig = this;\n",
       "\n",
       "    this.waiting = false;\n",
       "\n",
       "    this.ws.onopen =  function () {\n",
       "            fig.send_message(\"supports_binary\", {value: fig.supports_binary});\n",
       "            fig.send_message(\"send_image_mode\", {});\n",
       "            fig.send_message(\"refresh\", {});\n",
       "        }\n",
       "\n",
       "    this.imageObj.onload = function() {\n",
       "            if (fig.image_mode == 'full') {\n",
       "                // Full images could contain transparency (where diff images\n",
       "                // almost always do), so we need to clear the canvas so that\n",
       "                // there is no ghosting.\n",
       "                fig.context.clearRect(0, 0, fig.canvas.width, fig.canvas.height);\n",
       "            }\n",
       "            fig.context.drawImage(fig.imageObj, 0, 0);\n",
       "        };\n",
       "\n",
       "    this.imageObj.onunload = function() {\n",
       "        this.ws.close();\n",
       "    }\n",
       "\n",
       "    this.ws.onmessage = this._make_on_message_function(this);\n",
       "\n",
       "    this.ondownload = ondownload;\n",
       "}\n",
       "\n",
       "mpl.figure.prototype._init_header = function() {\n",
       "    var titlebar = $(\n",
       "        '<div class=\"ui-dialog-titlebar ui-widget-header ui-corner-all ' +\n",
       "        'ui-helper-clearfix\"/>');\n",
       "    var titletext = $(\n",
       "        '<div class=\"ui-dialog-title\" style=\"width: 100%; ' +\n",
       "        'text-align: center; padding: 3px;\"/>');\n",
       "    titlebar.append(titletext)\n",
       "    this.root.append(titlebar);\n",
       "    this.header = titletext[0];\n",
       "}\n",
       "\n",
       "\n",
       "\n",
       "mpl.figure.prototype._canvas_extra_style = function(canvas_div) {\n",
       "\n",
       "}\n",
       "\n",
       "\n",
       "mpl.figure.prototype._root_extra_style = function(canvas_div) {\n",
       "\n",
       "}\n",
       "\n",
       "mpl.figure.prototype._init_canvas = function() {\n",
       "    var fig = this;\n",
       "\n",
       "    var canvas_div = $('<div/>');\n",
       "\n",
       "    canvas_div.attr('style', 'position: relative; clear: both; outline: 0');\n",
       "\n",
       "    function canvas_keyboard_event(event) {\n",
       "        return fig.key_event(event, event['data']);\n",
       "    }\n",
       "\n",
       "    canvas_div.keydown('key_press', canvas_keyboard_event);\n",
       "    canvas_div.keyup('key_release', canvas_keyboard_event);\n",
       "    this.canvas_div = canvas_div\n",
       "    this._canvas_extra_style(canvas_div)\n",
       "    this.root.append(canvas_div);\n",
       "\n",
       "    var canvas = $('<canvas/>');\n",
       "    canvas.addClass('mpl-canvas');\n",
       "    canvas.attr('style', \"left: 0; top: 0; z-index: 0; outline: 0\")\n",
       "\n",
       "    this.canvas = canvas[0];\n",
       "    this.context = canvas[0].getContext(\"2d\");\n",
       "\n",
       "    var rubberband = $('<canvas/>');\n",
       "    rubberband.attr('style', \"position: absolute; left: 0; top: 0; z-index: 1;\")\n",
       "\n",
       "    var pass_mouse_events = true;\n",
       "\n",
       "    canvas_div.resizable({\n",
       "        start: function(event, ui) {\n",
       "            pass_mouse_events = false;\n",
       "        },\n",
       "        resize: function(event, ui) {\n",
       "            fig.request_resize(ui.size.width, ui.size.height);\n",
       "        },\n",
       "        stop: function(event, ui) {\n",
       "            pass_mouse_events = true;\n",
       "            fig.request_resize(ui.size.width, ui.size.height);\n",
       "        },\n",
       "    });\n",
       "\n",
       "    function mouse_event_fn(event) {\n",
       "        if (pass_mouse_events)\n",
       "            return fig.mouse_event(event, event['data']);\n",
       "    }\n",
       "\n",
       "    rubberband.mousedown('button_press', mouse_event_fn);\n",
       "    rubberband.mouseup('button_release', mouse_event_fn);\n",
       "    // Throttle sequential mouse events to 1 every 20ms.\n",
       "    rubberband.mousemove('motion_notify', mouse_event_fn);\n",
       "\n",
       "    rubberband.mouseenter('figure_enter', mouse_event_fn);\n",
       "    rubberband.mouseleave('figure_leave', mouse_event_fn);\n",
       "\n",
       "    canvas_div.on(\"wheel\", function (event) {\n",
       "        event = event.originalEvent;\n",
       "        event['data'] = 'scroll'\n",
       "        if (event.deltaY < 0) {\n",
       "            event.step = 1;\n",
       "        } else {\n",
       "            event.step = -1;\n",
       "        }\n",
       "        mouse_event_fn(event);\n",
       "    });\n",
       "\n",
       "    canvas_div.append(canvas);\n",
       "    canvas_div.append(rubberband);\n",
       "\n",
       "    this.rubberband = rubberband;\n",
       "    this.rubberband_canvas = rubberband[0];\n",
       "    this.rubberband_context = rubberband[0].getContext(\"2d\");\n",
       "    this.rubberband_context.strokeStyle = \"#000000\";\n",
       "\n",
       "    this._resize_canvas = function(width, height) {\n",
       "        // Keep the size of the canvas, canvas container, and rubber band\n",
       "        // canvas in synch.\n",
       "        canvas_div.css('width', width)\n",
       "        canvas_div.css('height', height)\n",
       "\n",
       "        canvas.attr('width', width);\n",
       "        canvas.attr('height', height);\n",
       "\n",
       "        rubberband.attr('width', width);\n",
       "        rubberband.attr('height', height);\n",
       "    }\n",
       "\n",
       "    // Set the figure to an initial 600x600px, this will subsequently be updated\n",
       "    // upon first draw.\n",
       "    this._resize_canvas(600, 600);\n",
       "\n",
       "    // Disable right mouse context menu.\n",
       "    $(this.rubberband_canvas).bind(\"contextmenu\",function(e){\n",
       "        return false;\n",
       "    });\n",
       "\n",
       "    function set_focus () {\n",
       "        canvas.focus();\n",
       "        canvas_div.focus();\n",
       "    }\n",
       "\n",
       "    window.setTimeout(set_focus, 100);\n",
       "}\n",
       "\n",
       "mpl.figure.prototype._init_toolbar = function() {\n",
       "    var fig = this;\n",
       "\n",
       "    var nav_element = $('<div/>')\n",
       "    nav_element.attr('style', 'width: 100%');\n",
       "    this.root.append(nav_element);\n",
       "\n",
       "    // Define a callback function for later on.\n",
       "    function toolbar_event(event) {\n",
       "        return fig.toolbar_button_onclick(event['data']);\n",
       "    }\n",
       "    function toolbar_mouse_event(event) {\n",
       "        return fig.toolbar_button_onmouseover(event['data']);\n",
       "    }\n",
       "\n",
       "    for(var toolbar_ind in mpl.toolbar_items) {\n",
       "        var name = mpl.toolbar_items[toolbar_ind][0];\n",
       "        var tooltip = mpl.toolbar_items[toolbar_ind][1];\n",
       "        var image = mpl.toolbar_items[toolbar_ind][2];\n",
       "        var method_name = mpl.toolbar_items[toolbar_ind][3];\n",
       "\n",
       "        if (!name) {\n",
       "            // put a spacer in here.\n",
       "            continue;\n",
       "        }\n",
       "        var button = $('<button/>');\n",
       "        button.addClass('ui-button ui-widget ui-state-default ui-corner-all ' +\n",
       "                        'ui-button-icon-only');\n",
       "        button.attr('role', 'button');\n",
       "        button.attr('aria-disabled', 'false');\n",
       "        button.click(method_name, toolbar_event);\n",
       "        button.mouseover(tooltip, toolbar_mouse_event);\n",
       "\n",
       "        var icon_img = $('<span/>');\n",
       "        icon_img.addClass('ui-button-icon-primary ui-icon');\n",
       "        icon_img.addClass(image);\n",
       "        icon_img.addClass('ui-corner-all');\n",
       "\n",
       "        var tooltip_span = $('<span/>');\n",
       "        tooltip_span.addClass('ui-button-text');\n",
       "        tooltip_span.html(tooltip);\n",
       "\n",
       "        button.append(icon_img);\n",
       "        button.append(tooltip_span);\n",
       "\n",
       "        nav_element.append(button);\n",
       "    }\n",
       "\n",
       "    var fmt_picker_span = $('<span/>');\n",
       "\n",
       "    var fmt_picker = $('<select/>');\n",
       "    fmt_picker.addClass('mpl-toolbar-option ui-widget ui-widget-content');\n",
       "    fmt_picker_span.append(fmt_picker);\n",
       "    nav_element.append(fmt_picker_span);\n",
       "    this.format_dropdown = fmt_picker[0];\n",
       "\n",
       "    for (var ind in mpl.extensions) {\n",
       "        var fmt = mpl.extensions[ind];\n",
       "        var option = $(\n",
       "            '<option/>', {selected: fmt === mpl.default_extension}).html(fmt);\n",
       "        fmt_picker.append(option)\n",
       "    }\n",
       "\n",
       "    // Add hover states to the ui-buttons\n",
       "    $( \".ui-button\" ).hover(\n",
       "        function() { $(this).addClass(\"ui-state-hover\");},\n",
       "        function() { $(this).removeClass(\"ui-state-hover\");}\n",
       "    );\n",
       "\n",
       "    var status_bar = $('<span class=\"mpl-message\"/>');\n",
       "    nav_element.append(status_bar);\n",
       "    this.message = status_bar[0];\n",
       "}\n",
       "\n",
       "mpl.figure.prototype.request_resize = function(x_pixels, y_pixels) {\n",
       "    // Request matplotlib to resize the figure. Matplotlib will then trigger a resize in the client,\n",
       "    // which will in turn request a refresh of the image.\n",
       "    this.send_message('resize', {'width': x_pixels, 'height': y_pixels});\n",
       "}\n",
       "\n",
       "mpl.figure.prototype.send_message = function(type, properties) {\n",
       "    properties['type'] = type;\n",
       "    properties['figure_id'] = this.id;\n",
       "    this.ws.send(JSON.stringify(properties));\n",
       "}\n",
       "\n",
       "mpl.figure.prototype.send_draw_message = function() {\n",
       "    if (!this.waiting) {\n",
       "        this.waiting = true;\n",
       "        this.ws.send(JSON.stringify({type: \"draw\", figure_id: this.id}));\n",
       "    }\n",
       "}\n",
       "\n",
       "\n",
       "mpl.figure.prototype.handle_save = function(fig, msg) {\n",
       "    var format_dropdown = fig.format_dropdown;\n",
       "    var format = format_dropdown.options[format_dropdown.selectedIndex].value;\n",
       "    fig.ondownload(fig, format);\n",
       "}\n",
       "\n",
       "\n",
       "mpl.figure.prototype.handle_resize = function(fig, msg) {\n",
       "    var size = msg['size'];\n",
       "    if (size[0] != fig.canvas.width || size[1] != fig.canvas.height) {\n",
       "        fig._resize_canvas(size[0], size[1]);\n",
       "        fig.send_message(\"refresh\", {});\n",
       "    };\n",
       "}\n",
       "\n",
       "mpl.figure.prototype.handle_rubberband = function(fig, msg) {\n",
       "    var x0 = msg['x0'];\n",
       "    var y0 = fig.canvas.height - msg['y0'];\n",
       "    var x1 = msg['x1'];\n",
       "    var y1 = fig.canvas.height - msg['y1'];\n",
       "    x0 = Math.floor(x0) + 0.5;\n",
       "    y0 = Math.floor(y0) + 0.5;\n",
       "    x1 = Math.floor(x1) + 0.5;\n",
       "    y1 = Math.floor(y1) + 0.5;\n",
       "    var min_x = Math.min(x0, x1);\n",
       "    var min_y = Math.min(y0, y1);\n",
       "    var width = Math.abs(x1 - x0);\n",
       "    var height = Math.abs(y1 - y0);\n",
       "\n",
       "    fig.rubberband_context.clearRect(\n",
       "        0, 0, fig.canvas.width, fig.canvas.height);\n",
       "\n",
       "    fig.rubberband_context.strokeRect(min_x, min_y, width, height);\n",
       "}\n",
       "\n",
       "mpl.figure.prototype.handle_figure_label = function(fig, msg) {\n",
       "    // Updates the figure title.\n",
       "    fig.header.textContent = msg['label'];\n",
       "}\n",
       "\n",
       "mpl.figure.prototype.handle_cursor = function(fig, msg) {\n",
       "    var cursor = msg['cursor'];\n",
       "    switch(cursor)\n",
       "    {\n",
       "    case 0:\n",
       "        cursor = 'pointer';\n",
       "        break;\n",
       "    case 1:\n",
       "        cursor = 'default';\n",
       "        break;\n",
       "    case 2:\n",
       "        cursor = 'crosshair';\n",
       "        break;\n",
       "    case 3:\n",
       "        cursor = 'move';\n",
       "        break;\n",
       "    }\n",
       "    fig.rubberband_canvas.style.cursor = cursor;\n",
       "}\n",
       "\n",
       "mpl.figure.prototype.handle_message = function(fig, msg) {\n",
       "    fig.message.textContent = msg['message'];\n",
       "}\n",
       "\n",
       "mpl.figure.prototype.handle_draw = function(fig, msg) {\n",
       "    // Request the server to send over a new figure.\n",
       "    fig.send_draw_message();\n",
       "}\n",
       "\n",
       "mpl.figure.prototype.handle_image_mode = function(fig, msg) {\n",
       "    fig.image_mode = msg['mode'];\n",
       "}\n",
       "\n",
       "mpl.figure.prototype.updated_canvas_event = function() {\n",
       "    // Called whenever the canvas gets updated.\n",
       "    this.send_message(\"ack\", {});\n",
       "}\n",
       "\n",
       "// A function to construct a web socket function for onmessage handling.\n",
       "// Called in the figure constructor.\n",
       "mpl.figure.prototype._make_on_message_function = function(fig) {\n",
       "    return function socket_on_message(evt) {\n",
       "        if (evt.data instanceof Blob) {\n",
       "            /* FIXME: We get \"Resource interpreted as Image but\n",
       "             * transferred with MIME type text/plain:\" errors on\n",
       "             * Chrome.  But how to set the MIME type?  It doesn't seem\n",
       "             * to be part of the websocket stream */\n",
       "            evt.data.type = \"image/png\";\n",
       "\n",
       "            /* Free the memory for the previous frames */\n",
       "            if (fig.imageObj.src) {\n",
       "                (window.URL || window.webkitURL).revokeObjectURL(\n",
       "                    fig.imageObj.src);\n",
       "            }\n",
       "\n",
       "            fig.imageObj.src = (window.URL || window.webkitURL).createObjectURL(\n",
       "                evt.data);\n",
       "            fig.updated_canvas_event();\n",
       "            fig.waiting = false;\n",
       "            return;\n",
       "        }\n",
       "        else if (typeof evt.data === 'string' && evt.data.slice(0, 21) == \"data:image/png;base64\") {\n",
       "            fig.imageObj.src = evt.data;\n",
       "            fig.updated_canvas_event();\n",
       "            fig.waiting = false;\n",
       "            return;\n",
       "        }\n",
       "\n",
       "        var msg = JSON.parse(evt.data);\n",
       "        var msg_type = msg['type'];\n",
       "\n",
       "        // Call the  \"handle_{type}\" callback, which takes\n",
       "        // the figure and JSON message as its only arguments.\n",
       "        try {\n",
       "            var callback = fig[\"handle_\" + msg_type];\n",
       "        } catch (e) {\n",
       "            console.log(\"No handler for the '\" + msg_type + \"' message type: \", msg);\n",
       "            return;\n",
       "        }\n",
       "\n",
       "        if (callback) {\n",
       "            try {\n",
       "                // console.log(\"Handling '\" + msg_type + \"' message: \", msg);\n",
       "                callback(fig, msg);\n",
       "            } catch (e) {\n",
       "                console.log(\"Exception inside the 'handler_\" + msg_type + \"' callback:\", e, e.stack, msg);\n",
       "            }\n",
       "        }\n",
       "    };\n",
       "}\n",
       "\n",
       "// from http://stackoverflow.com/questions/1114465/getting-mouse-location-in-canvas\n",
       "mpl.findpos = function(e) {\n",
       "    //this section is from http://www.quirksmode.org/js/events_properties.html\n",
       "    var targ;\n",
       "    if (!e)\n",
       "        e = window.event;\n",
       "    if (e.target)\n",
       "        targ = e.target;\n",
       "    else if (e.srcElement)\n",
       "        targ = e.srcElement;\n",
       "    if (targ.nodeType == 3) // defeat Safari bug\n",
       "        targ = targ.parentNode;\n",
       "\n",
       "    // jQuery normalizes the pageX and pageY\n",
       "    // pageX,Y are the mouse positions relative to the document\n",
       "    // offset() returns the position of the element relative to the document\n",
       "    var x = e.pageX - $(targ).offset().left;\n",
       "    var y = e.pageY - $(targ).offset().top;\n",
       "\n",
       "    return {\"x\": x, \"y\": y};\n",
       "};\n",
       "\n",
       "/*\n",
       " * return a copy of an object with only non-object keys\n",
       " * we need this to avoid circular references\n",
       " * http://stackoverflow.com/a/24161582/3208463\n",
       " */\n",
       "function simpleKeys (original) {\n",
       "  return Object.keys(original).reduce(function (obj, key) {\n",
       "    if (typeof original[key] !== 'object')\n",
       "        obj[key] = original[key]\n",
       "    return obj;\n",
       "  }, {});\n",
       "}\n",
       "\n",
       "mpl.figure.prototype.mouse_event = function(event, name) {\n",
       "    var canvas_pos = mpl.findpos(event)\n",
       "\n",
       "    if (name === 'button_press')\n",
       "    {\n",
       "        this.canvas.focus();\n",
       "        this.canvas_div.focus();\n",
       "    }\n",
       "\n",
       "    var x = canvas_pos.x;\n",
       "    var y = canvas_pos.y;\n",
       "\n",
       "    this.send_message(name, {x: x, y: y, button: event.button,\n",
       "                             step: event.step,\n",
       "                             guiEvent: simpleKeys(event)});\n",
       "\n",
       "    /* This prevents the web browser from automatically changing to\n",
       "     * the text insertion cursor when the button is pressed.  We want\n",
       "     * to control all of the cursor setting manually through the\n",
       "     * 'cursor' event from matplotlib */\n",
       "    event.preventDefault();\n",
       "    return false;\n",
       "}\n",
       "\n",
       "mpl.figure.prototype._key_event_extra = function(event, name) {\n",
       "    // Handle any extra behaviour associated with a key event\n",
       "}\n",
       "\n",
       "mpl.figure.prototype.key_event = function(event, name) {\n",
       "\n",
       "    // Prevent repeat events\n",
       "    if (name == 'key_press')\n",
       "    {\n",
       "        if (event.which === this._key)\n",
       "            return;\n",
       "        else\n",
       "            this._key = event.which;\n",
       "    }\n",
       "    if (name == 'key_release')\n",
       "        this._key = null;\n",
       "\n",
       "    var value = '';\n",
       "    if (event.ctrlKey && event.which != 17)\n",
       "        value += \"ctrl+\";\n",
       "    if (event.altKey && event.which != 18)\n",
       "        value += \"alt+\";\n",
       "    if (event.shiftKey && event.which != 16)\n",
       "        value += \"shift+\";\n",
       "\n",
       "    value += 'k';\n",
       "    value += event.which.toString();\n",
       "\n",
       "    this._key_event_extra(event, name);\n",
       "\n",
       "    this.send_message(name, {key: value,\n",
       "                             guiEvent: simpleKeys(event)});\n",
       "    return false;\n",
       "}\n",
       "\n",
       "mpl.figure.prototype.toolbar_button_onclick = function(name) {\n",
       "    if (name == 'download') {\n",
       "        this.handle_save(this, null);\n",
       "    } else {\n",
       "        this.send_message(\"toolbar_button\", {name: name});\n",
       "    }\n",
       "};\n",
       "\n",
       "mpl.figure.prototype.toolbar_button_onmouseover = function(tooltip) {\n",
       "    this.message.textContent = tooltip;\n",
       "};\n",
       "mpl.toolbar_items = [[\"Home\", \"Reset original view\", \"fa fa-home icon-home\", \"home\"], [\"Back\", \"Back to  previous view\", \"fa fa-arrow-left icon-arrow-left\", \"back\"], [\"Forward\", \"Forward to next view\", \"fa fa-arrow-right icon-arrow-right\", \"forward\"], [\"\", \"\", \"\", \"\"], [\"Pan\", \"Pan axes with left mouse, zoom with right\", \"fa fa-arrows icon-move\", \"pan\"], [\"Zoom\", \"Zoom to rectangle\", \"fa fa-square-o icon-check-empty\", \"zoom\"], [\"\", \"\", \"\", \"\"], [\"Download\", \"Download plot\", \"fa fa-floppy-o icon-save\", \"download\"]];\n",
       "\n",
       "mpl.extensions = [\"eps\", \"jpeg\", \"pdf\", \"png\", \"ps\", \"raw\", \"svg\", \"tif\"];\n",
       "\n",
       "mpl.default_extension = \"png\";var comm_websocket_adapter = function(comm) {\n",
       "    // Create a \"websocket\"-like object which calls the given IPython comm\n",
       "    // object with the appropriate methods. Currently this is a non binary\n",
       "    // socket, so there is still some room for performance tuning.\n",
       "    var ws = {};\n",
       "\n",
       "    ws.close = function() {\n",
       "        comm.close()\n",
       "    };\n",
       "    ws.send = function(m) {\n",
       "        //console.log('sending', m);\n",
       "        comm.send(m);\n",
       "    };\n",
       "    // Register the callback with on_msg.\n",
       "    comm.on_msg(function(msg) {\n",
       "        //console.log('receiving', msg['content']['data'], msg);\n",
       "        // Pass the mpl event to the overriden (by mpl) onmessage function.\n",
       "        ws.onmessage(msg['content']['data'])\n",
       "    });\n",
       "    return ws;\n",
       "}\n",
       "\n",
       "mpl.mpl_figure_comm = function(comm, msg) {\n",
       "    // This is the function which gets called when the mpl process\n",
       "    // starts-up an IPython Comm through the \"matplotlib\" channel.\n",
       "\n",
       "    var id = msg.content.data.id;\n",
       "    // Get hold of the div created by the display call when the Comm\n",
       "    // socket was opened in Python.\n",
       "    var element = $(\"#\" + id);\n",
       "    var ws_proxy = comm_websocket_adapter(comm)\n",
       "\n",
       "    function ondownload(figure, format) {\n",
       "        window.open(figure.imageObj.src);\n",
       "    }\n",
       "\n",
       "    var fig = new mpl.figure(id, ws_proxy,\n",
       "                           ondownload,\n",
       "                           element.get(0));\n",
       "\n",
       "    // Call onopen now - mpl needs it, as it is assuming we've passed it a real\n",
       "    // web socket which is closed, not our websocket->open comm proxy.\n",
       "    ws_proxy.onopen();\n",
       "\n",
       "    fig.parent_element = element.get(0);\n",
       "    fig.cell_info = mpl.find_output_cell(\"<div id='\" + id + \"'></div>\");\n",
       "    if (!fig.cell_info) {\n",
       "        console.error(\"Failed to find cell for figure\", id, fig);\n",
       "        return;\n",
       "    }\n",
       "\n",
       "    var output_index = fig.cell_info[2]\n",
       "    var cell = fig.cell_info[0];\n",
       "\n",
       "};\n",
       "\n",
       "mpl.figure.prototype.handle_close = function(fig, msg) {\n",
       "    fig.root.unbind('remove')\n",
       "\n",
       "    // Update the output cell to use the data from the current canvas.\n",
       "    fig.push_to_output();\n",
       "    var dataURL = fig.canvas.toDataURL();\n",
       "    // Re-enable the keyboard manager in IPython - without this line, in FF,\n",
       "    // the notebook keyboard shortcuts fail.\n",
       "    IPython.keyboard_manager.enable()\n",
       "    $(fig.parent_element).html('<img src=\"' + dataURL + '\">');\n",
       "    fig.close_ws(fig, msg);\n",
       "}\n",
       "\n",
       "mpl.figure.prototype.close_ws = function(fig, msg){\n",
       "    fig.send_message('closing', msg);\n",
       "    // fig.ws.close()\n",
       "}\n",
       "\n",
       "mpl.figure.prototype.push_to_output = function(remove_interactive) {\n",
       "    // Turn the data on the canvas into data in the output cell.\n",
       "    var dataURL = this.canvas.toDataURL();\n",
       "    this.cell_info[1]['text/html'] = '<img src=\"' + dataURL + '\">';\n",
       "}\n",
       "\n",
       "mpl.figure.prototype.updated_canvas_event = function() {\n",
       "    // Tell IPython that the notebook contents must change.\n",
       "    IPython.notebook.set_dirty(true);\n",
       "    this.send_message(\"ack\", {});\n",
       "    var fig = this;\n",
       "    // Wait a second, then push the new image to the DOM so\n",
       "    // that it is saved nicely (might be nice to debounce this).\n",
       "    setTimeout(function () { fig.push_to_output() }, 1000);\n",
       "}\n",
       "\n",
       "mpl.figure.prototype._init_toolbar = function() {\n",
       "    var fig = this;\n",
       "\n",
       "    var nav_element = $('<div/>')\n",
       "    nav_element.attr('style', 'width: 100%');\n",
       "    this.root.append(nav_element);\n",
       "\n",
       "    // Define a callback function for later on.\n",
       "    function toolbar_event(event) {\n",
       "        return fig.toolbar_button_onclick(event['data']);\n",
       "    }\n",
       "    function toolbar_mouse_event(event) {\n",
       "        return fig.toolbar_button_onmouseover(event['data']);\n",
       "    }\n",
       "\n",
       "    for(var toolbar_ind in mpl.toolbar_items){\n",
       "        var name = mpl.toolbar_items[toolbar_ind][0];\n",
       "        var tooltip = mpl.toolbar_items[toolbar_ind][1];\n",
       "        var image = mpl.toolbar_items[toolbar_ind][2];\n",
       "        var method_name = mpl.toolbar_items[toolbar_ind][3];\n",
       "\n",
       "        if (!name) { continue; };\n",
       "\n",
       "        var button = $('<button class=\"btn btn-default\" href=\"#\" title=\"' + name + '\"><i class=\"fa ' + image + ' fa-lg\"></i></button>');\n",
       "        button.click(method_name, toolbar_event);\n",
       "        button.mouseover(tooltip, toolbar_mouse_event);\n",
       "        nav_element.append(button);\n",
       "    }\n",
       "\n",
       "    // Add the status bar.\n",
       "    var status_bar = $('<span class=\"mpl-message\" style=\"text-align:right; float: right;\"/>');\n",
       "    nav_element.append(status_bar);\n",
       "    this.message = status_bar[0];\n",
       "\n",
       "    // Add the close button to the window.\n",
       "    var buttongrp = $('<div class=\"btn-group inline pull-right\"></div>');\n",
       "    var button = $('<button class=\"btn btn-mini btn-primary\" href=\"#\" title=\"Stop Interaction\"><i class=\"fa fa-power-off icon-remove icon-large\"></i></button>');\n",
       "    button.click(function (evt) { fig.handle_close(fig, {}); } );\n",
       "    button.mouseover('Stop Interaction', toolbar_mouse_event);\n",
       "    buttongrp.append(button);\n",
       "    var titlebar = this.root.find($('.ui-dialog-titlebar'));\n",
       "    titlebar.prepend(buttongrp);\n",
       "}\n",
       "\n",
       "mpl.figure.prototype._root_extra_style = function(el){\n",
       "    var fig = this\n",
       "    el.on(\"remove\", function(){\n",
       "\tfig.close_ws(fig, {});\n",
       "    });\n",
       "}\n",
       "\n",
       "mpl.figure.prototype._canvas_extra_style = function(el){\n",
       "    // this is important to make the div 'focusable\n",
       "    el.attr('tabindex', 0)\n",
       "    // reach out to IPython and tell the keyboard manager to turn it's self\n",
       "    // off when our div gets focus\n",
       "\n",
       "    // location in version 3\n",
       "    if (IPython.notebook.keyboard_manager) {\n",
       "        IPython.notebook.keyboard_manager.register_events(el);\n",
       "    }\n",
       "    else {\n",
       "        // location in version 2\n",
       "        IPython.keyboard_manager.register_events(el);\n",
       "    }\n",
       "\n",
       "}\n",
       "\n",
       "mpl.figure.prototype._key_event_extra = function(event, name) {\n",
       "    var manager = IPython.notebook.keyboard_manager;\n",
       "    if (!manager)\n",
       "        manager = IPython.keyboard_manager;\n",
       "\n",
       "    // Check for shift+enter\n",
       "    if (event.shiftKey && event.which == 13) {\n",
       "        this.canvas_div.blur();\n",
       "        // select the cell after this one\n",
       "        var index = IPython.notebook.find_cell_index(this.cell_info[0]);\n",
       "        IPython.notebook.select(index + 1);\n",
       "    }\n",
       "}\n",
       "\n",
       "mpl.figure.prototype.handle_save = function(fig, msg) {\n",
       "    fig.ondownload(fig, null);\n",
       "}\n",
       "\n",
       "\n",
       "mpl.find_output_cell = function(html_output) {\n",
       "    // Return the cell and output element which can be found *uniquely* in the notebook.\n",
       "    // Note - this is a bit hacky, but it is done because the \"notebook_saving.Notebook\"\n",
       "    // IPython event is triggered only after the cells have been serialised, which for\n",
       "    // our purposes (turning an active figure into a static one), is too late.\n",
       "    var cells = IPython.notebook.get_cells();\n",
       "    var ncells = cells.length;\n",
       "    for (var i=0; i<ncells; i++) {\n",
       "        var cell = cells[i];\n",
       "        if (cell.cell_type === 'code'){\n",
       "            for (var j=0; j<cell.output_area.outputs.length; j++) {\n",
       "                var data = cell.output_area.outputs[j];\n",
       "                if (data.data) {\n",
       "                    // IPython >= 3 moved mimebundle to data attribute of output\n",
       "                    data = data.data;\n",
       "                }\n",
       "                if (data['text/html'] == html_output) {\n",
       "                    return [cell, data, j];\n",
       "                }\n",
       "            }\n",
       "        }\n",
       "    }\n",
       "}\n",
       "\n",
       "// Register the function which deals with the matplotlib target/channel.\n",
       "// The kernel may be null if the page has been refreshed.\n",
       "if (IPython.notebook.kernel != null) {\n",
       "    IPython.notebook.kernel.comm_manager.register_target('matplotlib', mpl.mpl_figure_comm);\n",
       "}\n"
      ],
      "text/plain": [
       "<IPython.core.display.Javascript object>"
      ]
     },
     "metadata": {},
     "output_type": "display_data"
    },
    {
     "data": {
      "text/html": [
       "<img src=\"data:image/png;base64,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\">"
      ],
      "text/plain": [
       "<IPython.core.display.HTML object>"
      ]
     },
     "metadata": {},
     "output_type": "display_data"
    }
   ],
   "source": [
    "# create instance of gridworld animator and plot\n",
    "%matplotlib notebook\n",
    "animator = gridworld_animators.animator()\n",
    "animator.show_Qfunc_in_3d(world = small_maze,learner = qlearner)"
   ]
  },
  {
   "cell_type": "markdown",
   "metadata": {
    "slideshow": {
     "slide_type": "subslide"
    }
   },
   "source": [
    "## e.g., for simple grid world"
   ]
  },
  {
   "cell_type": "code",
   "execution_count": 2,
   "metadata": {
    "collapsed": false,
    "slideshow": {
     "slide_type": "fragment"
    }
   },
   "outputs": [
    {
     "data": {
      "application/javascript": [
       "/* Put everything inside the global mpl namespace */\n",
       "window.mpl = {};\n",
       "\n",
       "mpl.get_websocket_type = function() {\n",
       "    if (typeof(WebSocket) !== 'undefined') {\n",
       "        return WebSocket;\n",
       "    } else if (typeof(MozWebSocket) !== 'undefined') {\n",
       "        return MozWebSocket;\n",
       "    } else {\n",
       "        alert('Your browser does not have WebSocket support.' +\n",
       "              'Please try Chrome, Safari or Firefox ≥ 6. ' +\n",
       "              'Firefox 4 and 5 are also supported but you ' +\n",
       "              'have to enable WebSockets in about:config.');\n",
       "    };\n",
       "}\n",
       "\n",
       "mpl.figure = function(figure_id, websocket, ondownload, parent_element) {\n",
       "    this.id = figure_id;\n",
       "\n",
       "    this.ws = websocket;\n",
       "\n",
       "    this.supports_binary = (this.ws.binaryType != undefined);\n",
       "\n",
       "    if (!this.supports_binary) {\n",
       "        var warnings = document.getElementById(\"mpl-warnings\");\n",
       "        if (warnings) {\n",
       "            warnings.style.display = 'block';\n",
       "            warnings.textContent = (\n",
       "                \"This browser does not support binary websocket messages. \" +\n",
       "                    \"Performance may be slow.\");\n",
       "        }\n",
       "    }\n",
       "\n",
       "    this.imageObj = new Image();\n",
       "\n",
       "    this.context = undefined;\n",
       "    this.message = undefined;\n",
       "    this.canvas = undefined;\n",
       "    this.rubberband_canvas = undefined;\n",
       "    this.rubberband_context = undefined;\n",
       "    this.format_dropdown = undefined;\n",
       "\n",
       "    this.image_mode = 'full';\n",
       "\n",
       "    this.root = $('<div/>');\n",
       "    this._root_extra_style(this.root)\n",
       "    this.root.attr('style', 'display: inline-block');\n",
       "\n",
       "    $(parent_element).append(this.root);\n",
       "\n",
       "    this._init_header(this);\n",
       "    this._init_canvas(this);\n",
       "    this._init_toolbar(this);\n",
       "\n",
       "    var fig = this;\n",
       "\n",
       "    this.waiting = false;\n",
       "\n",
       "    this.ws.onopen =  function () {\n",
       "            fig.send_message(\"supports_binary\", {value: fig.supports_binary});\n",
       "            fig.send_message(\"send_image_mode\", {});\n",
       "            fig.send_message(\"refresh\", {});\n",
       "        }\n",
       "\n",
       "    this.imageObj.onload = function() {\n",
       "            if (fig.image_mode == 'full') {\n",
       "                // Full images could contain transparency (where diff images\n",
       "                // almost always do), so we need to clear the canvas so that\n",
       "                // there is no ghosting.\n",
       "                fig.context.clearRect(0, 0, fig.canvas.width, fig.canvas.height);\n",
       "            }\n",
       "            fig.context.drawImage(fig.imageObj, 0, 0);\n",
       "        };\n",
       "\n",
       "    this.imageObj.onunload = function() {\n",
       "        this.ws.close();\n",
       "    }\n",
       "\n",
       "    this.ws.onmessage = this._make_on_message_function(this);\n",
       "\n",
       "    this.ondownload = ondownload;\n",
       "}\n",
       "\n",
       "mpl.figure.prototype._init_header = function() {\n",
       "    var titlebar = $(\n",
       "        '<div class=\"ui-dialog-titlebar ui-widget-header ui-corner-all ' +\n",
       "        'ui-helper-clearfix\"/>');\n",
       "    var titletext = $(\n",
       "        '<div class=\"ui-dialog-title\" style=\"width: 100%; ' +\n",
       "        'text-align: center; padding: 3px;\"/>');\n",
       "    titlebar.append(titletext)\n",
       "    this.root.append(titlebar);\n",
       "    this.header = titletext[0];\n",
       "}\n",
       "\n",
       "\n",
       "\n",
       "mpl.figure.prototype._canvas_extra_style = function(canvas_div) {\n",
       "\n",
       "}\n",
       "\n",
       "\n",
       "mpl.figure.prototype._root_extra_style = function(canvas_div) {\n",
       "\n",
       "}\n",
       "\n",
       "mpl.figure.prototype._init_canvas = function() {\n",
       "    var fig = this;\n",
       "\n",
       "    var canvas_div = $('<div/>');\n",
       "\n",
       "    canvas_div.attr('style', 'position: relative; clear: both; outline: 0');\n",
       "\n",
       "    function canvas_keyboard_event(event) {\n",
       "        return fig.key_event(event, event['data']);\n",
       "    }\n",
       "\n",
       "    canvas_div.keydown('key_press', canvas_keyboard_event);\n",
       "    canvas_div.keyup('key_release', canvas_keyboard_event);\n",
       "    this.canvas_div = canvas_div\n",
       "    this._canvas_extra_style(canvas_div)\n",
       "    this.root.append(canvas_div);\n",
       "\n",
       "    var canvas = $('<canvas/>');\n",
       "    canvas.addClass('mpl-canvas');\n",
       "    canvas.attr('style', \"left: 0; top: 0; z-index: 0; outline: 0\")\n",
       "\n",
       "    this.canvas = canvas[0];\n",
       "    this.context = canvas[0].getContext(\"2d\");\n",
       "\n",
       "    var rubberband = $('<canvas/>');\n",
       "    rubberband.attr('style', \"position: absolute; left: 0; top: 0; z-index: 1;\")\n",
       "\n",
       "    var pass_mouse_events = true;\n",
       "\n",
       "    canvas_div.resizable({\n",
       "        start: function(event, ui) {\n",
       "            pass_mouse_events = false;\n",
       "        },\n",
       "        resize: function(event, ui) {\n",
       "            fig.request_resize(ui.size.width, ui.size.height);\n",
       "        },\n",
       "        stop: function(event, ui) {\n",
       "            pass_mouse_events = true;\n",
       "            fig.request_resize(ui.size.width, ui.size.height);\n",
       "        },\n",
       "    });\n",
       "\n",
       "    function mouse_event_fn(event) {\n",
       "        if (pass_mouse_events)\n",
       "            return fig.mouse_event(event, event['data']);\n",
       "    }\n",
       "\n",
       "    rubberband.mousedown('button_press', mouse_event_fn);\n",
       "    rubberband.mouseup('button_release', mouse_event_fn);\n",
       "    // Throttle sequential mouse events to 1 every 20ms.\n",
       "    rubberband.mousemove('motion_notify', mouse_event_fn);\n",
       "\n",
       "    rubberband.mouseenter('figure_enter', mouse_event_fn);\n",
       "    rubberband.mouseleave('figure_leave', mouse_event_fn);\n",
       "\n",
       "    canvas_div.on(\"wheel\", function (event) {\n",
       "        event = event.originalEvent;\n",
       "        event['data'] = 'scroll'\n",
       "        if (event.deltaY < 0) {\n",
       "            event.step = 1;\n",
       "        } else {\n",
       "            event.step = -1;\n",
       "        }\n",
       "        mouse_event_fn(event);\n",
       "    });\n",
       "\n",
       "    canvas_div.append(canvas);\n",
       "    canvas_div.append(rubberband);\n",
       "\n",
       "    this.rubberband = rubberband;\n",
       "    this.rubberband_canvas = rubberband[0];\n",
       "    this.rubberband_context = rubberband[0].getContext(\"2d\");\n",
       "    this.rubberband_context.strokeStyle = \"#000000\";\n",
       "\n",
       "    this._resize_canvas = function(width, height) {\n",
       "        // Keep the size of the canvas, canvas container, and rubber band\n",
       "        // canvas in synch.\n",
       "        canvas_div.css('width', width)\n",
       "        canvas_div.css('height', height)\n",
       "\n",
       "        canvas.attr('width', width);\n",
       "        canvas.attr('height', height);\n",
       "\n",
       "        rubberband.attr('width', width);\n",
       "        rubberband.attr('height', height);\n",
       "    }\n",
       "\n",
       "    // Set the figure to an initial 600x600px, this will subsequently be updated\n",
       "    // upon first draw.\n",
       "    this._resize_canvas(600, 600);\n",
       "\n",
       "    // Disable right mouse context menu.\n",
       "    $(this.rubberband_canvas).bind(\"contextmenu\",function(e){\n",
       "        return false;\n",
       "    });\n",
       "\n",
       "    function set_focus () {\n",
       "        canvas.focus();\n",
       "        canvas_div.focus();\n",
       "    }\n",
       "\n",
       "    window.setTimeout(set_focus, 100);\n",
       "}\n",
       "\n",
       "mpl.figure.prototype._init_toolbar = function() {\n",
       "    var fig = this;\n",
       "\n",
       "    var nav_element = $('<div/>')\n",
       "    nav_element.attr('style', 'width: 100%');\n",
       "    this.root.append(nav_element);\n",
       "\n",
       "    // Define a callback function for later on.\n",
       "    function toolbar_event(event) {\n",
       "        return fig.toolbar_button_onclick(event['data']);\n",
       "    }\n",
       "    function toolbar_mouse_event(event) {\n",
       "        return fig.toolbar_button_onmouseover(event['data']);\n",
       "    }\n",
       "\n",
       "    for(var toolbar_ind in mpl.toolbar_items) {\n",
       "        var name = mpl.toolbar_items[toolbar_ind][0];\n",
       "        var tooltip = mpl.toolbar_items[toolbar_ind][1];\n",
       "        var image = mpl.toolbar_items[toolbar_ind][2];\n",
       "        var method_name = mpl.toolbar_items[toolbar_ind][3];\n",
       "\n",
       "        if (!name) {\n",
       "            // put a spacer in here.\n",
       "            continue;\n",
       "        }\n",
       "        var button = $('<button/>');\n",
       "        button.addClass('ui-button ui-widget ui-state-default ui-corner-all ' +\n",
       "                        'ui-button-icon-only');\n",
       "        button.attr('role', 'button');\n",
       "        button.attr('aria-disabled', 'false');\n",
       "        button.click(method_name, toolbar_event);\n",
       "        button.mouseover(tooltip, toolbar_mouse_event);\n",
       "\n",
       "        var icon_img = $('<span/>');\n",
       "        icon_img.addClass('ui-button-icon-primary ui-icon');\n",
       "        icon_img.addClass(image);\n",
       "        icon_img.addClass('ui-corner-all');\n",
       "\n",
       "        var tooltip_span = $('<span/>');\n",
       "        tooltip_span.addClass('ui-button-text');\n",
       "        tooltip_span.html(tooltip);\n",
       "\n",
       "        button.append(icon_img);\n",
       "        button.append(tooltip_span);\n",
       "\n",
       "        nav_element.append(button);\n",
       "    }\n",
       "\n",
       "    var fmt_picker_span = $('<span/>');\n",
       "\n",
       "    var fmt_picker = $('<select/>');\n",
       "    fmt_picker.addClass('mpl-toolbar-option ui-widget ui-widget-content');\n",
       "    fmt_picker_span.append(fmt_picker);\n",
       "    nav_element.append(fmt_picker_span);\n",
       "    this.format_dropdown = fmt_picker[0];\n",
       "\n",
       "    for (var ind in mpl.extensions) {\n",
       "        var fmt = mpl.extensions[ind];\n",
       "        var option = $(\n",
       "            '<option/>', {selected: fmt === mpl.default_extension}).html(fmt);\n",
       "        fmt_picker.append(option)\n",
       "    }\n",
       "\n",
       "    // Add hover states to the ui-buttons\n",
       "    $( \".ui-button\" ).hover(\n",
       "        function() { $(this).addClass(\"ui-state-hover\");},\n",
       "        function() { $(this).removeClass(\"ui-state-hover\");}\n",
       "    );\n",
       "\n",
       "    var status_bar = $('<span class=\"mpl-message\"/>');\n",
       "    nav_element.append(status_bar);\n",
       "    this.message = status_bar[0];\n",
       "}\n",
       "\n",
       "mpl.figure.prototype.request_resize = function(x_pixels, y_pixels) {\n",
       "    // Request matplotlib to resize the figure. Matplotlib will then trigger a resize in the client,\n",
       "    // which will in turn request a refresh of the image.\n",
       "    this.send_message('resize', {'width': x_pixels, 'height': y_pixels});\n",
       "}\n",
       "\n",
       "mpl.figure.prototype.send_message = function(type, properties) {\n",
       "    properties['type'] = type;\n",
       "    properties['figure_id'] = this.id;\n",
       "    this.ws.send(JSON.stringify(properties));\n",
       "}\n",
       "\n",
       "mpl.figure.prototype.send_draw_message = function() {\n",
       "    if (!this.waiting) {\n",
       "        this.waiting = true;\n",
       "        this.ws.send(JSON.stringify({type: \"draw\", figure_id: this.id}));\n",
       "    }\n",
       "}\n",
       "\n",
       "\n",
       "mpl.figure.prototype.handle_save = function(fig, msg) {\n",
       "    var format_dropdown = fig.format_dropdown;\n",
       "    var format = format_dropdown.options[format_dropdown.selectedIndex].value;\n",
       "    fig.ondownload(fig, format);\n",
       "}\n",
       "\n",
       "\n",
       "mpl.figure.prototype.handle_resize = function(fig, msg) {\n",
       "    var size = msg['size'];\n",
       "    if (size[0] != fig.canvas.width || size[1] != fig.canvas.height) {\n",
       "        fig._resize_canvas(size[0], size[1]);\n",
       "        fig.send_message(\"refresh\", {});\n",
       "    };\n",
       "}\n",
       "\n",
       "mpl.figure.prototype.handle_rubberband = function(fig, msg) {\n",
       "    var x0 = msg['x0'];\n",
       "    var y0 = fig.canvas.height - msg['y0'];\n",
       "    var x1 = msg['x1'];\n",
       "    var y1 = fig.canvas.height - msg['y1'];\n",
       "    x0 = Math.floor(x0) + 0.5;\n",
       "    y0 = Math.floor(y0) + 0.5;\n",
       "    x1 = Math.floor(x1) + 0.5;\n",
       "    y1 = Math.floor(y1) + 0.5;\n",
       "    var min_x = Math.min(x0, x1);\n",
       "    var min_y = Math.min(y0, y1);\n",
       "    var width = Math.abs(x1 - x0);\n",
       "    var height = Math.abs(y1 - y0);\n",
       "\n",
       "    fig.rubberband_context.clearRect(\n",
       "        0, 0, fig.canvas.width, fig.canvas.height);\n",
       "\n",
       "    fig.rubberband_context.strokeRect(min_x, min_y, width, height);\n",
       "}\n",
       "\n",
       "mpl.figure.prototype.handle_figure_label = function(fig, msg) {\n",
       "    // Updates the figure title.\n",
       "    fig.header.textContent = msg['label'];\n",
       "}\n",
       "\n",
       "mpl.figure.prototype.handle_cursor = function(fig, msg) {\n",
       "    var cursor = msg['cursor'];\n",
       "    switch(cursor)\n",
       "    {\n",
       "    case 0:\n",
       "        cursor = 'pointer';\n",
       "        break;\n",
       "    case 1:\n",
       "        cursor = 'default';\n",
       "        break;\n",
       "    case 2:\n",
       "        cursor = 'crosshair';\n",
       "        break;\n",
       "    case 3:\n",
       "        cursor = 'move';\n",
       "        break;\n",
       "    }\n",
       "    fig.rubberband_canvas.style.cursor = cursor;\n",
       "}\n",
       "\n",
       "mpl.figure.prototype.handle_message = function(fig, msg) {\n",
       "    fig.message.textContent = msg['message'];\n",
       "}\n",
       "\n",
       "mpl.figure.prototype.handle_draw = function(fig, msg) {\n",
       "    // Request the server to send over a new figure.\n",
       "    fig.send_draw_message();\n",
       "}\n",
       "\n",
       "mpl.figure.prototype.handle_image_mode = function(fig, msg) {\n",
       "    fig.image_mode = msg['mode'];\n",
       "}\n",
       "\n",
       "mpl.figure.prototype.updated_canvas_event = function() {\n",
       "    // Called whenever the canvas gets updated.\n",
       "    this.send_message(\"ack\", {});\n",
       "}\n",
       "\n",
       "// A function to construct a web socket function for onmessage handling.\n",
       "// Called in the figure constructor.\n",
       "mpl.figure.prototype._make_on_message_function = function(fig) {\n",
       "    return function socket_on_message(evt) {\n",
       "        if (evt.data instanceof Blob) {\n",
       "            /* FIXME: We get \"Resource interpreted as Image but\n",
       "             * transferred with MIME type text/plain:\" errors on\n",
       "             * Chrome.  But how to set the MIME type?  It doesn't seem\n",
       "             * to be part of the websocket stream */\n",
       "            evt.data.type = \"image/png\";\n",
       "\n",
       "            /* Free the memory for the previous frames */\n",
       "            if (fig.imageObj.src) {\n",
       "                (window.URL || window.webkitURL).revokeObjectURL(\n",
       "                    fig.imageObj.src);\n",
       "            }\n",
       "\n",
       "            fig.imageObj.src = (window.URL || window.webkitURL).createObjectURL(\n",
       "                evt.data);\n",
       "            fig.updated_canvas_event();\n",
       "            fig.waiting = false;\n",
       "            return;\n",
       "        }\n",
       "        else if (typeof evt.data === 'string' && evt.data.slice(0, 21) == \"data:image/png;base64\") {\n",
       "            fig.imageObj.src = evt.data;\n",
       "            fig.updated_canvas_event();\n",
       "            fig.waiting = false;\n",
       "            return;\n",
       "        }\n",
       "\n",
       "        var msg = JSON.parse(evt.data);\n",
       "        var msg_type = msg['type'];\n",
       "\n",
       "        // Call the  \"handle_{type}\" callback, which takes\n",
       "        // the figure and JSON message as its only arguments.\n",
       "        try {\n",
       "            var callback = fig[\"handle_\" + msg_type];\n",
       "        } catch (e) {\n",
       "            console.log(\"No handler for the '\" + msg_type + \"' message type: \", msg);\n",
       "            return;\n",
       "        }\n",
       "\n",
       "        if (callback) {\n",
       "            try {\n",
       "                // console.log(\"Handling '\" + msg_type + \"' message: \", msg);\n",
       "                callback(fig, msg);\n",
       "            } catch (e) {\n",
       "                console.log(\"Exception inside the 'handler_\" + msg_type + \"' callback:\", e, e.stack, msg);\n",
       "            }\n",
       "        }\n",
       "    };\n",
       "}\n",
       "\n",
       "// from http://stackoverflow.com/questions/1114465/getting-mouse-location-in-canvas\n",
       "mpl.findpos = function(e) {\n",
       "    //this section is from http://www.quirksmode.org/js/events_properties.html\n",
       "    var targ;\n",
       "    if (!e)\n",
       "        e = window.event;\n",
       "    if (e.target)\n",
       "        targ = e.target;\n",
       "    else if (e.srcElement)\n",
       "        targ = e.srcElement;\n",
       "    if (targ.nodeType == 3) // defeat Safari bug\n",
       "        targ = targ.parentNode;\n",
       "\n",
       "    // jQuery normalizes the pageX and pageY\n",
       "    // pageX,Y are the mouse positions relative to the document\n",
       "    // offset() returns the position of the element relative to the document\n",
       "    var x = e.pageX - $(targ).offset().left;\n",
       "    var y = e.pageY - $(targ).offset().top;\n",
       "\n",
       "    return {\"x\": x, \"y\": y};\n",
       "};\n",
       "\n",
       "/*\n",
       " * return a copy of an object with only non-object keys\n",
       " * we need this to avoid circular references\n",
       " * http://stackoverflow.com/a/24161582/3208463\n",
       " */\n",
       "function simpleKeys (original) {\n",
       "  return Object.keys(original).reduce(function (obj, key) {\n",
       "    if (typeof original[key] !== 'object')\n",
       "        obj[key] = original[key]\n",
       "    return obj;\n",
       "  }, {});\n",
       "}\n",
       "\n",
       "mpl.figure.prototype.mouse_event = function(event, name) {\n",
       "    var canvas_pos = mpl.findpos(event)\n",
       "\n",
       "    if (name === 'button_press')\n",
       "    {\n",
       "        this.canvas.focus();\n",
       "        this.canvas_div.focus();\n",
       "    }\n",
       "\n",
       "    var x = canvas_pos.x;\n",
       "    var y = canvas_pos.y;\n",
       "\n",
       "    this.send_message(name, {x: x, y: y, button: event.button,\n",
       "                             step: event.step,\n",
       "                             guiEvent: simpleKeys(event)});\n",
       "\n",
       "    /* This prevents the web browser from automatically changing to\n",
       "     * the text insertion cursor when the button is pressed.  We want\n",
       "     * to control all of the cursor setting manually through the\n",
       "     * 'cursor' event from matplotlib */\n",
       "    event.preventDefault();\n",
       "    return false;\n",
       "}\n",
       "\n",
       "mpl.figure.prototype._key_event_extra = function(event, name) {\n",
       "    // Handle any extra behaviour associated with a key event\n",
       "}\n",
       "\n",
       "mpl.figure.prototype.key_event = function(event, name) {\n",
       "\n",
       "    // Prevent repeat events\n",
       "    if (name == 'key_press')\n",
       "    {\n",
       "        if (event.which === this._key)\n",
       "            return;\n",
       "        else\n",
       "            this._key = event.which;\n",
       "    }\n",
       "    if (name == 'key_release')\n",
       "        this._key = null;\n",
       "\n",
       "    var value = '';\n",
       "    if (event.ctrlKey && event.which != 17)\n",
       "        value += \"ctrl+\";\n",
       "    if (event.altKey && event.which != 18)\n",
       "        value += \"alt+\";\n",
       "    if (event.shiftKey && event.which != 16)\n",
       "        value += \"shift+\";\n",
       "\n",
       "    value += 'k';\n",
       "    value += event.which.toString();\n",
       "\n",
       "    this._key_event_extra(event, name);\n",
       "\n",
       "    this.send_message(name, {key: value,\n",
       "                             guiEvent: simpleKeys(event)});\n",
       "    return false;\n",
       "}\n",
       "\n",
       "mpl.figure.prototype.toolbar_button_onclick = function(name) {\n",
       "    if (name == 'download') {\n",
       "        this.handle_save(this, null);\n",
       "    } else {\n",
       "        this.send_message(\"toolbar_button\", {name: name});\n",
       "    }\n",
       "};\n",
       "\n",
       "mpl.figure.prototype.toolbar_button_onmouseover = function(tooltip) {\n",
       "    this.message.textContent = tooltip;\n",
       "};\n",
       "mpl.toolbar_items = [[\"Home\", \"Reset original view\", \"fa fa-home icon-home\", \"home\"], [\"Back\", \"Back to  previous view\", \"fa fa-arrow-left icon-arrow-left\", \"back\"], [\"Forward\", \"Forward to next view\", \"fa fa-arrow-right icon-arrow-right\", \"forward\"], [\"\", \"\", \"\", \"\"], [\"Pan\", \"Pan axes with left mouse, zoom with right\", \"fa fa-arrows icon-move\", \"pan\"], [\"Zoom\", \"Zoom to rectangle\", \"fa fa-square-o icon-check-empty\", \"zoom\"], [\"\", \"\", \"\", \"\"], [\"Download\", \"Download plot\", \"fa fa-floppy-o icon-save\", \"download\"]];\n",
       "\n",
       "mpl.extensions = [\"eps\", \"jpeg\", \"pdf\", \"png\", \"ps\", \"raw\", \"svg\", \"tif\"];\n",
       "\n",
       "mpl.default_extension = \"png\";var comm_websocket_adapter = function(comm) {\n",
       "    // Create a \"websocket\"-like object which calls the given IPython comm\n",
       "    // object with the appropriate methods. Currently this is a non binary\n",
       "    // socket, so there is still some room for performance tuning.\n",
       "    var ws = {};\n",
       "\n",
       "    ws.close = function() {\n",
       "        comm.close()\n",
       "    };\n",
       "    ws.send = function(m) {\n",
       "        //console.log('sending', m);\n",
       "        comm.send(m);\n",
       "    };\n",
       "    // Register the callback with on_msg.\n",
       "    comm.on_msg(function(msg) {\n",
       "        //console.log('receiving', msg['content']['data'], msg);\n",
       "        // Pass the mpl event to the overriden (by mpl) onmessage function.\n",
       "        ws.onmessage(msg['content']['data'])\n",
       "    });\n",
       "    return ws;\n",
       "}\n",
       "\n",
       "mpl.mpl_figure_comm = function(comm, msg) {\n",
       "    // This is the function which gets called when the mpl process\n",
       "    // starts-up an IPython Comm through the \"matplotlib\" channel.\n",
       "\n",
       "    var id = msg.content.data.id;\n",
       "    // Get hold of the div created by the display call when the Comm\n",
       "    // socket was opened in Python.\n",
       "    var element = $(\"#\" + id);\n",
       "    var ws_proxy = comm_websocket_adapter(comm)\n",
       "\n",
       "    function ondownload(figure, format) {\n",
       "        window.open(figure.imageObj.src);\n",
       "    }\n",
       "\n",
       "    var fig = new mpl.figure(id, ws_proxy,\n",
       "                           ondownload,\n",
       "                           element.get(0));\n",
       "\n",
       "    // Call onopen now - mpl needs it, as it is assuming we've passed it a real\n",
       "    // web socket which is closed, not our websocket->open comm proxy.\n",
       "    ws_proxy.onopen();\n",
       "\n",
       "    fig.parent_element = element.get(0);\n",
       "    fig.cell_info = mpl.find_output_cell(\"<div id='\" + id + \"'></div>\");\n",
       "    if (!fig.cell_info) {\n",
       "        console.error(\"Failed to find cell for figure\", id, fig);\n",
       "        return;\n",
       "    }\n",
       "\n",
       "    var output_index = fig.cell_info[2]\n",
       "    var cell = fig.cell_info[0];\n",
       "\n",
       "};\n",
       "\n",
       "mpl.figure.prototype.handle_close = function(fig, msg) {\n",
       "    fig.root.unbind('remove')\n",
       "\n",
       "    // Update the output cell to use the data from the current canvas.\n",
       "    fig.push_to_output();\n",
       "    var dataURL = fig.canvas.toDataURL();\n",
       "    // Re-enable the keyboard manager in IPython - without this line, in FF,\n",
       "    // the notebook keyboard shortcuts fail.\n",
       "    IPython.keyboard_manager.enable()\n",
       "    $(fig.parent_element).html('<img src=\"' + dataURL + '\">');\n",
       "    fig.close_ws(fig, msg);\n",
       "}\n",
       "\n",
       "mpl.figure.prototype.close_ws = function(fig, msg){\n",
       "    fig.send_message('closing', msg);\n",
       "    // fig.ws.close()\n",
       "}\n",
       "\n",
       "mpl.figure.prototype.push_to_output = function(remove_interactive) {\n",
       "    // Turn the data on the canvas into data in the output cell.\n",
       "    var dataURL = this.canvas.toDataURL();\n",
       "    this.cell_info[1]['text/html'] = '<img src=\"' + dataURL + '\">';\n",
       "}\n",
       "\n",
       "mpl.figure.prototype.updated_canvas_event = function() {\n",
       "    // Tell IPython that the notebook contents must change.\n",
       "    IPython.notebook.set_dirty(true);\n",
       "    this.send_message(\"ack\", {});\n",
       "    var fig = this;\n",
       "    // Wait a second, then push the new image to the DOM so\n",
       "    // that it is saved nicely (might be nice to debounce this).\n",
       "    setTimeout(function () { fig.push_to_output() }, 1000);\n",
       "}\n",
       "\n",
       "mpl.figure.prototype._init_toolbar = function() {\n",
       "    var fig = this;\n",
       "\n",
       "    var nav_element = $('<div/>')\n",
       "    nav_element.attr('style', 'width: 100%');\n",
       "    this.root.append(nav_element);\n",
       "\n",
       "    // Define a callback function for later on.\n",
       "    function toolbar_event(event) {\n",
       "        return fig.toolbar_button_onclick(event['data']);\n",
       "    }\n",
       "    function toolbar_mouse_event(event) {\n",
       "        return fig.toolbar_button_onmouseover(event['data']);\n",
       "    }\n",
       "\n",
       "    for(var toolbar_ind in mpl.toolbar_items){\n",
       "        var name = mpl.toolbar_items[toolbar_ind][0];\n",
       "        var tooltip = mpl.toolbar_items[toolbar_ind][1];\n",
       "        var image = mpl.toolbar_items[toolbar_ind][2];\n",
       "        var method_name = mpl.toolbar_items[toolbar_ind][3];\n",
       "\n",
       "        if (!name) { continue; };\n",
       "\n",
       "        var button = $('<button class=\"btn btn-default\" href=\"#\" title=\"' + name + '\"><i class=\"fa ' + image + ' fa-lg\"></i></button>');\n",
       "        button.click(method_name, toolbar_event);\n",
       "        button.mouseover(tooltip, toolbar_mouse_event);\n",
       "        nav_element.append(button);\n",
       "    }\n",
       "\n",
       "    // Add the status bar.\n",
       "    var status_bar = $('<span class=\"mpl-message\" style=\"text-align:right; float: right;\"/>');\n",
       "    nav_element.append(status_bar);\n",
       "    this.message = status_bar[0];\n",
       "\n",
       "    // Add the close button to the window.\n",
       "    var buttongrp = $('<div class=\"btn-group inline pull-right\"></div>');\n",
       "    var button = $('<button class=\"btn btn-mini btn-primary\" href=\"#\" title=\"Stop Interaction\"><i class=\"fa fa-power-off icon-remove icon-large\"></i></button>');\n",
       "    button.click(function (evt) { fig.handle_close(fig, {}); } );\n",
       "    button.mouseover('Stop Interaction', toolbar_mouse_event);\n",
       "    buttongrp.append(button);\n",
       "    var titlebar = this.root.find($('.ui-dialog-titlebar'));\n",
       "    titlebar.prepend(buttongrp);\n",
       "}\n",
       "\n",
       "mpl.figure.prototype._root_extra_style = function(el){\n",
       "    var fig = this\n",
       "    el.on(\"remove\", function(){\n",
       "\tfig.close_ws(fig, {});\n",
       "    });\n",
       "}\n",
       "\n",
       "mpl.figure.prototype._canvas_extra_style = function(el){\n",
       "    // this is important to make the div 'focusable\n",
       "    el.attr('tabindex', 0)\n",
       "    // reach out to IPython and tell the keyboard manager to turn it's self\n",
       "    // off when our div gets focus\n",
       "\n",
       "    // location in version 3\n",
       "    if (IPython.notebook.keyboard_manager) {\n",
       "        IPython.notebook.keyboard_manager.register_events(el);\n",
       "    }\n",
       "    else {\n",
       "        // location in version 2\n",
       "        IPython.keyboard_manager.register_events(el);\n",
       "    }\n",
       "\n",
       "}\n",
       "\n",
       "mpl.figure.prototype._key_event_extra = function(event, name) {\n",
       "    var manager = IPython.notebook.keyboard_manager;\n",
       "    if (!manager)\n",
       "        manager = IPython.keyboard_manager;\n",
       "\n",
       "    // Check for shift+enter\n",
       "    if (event.shiftKey && event.which == 13) {\n",
       "        this.canvas_div.blur();\n",
       "        // select the cell after this one\n",
       "        var index = IPython.notebook.find_cell_index(this.cell_info[0]);\n",
       "        IPython.notebook.select(index + 1);\n",
       "    }\n",
       "}\n",
       "\n",
       "mpl.figure.prototype.handle_save = function(fig, msg) {\n",
       "    fig.ondownload(fig, null);\n",
       "}\n",
       "\n",
       "\n",
       "mpl.find_output_cell = function(html_output) {\n",
       "    // Return the cell and output element which can be found *uniquely* in the notebook.\n",
       "    // Note - this is a bit hacky, but it is done because the \"notebook_saving.Notebook\"\n",
       "    // IPython event is triggered only after the cells have been serialised, which for\n",
       "    // our purposes (turning an active figure into a static one), is too late.\n",
       "    var cells = IPython.notebook.get_cells();\n",
       "    var ncells = cells.length;\n",
       "    for (var i=0; i<ncells; i++) {\n",
       "        var cell = cells[i];\n",
       "        if (cell.cell_type === 'code'){\n",
       "            for (var j=0; j<cell.output_area.outputs.length; j++) {\n",
       "                var data = cell.output_area.outputs[j];\n",
       "                if (data.data) {\n",
       "                    // IPython >= 3 moved mimebundle to data attribute of output\n",
       "                    data = data.data;\n",
       "                }\n",
       "                if (data['text/html'] == html_output) {\n",
       "                    return [cell, data, j];\n",
       "                }\n",
       "            }\n",
       "        }\n",
       "    }\n",
       "}\n",
       "\n",
       "// Register the function which deals with the matplotlib target/channel.\n",
       "// The kernel may be null if the page has been refreshed.\n",
       "if (IPython.notebook.kernel != null) {\n",
       "    IPython.notebook.kernel.comm_manager.register_target('matplotlib', mpl.mpl_figure_comm);\n",
       "}\n"
      ],
      "text/plain": [
       "<IPython.core.display.Javascript object>"
      ]
     },
     "metadata": {},
     "output_type": "display_data"
    },
    {
     "data": {
      "text/html": [
       "<img src=\"data:image/png;base64,iVBORw0KGgoAAAANSUhEUgAAAZAAAAGQCAYAAACAvzbMAAAgAElEQVR4XuydB7gfRdX/D4ZAUF7wDyi9iAhSkoAFBCkBAoQSmiBVmgYINYQOEqRIL6EGiArSVEpoQXpTQEBQUgClKUURQXjVV40G5P98JpzL3LkzuzO7s7dl93l4EvKbnZ05M3O+c/ocH3zwwQfSPi0FWgq0FGgp0FIgkQJztACSSLG2eUuBlgItBVoKGAq0ANJuhJYCLQVaCrQUqESBFkAqka19qaVAS4GWAi0FWgBp90BLgZYCLQVaClSiQAsglcjWvtRSoKVAS4GWAi2AtHugpUBLgZYCLQUqUaAFkEpka19qKdBSoKVAS4EWQNo90FKgpUBLgZYClSjQAkglsrUvtRRoKdBSoKVACyDtHmgp0FKgpUBLgUoUaAGkEtnal5qgwEMPPSTrr7++fOc735Fx48Y18YlKfQ4bNkx+9rOfyX//+99K7zfx0jLLLCMf+9jH5OWXX+7o/oorrpC99tpL+HO33XZr4rNtny0FOlGgBZB2Q3QbBV555RX5zGc+I3vssYf84Ac/6PJdAGSDDTYwAHLcccd127jKPgSoASDvv/9+WdNu+x06zjHHHJ0A5Ic//KEBkMsvv7wFkG5bidn7Qy2AzN7r362zLwOQGTNmyKuvvioLLbSQLLDAAt06tqKP9RUA+fvf/y5vvPGGLLroovI///M/vYZ+7UD6LwVaAOm/a9vrZvb73/9ell122aAE0usG/OGAygCEhNb//ve/jYprrrnmkgEDBhjpoMnHJ4E0+b2275YCPgq0ANLui04UuO666+TCCy+UqVOnyn/+8x9ZbrnlZOedd5axY8ca5mg/qod/+umn5ZhjjpGbb75Z/vKXvxiQ2HfffeXAAw/saH7CCScI/8FY3QoCqrMP2UCwQfz85z83TPqUU06RK6+8Uv7whz/I0ksvLYcddph861vfMt+55JJL5OKLL5YXX3xRFlxwQfnmN79p1GHuw/cmT54sv/71r82NfeDAgTJ48GAZPXq07LLLLl3ahwAEwIBGSE7Mac455zT/ff7znzcgQv/HHntsIV3sj6XQPqTC2nPPPb02EOh1+umny5133imvv/66zDPPPGZtR44cKd/+9rcN+EFPpJg//vGP8vGPf7wLHVjPiy66SG644QbZdttt25PTUqDNxtvugY8oAAicdtpp8qlPfUq22247mXfeeeWOO+6Q6dOnC0z87rvvNgxSH5jYzJkzZbHFFpO//vWvsuWWWxqGeuONNxomtP/++8sFF1xgmmNDAGDGjx8vq666qmy99dYd/fD3IUOGSAhAlIFvs8028sQTT8hmm21mmD6M7M9//rOxp0yZMkWuuuoq2WKLLeT//b//J7feequxD8A0Dz/88E7LDHNcZZVVzH+oewC9n/70p4axYnsB6OzHBRAFjn/84x/y3nvvyaBBg4xBG9DgTwAEOiy++OLyt7/9rZAu+p0qtI+1gTz55JOyySabyP/+7//KuuuuK1/5ylfkn//8pzz77LPy4IMPmjXkOemkkwzgXnbZZQZ87QeQZJ2hHapI5to+LQVaCaTdA4YCjz32mKy11lrmFgqTBkR4YJYw+Ntvv12++93vylFHHdUJQLBZrL322nLvvfcaps4Do/rSl74kv/vd7wwo8DtPmQ2kCED47ctf/rL5jur36R9m/YlPfMKAxiOPPCKLLLKI+RaAxg0bho6UwZ/68B7gZz8AwYgRI4ykg6oNYNFHAQRGixTEf0gc/Me/wVT5O9+ABiussIK89tprhp7Qjds+wMuYfHSpSvsYAGF8yy+/vLEtXXvttbLDDjt0mjdADzDw/OlPf5KlllrKADx7wH7Uwwtp5cQTT2xPTUsBQ4EWQNqNYCgwatQoc5P33T5feOEFWXHFFQWVFeohfWDCMCaYLszSfvAIQp3Cf9///vdrAwgSzH333WckIfvZcMMNzS2ase++++6dfsMjiXEACEsuuWTpSt90001G8uKdXXfdtQuAIKkAFGrjAHQAk7nnnttIHIAtAAJIACCA3ZprrmnegdkDIldffbXxlLLpUpX2MQAyadIkMycuAfy97Pn6179uJEikltVWW62jOfPg31566SUDMu3TUqAFkHYPdFAApofOHrDAhuE+gAdMEelCJQAAhBss6g3XaKzSBrfZX/3qV1kAxP62ju8b3/iGuVljh8GOYT+oo7CZPPzww4aR68M8UNXdf//9BgD/9a9/dfzGPHjnyCOPNG67AMPGG28sjz76qLz77rsd8wQU+I0bPu8AHAokzPnNN9+Ud955p0PlpxIL30ZqsulSlfYxAHLEEUfI2WefLRMmTJC99967dMcDxrhS0xabEg8qTFSMm2++udx2222lfbQNZh8KtBLI7LPWhTP93Oc+Z2wG//d//2dULu4DA0atYd/mARCYKAZa9+FmTj+04dbKU0eFFYrD4CaPUR21lHszxpaBuuWBBx4wun8e2qEKQ520zjrrGMY4//zzG6mCuSF9ADwwXubGg20H9RgABhAgeQAcSBwwcVRY/Ekf/IcKi/kDyNAAYFHnAcAWF2WV5lB7VaV9DIAABEiA2IQAgJhn5ZVXNvYgLgeoBzGe45xwyy23GBtT+7QUUAq0ANLuBUMBvQWjonLtA/yuEgi38Pnmm8+8090SiC+QLxVADjjgAHMbR6eP9GI/SDKorpA+ABBVVcF4AZC33nqrA1TUI01tIPSDigpAAECwu9BepRtAhncAUSQQgOsXv/iFeQdwBmxSaR8DIKkSCPPA8eHggw82EggR7dhIcKhg7E27J7fHsW9RoAWQvrVejY1W9fDf+973jH7efpAgYIohGwjSwVe/+tVO76jRFX0/ffJwq0VKgHFz03efMi+sHACy6aabGm8yvKO4XfPQL5IB4II0g6OAOgsgcQAgqLCQtAABmD6MFEkEKUVdXm0AQVV1zz33GNsQ0ghAwu/YF3AXhjHDoOkfbzXoMXHiRGMfiaV9DICoDWSrrbYSbDwxD7QBNAA6pA/2Q29LLxMzj7ZN8xRoAaR5GveJL3AbBgSQKh5//HETDc6Dmgaff3TfIS8s3sNgrLdydP+rr756Fy8s3F6RXlAnoVbqCQCBeeMogDoGryuYOyCAgX6nnXYy8wU8kEIUIL72ta8ZLzXbBsLYywAEyQI3aOhCv6iEhg8fbuwugJh6p0F77A4ANH//9Kc/bQCqjPYxAIKEBPgjPVxzzTWy4447diI7oIi7sfug+gL4+Q17Duo99dbqExu6HWS3UKAFkG4hc9/4CIzzzDPP7IgD4YYOA3zmmWeMvQCQ8MWBwGRgrnYcCC6h3KzPP//8TpPnRo4tBUaGeylqIm7HxGR0hwRCgCTgBvNlvLj9/uY3vzEAQpwJEgJqnzFjxnQYx/FgUhuIPZkiANE4EOwm2A34f+JgoAtSBjEXtn2EgMNzzz3XADeAjaMCQX9FtPcBiC+Q8KmnnjJxIAD7euutZ+JAkLiIAwHI1dZjzw2nhC984QsddIqVXvrGTm9HmYsCLYDkomQ/6UejoQnM4/b62c9+1kRn+yLRNRqathqJ/vbbbxsvrv32288AiPtgqD/kkEM6vJpQ4Wjyv1AyReIwcBWGYbsPDJMAQvotMqIDgKqqQh2FpxVgwr8BXgcddJBh6IAI0e2AqW0DUS+sWABhXjBusgpjwMYFGHrts88+Jkofpo1ai3aowPDiArywz0ybNs3QHjpC+0MPPbRLFgD6wt6iDgqMqyiZIupDPM+4ECB1AFDEyQCOSFu+BwBhbYllQVprn5YCLgVaAGn3RGUK9IV8TOo1xY0bAOLWDuNVY7AGA8LQ+feUXFZFEgj9Pv/884W01RxaAAlgBZCohMdvGvGuANOdBmy88VBZkRIGz7X2aSngo0ALIO2+qEyB3gwgNnCoJxQpR2zg0DiOVOBQgtUFEO0HoADg+A+XXyQhxsQc1OsNgEFKscGv8sJFvHjGGWcYKYw/kcjap6VACyDtHshKgd4IICpRwIxRT6m3FP8OgNgBgMqUq2bPzQUguiiMlxxVml8LMMGGQpyKAp+mS7FTs+RaVLyviPdAxYUBHXsM9iH1Vsv1nbaf/kOBVgLpP2vZ7TPx6eG7fRAfftAHHHpb11Tr/D+2BQBDVVV1xlsEIPT729/+tlL3jBEgUTXWJz/5yQ6JRDMZK/jlVGtpoCdAS1wQDhBEzLdPS4EQBVoAafdGn6aAShSAhEoctppH1UP8mQs4ylRYjINI9zpFsZgXUpTGj7j2EQUSTSGfE0j69IZoB9+tFGgBpFvJ3X4sFwUUOGCygIOChjJSNUDbhnNfipY64wlJIDkAhHExB1RYqLI0aaPaR/hd82tpLq7uso/UoVn7bv+iQAsg/Ws9+/1sUoCD2zmGZxg6zBjVTM6nuwCEVPWMH7UW6i1ARB0CVBKx08k3YR/JSbe2r/5DgRZA+s9a9uuZqMurbc/g5u2TOAAObBzKSDXVel8GEJ2nbR+x3XtVGmEToKrTtCr9elO0k+txCrQA0uNL0A6giAKqirKBw75hI13AVJEGXODQfvsTgKjqijkhkfjiR1r7SHumuosCLYB0F6Xb7yRRwK03Dmi4wAETBUBCwNFfAUTnBVBgZMcOhMSFRKI0su0j0Keqq3LSorWNZzsKtAAy2y15755wCnBg39DguqJZ9VUJJNYYTzuAhHna9hGVVgCT1tDeu/d9Xx1dCyB9deX62bgBDrveeJHEEQscfV0CiQUQnadtHwFIkEq0kNXf//53A7bqDtwa2vvZAeqh6bQA0kOEbz87iwIKHJrKw1XDqI2DP2GAyhRT6Keqrr7mxpsKIEX2EaLMoZ2m3G/jR1J2UNs2RIEWQNq90SMUgDlqLQ4GwE0Zo7Bd5ElVTzA9wKNqsNzsBCAh+wj0xguNmJLWPtIjW75ffrQFkH65rL13UjZwwMjUuMvfKTgFg9N643WBw1Zh8d3ZQQJxV962jwDClKa1E0pq/Ii6/VYF6d6749qRNUmBFkCapG7bdwcFtBaHFi+yvYI0cy4SiRp760gcLtlnRwnEpQER7fq49hE7v1YbP9Ie2hQKtACSQq22bTIFiM+wVVU+4EDiULUKzI02OZ++CiDQDuM3keh1H3JzaSBlGz9Sl5rt+0qBFkDavZCdAoCBa+PwAYdKI5oZF8ZmG9FzDUwDDbtLhQXjx2hdJ5kic88NICp5uPEjNmi39pFcu2726KcFkNljnbtllgoceFTBtH3V/zR/FAMCOFCZqKspNpAWQD5aqqYARL9g20eQTgCS1j7SLUel33ykBZB+s5Q9N5E6wGGPmjKq/QVAcqiecgIINhBoq268Nt35DuCNS7W2UVBv7SM9d676wpdbAOkLq9RLx6jG77J64yqNYBhXicM3pRZAOlMlN4DgIs0a+B7NckxEO+ChiRppaydqbONHeulh7KFhtQDSQ4Tvy59NBQ61cZS5iPZlALFTxkOf3iiBFAGI7ke7kBXr5tpHNNUMfRVdBvry/m7HHk+BFkDiaTXbt4S5IE3Y9cbtIkb6O8Zx/j0WOJSwAEgTXlhNGtHxMGOumtQRqYF5Q4O6RnTGDU1yeGGhwooBEF0LrT/CPGz7iEbHa5ndNn5k9mYLLYDM3usfNXsFBtQb/Eewn+tVBbOrChx9EUDUywxGqylW+JP/h+nzJwy7SuoVpQc0xTYBs677vPvuu/I///M/RmpIeQBEvOOYL2ot1h0PM0BN7SMAaExSy5Tvtm37BgVaAOkb69Qjo1S9uF1vHABRQ7f+DqODscBE6qQNh1ly280dB5JTAoGRalwJ41SgYIH0Ns73UGGhsnPrdaQsZG8AELWBMGfWnoc5q3TV2kdSVrT/tW0BpP+tae0ZKTD46o2rmombqQKHqqrqfrhJAGGsAF/VxwYOlTj037RfBRA1fiM5aL0OpDa7nnnMOHoLgOhY2RdII1wofPYRTRuvFRHLbF4xNGjb9G4KtADSu9enW0dXBBx684SB8MAkcgGHTrI3AogPOJQxhmqiu95T9AHd+HdABDCJYa69DUBYJ7XLAKKufUSllbb+SLce2x79WAsgPUr+3vFxDrzW4kA9oYZxX71xRgwDDLmD1plRbwKQIuDQOcYCiLbXMrSum2yIZjkB5J133pH555+/tnrQHpNrH7HrjyiYtPaROiei97/bAkjvX6PGRlhW/U9/13rjgAZqrSbsFExSs/GmGnrLCATTi1VhxQBHVQBRpgpYo9pinmqY9s2htwOIzkcLWRXFj6iNLEbyKlvP9vfeQ4EWQHrPWnTbSFKBg5ulVrBrSkroaQBJAY46AKLvsgaACGDiphGxJRbaIDnUfXJJIGpMd8dkx49o5UN1hmgN7XVXr/e+3wJI712b7COLKRurHkvcjm3g0ME0JSU0CSCuqskmbBXgyAEgdh+2m6zt9hti1qkbAwaOG28OFVbZmFxgBBz18mEnalS331YiSV3N3tW+BZDetR6NjCYGONQ1NQQcOjCYnSZBzD3Ypvr2AYgNHFULV6XaQEL0UucFN816GbOOpb8CiAb/xb7naxc7Jts+YjsOaOwIf7b2kTor0TvebQGkd6xDI6NwgcON0XBv3zHBYE0xeQjQVN82o88BHDklEHvh3TTrgDkqrroqrJwAos4W8803X+me1QBU1tVnH0HapT/6agtZlZKzVzZoAaRXLku9Qbm1OOx0I/RcBTj6ugRipxypKnG4q5JLAnH7VbdfTUKJ5FBH1dNTAKLzUvsIDhi244B6pSkYtYka6537nni7BZCeoHpD39T6DhxUpA033Qi/w5T4U4PhUhkTt0nebcKNtwkJRCsiwsRyAUdTEoi7LaAHa8kFIJSKPWYrKYCQfiR1vd3+GQ+MP0YCcd917SPsT/pDwrLtIwBJnYwGMTRp2+ShQAsgeejYo73Y9cb5O0yTPEw8HEyVODjAdZlo0wCSC5xUOmDOMCRooDTJtVhNSSA6PqQmGCxxNzFuv6F5QQOSKeYCEC4h5NWq+qh9hD8BRwDEV8iKvcC/1wW9quNs3yunQAsg5TTqtS189cZhFjAdbqw5gUOJoIysKQmkDoCEwNJNOZJrQUMAkiuLrm1viHH77SsAohcbTYui+cJ0T9luv5oWRT25cq1d208eCrQAkoeO3daLMkmYC4yK/7fFfZiaqj34TRlyrltckwBSte8yKavIjbfOwnUngNhqs5Dbb3cACGsEIM8777x1SGfeVXUYUrFPwmrjR2qTuPEOWgBpnMR5PqBMMqbeeBP6flsC0TxYeWb2US+pAFIGHDbTRW9fJ5mib65FAJIjDXvI46nIu8k3Tq3hkUOFlRtAVB1mS1hu4snWPpL7pOXrrwWQfLRspCcOj6qq1CvHLeKkjIwBoO+nXY4bom9CKt34amvXJUAsgMQChw0gMOPusoHkSkFS5jJrR3+zHqF68gogdQtcQc+cAOLrqyjxpAIJ+78tZFX3tOV5vwWQPHTM3osCR1G9cRs4NLiP91BxwCxzqa3syfUkgKQCR38HEJ2fet8hZRG0R/S3vfY5AYS9xTrkAOMiMFIXX+Zoe6C19pHsrKZWhy2A1CJf/perAoedObcvA4hPPVYVOJoGEDdJo11QqkkVVmjXaVJD6AXTVS+m3gogZWDEPEKJJ1v7SH7eU6XHFkCqUK2Bd1SvXVZvXNVYMAcYlitl0A/Mq0kJhG+ip879cCO1AaQucPR1AFF7V4rLrM10oSX7gH+jQmKO2ursLZ4cEkgZgOj6tfaR3CctX38tgOSjZaWeONyI63bZWNfGoTddGLcWcQqpp5oGEMbJ0wSAqHoMcMzpgqw2pBxMz17kpiWQKgDiY7rsGfZYDhsIAKJpSSpteOulVDAqso/wGyBJTEmbqLHuysS/3wJIPK2ytowFDg4+gFIGHDo4BZCQQbXuJJoEECQQmBM3zhxBjzpXDbScnQDEnjtliKEBeyK2GmJon+QGkCpg5FPVsV/++te/CmlfeNpEjXVPetz7LYDE0SlbKwUOX71xPqKqrFTgsAcIw+hLAGK7KDOPutHy7mLNzgACLWC43M5VslX7SJVNzd5CNYaxvu5DX5qmJbUvV1UHMKISQ03X2kdSqVm9fQsg1WmX9KYNHNy02fBuripAg8Ou1duq5gPiYHLAtaBP0kBLGiOBMBc8feo+ro0DZsKYc6vHWgCZaexiqHe4uLD/AOkqeyQ3gNQFI828wLx47JT1dvyIRrQ34ZlY9xz05fdbAGl49fSmBOPVeuMcYC0Ly7+pLl0NyHUZf5MAAsgx5joAEjKOQ6MmDPQtgMwCEFXvsH7c1kNuv0VHIieAIBXhCJJDmmHvqHqNvWm7MrfxI80xuRZAGqJtUdlYNjo3QAWPXMChU2my7GwdACnzquIW2QLIRxsyV9BeKLAR5wL2iuv2W3QkYPoYqetcILT/nH1poSvUc+rdZbsy22qt1j6Sj+m1AJKPlqanmHrjbHCe3MBhAwhqIG53uZ8qAFIGHDrGpgz0fVUCyQUgGpSnEoi9J1S16lZDDO2bnEz/b3/7m7lI5QAju1Kiax8BSPQstPaRvByhBZBM9CwrG6vAwq2Ph1tcbl1/dwEIDDlG7RALHP0BQKCJ2ob4e45AwpwAQl9FlQ0ZO200fTzr68uAm5Pp0xdnIMc58KV9se0jRfm1WvtIdSbYAkh12nVIHLp5OYQcOvvg2cCh9cZpz9+bSInOoJoozKRkQh0CCBYBSCpw9GUAUW85QANGpO7H/HvdwL3uBBBdg6JYC9rkZPq43SJ9NAUg7pzYu26qF9vQ3saPpDPDFkDSaWbe0EA39Ury1RtXZqvAocASmzSw4tAMgNSpq1H03SIAqQoc3QEg0DxngknWXx0jtLojf9p2BSLI61wSegJAdC1U7eXWMs8NIDD0HIk5Y4IuQ6le2Lc8egFUIKl6/man91oASVxtZRwcMJ6ieuMucOin3JQdiUMobd7dAFIXOGwAyeUibBNJkw3mABC9ONgShwYoai4s9oYap4uy5JYtZC4A0cqGRSos31hYCxizXctcPfxyMH0kkFwAEkurIpuPbR9RV/rW7bd4l7YAUnaKP/xdDbEKHD6Jg99op7f/UBW1JjPaMtwmJRw7fUcu4OgLAGKrInV9WWvooXVGbAABxKkbXtVdFprE5ooq28JlaeHL3rdzUalEkkPtRJldwLeOlGZfylIKXdk2Hxfk+Y0LAOupBvgWSPy7pAWQktOTEzj0U025q3aHhKN5pWAg6pGVK3K8iodXGfPj9zoSiM+GpReDUC4s1+vJVp2kMMzeAiBKY9YeFZaCCOteh7HmBJCqtAqlwldnAZ1jax9pASSG13ToQl1VlRs1rrdPlThSDlNT7qo2QGn+rOhJRzRU8d/OCKwpwyNeL23SmwCkCDh0IkUA4no92a6lerMtCxityhRdQteVQOz+3n33XWP0pk+tZV7VXZy+sBNVfd8eV2piRpdGNsijVuOSh4FfVXWtfaQFkFIGpioZrTnNCz7gUEanxtPUW1jOdCC+SeVWkbmqKr2Bps67bAGaAhCNvI6xgcQARxUA0XdSosBzAUiMgblsbfR3lRpg+jFuv0X95gaQKokZ7fHZ9hH+DpCot6FrH1F1ZSzd+mu7VoX1ofeFqqq4iXDg7DxBuXX9TTHK3Coye978XaUNxp87sy1jb4ouMQCSAhx1AMRWB5VFgfdGAIHpA8Rqt7Ddft0UImVM85133jGxKWWSWFk//J4zxQp7nXny+Owj6rUFiPhq8sSMt7+0ma0BhI3gqzfOweUwoAZSrxtloDlUNmpsjwnGq7LR6qrIfMBhV7cDYJsCkNggxRS6FAGInYss5DUX+laKCsvXR5laq7cCiE/t5LrIlnlpKZPujQDCWiFpcT6Zly9nmB0/wr6pmvg0ZR/3xrazJYAocITqjXOb0aJGOYHDvrmWBePV2SxVAaQIOHQ8TaUFUQmkuwAkRxLLugBiq7VQB7FuXFxgXKhj6ur1bYmUsaZUNgztvyK1Uxkguuoi+rKz59bZ8zlTrDAOe56ufcS2dyqQaH4t1i23arcOXZp+d7YCkDLgsCUSCK/5pHJviJho7joLn2pjiQGO7gCQpuhiSyC2I0DdXGS5AMRWayF1MF69/Vatl2Hvn9gYiZg9F6N2st1+bUBsEkByplhhnO48bfsIa4IE7suvpWlRQi78MTTuS21mCwBh8dW2wQ0XQHDLxiIRaIwHC6gG8iYW02U8ub8Ra0tIAQ4bQHJHdTctmSmAsKZab0UrPNahfW4AYSw2o9J9GGP8L5pHdwOIC4icOeIp7Js7a4KaiHQvOS5oOSPkVb3mk474TZ0H3JoqtqF9drGP9GsA0cNYVG/cBg42BAuvkbc5Apx8B1u/qQFodZiY790yAKkCHLa6hVtyXabmG3cTEoiqVaB5XYnDHXMTAKLfYNwwRZivmwgwdb/kApAqdgu9vLFnAAq9uecGkJxR7UUA4p4DzporZc1O9pF+CSAKHGVlY+14BtuboulUI2q4b8IQzQYPGenrAEdfAxBlXJrsEIaVG/SaBBDorV5ajN13i48FktwAUsVuwXrY1RABRewWCyywQOw0CtvlBJAUcNPcZ7zjSlm2fUTdfnNIW1kIlqmTfgUgqcChagx3UXPHUbhr1aQhmm+5N/kcwOECCOCX+zDkUO25wKFqkzK1G9++9dZbZdq0aTJ48GDZcsstS1NsFAEI0sMDDzwgU6ZMkaFDh8rWW29d2p+7T7TCntpDuMWrTSQl+C6XN1fMzbyML9mR37TNpcLKGdXOGAGk2LEp32GPucknFURYA84M+7E/2Uf6BYComsIuG2t7Q/iYSpHbXVUvprLD0x12BBtAEK1zuyGrPaG3AYiusUqV9uWgbMy8s+mmm8rUqVMN+KK6HDJkiNxxxx2FTD8EIDD+TTbfRKa/NF1mLj1TBr4yUIYuP1TuvfPeJBBRAFFVp61/T1Fr9SYA0TPAJc0GxLru8W58SuxZDKmYuQCkSmC7tzcAACAASURBVEeulKWxZAq85EYDPPqTfaRPA4gGf+UCDt1MTQNITGBbnQOA2kYZKZtXk//lkBjoD8bWBIBUsQ0VAUes1HTjjTfK6NGjjYpFH8B3woQJ8rWvfS24FCEA+dGPfiSjjxgtM0bNEJkLnaLIoImDZOI5E2X77bePXtpQcFxZzQ73A7kAJEW1UzZJzasFOKrKmD1VNagwZ1Q7Y0O9VrWei51tQIMrkZBQ/XEG2bP82R/iR/okgChwcOBZDLeIk4qU6nEDA00J9CkzQpcdjrLfy27EZe+HfldVlbrx5kpyaH+vtwAI41DA4TCG1JGMvYze3/nOd+S8884z0po+7JeDDz5Y+C30hADkmGOOkfN+dp68v4XV3+QBcsiwQ+Tkk0+OXt6y6OpQzQ6fKox/q2tzywkg0E6rNtpuvymSlT3PGPfiWMLbY4t9JyTJaFok9qttO+ov9pE+BSBsNDXEKWi41f/0UNfxuGk6UryMoaVuWtfGwdxhhnUZhm8cPQ0gKcDRXyUQF9Bt4zQ3elfH7qrCUveXtk+1DRR9x8ek6Z+xajApYBIjNauKKFdUu11fvSqt9D1braXJJ9W7U0GEthqI2NfsI30CQGC4mlGUW6d6pNgMIgdwaH9NuJM2cYsPGcc1k3CTAOJjVHUPW5EKywYOvqMu17EMpkjtFmsDcQ3t2E143HogsTYQ+rv55puDhvYyCcSmd5FaKzeApNoGfPsixKRVJaluv9C2zJ0+h3HfHmNOAKFfVddhE0Fdx3yYl6rrbCDpa/aRPgEgX/rSl+TOO+80TEONwixAjnQUvs2dwxuoiJnqLb4qEw4BhzLTpr28YGxVx15EFx+A1AEO+xZYZrcp88LygQzeWpMmTTIJAXnsglJlXlj0N3zEcJny/JSgoT0FQOzLjw0YMKu+BCC+m7sbsOfuodwAkjP9PWN11XVaZKwofkQj2mMuSHUvbnXe7xMAsvrqq8sNN9xgjFrqBshhheHwp9o46hDCfreKMTf121WYcBlw2KqGphIe8o0qY4+hjx0fkwM4FBTwrlp++eWNAbssyV9onCFD+/jx42XnnXfuAiBuPRC33+uvv15GjR1VaGivAiB8x/UG4v85J3WTd9Y1Lts0iGXSMenvc9pmGGPO9Pf05xYYU6lE7SOsi62u60v2kT4BIBtuuKGcf/758ulPf9ocDkAkNXNqDAPTNk0H+ikTtlPGl0ksKe64CrK5A+d0jE0CiBby4dCx1imqKpuGsWqp2H0RMrTvt99+8t3vfjcZQL797W/LuQ+eW2hor5sg0Ga+nBeSKda50fYEgNiSlXqTqVrLlrhT4jbK1hzwZ645kk8qgPguFEXqur5iH+kTALLtttsaFP/zn/8skydP7jAQ1zkMRZuoaRUQ30atgAhb5LYYK3G4c2naTRgAiQW/ssOqv+thYp1Z17qux1Vdc3uTBFIXQHQumhLFLkUbuy4uKLP2Vd1b7b6q3PLVuxIgsashqnE/h22GMeaK3Nf5lklbtsTY1+wjvRpAnn76aeP2iKERf/xjjz1WlllmmcbiEHTBm77BK4Botl/3MFcFDu0nt5eXO74Y8ItlUPZcGTdPjhiTqq65oXGHbCA33XSTECDGwy2fvYN66te//rWgeg1FoMfYQAAQHux/dSLaYfrqtQhzjC2p69Iil3sr/VYBEPuyYVdDVDtPDmDjG7niZnS8sXN1sxhrTSL66a2G9koAcsIJJ8hJJ51kDKlMjJvNyJEj5ZprrjE0Q+d84IEHylNPPWV8n0eNGiXHH398LE8x7Y444gi58MIL5Vvf+pZJKkdqiY022sh8DwbWhBG3uxiwblJVz9gHI0VVFSJoXwAQFzg0xQO3tRzeY7klEGjt88Ji79tlTzfeeGPD7DWinTQm997rj0Av88IitmGr7baSaS9MqxXRbksyManWi0BUYzeSDrOncY5bvnqeQUee2NQjZWPP5XSg30mdK+qzMvsIc1cNRlOamDI68XtlALnvvvvkZz/7WZdvcNvBYLnXXnvJuHHj5PnnnzdpIg477DATmBX7cAgXXnhhWWSRReToo4+Wz3/+84Iqi6cpHXxPAUhdicOlqYJsjpu8b704YCHpKWZ91c0YZmYHO+ZUHboSA7dumLmbnqTM+6poPq67N5Ly3nvv3SWifeLEtAh0/eaVV14pBx17UO2Idp8qTJMAsldcm0JozjndW1OZatE60JdGs8e4/Zbt0dwAUkWiKbOPaOS9qnp7Kn4kO4D88Ic/lCOPPFL++Mc/dgQ0YQC/4IIL5IUXXihbO+/vp556qsmkuscee5jfc6pQfB9smgGrBGK7fdYxGIcApCkprSqAqHTFn74o+RjVYQrDL/PC4vdtNt1UXp86VTaYOVPuHzhQlhgyRG4qyYGl9LYBhPU78cQTBa8sN6L9kEPSItC1f6Twix69qHZEe8iW4toUylKJ5ASQKky1CNjoj0uNlmKw4yxSmU5V77fQd+pUllT7iD0vwAIAwX1cpY8c9W1S6VRLAjnrrLPMzYX/1lprLeOJgn1i7Nix8txzz5mbnj6/+MUvZO211zYZLqt4Bl100UXmXdRiCiB1bsBlhGpaTUb/3Jj4k6eqp1FoHk2Pn8Pqqt+KaGoDhxbq8ondZQBS1bMqRA/UXCeNHi1TqfHOxUREBg8aJONKcmC5AMKcYK7YQwALN6dWb5RA7PWKVWv1ZgBRLyc3D5WWBy478/bvuZwXtM8cEo2b7gVVr6rs+I09mJKhOYUeRW0rSSDPPvuscXFbcskl5Y033pDDDz9cHn/8caP7Peigg4yEQEI5fX7zm9/IyiuvLK+99postthiyWO/6qqrhG+SY0hv7ykMLPmDDanJXL0/niToMZvQYTap5osFkFjg0PUp8x6ratcIAQiG9r+dd55MtHJgjRowQOYryYGl4+UQq/5d40tGjBhhUsKjIuJQ+2wgZbYP7f8vf/mLbLP9NjL1hamFNpCy/mKr9dm6d7e2BWMq8yZKOWd1buXud3zjKptL0Vhj6RU735wSjc6LPwFH+Af7u08BiEs4biaIU7fddpv89Kc/zS6B3HLLLcYQecopp3QAiOr+YhcxtV1ONZlr44DZ2BXyUscW074JV1v9bhmAuMDBWsXoaMsApKpnVV0JxFWbbb755h3xSOoaq9lVWdef/OQn5jJFSvivf/3r5pDbUsvw4cOjDO0wMuiGNB/yworx5kphiCFX2SYARGkXs5+L2iDxwYPUG07bFs2lOwEkt0TDmtOnluVmf5WpH+vSOPR+JQkkBCAU5EEiQXdr20DIdIpHVVUbyIMPPihXXHGFsaPwqCtiWY6cOkSrque3v+kDDq18yKbnAKGKa+LJCYDu+AAQH4BrlmS9fccCR09JIGoDeW3qVNlw5ky5b+BAWdKxgbh2EtostvLKcv1tt3Wk1lEvLLVpcSNmfZEwYWx6U2S9TQT6qFFRaq4Yxh8T0R7Tj7vGqmZlHpohF1owN5dRV9m/6lqco6xzmZusby5FF5qc1Q2hTRX6F9FUAzrxcGU92GOos/qMCotNu8EGG8iCCy4ob775plFhPfzww0Z0Z7FWWGEF44VF3AagwY3t0EMPTfLCsgn45JNPCoZ0QISn6YqBfKPsll20wNCARebAhYzjTdccaRJAXAC3gaNOhoAy9+MYG4jPyM6YQq7fZUb5IjsJruWqSmA/aFEkW6VC/7bBGBf4c889N8rQHsN4YiLaYYjcUqtcVuwMucyPNcoFIABs3fQqeqFknGX21aKEk/Z5zlndkH5zA5Ibj6MuvTFSfhWwL3qnkgSy1VZbyWOPPWYOJci37rrrmriQZZdd1nxr+vTpQooH4kBQbVGs57jjjqs8dkBo//33Fw6zAkiTt3cFkFQ1WQxwKBG6A0CacjRQANEbtuYkq1Ku02bgq6yyipC2Rgvv+DZMEcMv8qqC3qleaTBLXNH/edFFXjsJF6QyAGEO7Au+D5DcfvvtxhkkxtAeAyAxEkhdBqYupWq3wP5Z97aLCiZHfq4UANH9ZIO62nqaBBAAyfedqgzRdWZgn3LW+wyAVJ141fdIYQJo3X333aaLppmvbkpN1Fg27hTgsAGE92z9eNl3Un6vI0GVfYe+edi4dSQOn0SBs8Vdd91VKelhkbSwySabRAOI6s4ZH3a90w8+2OupFSOB2LSEXjDzLbbYQp555pnCYEO+jSMKHo1f+MIXakW0K4Bw6SpKHx+z7oyLG2/Vwk/6jZx2gSouwQrqvsj8nNUNmW9uicZ1GmgBpGTnclsjpTvuwDxNVwxUANGiVKHhVQEO7avpOTQBILaqituOnWqhjPn4fvd5VcGYKCW73XbbJXdZ5FVFIGuZBGIDh649cyZWxGcnYYAqgcBYkS7IwrDSSisJgIWK1/ewNtddd50BkS9+8YsmTY9tzzOG8UhDO/2XeWEBIAD9ZltuVpg+vozgGvyH2ok56NxjCz/Z/SNdIbHmuEDV8ejyuTBrjEXV8rouHXMDkmvzYQ5NeXOW7YlKKqyyTnP/DoFWXHFF+eUvf2kMz01XDGT8RXYWBQ7GwVMljqPpOYQM3VXWxq67AiNi/mXgGvOdkFcVruDYClKfqhKIqmhYE4ARhmgzj5DaTAMJoYkbkLjYKqvIHQ88ECyGpAFiMGX2jw1uKYb2GBpxA8aTq26ddjd6PLakrm+MMeq5mLnRJkeche32y9rkqm7I+HKW29XLrdp8GKtqMpoIByhbgz4BIBAIAHniiScMgNgRwGUTrPq7z0sqB3DoeJqeQw5PtVDBrlxODLklkCKvKp8NRIGD98rqqvv2ka4hrutuQOIqgwbJSREpTHyGXeyFsYb2mP0NgJxxxhm167T7VEVFQFg0tjqGfbffXHEWKoECSFwgcI2ta+uhTyQQux56zJoVtbHXoQWQCGpCJNQCGO65IXZHwSfbzpITOGwAgQHlcGP0kbAOgPhUOfaNPJcLcqwNpMxTyp5/qK0dWKlundgDUCMR7EfW3NRiUwogp59+ujcg8ZMJKUzs2zzSwr777htlaI84PkYHT0bffQ/ft1ZerSJbQ0zhJ3usdQ37dl+5AIQ+tTgVKiH2uSsdxtDbbqP95Ur06Epc7GWeKmrE1Ln42vcJCYSBc8gxosNwuwtA1EhcR1UVWqSm56DJ5VKYYhlw6FxyAQj9+bywUB+oR0mRZ1VKHJAGVrKm3DC32WYneeaZN2TmzA1k4MD7ZciQJeSOO24qrb/tghXrWEcCsfvT2zzqHWxA2FNyRLQDIOyDTUduWmoDKbKnxNgaXLfl0BrlBJCcBnmtLQLDV/uIG8uTwnjt/nKpmGzAVADJYUtKmZe27TMAss4668jll19uMvTmzNrqI5oeZL6jqg0NAKxCZN87TVc9TFEz2TYAtW0UGRDLvOBSJAaXgbrxGnXzVdE/81M9Of+PsfuAA06RGTOmUn3EZMEaNGiwTJgwzhi0Yx/XBmIb2hf32EDKjN36XWU6ZGAgDRCG9m222aayoV2NuNChyAvLGO8L6rTH2hqKPJx0jjk9k3Ia5H3FqVy3X433idknuYtd8U0bMFsAiVkFEdlss81Mwsbllluuoy56WeBQZNcdzWxVFX+301Sk9lXWvmkQjAGQMuNxaA5FAOJTS5HSw02jHurbzeFVJ18V89O0Kppwjps4BvrzzvubvP/+xI5hDBgwSg4+eD7he7GPbccq88Li9y2GD5fXpkzpyPy75NChMjlQK4QxwGSZA9KYq49PMbTHegGVxZTEAojSr0itlRtAUOFUCZR01zpUtjcGFEMXRRh+rmJXfMN2QFA+lWPusfvebtdnJJAdd9zRBCTiE18WsZxKCJ+NQ5lPjkhZ33i6A0BCwZYucGgq6FgRGwBRzw93blUTHmo/LoBUlUDcmiOqhkCymjXGk7JJILpH9Gbqy80Ecz5+1Kgu8SQnFhjaNQANpmanFAFQTAR6ZER7LICURbVXtTX4ao8wtxwBieybnOowgL6oaJabFZe1LwrgK+svlVe582U86jlYpa+67/QZACF/EMGE6623XodKom7BpCLjeNM2irLU5XUX1icl1PU60jEVAUjVhIchACnyrPLp10M1R+zkkrOkpG1k6tTXZObMDWXgwPtkyJAlu9hAylRxriddEYDAnP/33HO7RLQXGdrtW7rtrYUdEPVWbPGqWAApk0CqAghr697goR0pUep6OeUGkNiU9UVVA+2zG9tfynm39wUAksOlPuX7fVICIZcWwYRE8apOuywwLESUGK+qpgGkLPNs1QW1mTx/R7TNBRzad1EQZG4JhG+WMXLalKWOd7MTl/UZo4orAhB+44atT1UJhEuSAqWuo5Y7pUJnTPlc8tWRkJRcdepx5gPfMhuIAghMv2pEu3uD5wzHSr6hM5FTHZbC8O31UHW3S9ecKfB1/vaFQB19UhxK6vKWPgkg3GypJbLTTjuZ8VepdxEDHEqcplVMudVw7qZg49peZFXiHEIbrQhAYhhvESikpqHX6Hi8zkiBQuoPbC6kGbEPVWq/MUCYAiBqA3l1ypSOzL9LeWwgtqEdex/p4F1Xb3VDRrd+zz33GEN7CBjob9iwYaWpU3Stiwz9fI9ni623KPXmKmJSjB8myM2Z9fPVHklhcvSFPTQHE63C8NXpRoNCUWupE0pZpuCUeWpbOzCxBZBICp5zzjnmJo3YzpOSbTYFOGwAYUPkNtRr/ypF1VXD+cjnepFpZHXVm557W6doEnrXkH0o5nYfKiXLAbYPYGh72GlVmO/WW+8o06b9IeiWm7Jf+GaMKi4FQBQ0y7ygbEO7ppe//b77vMzRzpQbYsIpxvayowiAkBtsvyP3qxVPogCCu7aqgmC4zKGKSitWRVc2P36vw/B9TgNadMyWRmPGEWqjtNPARHUOqUK3OuPQd/uMDeR73/uevP766yYtvAJIWbbZKsChhGlaxVRXDRcCDlW9qfdOlZKedt8+iWLw4MGmfGvVtN5FhnHACZ/2kBuxm1YFBwDGUmYUTwWQ3BJIzGGtouZinTUIUaOnbdqlGNvLxgiAUNTt/J+fX6tOu8sEVaJyHQXKxuO7kce+E2pXB0C0T9vtV1P/5AIQNzCxBZDIFedwEYmubpZFyQLrAIcLIE1ICHwjJ4D45svG4r+6XmQhRkqRMFUnRi5hR7Mi11xqy/gARBklh9ONVZklLRS75aYCSIwqjjZIqaiRsC+suuqqJl4DycC1gcTQqIqh3ZZoORPceKGfXhxI2hhrbC8bI+6jkydPri2BhKKzYyQqd4y2NJMj+aGb76uMJkWSAsCurs+5PM7cwERoqV6UVcda570+I4Gg34aZnX322Wa+vmSBOYDDPpAsflMAwndS9fK+w6MSB7/ZSR1d9UrVTRJS5VDvhbicKk+KBKKGSg5jKMgxxi03FUCYV5kqjj2IUwf1b2irNdBhsjypt84qEohLf1UJqW0B+lH8LSZ9fJlhXEvsbr7V5lE2kJA9pSi9h2uYLstH5UozVfaj/U6V1PBF3+SMw/RzpMDnO26cSgsgkStOKndK2l566aXmDTvXU07gcAGkqqdXzLSqMDX6Zb7qdcTffdmAcwFISAIZP3687LzzzjHT7NKmyDUXoNA08bQLZci1O41xy9UEeUShIy2ghnMN7amT4XZ/wAEHdMlZdfHFF8vIkSOTAcQ1tN8755yy1Kqryu2eYMMiY7er1uKsPPTQQyY1is/YbryvItLHp9QVKfLown5GXwsssECQ5LFqrdy5plKDJcv2jHqucUbrpsDXS40dp9ICSNkKfPg7t7yjjz5arr32WvMvmo+JzdhEriqVEHoTgLjAoRUTfcZxDjD/1U3WGLKBTJo0yaS81qfstu4uc6g9Bw69MQDJbQvJk9uzz7PKBZFbb701CA64eu7yta/JH6ZN64gEX8Kpfx65FTuakTX3wgsv7FKelnT0xxxzTDKAKINQSQAvrB122KGLGlKBpiyq3Tbq2motd56xhvaUgL2imBLcj8sARMdYVoa2twOIm6erTgp8aNKbqhEynj6jwnr11Vdlt912M14gejth8zSVq0oBJMYjKJXxaHtuEmWOAD6Jowg4tO+ccSwusyetDGug4KQSxetTp1ZmzipFosNnTbkYjBy5vUyd+nqthIdKDy4eZ4wZ460smJL/yl7r3BKIu49C3kUpqi5lsKj/dM3cBJuxhvYUACmKakctmpreI8R4cycrrBMs6eMDvkSP6iWJZMhZ5hzF2m96UzXCPgUgbF7qZe+5556ywgorCKVPIXqTlbiqqphiAaWsaqAtcaioGpvIrQxAUiUGe05u31XTjSg42nYc/g0GhzRR5lkVS2faIRHMmDDBW9s8Jf+V/c1YG0iRuqloDiEASTG2K4Dg9qm3VyQ8m2nFSiApAXtFEgiOBqkAonsFzYNdhIszEivNxOyXnJl9+V5R4axYCdEet68aYU/VQ+8zAAKDufLKK+Woo44ycRkY0snOy+ZpMo1xrIQQszF9bYqqBrq5nGKBw5ZAuK1ghHSfGA+jojm5mYSrJDwM2XGUOZx88smlnlUpdG9CAonxwoq1L/jmEqpkV0UC0XoUdiQ40jXnh/WMsYFoWnjsSETAV41qZ66qx68CrpoGiHe5bLDPi+wpKfskZ2Zfvhsjtdm5wlgT5hSK2eJ80B4HDc6Q8sCqMV4ptPG1bUSFdfzxxwtxGywGqagvuugiIzGkPhDq6quvFpgJBGLjUNYWAjddEpaxlkkIqfNx2/uKPoVyOaV+qyiSPibGIQVAUiSQMjuO0pxcTzklELWBvD5tWkck+JIeG0iKZGY7KjAvQB7Vm31LjL3dpwCIa2wn4NAX1U6fIRWPm+CQ81XmhfXWW2+ZdPcY422vs3sDGYVD4MC/q4djUfr4sj2v/QCKMNQckeg5S+0y/lipzXV8CAVVcj6YLxfpfgkgZ555pjEskr77s5/9rEmdjfTw/PPPJxt02eR4s+DtQzZePGe6s6xtnap+ZZuf3+2iT2W5nGL6s9sUJWuMibIu+p4LTkVeVfahjpGqFEA4HDEJD2PpAsOCuVP8KeSFlWrLUUcFvdDYcTd6S4y1L6QACG1jbu60wdmBS9caa6xhqi7a6wGNub3rPi/TxV9xxRUyZsyY2pUSVZVGgbhRY0fVimrXWAv1Rqxrs4yRGGL3HO1So+TLvM/sol605empaoR8O7sEsuyyy8rYsWONe6PegMhhRSqSXXbZJYX2XdpS1vaRRx4xXjplOv5aH/rw5aYBhJsqj97KOdxF4mvKnIoApK4E4pNuim7uKeBoq/VipIGYNtAtRh2ZIknRp6ap4PbO2nGQ9YYIWOGl1oQEErMPYj216MuXgsOnEjnssMNkwoQJXbzODkko3cv3FEC4bJ774Lm1otq1LyQQaF+nemCKxBCzBrQJqSHL3g95n9luxgogTarxy8aZFUAQ/zDWEbPBjUefTTbZxEgPZ511Vtl4Cn9fffXV5YYbbjDFWZqu6MdAYooyVZ2QMmFVfaj6o2p/7ntFqVhibSAh5hybip4xwGRprzYcvOiK4jCK7ELuHGfNg7Ts5Z5aMQASa8uxAdEuOqa3ezx5VD/Pv2288calWXN9EgUGXUAo1kPHpk+KnUTfYwx2IJ2rEqIiKGChFx/eg3lNLKhp4tvP6kmEi3YOCYSLnrqU23PQ/GApZypW5RTTpwY5Vl1DvqFqOv7OfDSgFkmr3wEIuaqWWmopkxEVTyl9UD+RN+myyy6LoXuwDV5Y559/vvlG09lyFUBCRZmqTsROAkjf6klWtb/QewogoUj6spt7kTqH23VRokl7jkiLSFWsVyiBos2oUgAkJgJd6RNjzyqTQHyAyLxCBaWgE3SEBqh0UwP5cBNeaKGFKgFIiqeWvYdUraX0suOgSAtPduCyFPJl6jUFEOgWawMJ9enLnpuqmrPnn6pyKjq3CiCa+LDqGbfnQx9IuqwL/56bP6WOsU9JILj/HXnkkcYgH3sLTiWI3b6s9ndK3z6myqHQDZHSV0xbNledVCxFzJR1gMG4mYp9c9RqbWXMWeeUojaMyYGVAiAhW86Nt99uDitSrw2IJHGEmVIlk6h2rW1hG9Ht+IVQWo6QmouKg7vvvnthxbvQXqgigdh9+dRaMFfmiBQZ8sKChmUeXTZ9ysBGb+EhoFFp0JfY0/Y4KwqktOddVeXkW4fcQY70h41GPa80y3ZPlbNlzlkBhA59NpBFF13UlN+sawMhkHDXXXeVNddcM3tZW98GKKq8F8PEaVPEVHP0HxpHXQApUueMGzeuE4AwRzUoK4N1y3zGqodSACS3BKLMSiPaV1llFSE7MI89r5B0Rn1zpC3b1ZJ3XcOoW0QpZGinhPMZZ5xRCUDUBpJSfySU5kT17jDrstt0jM0nNeNtUUwJTjbMtSjvmK+krs/Gk0PlZJ9H9YDL5WJM3wAIe4w50z/z9rnqx/Knuu2yAwh2Dryw8BUHTE488UTjivvb3/422QvLnRyG+fXXX9/olOsyyBjCFRVOKnu/CDj03Tr9l31f6VM1FUuMBELfChyhRIc6ziYkkI9sIMWlaRlDjApLxwrt6DuUwDE0lxMuu8yoeFwA0X458DBj/tRKgzCyJiQQBUPG+uSTT3q9sGIN7dBDA/hQNzL2UB3wGK+z1Iy3RVHtxx57rKFnWd0e102WObi2pVwqJ11vN/Fh2ZmN+V1tNFxoNPNyv5JAIAK3TZIeYgSkDG3VOBCXoEQTY1shl05dBhmzWFViTWKAwwYQW4ceM6ZQG9emwc2M8VcFkJA656Y77jDMAybAUwYcOt6i/mwbiO3aHEOPMluO9hEDIDZwMEdVEbjjCElTWt+8iEHajEwjwtkzPrUPNpBPfepTnZh1jMrHHq8aYZEc3CdFzaXMlbWCMWK/8LmPxkggqQBSJIGQDTkGQHTuRWqt3CqnItrH7G1fm95UzpbxZZdAqhIm5r1TTz3V3DT22GMP07xKWduYyMi18QAAIABJREFU79hMTw9L2Xsxahy3DzZYbP9F3zc38ZGbytQXpsrMpWfKwFcGypDPDZHrf3S98U4J3RbL5uQDJd7R5JXolWEsRUkMXWZW1hZPPgzOOGLkyJjL95kHTEhLv7pZeNW+wbxiSv/GSCAwNRhsKDjPjQgHiAmeVNvCVlttZfa3rTIy9oURw6NSqdt72M7eaq9HiqHdZq7q6QStXLtOjA1EPb1QxZQFL+r6hebN91g/VePEAqymvWed1FtLbQwatV92Psp+V/uXD7zL3vX97qrYGC+XkBwBlFXG0+cABEkGHeCBBx5o5tt0ripVzxRltLWBI/Y2bh9uvlE3Y66xBRwxunNA1mWD5NyTzjUBmCqqx97W3c3kMlg2LOIzDGCzzbaNcqON2aCMb6tNNpE/Tp9eOSmjD6Q7ByTeL0OGLCF33HFTR9ZfdZbwpcX3jTskTdk2EFQ+BO6VeSzZ+nlVa/FNnzql6Ca+/fbbe0mcSwJxb+e2WgugRCLRi0oZE9d4DUCyjD72WfGBjR1YlwqwrlqLCxGgnctm4WbOjTkDRW3cPcGacBZ7qpxtnwOQq666Sp599lmTGE8BJCabbdWFKwpW1M3Hpk0FDh1PrmBI4430s/O6BGSN/spoOemkk8z4lOmlZMy1gYMx2yodDu6dd94p++13ssyYMVVEyLn1Dxk0aLBMmDDOpLxIfQDCE0ePlmkzZnzYm8jgQYNk3IQJlfrj+yFD+4UXHmuKQTHHWOBwpSnXC0uZKCoa4pW46MTETKibpu06y+0edYUtgRTZAkj343uKbsFqAykztNMv8/jRj34kL730UqccWKGAt6K1Z+9AO18tldSYEjuwrgrAKlizZrpWZY4Csfva52Ic+66vnQvi/H9PViPscwCCiE/eHeoy88TotessmC9YMQdw5AaQkAQy/uTxpp4EABJrxNYDpWlH+H+Xwar9iUji88//u7z//sQOMg8YMEoOPni+jtLDKfSP9dRK7dNX7nb06EFmjKlJKl0QsVWQ3ATVPkTfvlohRVHbMAQYIn1yG4ap2eqUWAZpSwC4vG+00UYmnsT3lEkLvOMCzf0DB8qSQ4cKEpeqT2LclfX7zJGLDQXi2Gf6sE9To9rt9OtVANamCQxfASlk40nZe6neZmV9u15dLYCUUcz5/cEHHxSiYTmYCiBaGyOxq6jmdrBimWdOVIdOo1zR9B02kOenysxlZsrA3w+UIcsPkRt+fIOxGcHYYpgzc1S/+rKbOQe370ogq8jFF4+T7bbbrsqydbzj2rBsAEmRQNxBKDOGQdhJAmNUND4bBO7IDzzwQGVdeayx3XVXttVa9hzZO6ijckggNoDEAmxo0ZXuqJS5nPpsPCkbJtVZoKzv3lbOlvH2KSP6U089Zepw//CHPzS0TvXYKVsg93cNVtRkeUWeOal9074omj7VXuFrz7+p9FAmgag6TW81ZTdzDi5tNt+c7KzlbrQx9FEbyOvTp8vwmTOFLLO+jLkxfWkbbpXYQKZNe13ee2+4DBx4nwwZsqSxgdQ1PhYBSKwNJCQB6G2TeWjkMQytTGLweUHxPtmxQ3aSMnqmGNt1X2v5VjVQ23EX7B32GZ6CsTaQ0Bjt+h0xAFs0V9tmYdt4OENVvBlz11d37VnQsCdrgfQ5AHnxxRdlv/32M+oYniZzVdmqKoBDdY058+6HoumNRLHppp3SZlPSFe+kFKZnq/hCht8bJk/uSObIHMuAQw8gTIAbJpu4zLOqjEHZv8MQiCHCYyrkhRUDrrZzA2tJ9DSeXauuuqq3FnpMn24b1oj9oKlMbAmkzAuLOfukBYL5UNOizsHnnwhr1tGNHQnRNCYOI2U9aBsrgeic1NiN+gz3ZAVANfayxvyd/8q8sMoA063fUda+aO4+m0UVG49+wzbwp9Lc1763lbPtcwDy5z//WfDcIA20AkjuXDCqqmIj0jeMqMrtI2bDaLoINwiqbrZc/babV8pmgBxuklwCjnYW4BhGSv8pHnCxfcasaZkzQMhGVZRjaxZgFydl9IE6AIcxWNNouABSFtxWFDOBEwIAgg2ER9UrbjVBd5/FxGHE7E27DXPffPhwefXpp2X4e+8ZydBXfyQEiFwwFFA5Syq9lmWRjZEoctbvKLJZVKllbhv4U2nua9/bytn2OQBhgQlMJNsvT85cVS5wcBuHucJ4QgkJ624KBRC3/7r1OnRcvrQgdqCj2o9s98uYhIcpAFLEnOnHlV4YH08oujakijvu4ouNZMGhRVJzYz6KAKQsJQpzIOIZDyHb6AsDPO+882SnnXYyY04FkCJpgQwOCiAq9bqxI75yzk3YQJgb9COwES1AqBJhEXgR/KtR+HrpU8ktdI5ibBo563eUGb1T1Vq566vb42Ms/NdkSe8Y/tanbCAcoBVXXNEUyGET5kgFUhREpt5GTUkg2r8LILkkEBtAYiLki+wkMGeb2ZMZGQNvWarxEHO+4IJjZOLlE7sEP958w80dtTV8GzjkDDBo9GiTaBNGRbp4GCkAqao/TYToUwEWJWUEOAjSfOrZp+T9Zd4XeRHjGwasWVH4qFSxy1UBkDKGG6r1zdyK0q7bahxq6CBpLrjggl3ImaLucfXvvrUpU5+pdKjFvcr2T4xXVU4AiTV668WvrPZI7vrq9vhaAImBN6cNRPv85z/fCUCqpgJxYxxCsQCq6y9jlBWmE8znFWsDKVMNseGQLnSuoUSHOvYQc/7EAQcYqc8uZYoKjOp+ZbfIEHMeMeINue+J+7oEP55/yvlCtt8UCWSVueeWb190kZkrDN2NvaAI0mabbRaM2i2SQKCNG6Qp55MGYVYtjDoSSJENhLnYAOIye1S5tpNH6JITulXT3xbDh8trU6Z0BG26rrn2no4JiotVnyFZMT91V2YPcSFkrJrlgG9jHzno2IO8e4QgTR5oxNxTbIOhs5pq9IaGnDHOl9Yyt/sGQOAruXJV2ePrLgBh/EWqxj4lgUA0JJDHH3/cbEAWMDUVSCxw6EZI0fWXgYjL8IvyVZWBQxnIME/dcIBfjLdGSALZZI89hHKmNmOmPzIDkDyw6Akx5w02WFHu+vNdXYIf919rfznuuOOChw4Gg5rttalTO/Tx6qmFJABDd2MLDj74YCOdhNI+fKRm6+pNZvp0gjTlZpEB0waYNO51bCDQLSQF2D7/ZUCjHk++2IUQgMQaxnV8v/71r00eOspLh5h10Tjtd95++2255557ZPr06aZPnBHYT0iLf/rTnzpvpwEiMo+ILCedpL+ys9b+nocCiyyyiPzud78LgkifAhBIghcNlcy4daREcqcChw0gOaLdQ8bfq66vlq8qpOa6+OKLjXsk30stWKVjhDlvaLnRrrbmmt6gOCKt0dUXPSHmvPfeu8kBRx8QvF36bj0a3IjtC0cKshLAdDS3VZHqr0gCUUbu8ybzBWkOuHiAjNpxlImt8XlhYdgl6JUM1CF7QdnxtgEk5mYfCuQLAUiMa24sINhzKVOL8fv6G60v01+a3ilv2+UTLzd1fl577bUOp4SidXHpV3bhKqN3+3tXCrCPl1xySSPl+eqt8EafA5B11lnHBBMuvPDCUWVtqwKHkjNXtHvodn/EuZ3zVcVu5JChnRoS3OC1ZkCql5rvIMJY6deWQLhR4qKJBOImJ4w53LQxCSCt4MfFF1xcRgwfYZguXkh6a9XgRv4sqhvvk8oWX3xxk7IEWwBqH01BH+t6bPp0xkmQ5h233WGm6UaiM8bNNthA/jBtWpRqKLTeNoCU2Ra0DzuQTwsoad12t15GjAQSA1yx+1XbhQzj408aL/vuu28hswp9izVab71N5Ne/fkVmztzQxPqsttrS8tBDd2VRbaXOsb+0B0BIxtqvAISbJGqF5ZZbrjAQLyWqumjBU0qsFvVTZPzVfFUpG89321a1EgFjAEcuLzWXMX9AEjcR2WWOOeTBueaSJYYMEdK888QyZvt2+fTTT8vkyXfJ66//W957bxYDINjv9ttvNDpx+tQYDkCgSN+tAEifd02eLP9+/XXZ8EPX0yUGD5brb7tNttx2yy7GewChSDXjm5erQmXPkaftmksukfHvvy87434rs/J5nZhYNzxVArH3Du+ietVsrYzLBRC1gRTlwYoFrpR9GzKMo7qkXHURswp95yc/+YnssccxXXKyXXHFqSaVT/tUo0C/BBCyy3IbRv/sC8RzgUNdVasGAKZUyCtappAEcuT48eYWn5pRE8aqwYbcgm2PI2WEevtE5YdnUp306MqYuUE+ec898tuZM4UKE//4kEEec8EFxs3VNrTHBj/67SSryFlnHSZXXH1FF3VHEbPXNSi059x4RRfV2YQz0xM22gDC3zfbcjN56hm8td6TuV8UWe1fIg+9L7LfgAGitUJij3KsDcQGPVt9BO25bGmKelQQriNImbqpMQnkkFEyY+8ZInPNQthBEwfJ+d89X/bee+9KAHL00UfLmWf+Rd5//7IO8g4YsLccfviCQgmI9qlGgX4JIKNGjTKqiPXWW69TWVtIZOdxqgscSvJc6VJC9oVrbryxo6ZCjB7XVsnRHlvAM88808kWoGPHgwz1EsZK2vpAJnVrhSSpN0aMkPvuu8/rAVWWmTfkqbXJJn+U+395fyVmHxrnlC98QX71wa+6GO8PXvfg5ASQNoB4E1qeL3LJ/4mcUEECcfMelTF7lShcr6rrbr3VeAkhjWBkT4kbqGIDKdtP9Dlso2HyzIvPzMrb9spAGbr8UJl03SRB3dhKIGUU7L7f+yWAHHroofLFL37RGIo1joJDoTEhKek4YpYiZ7oUH0AoY2csRUF8VVRyiPa+lOK4tZYx9RBtQjf7FTfYwDg3+DygYOZFD4kHfWnhQ55aMcy+OyQQu2KlL6X+HDeLzDdtgKz6pS91ylyr6ruiNB6p5VBDNo1jL7zQ1CVBvWkXciJdjBav4vci9R3j/NWvfmU8IAma9LUtAzh7/d98800hMSpSsToZcFH79Kc/XQlAPrKB/F5mziTf2b2y2mrL9GobyLBhw4wn6f333x/DhnqkTb8EkBNOOEEWXXRRs5E5ZGrYzQ0cumL0n2qITlltVZGhYz9p9GiZ6tTCIMKaAw6zAkRSJCuM6b6U4ri1ljH10BxUkkJ3rmktcKPdbe+9vdlVi8BKpSn09dtuu7NMn/4HYwSdc857ZejQpSTkqRWjbnIlvnvnnNMkZuywgTiZi2PUYi5NbAAJeWvtu8u+ctppp3ViuiFpwU6PngogIa+qeQ880DhVEKwKvYlNQPWJ1KqXF82/VWRbKgqyM5JKZKVExkCdE4yztkoNZuUCCP1OmjRJsGfhfUmQaBHQxbZNOZ9NtV1//fUNX2kBpCkKB/o999xz5Z133jEpFU4//XSzoRDNmwj0Ywi5DNEhMimA4Bjwt/POk4lWfYRRAwbIPPvtJ+h4qwBkExKI3p5hmDAhTU7Iv8ckgIQpaOlWbrTo6ckZhYqFhIcwCzymNNW6z1NrixFbdEmK6JPuGJMav4k3QJ0HI7Xb8i2YWpUSugogSMDc7jHOT3thWkdK/aErDJV77/yoZobugRgPqFQAKZJACMzUkq9V7RpFABKTckTnrgDiFm1yAaS/e1a1ANLNwMHnSGHyzW9+U15++WVjcDviiCPMKDjATQKI5pxpYspqY4F5uhIIEdaoIDCyV3ECgKnhwlpmA4mxvbhz96n2yhgzdARkfKlG9GbpejZpn65XFUWNbO8vX014W6rw2bLouyiJYhlduFzA6Hk08SaARXwKDgs4fPhuzDExGKkAolKN61WFDQQHDQWQkGfVmDFjOlKy+PZ5EYDEpBxJBZAsnlXvvCNy6aUi06aJrL22yJ57isxDVGL3Pj/+8Y8FzQkBeZ/73OdMMS0CXm0J5PnnnzfBrqj22FdIhWgJSEPDgwqRPIAPP/ywrLXWWubfKMiFNgH6azwWF+vll1/eZLTmrBEAvNdee5lMErSHz3Bh44JGQTgupqGnR1VYDz30kICympEU5kFm0VdffbVjvKQ02H///c1k0QduvvnmRuWCeGs/BGQdfvjhxkhL7MESSyxh1AI8qD9yBPqFiJgj31bRdlVGzGbaesSIjgjre8l4+qF7bNU0DTAVQIT04CEvLFX1+Erd2jd414OryDbkY8yDBy8ue+yxo2DD8qUaUZuMCyBKu6I8XbTx1YS3VV0+AClKYYK0UgQuWgyMfa37T2NvcF5gPUOeT0cddVSpq28qgEADnx1CU4OUSSBI9ri8aloRd88WpflIkUDcsqz6HVcCKfSsGjVK5K23RFZbjXKZ/uP17rsiQ4aIvP02dR9mAccqq4g8+ihZL7sNQTh7gAA223322Ufeeusto1JkrUjLhArrjTfeME4w8D3AhX1DlgccZOCNvM8+I5/Z2LFjDWDwoNKjDVoAgIXn0ksvlYMOOshoaVhzaiftueeeBrhQ+6+77roGTI4//ngzDv7stQCywQYbmBta6PYMYEBIbhsQiA3MpDHa2Q836O9///vCweMmysE/++yzTZNcgX4hIoYYWq4daDNTmByGaNQpdoS1/a2yW7HdNiZSP8SYccu9auJECdVQL7IN+Rjz3HOvIhjF2fBFhvYQvYsqKjJnX01429juA7yiJIoA5ujRJ3WJLbjoom8bqY45IPWybwlO5NFaKlqWljYa0KfFoNRWMGOJGTLHiyKf+pfIxwfMLUuvumonQzt0oB89DzEGb9+edFOKG3vF8OFdCjlRXZLftHwBfamqkdvwxhtv3EmScfdkrA0kFkCCEsjn55cdkCgGDBD5xCdEJk0SGTas69TPOkvkuONmgYc+gwaJXHedyMiRXduTBZpYJhjxcsuJkGH5w3Wtc9a/+tWvGscAeJg+pGJac801BUM6AHLYYYeZGBguyp/5zGdMM+iEepUL+JNPPmn+DVsoNiwu0uw7yhQjXfAudiX2ISDxyiuvyKMApUgHgLDXx40b1zEGAO2FF14wWat7NYBwA/Kpl5BElllmGRM3QMlNHv4OmvIbUobvAT0h2GWXzfL5zhWnESIih4r/lEnU2Uzuu5qem81QluiQd4ukBZ+UEgMgRW65z913Xxej/rgPPbiKbEOFCRRLXH2bkkB8AFIkgSCxhWqpc2tTacNO5qkAord1JBMYOOurQDBq7KhObsmkRQkZ2pHQd91uu9KEhz7JQ/eDryZFqD3j5LzC8Lb9+rad4m8GLzdYbrvpNsF24XuKxmC3Zx1+9KMfyUsvvdQpzUvYBmJ5Vi00QB566zUZ+O9/f9Ql2oo33yT/f+dh7bWXyOWXd/43AOTkk0UOPbTzv3/wgciOO4KYpBaYJdUsvjg6c5HAfGP4gLpOI025TivLLrus4X8AyBprrGGk2J/97GedukXthUTCPgBI4Htcovl/AGn11Vc30gt94cmIpELuKtT8miEaCQSQAbRQgelDwOv48ePNBbxXAwhAALPhRofIhAjFg64YHbE7AW5sEINbnu/BcIuukE2oAAJAFenyYhY71CaGCaf2b1fL42aK+q4sqy3fKCtL644jpuZ6kVvuYnfd1cWoP9+HHlwhAGFu1I046KBTZcaMaSLyCRNuOGjQYDEp3EuCDUOAreDp5unSCPhQuhFlpDAumD03bVXnoSPecsuve0vyzkrf4kognWup215Y0N4FEPV8glbsc5w+Lnzkwi4xKIcMO0ROhrFZD/O95ppr5IwxY7qAuB3VHpIoUJ0wnipFjVi/vQ/du0v8zYWnXSi77rpr6nbvaD9rrFvIlCmvfphy5H4ZOnRJuffeyeYiWOqF9Z3vyED3xgwoUGBunXU6j+uKK0RGj+4sgQwcKPLggyIf2hA6Xnj88Vnvz5z5UR/0i3rnqKMqz5cCeDB01FEEP9sPEghnHgBBvURgNFKX/aCOIrv073//e5OTin3LBRsJBJsI+4My3+xjpMTddtvNXMZJVEm5BR4FEKQNgEYfwAm7ia0NcCfaiA0EfRqDgvFxY3EfFcvw9YaAJEhjc1xyySVGdwcSop65+uqrjV0DBLUfCH7OOeeYrJ++h2Rr3/jGN4wxiCdnnIbvezFMOHaH6Q2Pg6SgxwLCdMuqs/GNIjWOzy23qOa6jjnEmHHLPeWAA6IlEHtu/H3rrXc0dcg1N5HWIee7RelOFEBgfm67onfLVHuI/ltvt7VMe3FapyR+t0661RSgcm1EgMOIEVsX1lKPARClM2vBgT/omIO6RGFPPGdil3rlzIdb4r8uvrgLiNtR7WVeVVWKGoWM4geufWCH7TF2z9vtZo31+C5qwYkTTzS359I4EFRVDz3U+dPYM6ZMEVlppc7//p//iGy8schjj81SdwEOu+0mMnEiHg+d22JoHzsWfXjnfydl/E03VZmqeSdFAuH8Yze2H840FwuVQPgNGmFLITsyXowYwvkP0N99990NT0Wdpfyk1wEINylbb+9Sl4Pv5t3RNthE8CCAKFUlEMRr+sFbQQGkyTiNGCZctsN8wKFqPZcJFfWVKoHEjt3HfBmHpk23M/Ny42eNuVUzL6QnUpqjo0fKxGWUzVvG0EPzBLC5NWNUr5IWJdQvnjC+2hJuTAlzUhBjLBrp70sDw9pxFrjx6e2Q+fO+qq3s8dBebQXvLfOeDPz9QAm5+sZKIGX5qqoAiM8oPvdlc5t0I1zetIJl2b53f5811v+V99+f2PHTgAGj5JBDPmk8KksBBEkDzYRKCqit1lxT5IEH/EPBrkGg3nPPiayxhsjqq/vbNSSB8LG11167Q+WkH3dtIMwdryykhKWWWqoDfLh8w0ufeOKJjnHjkYmKH9sFWhikD6QQ1GBk52DP2kDU6wAkddPY7RGrvvKVrxj9HETAYATjURsIf0eUwwgUsoHAFDEuaVXCpuM0fPm2YmmgzAjGwaFDz+nLRxRb06RIjePmRAKgoSfxD2y6Kp5cRSAA3WGeO269tfzxmWdM+nfbtbbK96ArtOA2hVtpkbdW7BpoO5jXRY9eFExhYqeI4UKCSpS1KnKfBuhGjtxepk//o8ycuYEMHDhLJXPrrdcVGpwBXA49XjgAJUzC/Q4XNRjEaSefLDPefltGvv++PDDXXF1qkTchgRhVkxMYuMpnV5Gbrr/JzAt7IPRJdS2vLYGwmBi6Ufdh99h2WxEMw/POm7odOrdvyAbCR1A3IV3hMITkgFYGyQIaczbVCwvVFPYlfmM/UJaBiwlF2zbaaKOO8RKYi+cq64CnlcZQ4aGFyglDue1Z1WcBhJsb/shLL720YQTo8zAmPfLIIwYkeLRuBaI9BxgPAgjCAQs9tHOrEsaqgKrsMi1fqe7IMX3Yt9gyZpTq5VV2s3cN7fcNHGgisFVyiBl/URtltAAIXjpnHnJIUM1V5VsACAeAA1QlLUqqBHLxGZ0j/UOVKX39zgrUPKWLrefCC481kpi6zobGpNKWSit2LMyGm2zYkTH4Yy9/TBaadyE55YRTjP++e1nweVWpDcSWQGIN3YzXbcs3NN4KcONCBJCkJAGlzw033NzYQN57j5Qj95mMAyEbSJX9U/kdpJU77/zICwujegYvLMbDPgEYsGWQRRwNjMaBADA8SB/Ydh944AEj3QMo2Cls8KAdkgeSCRdxeKk+eGhNnjzZAJLamfmtCEAw0Gsck49ujdhAYhcIImEwBSUxFqECAB0Rs/RBt3fAAQeYicNoARTiQELFS3iPw4buD7FO66JXLWsbMxcFELduue/dKrfY3F5eqWquGBoo3e1klTAQ1tino1dDe2zfdrumJJAOG4gVKT74c4PNrZq5VIn0n5Uq5h9dVDIHHjhvR/qQMhqwZ7hgYSdEQuWssIautxYZa322Eh+zt3NbaV1upKlYV1vfmO363oyZ8TJu+sX1HHVjTPEspDacZGCYdntfKpMy2rW/N0uBHgWQJqcGgODnzO0n9QafOi4Oi/rjh0R2GzjoP+UWm9vLK9XQHkMPHSPz1Fxc0B1Gd/rBB2eXQLg1c9Mus4GUSWP23GB2zEOZHXsI1YJPHRPbb10JxB4f4Kylac844ww5/+fnR3lrla2fMn6cTlJAye3XBhD9DRDZaKORHTnMVIWHRBFSYYZqq7cAUraS3f97vwUQDEboU4lsz82A3WVSAIHRuMZDfrNv5SnAod/J6eVFnzklELsSoHtDh8nCQHbedlsTPe8ztFfZ8koPvlfmrRWTe0vHYNtT+EYo7oZ5laVF0T4/soHMSgKpKpkiG0gRTdTZAtvHmOPGdHajLZBAivpUxo+0eO6D51YGJR+AFNk0KGrme1DP8J+rZWgBpMppafadfgsg6GPRIeKxkJsB+5aEG7ENIC5wpGTIdfuP9ZSK3SquoZ0stEsNHZpkA0FtxyEvKiGrkh+MOKYKYeytPpYeRfXP3VT1rJcG96FyQVUU8iTy1vW4bJD4MgCnemHFriG0xwaCy7Hx1vqwZoYvMWNZn7kkEJgJdOM/fUJeVajwKOTkk9hbAClbsd7ze78FEAyUGJwwJsUynDrLAoBoxl++xyGAyVbRm/sAhJt8ipG+bC7KrFEB4ciAOsg++KH3mRNMseiGru+mqA5dw36Rt1bseoZqwtup6m0vOMYNeJQFbPrqegyYPEB8NUhS4kBSDNiMFemGGz6Bs3gpcqOvkg1BGT+AWccG4gOQkARy3nlHmbQbjNdVZSEJQgvX1b+VQMpOdff/3m8BhIhLImKJ5qziJZW6FBxmwALGWnQrT+2X9k2P35WefGO041RiUqrQR4rxP0WtFgsgRRIISeZUtalecIxXXamL1ilVAilKZaJeWMYt1kRgv9bJ3TfGVoCqxzWyq/QUA0o2449pH6IN8VeAr53x4aN5aWT5LK+qe+65raPcNO1t6b0FkCpcomfe6bcAgucWmX5J8JbiJVVlGTQOhHe5TVXxfy/6btPjLwIQ+4aukfGxafFTbE8phv1YADG2ik037WJox1jMvPjPtknFxgt12EBKCk7RjgLSIe/nAAAgAElEQVRGSHm4pZO9F0YJYHHh4OmcAdcfgR1rK4Au9Muf2u9Gm24kU56f0hFZT2lYV83lkxzKzoEPaFABugCiF4lQZUXbMUCdFTSljCtxtxJI2ap0/+/9FkBI8YBqBl13jJdUFdLb6hzeRwVUNTiupwHELbgVE+BYRrMUAEmVQGJVerZdBXUmXlU+l1z1GCMB3WqrrWaYfdFaltlrQoZ2mDeg5QJIUQS2mwNL6e6zFaikCDMHKLtE1nsM7UgOxG/EqDAVEHzS0o03XmMM36k553SvaeyIZjBuAaTshPX87/0WQKgFwo2GvFxFXlJVlsBnB+Awo9ppAkCaAkCdO8xMA8CqxKmEaJgCIK5hPxTcqDdf8vxQ976M0asKsMjgH5JUyH9VdT1Daq7LzrnMRP03IYHY68AeJSg3JjGjT/VUdC5Cdo3x44+UXXbZpTLN3NgRwMg2srcSSBVu1ew7/RZAiFImCPHAAw80FIzR85eR2s6Q69oBfMWIyvqL/T03ALrf1YJb/Luqcaq4G7v9pnq/xdzqyb0Vqj/ifj/W4J/irRW7ZiFDu2bV9dfgsLPQfhSBHQKxkLeSjjG2iFMqgISkpf32m0dOOeWUygCi4+asshcAD1Vr8VsLILG7r/va9VsAueqqq0zZUFRZPPYtO5W8tgE5ZAdoOuNvDgAMzVur4/F7DuDQ78TaKmLXI1bN5a5XkUsu347x1oodo7aLkUCUQeo7qQbsMgAxBmwrX9Wcv59ThnxuiNx3132d1EypANKUBKJ00PooXNK0lg9Awr+XJlNMXai2fS0K9FsAIQcTuX64ESmApJa1TTEgF1Xfq7VCH75suwnn6I8+7CBADiv0SU1+VzSW3ABSZmivardpQgIJGdptG4gLILHrqkBDvQei5ckPF5JSbFAiVRDxUdiAMLKrrQJJ3b7pl40j5Fl1/fVXyQILLJCU+8r3LVs6UwcS3KH5LnnzALyiVEZl429/z0eBfgsgpHK//PLLTd4snpSyti4j0lt5EdljPXiqLl0dCcr9pg0cMB5UTangGjOP3AASkkCOu/hi2WqrrUx8SlliSt+4Y20gZSo2t+8yLywFkBTJo6u7b7mqyx6XbWTXrLkEErLHqa0dWxbXN2YuOcRupCRP9K0H/WgiRls6+9Of/mQKK7UAEnP6uqdNvwUQUmGTEp5MkzwxZW3rGJC19kVM0acqS6t2ijqH07YJaGQ8BxVw1f+vMrbQO3XS3IcYvVt/ZInBg+XaSZM60o5AnypSVJkXVizIuOMOBRLqLRu6pwTvVUkN4qOlfbPnArHddrvK1KkU9/oo5XxRDIqvT5Kizj///N7y1Cn7KlSfBOBYeOGFWwBJIWbDbfstgLz44oumRCR++AogobK2bqJDrcmRwohgFE2mjE+RoNw9U2T8jwXXKvuwiQBIGDnqSdQ3RF8T54E6RkvF2jfWmPQp9ryKpMiqaq4yAOHWn5LAsIq7b9HaQU8qfx5yyBldUs5TBTAUg9IkgCARcRFwMwI0YUR/51/vyKVPXirT/jxN1l5qbdlz1T1lnoHzVNnuld/ZY489TIGn3/3ud536oHIrFzzSr6NRoUgeWYpxz+YMcEEjOzl10FEd9sTTbwHkrbfeMi6e1Bzh8Rm562TILbtp5l7MKgASY/zvawASm4MrxVtL16pIiqxqaC8DEGx0KQkMc0kg9v487LDDZMIE6sF3rQIYikFpGkC4ELjSfAqAvPzuy/LWP96S1RZdTeYaMJf3OL77r3dlyCVD5O1/vi0z3psh88w5j6zy6VXk0W8+KnN+bM7cRzjYH6EGAMjLL7/cqQ2B0FxiARB+5/+pe44da4cddjDp7nHV/vKXv2yKUvXE028BBGZAnMAvfvELQ1f7dpkjQ667WNzkYqsGVlnoFDVTqjG5KRfknBH0rksutA7VX4n11nLXoQhAeosE0tWAfa8MHbq0KbhUNWbliiuukDFjkECmEhuPz6IMGjRYUiQQ9hx1tqmYV7Wcra4HTAmbTBUA+dfMf8l2128nd714lwz42AD5xMBPyKQdJsmwZYZ1OXZnPXqWHPfAcQY89Bk05yC5brvrZOQKI7u0/+8H/5U7XrhDHn71YVlugeVkp8E7yccHfrzKce70TgqAIHEjtepz7bXXmhLCOAwBMN399FsAgeHgoWKXtWWTIxpzK+TvdTLk+gCEw10lmV3Mojdpw2nKBTkHgPhccjUVSAhAyry1QvQuApC6NhCtAc+32SOsJ/NIsYHYQZSMFZUsarwiL6yYvUUJ1e233/XDPFyzUs6vvPJicttt10cDQm4AcbP6Mo8YCeSEB0+Q0x45rRMozD/3/PLmYW/K3HN+lCWY/va6ZS+5/OnLO5EIADl5/ZPl0LUO7fTvzG/HG3eUW35zi7z33/eMVLP4fIvLL0f9Uj456JMxZM4igfzgBz8QVF76sCdQ9Z144okdIQu1BpP4cr8FEBbcLmur+XU0/5GrM0+kW5fmKVHXVb5VJCXUteE05YJcJ4K+yIW6rN8mJBDWLNYLy27HHhwxYkSHjQamz17hT/4DBGO8sNyYDtK3D15usNw66VZT88Z3oQnln3LbIjkAcFT9VC8s1L98UxlUmYt3TgAJpVaJAZCVLlpJnnv7uS6gcPeud8s6S6/T6d+vePoKGX376E5gM/BjA+XBPR6UtZZcq1Pbx19/XNa5fB2Z+d+ZHf8O2By/3vFy1NpHVTnSHe+kSCBIH0gh9vOpT33KZDe46KKLao2jysv9GkCQQC677DLBKEcyO3WbTDGOxxI1Neo6tl9tF7Lh1C1WRf+9CUBiPOHKAASm53pr+Wq+u4BAniwk1DqedD5JhRxcP/3pT02/qGZoo66quL3GJKf0RpVfNkguOPUCo8Kwn66uvvfL0KFLBtVcRd5T9KUeY4BdyAsQaZN4EsCs7vkKBTbGAMiwK4bJQ6881Ike2DOm7DtFVvrUSp3+/T/v/0c2vmpjeez1x4y6a+b7M2W3obvJxJETu8wBQ/vYu8fKP2f+s1MfW6+wtdy0402px7lTe5x9MIy//vrrnf59yJAhstBCC3WygbQSSC1Sx79MYXliA1599VXBc2Xfffc1XgtltR7iv9C5Ze6YB3ccLpPPWXOkqRiWMkZvzzHFLhWT2qVMWlCQsdOiLD54sPz45pu71KFI2RM+Wwm390suuUSoUQMD5j8AhDXUPQm4FDFe433lqRZ4wFcPkNNPP73TEFMN7WXut3aOKsbJGXLH2lsA5O6X7pYtrt2iQ1KYe8DcsuYSa8oDezzgXUbsGvf/7n557q3nZI0l1pDVF1/d265JCYS8fccdd5wQ57Lgggua77/00kuy0koryVe/+tVOAII0y2VEn2uuuUYoXTHb2EBIbX3UUUcJyfDefPNNM3Hc0+yHm8z+++9vjEUY5DbffHMTEIiPuT64s0F0AGKZZZYRvEU4oLjCnXDCCUItatIeQOChQ4c2Xta2CZdVmybK5NWGk7PmSFMxLDGMnjmmgmFsv0WMP6TmOvr882XHHXdMwYyOtuwB9iR52JiTPkgYlBcYN26ckTZQn6KSZG/zdxwkeIpu+CkSSKqrbxmA6DyQshkr83Qj15kvkkMOCYTzr67Z9kLESCC0x9B98s9Pljf/703ZdsVtZdx642TeueattKb6UpM2EMACVeeGG24oY8eOFTxIARVUi2QUd72waMce/e1vf2sux3hhwUd74ul2FRaSwSOPPGJSZjPxe+65pwuAABjcEAEBFg6XNTYUOl2exx9/XPCRpi40ftD4RFM86uGHHzaE54Z0/PHHm0SKAMtyyy3XeFnbHAbjog1g23DsIMAcm6YpAGFsRTm8YlxyQ/OrmxssZGj/+P77mz2T8thxNtgRDjroIKMW1AcJBP00+5ibO+3tHE+0swtCac0QewwpNpAUCURtF7EBgLRnvzB+9qEWglIAyRGPUBdAUtYupS3Syp0v3tnhhbXjKjtm8cJiDMQsAQaACaBx5plnmjRM7BdcdHHj5aLNxYe28EJojq2K0t056J5CC23b7QBiD5IbmCuBqESBpIKHCQ9/X3XVVY20scQSS8hee+1lbjsQUx8qzCH+oSpQnTIojX4R+0fTKqYUdU3KQtnMic0EONZ1k3S/32QQpI/Rx2bJLaJTXQDJIYG4hn6Agn2GmmHatGnmEgSTZR8T0Kr1LWDAupZIlKwn/68FoXw3fGjhGtu1tolbN6Orq2843UlV47demNTIzjxgJjkYGTdvX0qUWAkk5Xz1lbYKIL4Ld0/OodcBCOgK41exXomD7hW11RZbbGEAgdscNc/1OfXUUw2gPPnkkx3/NmrUKGMHWW+99RovC5tDrWJvBNd9FSbDv9Ux8IY2mhvslnND2kkg7TnFlsVtSgLxGdpJixJjA3EN/Zq5AKaqUhXqV2qVoz5lD+q/Mx/bmI70zAWJdqhgARzfDd9HB84IY9Hqg67EEuOFVRVA9FvsHcahANgCSM7T81FfGkjoU/k388W4XrMBCK5o5J1iI7Ep3QeVE7q8MgmEtAqHH364vPHGG53aLrLIInLOOefIzjvvbFRStNlnn3062iB58Pvzzz/f8W+HHnqoCSZEzdW0iikXgITcV5tk8k0GQQIgMEyVOlLL4jYFIHqjt9OdIDkwPhek1SAPo9eqhpq9mPbKPJEg+Lu66AL6KvnyJx5Y/KluvNtvuaW8PmWKbDBzptw/cKAsOXSo3HbPPaYd9ML7ibZqb3AN10UAEnf8xZzVugGAuvfZoyEje+x4aBeyybQSyAZelX8KbXO3zQYgbGZb7+sOlJsVYmkZgBRJIEgY2EdiJRCM6QAPoNOUismeT52U6z73Vdtlskkm31TfSnMYX5UsuUWbvQ6tiyQxN5+Z661FpUQklZvuuKOD0cPkXeCgH84D72tUtQIA7bHfnT5mjEybMePD2G+RwYMGyfGXXGLyT6laC6YMkGjMiO3ymwNA1HuqbgQ5c4KZaDlanxE8hnkV2WRmZwCJoV1PtMkGIFUGH7KBfOYznzEBTWoD4e+AxiuvvNJhA2HgqLT0URvIxIkf5fM599xzzY0PSSWXhFA0zyop123goO9QIkcN6moi0j1337ZLLgyKywNMtG58QC6wTgEQ9thJ++3XhdGTQh4DJnNiH6stQ43MqKE0n5PPZoVH1l/Hj5eJlrfWqAEDZP4xY0yBKwUk2+hOn9jA1OU3J4DU9Z7SeBGM8bEqON86FElELYBU4bLNvtMjAKJePzBD6k6j3uIA6u0KlRMbEhdcNhSpGjAU3nTTrIAdvLDI+8ItDokEPTK+0D//+c8N0Ojz/e9/X1577TVBlcXTxK3VXp6UlOs2k+XvZZUAm4x0z9m365Krao06aeh9R6AKWJcdJVtNqPYapNgZEyZ0YfSfOOAA4+kHSKh9ivfZ2/w/exk7CGovAsKwg9i5qgCmE/bZR6Y6Esh3Lr1Uvva1r3WogelLpRE3qE9T8vhsIGVz1d9zxW/o2JBkeGwVHKBXFsmu42kBJHbleke7bgcQpAgkDPc2ymHkVsaDGx9+87hE0g5AIQ7ErkKGOgu3N/ojDgSXt6233roTVXFnfOyxx8yNjqcJpmN/MDZjrjJZDktsPq4mI91zAEjIJTcFVFOORBNrCUOGFhprAwiwB7+7//5dGP24CRNM+giVIFV9i3TAv43YYoRMeX6KzFx6ppB2ZOjyQ+Wu2+/qABEY7labbCKvTpkiG86cKajGFlt5Zblh8mSj6lVbIn2plKNnBhdavqe2FtcLK4WOuQAE2jEuO1aLcaiRXasglkXdF42nlUBSVrZ72nY7gHTPtGZ95a677jKeWWeffXYHgDRReU/nVJYx164EiMSRko+rSTfkOuBku+T64lNiQTV1X+QGEBi1xtrA7FQiRKLYdrPN5PVp0zoYPWlRbr37bsPYeUftJrqeSBf7HLaPzBg1Q4RM4v8RGXTZILn07Etlu+2265gqIKJeWEgpeBiyFvTHrV0lFv6fx5ZGaEeKHsYN4FTNxJsrADAEIIybMSrolRnZWwBJPQk9275fAwip3Cm2Qj4snqaYmS5hKGOuy2Sr2AOaBJAqfce65DZF85wAohIY62TnS9NUI/xuu+XC6NWbSrPG8p4CAkGDv3z7l/LBLh+IDJi1OwZMHiBj1htjsqYWPeqFpxKGxv3w7+rdqEACDRgz42NPaVBfCkvJFQBYBCA6HsbJmNX12Ad6ReNpJZCUle2etv0aQPDDJ1YEWwlPTEr0OmR3M+bmCJjT8XCw6L+OuiI0txQACbkZh/ouk8qq0juHasyVCJkbawYoqGeVbSBXNR3MEoZNOzWQq0rqtSlTZP1//1t++sEH8s7iIv/ei1wtfgmkaO62F5dKI7Zai+/a+dGgc5HLb9HaE5RbN34DSY3/bDWz75vqZKAXCxf0WgCpeiJ65r1+DSAY0Elxgh5bASRU1jYH+TVjLjcrmAxMpW7AnI5L41iaApAycPK5GWsMRBHteiOAhCRCGKDe5kOeVZqt19Xl+4zinxORPy07h8z9t7ll6AqdbSCx+409pHmzABJ1k1XQZzzqmaeGbP23MnsDY8glgcQCiH0h8oGequZ8KepbCSR213Rfu34NIEwOby3qCfM0VThJl0v14TCoXAFzLoCEiijV2TJF4JTqLeaOoympr4pqLKR2Y/4wUv7U9COatZn/132D/j7kTeZzy/3WHHPItC9/2SQGdb2wUtZL7TNcSpB6eGDYejlRD0bX5RdgKfN+KmLYKWNMBRDt241zYa7YdmYnAMHJB9Wm2rpi6U4yRVI1PfXUU8bDFC9V6Edp3EMOOSS2m1rt+jWAwBSIHH7iiSeMbrvJtOUwGg4D34HRxNz+UlZO41i6E0CqeIv1RgAJqd04sPqfShyMH/WY/bCeZQ4PRW65tuE8Zc3ttnZ8Cf/OmAAHn21E7TExdTxyAYgGTbrBwjHzZQ5cCDifWi9ldgIQXMUBEDuDcwzdNttsMyE57aWXXmoqR5KEccyYMSb5InkDu+Pp1wDCxrSrEubOOuuqdTQeoImaIwogVQylZRtJJRAFp5BLblk/vt+bqrceI4EUqd3UQO5LPcKY9TADHL76F+5cfW65Sw0dKrfc9ZHrbhX68Q5MXqVbQENVcHaEuwJJyOU35P3UGwBE6cJYuEkzP59nWX9VYVUFkGWXXVbWXXddoaa9PqSUagGk6klz3uNQUZVQJZBcWWdDah2YCIynrwGIghPj1rQmuVLG9xSAqGcVc7ODNEPAYRutlTHzb4yfPwHusmBI1y23jtqKrax2DuZie3vpb4yN+bFujC0kjRR5P+UCEAXdujY6LnkaYe96ljUBIO+8I3LppSLTpomsvbbInnuKzDNPJgYU2Y0LIKz7GWecIVdeeaWpb0SWcYKpv/vd75p9oIkV7byD/J1gajcfITFyqLSaevq1BALRAJBHH320IzisLoO3GZMbBNhUTild/KYi6VUC4Tu5jP465qbsTiHjfCjWRt1dfalHGCOXC1/qEbWb0CZWGql7WIu8vVy1FuPWsSFlqBTMuDUHmXqKKXOGCal7sBtBXnXsuQBE3YEBItfIjm2EInF4jZV5e8Ez33pLZLXVROYiFsfzvPuuyJAhIm+/jX10FnBQQeLRRzkHVSmR/p4LIGQjx22cwntrrrmmPPfccyZoevjw4UJwNHzg2WefNQHWq6++uilixkNtdGogkZGcErnsAdaaTM9NPf0eQNZYYw257rrrjJtinZxPMUGAdfqPWeCcsQ98z7YN8P9FRuKY8fnadBeAhDyrFDgYG3YpO2eVnXpEPZxC81RpRC8gVQP3iuhog1XI28v3vj02216jEokdgMj4bcYMyPD/moKk6jrnAhDbGK/7U5NJMvZFF120EED+9S8RYjXvuov1psqjyKRJIsOGdZ3ZWWeJwHut2l8yaJDIddeJjBzZtT3xnHfcIfLwwyLLLSey004iH/94VYp99J4NIKRjovzEVVddJbvssktHo2uvvVa+8Y1vmEquBJ3yLLnkkrLRRhsJddL1aVVY9dejUw+g9vjx42XppZeuVNY2xR6QIyVI0fRzAYjPNgCjb8K+4tZyz7W86t2laUdcl2mfgVxdYGmrDhUKmjGJHpWhMSdl8DmKe9n9Mg5VSaXQyu6DeRYFINKvnWIEWvmM1infz5HYke/5vLkUIN9++21ZYYUVCgHkhBNETjutMyhQCfvNN0lU2nlGe+0lcvnlnf8NAKEg5Yfp8zp+pEIFlY5vuQWb1CypZvHFRX75S5EP03+lkKtTWxtAjj32WFOWghT79iWFFPcLL7ywCYwmzVMLIJXJnfYiWXqPOOII442VkrKjShBgSv9ps5jVum7wnNpulHnatoG6Ff5C82kKQGBYMG9ozp92USedJ8xYJQ5t60s9kroWoRt/aj+0tw3kMd5eZd+wbTlauMrNq6XxO7Rl3TUAsczlt+jbuQCkyJsLJrrYYosVAshKK4k891xXULj7bpF11un879ieR4/uDDYDB4rg9b/WWp3bPv74rPdnzvzo3wGb448XOeqoslUp/t0GkL333lu+973veV9gHXEXJ29gCyD1aB79NoYlggnRJcZEXKsaoUoQYEz/0QP3NIzxPAr1X+aS25R9JbfrtIKDDUyxRZ18xug666FBfvaNP7a/IgN5bB9F7UIBiNCPR9VatNPqnzAoPPHKnAV83+0OAIkxoqOqeuihziPEnjFligjgYj//+Y/IxhuLPPbYLHUX4LDbbiJUhJhjjs5tMbSPHUs6pM7/Tv7WD5OEV142G0COPvpoI2U8/PDD3sJ8ACg1jloAqUzutBcR9wgm3HjjjQvL2oZiBVK+1mS6EcZRJao7xnZD37nUYy69cgKIDYJ8R+uM2AZyuxpgrDE6ZY3dtqEbf6jP7hiTfps9rQ4CtheX7fKrQIZROjbhoW9uGnNSt15NkS0lBkCQNLbY4iNJAbXVmmuKPPCAf0Wwa1AoFalljTVEVl/d3667JBCtfU7pWvhW0eOzgey7774mgexbeBB0w9PvjejHHHOMCbChxoIb7wB9beCwVSFVaK/913VlDH07JarbNSpr3YpQ300CCDSuU8vdtkNpFmM1ztueRr6iTinG6Cprru/4bvx2f1UN5HXGpO8iebF3eGyXX6UrfwIg0DIm4WFvBhDGhqEbOwZ2j223FaFKxLzz1qNkd9lAGCXG8zvvvNNEk+NlBV/CnZfaSbj3UtKbxwcgSC+8R0LPL33pS+bcaWG+ehTwv93vAeS0004zxmG8EzTeQQvwqNGbgwNjisntVLQIPoDKuWgxMRVVVXB17SuhedYJ3gyBoN76+aYCirqvxqYeybku2pd941f7A7/pmDRLQRMeXGXzsQFMbV9awwTpRC8Y6kzAb+w32+W36BuoQFmDuhJIkSosRgIpo0Od35FW7rzzIy8sjOq5vLBOOukkA976XHDBBca7inQlrAHxHJtssolgZNdo/6WWWsp4YVE4Tx/oN2rUKANA1FXCeaiNA6mx6hdffLHxaDjooIM6AETTJSgD4pYa44VTNgwboHL0536vyCW2rgqujn2liC5VgjfduWjWW9uzStuohGGDSopnVdmaVvndvvHzvkpgZelQqnwr9R2Ns+A9O64l5PLLxQI1F5cuzk3oAUDUFpQ6Jrt9bwaQOvPqr+/2ewnk6quvFtK6Y5xSfS+LqYWlcjJ6BZAm3GEZsw9AfC65VY2gejPNudlTAMSdS5lnFeOE4WjaETdaO+c8UvqyDeR6SdE65in95Gzr2l40HbwdPKkgwnfVyM7f1eWXfQWQ+FyXcwGI5iHzlentaQkk53r0l776PYDceuutRpxDjKMyIQGFTQTM6YZoyh2W/m2DdJFLbpXNWcVAH/Mdu854qL07FwUOwN1OPeLW5lCXTxgbt37+1PiHmLHlbmMzaWXMzE29nKrEd9QdY5HtJSUAUdWzqON8Nc6JEtc51xlzkTG+BZA6lG3m3X4NIEgeeCWQ7nifffaRQw891DCZJsvaNmWMtgGEOahtwY7lqLNFUgz0Kd8pAxDbs8qei+1Z5dbm8KUeURUWQJIjniJljsqkWRPUOG42Zn7XADk7AWLKN1Lb2oGFZcGJPndknzRCP6Ea57kApMiW0gJI6i5ovn2PAcjUqVNNrhdC8998803BbW2DDTboNONhw4YJZWk1bTUbGC8EQEEf0miTC4b0xRiaTj75ZFlnnXXksMMOk5/85Cey5ZZbmmCpH//4x+aVpnT9Op6mjNH0rzW7OdypNdXLtlKMgb6sD9/vofxgroFcy/wWAYemHvExaf12ndiM1Pmpyk2N0QpcoX7UzZv3mpRGqgQn+hwAQgGIKlUBisyDeXPGckggRaqwFkBSd2jz7XsMQMhj/8gjj8hqq60mX/7yl+Wee+7pAiD4QZOumEAb3/P4448LIEPJWhKL3XLLLSZo8O677xZyxxx++OFGBULRlUkkxOmGsrZNAJTNbDnU2Fhy2m4UnLjpFxlKq2xHF0BCXmLMUW0ZGkFupx7RwMEyJs0Y7dgMuxxslfGH3qnCpOnL9YbKaRux513VHqQOACq16Bowbh47r5a6/CqNtEZJHTojyagq0u2nBZA6lG3m3R4DEHs6bEqfBAKAIE1QbMX37LXXXiatAYEz+pC6hPTHEwknFTJyvmXABYBSAGmyrG1OW4LLbDnUMIkm0sU3lfRQE0xqqnikCLtao+1ZpaoqLcZVlUk3KY3kYNIKcho0pyBX9YjbKjJfRuHUfu3+QgGIrJXr8gvjx8W0zuWmSBXWAkjqSjbfvtcDyPTp0w3TJJEY9RVIa6weGl/4whdkhx12kCOPPLKDUqeeeqoBFFIa8yBm0+4x8hV0Q1nbHLaEkEtuk+nim8pZpbXhob3G26iXWFFRJ8aTI/UItGRN1Phb1ZXWVvHkYNIqjajKrUqftp0Dhp7bOSSkcuM8utIIMQd6wSlz+S1iazigyrEAACAASURBVDAktRO1EkjzAFD3C9kBhIA9t6iJPUhUTveTO8B6QhIITJ+KgqSanjZtmuy+++7/v70zAf6rqPJ9v7KY8pWOCwgKgqgsQRhAZDUgDFsSlgHCEmTJSIY9IAQGZnAQxWEIgqyCEBYRAyKrKBAVJUgAGRVUCBlZZBSIgERQKZ0pq6xX8+rTeH5z0tyl+97uu/x/t6uohPzucvp03z7799iqcolnUJGJm4oAuYx58+ZZNMunnnrK/hObff3110/e1lbeXyeWUJaSmxIuPibkiByOOkCu06aLmjpBB0KHQ0TqP+pucu6vGhspC5DHoC0vG6ro2brWJGXdi3a5ZdWNiCAhdiFoA1jhRSm/ZQJErJ5BgMTYXWmfEV2AsHkkqJhFOpvQ7ZucJ0Dc+++77z7bVAUzl03mY4HwAaRsa+vSWMUVVJTGqp+fEi4+pgDR+FscJFKIVhQglyyllNAjeYHirH2aFSCPVXBa9D5RQPLSkXWNiUbbTXtMvKaIaZeb8AI+8RvJI2J5lKX8DgIk9Wo19/zoAqQK6aECBKL5eIiB8HcysWS4MRA2OF0JCbjznpDCtipzCXUF5aWxZr07tQCBV3Uxq+AvdArQocxP4DtYA4HNSO2CyVs/6BM4+Kyiz7qxlyr7Ru7JSwBwCwFjWme+9Or1kkw4EWiS3MG/S3wkL+W36H3ENBGeWckcQwzEd6Wau65VASK1DHzEAIXh3kKzYRMuW7bMpvgSROd3ajoOOeQQm6pLW0cGQoFAO1lYu+22m83CAr6drl5YJzI++MEP2mJCNKSUcQTe56vJ+6LkuhYIz8+q0q27ZeoI1qLMKhF6HAiCN9a0dp+n8Us9iWjyYqGwR6pmMdVdB7lfXG4czAhc1j2ldRZCt1gYkjWnkwD4DQEiuHJZKb9FQfZBgPzvSnC2wSvX5e+zVqwB8eK8BCR5xkUXXWTA1Jo+fbrPY193TWsC5NlnnzXve9/7XpexQbMUmqZQ17HffvvZWAYbFQx8EHV1EJ3ZEDDn33gewmXu3LlmL0D61SAVGMAxnpEyjiACpEiTz6t/8Fm9lP1GqgiQvGA/cxS3HPMS15UU2ElTJw5pqf/wmX+Ka8Qa4dnQXCWYnYIu4a2g6DbVj71sLtpCgia+J8HA8k35Leo5QjCe37MAJ8fNAqHUgYELPnT4ChDOYJT0+fPnh77CXt+aAKlEbcWbsE5Au1xnnXUqtbUNeW3eQZynpYc8O2W/kbKKcU1nUbA/L0CeB+IXMv/Y1+oAuQiQJuMKefORdeawljoRcY2W9W6PzSN5Xl6qsI4rhaT8cm1WPdMgQF7juCSSVF3PQYBU5VzGfQcccICtXsetlbrtrHsQ52npVaYnroMU/UZ8XXvikmJeedAjeU2dRKvkXW0e1HkuNDm4dRFdlXWqek9RjUneQV31Xb73+cap8nqOcD9DFyDCZ4LuzBchouMdIGeTZJMFCJrCAqFN7uWXX26zPLfZZhvb9iFFnVURv08//XTraoIG4JYosCZZSFKjtQvrJz/5iTn++OMtPNPKK69szzWUCxRkSa8WfuOZ4ZoLLrjA0E+e8w90crJSGVgfeHpkjfg3wgTAyPuOsbBAwMenhmS77bbzamvry7ys6+Qg5oB0+41UQcnV7xABgolfp1iriO68jycvZlMGPcLmdn33ZUHsOvwvu1cHyLNcaCGZWmXv8v09T7vPuj/roPZ9T+h1ockEeh4a84t/5z/d/AtaiOvgokOxkGSGWAIE8FSKiEG6yENX4F0bbbSRPVzZp+x9mi89+OCDldr6hvJXrgdpg//WWmstc+ihh5qtttrKClzc+ToG8sorr9hmUquvvrpB6MA3hAPNppYuXTpCchABQi8Q3F/HHHOMtWiAd+JbxDXG8x999FGzyy67GGLEvJ81QuAgWHzHWAgQpPqmm25qK9JTavEwHQHCYsnQyLK+i5J3HQss6ZIpBAi0uw2B8mI2Aj0CTXmZVUUNlJo+qEMryLMgPequn3u/r3afdV9KcMZQXrn0aRecDrCLINHWiKQAw2/2Hvv7rW99q42ruMPHAkEg7bvvvuauu+6yz0DZAsaIBB13nHvuuRZHT5cdoPjddNNN9qxwB7SS7EO/cg5yPBt1G2jxDumJTkCbFtwy3CA63VURGAjHVVdd1V4G7cR+EZaS1CACBJf9z372sxEviRfPmDHDWjgIKcYQA/H4qlkgAugHHnhgZltbj0d4XSLuMT6UlP1GUlggbopwXswmNvRI1QI/rwX5S2BcDtvQALnWqGNnZYmAkoSLKhXyscEZQyyhMv7L/uGAK+s5Iii/CA/uw0VbNY2Xb50upFooIJAAbGUN9aAM4Etf+tJy/4YAAZAVpVMP6ProRz9qMz1ZO+h797vfbR566CFb6FxniAAhEQjrIk+A7Ljjjvb8+p7T4B2r5ZprrnmdAJk9e7a55JJLRs8jIQmLhEJsBMkgQDxXDanNx0bFegot3i2cY4OliFMI7SkaVokAKcKs4v3MVcAORZPUxW1VDlqeGwNuxP3gBb0XOusEn7XbCN5naceeW3HkQo0B08I79UFdFSq+qiXkM+e8Knvt1pKUX67F788QlF9taftYIPj3H3/88dcJBQBWyTbSg0MXoFUtbBB29957r5k8efJy11IywP0oPDIQNriZQBWvM0SACE5cngBhbhtuuKFFGdcDy+Tss89+nQBx03gl85V5U+4wCBDPVSOFl2ARPsCYh3CWe0c+mBQChOmmaljFh4GmLn5q3SO+CHpEmjrFgB6JYY3kBcjruvzqWiPaZRdqCfls8zy3Udm9oXGOsufl/e7Tc4Q1QoDw7VDoyf/rlF8fAYKratGiRcuRgd8ff78Ej+VHDuwpU6ZYnDyEGDRysALE6u4XAu0nnnjiqDmYPIOSgdtuu60qW+x9IkB4v+726Lqw8iwQLCngo1wX1iBAai3L/95M4SF9RQQWnkO4jkaa597hjaljLHVpz2KpWBCu660oQK7dQhLnibFcdawRfYimqjHhHdJh0Mcakb0Cv+paQmX8FUtCAtNoyFntZ2WfivCvYjWW0ZL1u15bnYUn1gj3AFP09re/3d4OfcyFa/le+W2VVVaxCNxvectbMknA0th9991HlgJz+/CHP/w6t4/czB4nywmrZcsttzRbbLFF5nObsEDKBMipp55qu6oSA1lttdUsnfCHOEZWDMRHgODSwqqR4uzQdR2LIDqbCrgTmM+o2jVQPlAXklwzPWWmVB3a8wSHpB1LW1i0v7LMKjkMY6O/ahpDrJG6Qd/Qj8bHGkllCfnQqt1G0rhKNOqYcQ4fWrKuyUpQ0JYQabzi1tIpv/yduEORAOF9BLqJYxD3ANqIwuS6HoEmYiBlAoQsLALjCA9cZ1j9uOefeeYZ86tf/crGZmRk1YFkubDgD1lnUmj9jne8w5C95TvGQoBgfXz+8583V1xxheVLaNMnOQw4bPkQizTuFDEWvZgxOh4Wud4k0Og2dZIPHFpSor+6wli05KzGUG0fhtoa0R0GxaLjz1SWUNkHruMaLm5VCuj3Mnrc3/XaQQ97UnjFtew/3XMEpQV4I9C4ywRIKC2+10MjkEiShUVQPVYWFnUcnC+uC4v/X7hw4YjERx55xBx33HG2XQV9j6gDwfq49tprDQJGBmuOBaKb8SFA3v/+99vEAYmBPPnkk+aII46wdSVYMyCeD3Ugzo4AR4ueIWBmiQDBD50Fl6BvlaCxxrcSzShv08WMsWS9I1T4ufOR/hxYHGgw8vFmYVZxb1ndhO/HV+c61xqRrJ0mLKEyuvVBCD/l4K4a0C57X+jvYhFL8kPT/eKLvhP2ogSwBYxRaqXEraVTfomPkE3ZlgAJ5X0T17O+FAhSvyFN85p4r7xjLCwQimxodXvnnXfaefs0fcqruPZZnFSB7hDh5woOXdSoLSgJkHO9uK74XQD8ugAsKLSxbsxDAv1NWUJla64D5FybhyZb9pzYv2vXnuBWSbvYvNhIbBqynsee0n3koUmESVYBIs+AXr4rGsuNswDBHUcNCm4mCiCvuuoq28Ibtx0JAU2PsRAgTFJnZxQ1faqCkusuWopAt7zDR/jJtUUWVF5mFR+3BIm7cNjIXHSqMP+GJZginTnkA3TTXxG8cmi3aYHkufbygtghc65zrV7DLCgbN3YjHgKxRviuKKAbZwFC7OP66683L7zwglWkqKQnjZfEgTbGWAgQNu4GG2ww6kqY1fQpr+K6yqJUDdL7vMtXgDBngcvPw6xCq0NI8KdkCwn0CLSg7beJWSWWh04Vhh45CJlj3X7iPjzPuqYo/TV2gZ8vja5Ay0tyaKLK3rWABTq/LN3bjd1IYy3+HcHhE0T35ddwXX0OjIUAYfPRVOpHP/qRldo6piEHJ5q3jgvUYW2MQHfe+8ta5iIImR+HGB+rVDiLe0rcAVlNnQREUPzQbWJWlQXI9UEjWFtNuGV8M760QG7CGgmt59But1RpvK5AC0md13wWJYE03nG3QOqcSynuHVsBwgbFDVKUkluV4XUC3WXvzGuZy3yk14kbIBf4EbE4pJLaB05Duz2yMqHK6A393VeLlufmuT1C31t2fZlAy7s/tTXiK9Dy6ItZZa/foQWam0pcxmv9uyRQsHf5O1Af4+zCCuFdE9eOhQCBkVgg5DtzeHII82GzKWMWwcmCIUB8sryqLLDbMlcOXBGE0uqUg0ViIEXQI74uqpC6jCrz4p6s4KpPBXlKa6SOFi18SGGNVBVoWWujn1XXGqkr0PLoY9+Tpjpp0qRBgFT9wBLcNzYChCpTcpwRHHQ6FHeNzwEVynffOEXoc7le3G+4Rcoyq5ib25ujDvSIHA68N2bsIVbdRGxrpKpAK7NGoJMEgCrw/jEEWhl9vEPXtfjs05gCLe999O5YY401BgHisyANXTMWAoRCnJkzZ1qNnMYtVF8KfHQKPue5mWK8S9rBMheGhovXFeRacMT+uCXlsm7sQWurZcFVX97JAStwHhyEoUpCWbaQLy152nRWyqrPM2O5hYreFWotcb24wVIXKHJYEQMhLT8PysSHj8M18TjAmpQJ9f/zP3JaxXvv6ElUUAJUBhYNGxBcFmAINBomBUQ0RVmwYIG9hha1wBQD0ywDqBKw/QFNBB+fZ/AnSJkEz/GdXnzxxbYviAtdHntaqQSIxqzKCpBL9a6bWZWi4K6Otu8KtBRuxCr0SQKCtBMVd2Ds/cHzpMCPP8usuRRuobI5+YAz6muaKFDkuyKb8te//nUZ+cPvDXKA4k6aWrEHskZSAXLZZZfZwhgEBgQgGBAEdM0SwDAEBu4EYIw5fPbff3+L0vn1r3/d0gvQGXUeVJrTCAbMfgoHKdHnoEWInHDCCeaggw6ywGrSt4NnpBg6yyvG83WKsWQa4QLh3/mI4Ynb1KkJ6BGt7ftkGoUGyOvyztca0Vq32z2xLg1l2r7EloiZudZSbMsxdC6aL5o+LWjrxkxCaZJ0YO4T+vjeJOaI8Jd+HYK0IJAoUuPkVr0X0cD7YrVnEMvT13qSTDloYC6S0iz0kpUmlrskBeV1Xwzlc8j18u3n3ZNUgGS9FDROMOtpQysWxeLFi227SQZ/pw0jv2FZAGdMZgYdt2TgpgIrBmhmxsc//nErZKjWFM2pLsBaHsOk/iJPIvsujnwgOsUY2vl/Fo1Nk5VZJW6upnCYtDad59uXeIL2r4e6lnz55l5XVKCmBW2o378qPWX0IcSEX6kRfH3mIPyDV7qinf1dpzeKz7t9rhFMMjlEJV2YvSbfiEAQ8W+4N/lGBOW3aB9yLc+PcVYIgrWvAJG5y/zE7c63D82ceYJ6wDzZN2XwTD78jH1NowJEYJPpnoUL6vbbb7edwKQ6WibH4uO2ogITLBisEvCuZJx11llWoAA6xqBaEyC2ffbZJznkOpoGC1pVgLiZVdKbQ1J15UOWWg4OGe23b1or1NqgaEvMnU2eMp4QstFd3z68E0HbhPuljFZtLXGtrslpStAW0SiWkli7WO9N1N0U0aTjL/CINZVsRF2AKB54javFNyQdEJlL3sHLucP9MbwVYj2FChD5vlgDaJZWvVggQvuEEyCzZs2yTU5Y2KwQCtYAOPx6EBzbdtttLVKkoEhed9115uSTTzYvvvjictfidzv//PNtm1pcYFxDx0EZ8+bNs78jiBi0uUQ7hi7RmFO0huVdApHOJg4Z8kEI6q9UkPMMjVnFRhIzXAojuSdFo6IQ+oVOtDbRBsWdkDKeEEKjFEfC6yy3UcizYl6r4xwCcMl+bVujdBUAtFw0aUEpqNKKNwbf8uIvmo9ZPUckM1FoYC4ICfan6yLimtgChG8XuPqqQ6xBcZPzLNaAf+fPKpl9VWnxva+SBQLjdatI92VMVjPy6aeftu4lLAmsBxlFFggWBvERHwvk0ksvNb/73e8sFDKHB5I8lQBhk0iqqw+ToUcwuPh7GfQIH4G0gOX5Tfrty+aj/fZc6xMbKXtmjN81XfALLY6PsG36suIcrK+4sOpmulXlnfjf8xIKmqgLyqLdpUssXffaLLgW7s2yRrSLSDR6sfo4J0RZq8pLuS+mOwz+Y4GgbEAz+3lCCZAQZhPTmDZtmjn22GOtq0kP4hx03KIlpcRA+DtCQ5rQEwMhnQyXlgw3BoIls2TJEkNXLxEgqcD4pCLcp1dAHnijTsl1MavkcGFji+mapT2FrEHda7MC5NAnrUlDYCzq0qLvz6JLtLTUVeJF83DpyuJPlUyyurzzoUveIfEE9qNvQWpV+jRd0t+kLP6ihY1264ogcXuOICzZr+wPcdEB4Mh7Qr0JWfOMac0wBxRi+C5uY7JSJ4wF4rtRqA4ncwqUSayDrMHvbNKvfOUr9vA/4IADbFBLehETN6F/MFlYWCRkYeEGu//++62gYWDJAHss1k1KxFyfNGGdWYXmIIExyayCZqkglw9FB6LFb891Yo20BSNeBImiNezUh0yeFgoNeXAabmwkT6P13c8+12l+lcF86IMztTVStc5EY6alUBSq0iVrIRYG/68TJUSQ6NiIuLcRJiiAksASQ4DEtGagk/IGEo4kK47YSplQ9dmfsa+p5MLyJWKHHXYw9913n10sMS85OLFESL9lwCisE/p58BsChXRfHYzCnUUHLqwSgu9z5841NLyXsWjRIttpi/sYKRFzi9KE5cBywRvZBPKfm1nlE4gWl4JAsDcRePWhS/ivXQqpLD99YEj6pa/QasIaqVPPoa2R2EH/OnRpa0SCxL48LzsjYtCl6fPpOaJTfiXIjvXi400om09Ma0YLEPFEdCXO6PIhqQApY3qs32nZeOaZZ9rAPiMl4KEcrDpzQzTJLPBGCZDXhR7Rh0xVqAwffovGE1pwp10KsQ4ZTW+Z375sbqmskaw4R9UMppixh5h0uYoC/88erKIR63WInRiSVyCp3Vo65Rflld98Un7L9hcxC5lP2bVlvzMP0nhXXHFFeynf5CBAyrhW43eC9EcffbT52te+NhIgqQAPdZ0Jm09jVmVlVrmCo86HLYIKt1bsALGmq07gXlwe4luuepi62iVBcV//eNFWimWNhMQTQra2aOZVM6FkT7JHUsCP6H0SmlKu8cdS1eXob0QLKBEirIW4tYit8h2hLPF7Ucpv2RrGFCCsPc/DhTUIkDLOR/idxvO4vqRvcErAQ/GjorXIxivLrNJNnWJAj+hDsKomqA9oXdiW16goZJl0ALYqTLwchLo9aqy0V60Fhx6C8CEkzhHCN31tFWukSfiRvNhD1nzFaufPJgtgtatTUpK1NSLtqaVuiHMjL+W3bB0RRrKXyq4t+11qQt72trdZwSZWUhOu6zLa3N8nhAuLQ5mA+g9+8AM7v7LGTKFM0tfLR8q/+TZ1SgE9UkcTlPkUBcjr8EjurXIIcq8+CFMeOKHWiLgR4VsVwRPKUx0nKBLE2u3YBF1a+ZAK7CyLWO/RWICaoTyUPair/iXJBdpJ2BHhwn4gNsKfWCMh0CG6cjyURvd6FFPOMDKvBgFSl5se97Mh6Any0EMP2UC821fD4xGll+jMKi6WYHFRgFxnmMQOjgrBoglKdbOPXzokQF7KmJILQtJV9YEZ20WXR6aPIK7jdqzLP+7PE8TakqrjdqxLoxb4YhF3Ca5Fx88QFtDLELgWn5TfMh4RT6njAtPP17AogwAp43yE32FyXlvbuo+Xj1Qyq9iAaAcazkNScsW3qg/oJjRC/YH4aqpNaoSuX7prwIJi9QikjhyCqeIcVfak6xYURUkOwljuvSq0cY8WZuJqSaU0hdLItws4K8k266+/vi0H0HUVckhnpfxyL/uV77jIhUTdBsXTMWo1pK8Pz4M2WePQeTdx/YRwYcFkNgYuLDZBDMBDOTwwJ93uhvhOpeLZberEu0MzmGItdF4AuyuaqptJBu9ix1/q8NK1NFAE+Leyeo467wy9l/0lcaEmlBNf+rQbTSCOugDXwrc4Zdcp5rGfP2b+/N4/mxWeXcFsuPaG5pYbbrEWgyiCWUF25iEFiLoqPIsnNMRCKPl4AMp4qqvaBwFSxq1Iv4Pg++1vf9tuijqAhxK81ZhVkvonFeSCVyUHiz542nQliCbIBpQsHv5NXHqpMl9ClrDLmirzkCQJhIfAXMTQKkN4lHWt64aRfZoiZTqEVllPnSUnPc7Zd6kLJIto5Tu94YYbzJzT5pg/Hf4nY/4KMDtj3njFG81ln7vM7LrrrsspCPL9MCdtjfD/WKfMkW/ILUjldyyQWAJEV7UPAiRkN9a4FqDGL37xiwYgxlC8Knkth4ZYL0WZVYK1xHtwHXBYp0iZrMEO62ZDCIr5K9XwdZ4Z414d5xCXQMq6Fl+aXesD7Z71ZT+0qekXudF0gDh1AWcWHyUJQ/aY60ZLWSBZtK462eGcc84xFz9wsfl/u78W92C84c43mDnbzbGgrlKAWJbyy14VlF+eoa0rESBkTdVNW+fZuqqdZ/Nu9mAXx4RwYcFY/JpnnHGGWWeddeyHz3++FaZifiNA3MwqcWPopk68Tz5eFhiB0sYHnLWhdPyFufD/zK/tQ9rVoEWLkw+4rUO6LM6RBdzX1Ifsky6s+dqUNaKVAJ93Vs3GC+WzqwRAG7VhR5505OsskMvPu9zsu+++9hVuogdWk7jh5ADXBYhYVpLyKygbAj0SI9VWV7VDm7jQQ/nRxPUTRoCAoQXke0hbW51ZJYWHArct2VV50COS085mY0Px/20e0nkV5Npl1FRmk9642sWR10BJ1xTUrWsJ+Wh8Dmiepw+mJgRdFZiP1JhVLh9Cq8hDhU7IOoo7L6t4EuE1dbep5tEnH30tBvLMCmbjSRubuxbctRycvlYkdBFsXmxEUn6ZF4IKt5NUjofQnnWtLkrk+dATklJc9/0h908YAUKLW4oJ6UVShFclHwKaL5uLxRGYABaLDSP+b+k/LkJFsiPcg1gf0k0cMFkHtPY3ZwXy2jikdeWxFCjmaWhNHtJV6zlSWyNZGnSISySVNVJ0QIccNtpyj9WNURcp5mV9sQ8BYQUZfKONNrLdUPOy1vIEnQiSrJRfXE6MWC4sXZQIPV3tRsicJ4wAOemkk2wxIUJEw424h62GHuGwl8OWe0Rw6MyqkI+6Sk1G6Aco12uNSWpAyoK9ei4+roeqtNWpPE55SIesZd7cUxzSrhutLhpATB76HNCh+yQGD/VaprCsswoQ86wR4mQ6blE33tiXdrYTSoAQECOAThdDyaSRXsdiVUinLxEcgnTJByeahVgdPq6XrA9HfxxVYTzKPsi6BYqp0HPz3Ghl83F/j3HAuIpD7MK2WIe0LsKLWTdRl4f6/hQHNOtThYdlMavQvVZ0veZBVs8R7pWW07iwcL/yZ1nKbxmNuiiRb6qrzaQmlAC54IILrAVBHEQECCm9cqixGXwxq2JAj6QIHMYsUIwp6LQLL2Yas/brV01S8I1zlH3UZcpCqEVXJc5RhcbQQ7rJA1rcyVJ5Xeb+TSVsy/iqs82yeo5I9qZAjxSl/Ja9i991UeIgQHw4FuEaUnjpcIgri49AGtSzuL5Nnepq9u40QmA8ilgQS7PPegeCDp8rNTRPPPGE2XjjjQt9xHmava8bLXSpWUvdVMu3T7eOc4Qe7qE0hhzSqYRtFU3avUfv/6aLJ3WMzq1XasIaKlvzLJcZ94hli+IkSg7fAv8uyAYosmXuZf1+XZTIPkbxjVGgWDbHKr9PmBjIzTffbP793//dnHzyyXax+Bj4E+b7ZlalAMkTja4KBHsThw0bfY8pU8zSxYvNjn/+s7lnhRXMGhtvbL5x1/JZKkWHTUzXS94m9rXoYsQ5qnxIPi4jnVTQRlGn1qR1tltT1lAZX91DGotEhFqsoHsZDWW/ixXEn4KyrWNW0r5B0oDdlN+yNF94gAUiAflBgJStSKTfaWs7f/58s3DhQnPPPffYeIi04MwLkKfU7N1pycZjg5SlqroBct3iNhK7Ro+h1/xnjjzSLP7Tn8ybKGIyxmz4xjeaT8+bZ/bbb7/Xva7Nw0bezaEi8SUhsGnXS946ZLnd6iQVxF5v95DmQMOFJN0uQ7K+YtMmzxNrhPXWlm3Z4ZuKHtfqlu6M/LvmW16QXaf88u0XpeQyZ11TMgiQxKvKB3vNNdeYT3ziE7YN7uc//3lDVTouLEnVK2rqFNNnXzZV/fHmuVViu9HKaPrUpz5lXr3wQnPlXxBKuf7wN7zB/N/Zs82//du/jUzvtjT7LPql+FDWTtxV0Ni06yWLPm2N4HqQAtUudZXTmFrsxa5UOmulTvOuiX72Zd+KzsyCHoSt4FZpK1wEiWuNwHOu51zKi+mxV8jCopmUJPl0ad+4PGrEhXXttdeayy+/3Dz++OOW6RtuuKE9nCZPnjyih/oNXFAwiwWAecAQHHXUUctpy6eddpqNddAb/Z/+6Z/M5z73OVvIN3v2bGt9gH0jBwobUDIYxNzsAnhfVhaUBOKgwf2VAQAAIABJREFUryyYWLbRQ37Ps0BOveQSixUkLsAYjbBC6Cq7VhIl4BsjdZyjjB5XS5XDhn/vElKBWwMjbtIm91ye0JVvU3eelHXmT9fqDFmTOtfqWGaWuzbLvZpnjfAslFvOALFGtGXFv/elGyE8bUSAXHbZZWbttde2AoMFuOSSSwyCgKDtaqutZtd2++23t5YD6bhZ44c//KEtEvzqV79qaz0oDDr44IMNGvSJJ55oXnrpJXPQQQeZ2267zd4uLg2BLRc3Ar/xsfgGY+tsvKJ7dXBYYjah1b0xaGPz7zl1qnnu0UdtDGThCiuY9/wlBiIuoy4e0JK50zUt1c36gj4pQE2V1u2zD4osyKIAts+z615TFrzXccQmv5EQqzsvBqatEZRYhIWg/EqiD0F2CZLzPfLvxEAYfINjb4FkbTBMNFxPVIWKAPnIRz5i/vVf/zVzP/7DP/yDNe1uvfXW0e977723WWmllcyVV15pBYhAuhP/kIOFTAgWoYuHoLhioE2yONrw87qVurvvvrt1u0hSAfzjmra1/Lw4h9ZS24KTKYsN+SYB1D2M3ftdnuUVKerDsilrpIxn7lzKLIGYvBNriO8xpLAzLyNPBInbcwSXlkb5lX3Sh26EjVkg7sJiTSAsnnrqKeuKEgGyZMkSe9i/853vtILlk5/8pIVnZ1Blvv/++5t//ud/Hj3urLPOsgLl4YcfthbHxRdfbLB2zj77bLPWWmtZS+eUU06xG0CbwG0c0kI0dLp1Jgg7EXRtHYCi7eT1M5HgsMYJivnBlj2rrJ5DZ6ylKnzLojFUS62SklzGm7zfq9RN6GSPVJlieq1Cg/daIKbYi1pIVW2nnCeM89xaYnVwLmFh8f9jIUBmzZplvvzlL4+QK92NjMuJjCg9li5dal1Vf//3f7+cu4pmUOutt5413R577DHzsY99zKy77ro2psHABUaKLoWCMubNm2fOP/98K4hkPProowYN+uWXX7Z/8jtWStsHIPQVBcj1R9WUBqiFmhuYzso7F7cb8xBrpOrh5ntfaD1HEwcgtPtq9lnzTG2NuNmFoQFoN1Mr9P6itdWpxHWyC7X1EsM1GKII+O7dvL2YZY3ItyW9e8SFxbvKuiH60pPiuloxELRm6Y6WRRzSlLaMMp5++mkzZcoUa0lgPRSN++67z+y00042oAQDyywQNOdLL73UBudpLkWLWyydK664wkyaNMm+SmsXTWr6IaZ603harjXk0xpVDkDRHlNYdHU+6NTumCqavbvXYx+AItRQBHRzpzoFaDGFccg3EHLQ6cyoqmgFKetztGLItyXtnPOsEeIf0sxOeo4gaLs6agmQkEmBhDlt2jRz7LHHmn/5l38pvVUECFXSMJAYCH8na0iGjoG88sorZvr06fbZU6dOtZc88MADNouLd86cOXNU+NNUDwodWAsJ/un7YmhXWcyuewimEsZ5cY7SDZNxQWxhnOIQjGWNuJq99LSowjd9T13XoHuASvprXbpcGqU2IyROF2rd1qFZfy86m0wH2SXhgrXkvBB8LdxZXR2NCJAHH3zQZk59+tOfNscdd9zreLFs2TLz05/+1MZFkLr/8R//YQ455BAbH6HCnIE1QaYWWVg0jyILCzfY/fffb62TvEFVJ0KERaFGhOA9I/bhkvXR1dUEYx0umraYh2Ddw8Vds7I4R5WPSFsjIYdL3iEa6rP3oVnWRFyDIRmCMdeziNYq1ogWaqniKZpmX0iZJoRaFi/z4jfaGuHMwKIn9ivV7mNvgeywww4Gi0K6d8FcmIS1QJCbug6qnollwDSyqPbZZ5/lgujcQ8CcwPqzzz5rhcvcuXPNXnvtVfqN8pGR8XXuueeaCy+80Gy99dajuI1oLjE0/awAeV1NME9zKZ20c0Edl1DZu0Kq7LOe1YQmmFV7UzYvfk/p3nDfH6IwpFzPPL74KgxaqFUV2j5rk3dIyzedFUtsWqjl7Xc3tZvrJDUdnonQ6HI3QnuO/w+7YkzGk08+aa0WBBqCS/z9MXz6OkBeNXuj6MMVGkMzjOoEe0O2RZW4Q1UXXwhdriXh6+poC36kTGFwlZQmNHuX39r9qWOJbQi1vL3g4n6hsMqh3bRQy6NRvmkdQ2Q9BU5G9gJZqV0dYyVARMpjxeBWo35E0oir+vSbciFAe6im3zQsitCI71YwjPKyuTQigGCWNfWRFGn6WqhJEWrT+FBa6Atci/SdkPbJsZWUUN671gjrLP122hBqZdYIv6dwP4byTV+vzw7+/Ve/+pVZZ511rGKLS/8f//EfbeyWGG5Xx9gJEBaCzf+d73zHzJkzx1oi++6778il5Rtgb1p7lg3k49MX7VkKAZtOAyxKAkgV7A39wKCRmgyJOwgaAAd0V5BftWtP6GtLqBVp+tLSVWcZha5Hiuv1XpPnd0G4ZcVCWGuSgl588UWz2WabWZQOYrZbbLGFPZu6OsZSgMhiELw/9NBDbe0J8RFJOdYBdjc1UDQvwYZqWnsW2rPqWrqgPeuNrjV9hBg80zUkXfgwoFH6NnQR+dVFK9AujjYPFdddJRlEXRAiWTEYeCW8DHUDx+Szdv/pbCxovvHGGy2iOJiAxxxzjC1JkELqmDTEfNZYCxAYycJ94QtfsPUi1JFsuummlr9ZWrRbM1E3QF53IUWL5hDkw4U+DURX9/kx7tfQ3F0CFZS1F7+49IyR3PsYc6/zDNf9KAc0/GwLVFC+C9Hs4ZmG+SiL39Thh8+9PtlVeQe4z/PrXKPPEze4T/IQ7qpVVlnFnHfeebZc4fDDD7curbvvvtuianR1jL0AkYWhgp3UYdxZpBprcDPx6XNt275nvZEkoIorhr936YB2g/cIWyyQLmioWcFe6SIncNtS8NX0h1sUUxOetkWjTizIayLWFo0h2VUujSlqU2TfuN+B9liwjng+FixYYP/ceeedR+4qsUjITg3pZtj0fh0EiOI4vlzgUvA/EmDH5P3mN79pDjzwwNHCauTMphdLv8/NEmKTiSBp28+bF+fgo2gT88snI61qMkXdvaC157Jgb9Oavha4vu6fpmiskzKcmsY8gQs/v/vd79qShBkzZti2FF2u9Sja24MAcbjD4l5//fUWtJHq9j322MO6t0SDRotuMw2QTa8BDzVOkT6EmsbTgo06eJ/HIzd7JybOUtFGD6m8b5rGKvhQTWj6Rdqzj8BMqemHCNwiWrMC2nWz7ooE7vPPP2/PFpQ9wF/B+OvzGASIWj0+ZCwPKubf//732w6H/HnmmWdavzOjakFa3U2iN2VZF8WUVfZZ89D+XV/IFt2DoqzFbx3e1UmzrlJ9HUJrjALKVFp0iMAtm3NsGqsIXB8aY/Rt0TDw2l3Fv4MUDvgsLSsolK4rqMrm1MTvgwBRXAY5+Oijj7adELE82Ph0PLzppptsR8UNNtjAXi3BazZy6oCmj9ul7FCPUWWf94469RxaKMa26mJqqL6p3b4fbFYMps5hojV9XxdTHq1aGaj7LP0OvY91bYsvz7iujjLg+54QNAD9zDxlgHkDw3TSSSeZ7bbbziKQo5hOlDEIEGclEQpu0IoNcNhhh1lAR7Ij5GPnYMEUjfmhaXJiFAJW/SDKNnjMeo7YVl0K+JEYFhOHSV4GUxm/fX6vE2Oq667yoU+EQFYf8aL7RRkQbLnUqcyiIPo0UdOKimt94wLHmwECBr2JQAnvQuq671r5XDcIEB8uGWNT66gI/e1vf2vTfldeeWV7p3y0bKRYrpjYmlbMwLBPnMOTpctdpjXfqhZTavgRbTmExphiuoR8DlvcMb6KjZva2kR6uq9iI0oUvK/TP6TKnpRaq7zC0rzML7636667zuLukZ6L4lkHVr8K7U3dMwiQAE5LgJ0CH9LuaJiFRhHLFRPbtZHlQqhqMbmujVR9mn0PFndugnHVRKW2L+orNKZyCZVtW5/4jU7ICBWIZe/3+V0UJSku1SjEbdMm9Ov1Ex7Jv2VZKCCJn3jiiTY4jitcFE0ffvTxmkGAVFi1X/ziFxajZssttzSf+tSnrKbHyKoO93l8U+4DaAnF02qSNuGVb9DVzaBBQ21K09MHS1b8pk3a9OGXVX3dBdr0d6GVBngplmSKlrU+32PWNfJti1Lgplr/8Y9/tE3yFi1aZC0PWlNMNHdVFl96KUCuvfZaG9R+/PHHbTxiww03tGX/kydPrro/gu9j05NNAaYWab6AoMnmEowlnwC79tdLVW/qjedrMcWMc4QyuCww3CZtei7azSGwN0Ibc5CanNRrWsRfrTSg7LDnENJdoM1VGuAdvGqqZbLvvhQe8ieDwuPNN9/c0nnHHXfYs4BC5BNOOGGE8u377D5f10sBQjocJiICgwUkQHXaaafZAsDVVlutsfXggEDjmD17tjn++OPNQQcdNOp6WAa/niqWEDL5PIupC7Tpg4XiQzmMURgk3bINt0sWf3XQFa0Z/nWFNqFXH4BdQiwQpUtckAIaWVZMGbLP61yb5cKCl7vssot56aWXzJprrmnoGHjBBRfYv4/b6KUAyVokOg3SNGrPPfdsfA0JrB9xxBFWc7rooossOCMjy13kFgKmiiX4MkEOP/FDQzNujyZiCSE0SrMd7vGtNfF9ft3rdCYOz+rSAa1p41BmXeGlto7qzr/q/XmuNC2QqyZUVKVJ7ity3cI/BMbChQvNj3/8Y5uZifvqzW9+c93X9u7+CSFASLPF5wgomfT3aHolEAxXXXWVFSDAMG+11Vav63qotasm/fVlvNAfLEJQNwkquzf17/pDloSFrsCtM3c3ZVgspCZqhMp4n1dwp4VKW5aST+ZXlYSKMp74/F4EQUJnVVpA0Fb71FNPNVSWI0Dokso51OXmTz5zD72mUwJk1qxZtlJTDgp3MmQ9Ueynx9KlS822225rOw1SpNP2IC4DLdOmTbO4WhwoS5YssYKND5f/B0+rTuFYzDnqQwbtFOuD0TaelrbgEM46hdO3q2BMPrnPKksZluC1uGKajIH4poH7ZGrF5mGWS6iIN1q5iV1s6s5NxwbdFGjcVbTg5k9c5uuvv/7odvgNZh5Cpcl1jr02VZ7XKQGCr5vDIW/gupCeHVzz9NNPmylTppj999/fmpBdGZi4n/jEJyyuPx8pTWIefvhhq9lLR7m2tfy8OEcXtFOfA7BqxlvdPeIeMkUuSN9ssro0yf167XzdfHo+Ka2RuplfYo2geLk9emLwT0OQaIh69tnVV19t5s2bZy0OiXPGeOdEeEanBEgIQxcvXmy1fIr70Ay6NMDxR4DcfPPNZpNNNrEmLkJOLKvY0Bghc9caYFGcQ+Nppfhgs2h2/fVlFcdu/EbSqUP44XttkU+86Bll2WS+7y+7LgTOPOtZMSrt82j0cVeVzY/f9d6NZY0UQZBIW1l6BIGHR5x1GMtzoJcChH7mf/d3f2dhAujd0aWBpQHmzfTp083cuXNtNg6uOXyjZ5999ijQ1gbgYShulf5gUwcz68CPiHaayl0Uo4q8DsxI0f6uA2fuPje2NeIqK7GQl8sqxH3OgyJr7fe//71Ny0WA9KGtrM98U13TSwGyww47GIJZaMZsBAbaPZYIAa42B5ubHHHpbAgtfOQE17/0pS9ZRE6sElejSnlA162Z0Ad07OY7ZbEE37WMCdci74xdDa0PLV+Ykbz568Pe113ly8u61khVa82XvrrWSBEECV4DFD1aygKs2uVmTvCh7Zq4XgqQkI3WpWt/8pOfWFwc3Fm43nTXQ4oPY2vQMes5Yh/Qvq60kPWLdUC7rrTYGXOhaAAuD+pYa778rGqNxLDWfGnkuhBYmaLYGoCH4Fa9613vsm1lV1111RAyWru27Zq4QYA0vPR0PaRa9Ze//KWtpmfDipUiKKV1A+wpDmfR+rKgMUJYWDeY6vOuOgd0Xuqrz3tDrqlyQMfoHxJCY8gBncpd5UNvWWzE3XM6tkbiDi0bvvWtb5nzzz/f7Ljjjr3PpGqyJm4QID47NPI1bOhbb73VVs8TnJs6dWqUALtozmSBpayVqOriqOtKC1mG0AM6ZiwhhE6fWFhKd5UPrUW8bMJd5UNjnrBzA/i4+0QZuuuuuyyWHR4B2soSr+z7aLombqwECEF3iv2AZidGASy7NIlqY+M899xz5mMf+5jNKT/jjDNGfZGrZEA1eTjLByjV4WUZMW0dzj4adNuHcxEvoS1l/5DQPe+6i7hf0tKlTqftOghtjeTBypAlSVtZ9i9B8i62le1LTdzYCBDMVAqAMFXXWmstW3Q4f/58W72Oy6itwUf52c9+1nzta1+zoIxSoORmQOWlqMaMc1ThQVE9RhcOZzmgpfhQA1x26XB2hR0HMgcc69uVw1l4iauVOAyjbjJAlT1XdI8WupJgQx3WeuutZ2m+9NJLbeCZ77/LbWX7UhM3NgKE3ubg9BO8ZvBhAryI35PioLYHqcngafEfgXapVM9LUU0V56jCB2jRCMQkA+iUYV2YVeX5se7RxWg8U1e4t605yxyhiTgZf3YJU0uEh7ZCWPeUrtLQdXchSNiH3//+981ee+1lkXJ/8IMfmO23396cfvrpE6qtbJs1cWMhQHBZAXBIZTg9PGQQewAKnuZQXRivvvqqTR/8wx/+YK2llVZayZKlux6iQfOhpI5zVOGHtPiVw7hLmnOW9gwvUxYfhvDQjSXgq2+qhasPnVn4UOLCYt3L3Jg+76h6jbZ0XYvo5ZdftvVid955p1lxxRXNDTfcMEqjr/q+Lt3Xdk3cWAgQfJ7vec97bP+QSZMmjdb/ox/9qNVEcB11ZfAxYGLj1iKdEJwvqWAX14H0S9Ad3NqmX8c5RIDUzSaLNaesQK8EV+EhgqRNCyQv9VVbdm0J46LDWdYnJJU21prKc/IgSOApbWWpvzrppJPMwQcfbOGOcGXjvgKnbiKMtmvixkKA9MUC0RsanC9AGbfeemszY8YMa3az6bGY+GhSYQKFflRuzYQcxhJgT4mv5EMrhxvxj6wGSqmqw33oEotIt+LNq9RuA5XWDeCzrkXdHstSaX154ntdXmIGdEhb2XXXXdcWBeq2so888ogBgBUki2HU58BYCBDYlBUDoVgIXP8uxECylnLZsmV2o7Pp9913X9t1EUgUN+YgqYn1t4P/E+SAEfDLLPTeKtlk/hQUX+kDyCiHeN3allCaq6S+NgnMmAdn7jPPrA6NPvf5XqMVFrcCH9cvVsb9999v28pus802rVqWvnPq83VjI0CIcxBXWLBggRUmYN1g4lKB2mYWVtbm4QMm3fiTn/yk2XjjjW2eOoKOJIADDjhg9FFIzKHpTJgQ+BE3myy1263ogCn6UKvWtoR+/HWABUXw4MpM4Xpz3VVVm52lskaKIEhuv/12mwpPAsqcOXPGqq1s6B6Mef3YCBCYhhuI6m80lc0226z1OpC8heSQQVDgt8UCwT9PMPCwww6z/noyx2ijydABdgRhkZuh7sapk/mVGvCQudWF+NAHaOygcExcrdiwMpp3El+LgQEVC3K/yJr8xS9+YV277H2ULGKdw2iOA2MlQJpja5o38SHRl4BcdqypzTfffBRg9y3qq0KZaPWSFVQVGyrFwcd8YtfC6KBwXSh77a5CuFflnbtu2tKqY4HqNcHi4FkxEwrE3YpwDwUMdXmnIUjYi7ipQHTAbbX77rtHpbvKd5J1T9eKl2PNS54zCJDYHG3geQQJqWDno8GtJdpiLI1PTyF2hXusgw8aY7lcspYshuutKIAfa5to3K+QLpKad7HRfLPmFpoIUARBsmjRIttvh/0PAjcdPrs4ulq8HJNXgwCJyc0Gn0XwGvweioiuvPJK8+53v9u+PVaAPTX8SJ2YQ5UgdNWlCT34xK3I+nBvE1loWij7vK+uq68qL32sES243bn8+te/tgLjN7/5jbXAP/CBD1QlpZH7ul68HIMJgwDx5CIaDwH4Z5991jaFomnUOeecY1ZffXXPJ8S/jI+NAikECaBwe+yxx8ilJQdfqHujSc20SrC1abhwEQiClKyhUIrcSgLNL4gC8Vf/9U8sE8ptoPn6WiNFacNYciSVUK8FACnxwSb5WmXt+lg6UGWegwDx5Br9kEmlpQ4DnBqazfzsZz+zXcvaHmD94NIigIg/WEz6EFhzV6tvEn7Ex/UWMwhdZb10BlSWUG4KBr6Mdq0AiAbPPRIja8JdVUajtpTFSoN/LrQMc6GHDn06iPeRxt6XtrJ9Kl72Wa+8awYBUpF7dB380Ic+ZH7729+OMqIqPirKbQgLslBITSbQvtFGG41cWi6QoBskbUOrz9LeNZ6Wht0mXbluAD8KkzNgZdCEm3RX+c5DCzQOYtY8JEbi+54612mXltAn605bWSrG+c5AzJWEkTrva/LewQJpkts9fBfuKw5q0gi7NOjJfuihh9riyNmzZ49M/Swt37fYrqn5uVo+biApVBQoj6ZoKXqP1vK5rg13VRkftLuKa31iI2XPjPm7hiCBNgTGLrvsYpNCECYEoAE+PeqoozrfVjaPL30sXg5d48ECCeWYMebuu+8206dPtxDsO++8c4UnpL2FOheKqZ5//nkr5FZZZRX7Qn2o4IZBs+/i4SfCjoM6NIaTlrOvPd3V7ruESKsD6uKuklqhLsDfFCVnEOOgVosaJ2J7uIv7PPpUvFyVz4MACeQcG3vmzJnmy1/+sg1ad3VwkNx00032gyQugqDj31544QULIMnfU1Qz1+GHG8BHE0XIdUV7zjr8mK+4CGMXH4byMq9Sm+f4ZECFvi/k+izBJoFwYopY9NIh8Ktf/aohVZd+38Qd+zz6UrxclceDAAng3Fe+8hVrVt98881mp512CrizvUufeeYZC8pIQx0AGkmB5OPE8iDmIL7nlBXsZbOXDJwsXK2YRX1ldOT97pOZ5pMIUPX9ZfeFpFxXSUsue3/Z73mCDb5++9vfthmEZFZRUY6yIMoPBbNY+21gvZXNafj9NQ4MAsRzJ5B3zka/4447LEJuX8bvfvc72w8BbW7y5Mk2MLnFFltY8mMUy9Xlgw9wn0tnkz08QmomdA2OWCN1+VN0f5FWX3SfCBwO9qK05Lq0F8XYQMSlrSz8JUhOl1B3SPC/Lh3D/ek4MAgQT95ibqMJoSHJ4Yv2TovcrgqUhQsXGnqebLLJJjZDC2FCUJLgOlZJWddDT9ZUukwLBd84RxN4WjKZOjUTTdBZ5K7yXRBBIZY4WCwIE50SjmWrIUh0W1kATWkrG+u9vvMerovHgUGAxONl555ELjp1KhonCCFCDQuHB5ofXdoYqXCqsrRK3e62rM+Ee39qOn3cVT4LnYrOEHdVKJ0xrJE8tGH4SkdQil5pgoRV/Nd//dc+JA7XdJgDgwDp8OKkIo2P+ZprrrGpkgDSYUFJ10PRSlMErmNhQ2nXTSw63UroGIWUmk5fKytvzfWzYmfOuenTeY2tytxpec2xQJKmgpyU9y984QujGqVU+zv0uV1EmQidQ1vXDwKkLc534L1PPfWUdWX97d/+rQWnk2Bl7EZQqepNyqA7fFnsE4fxfVbWdSGIAFn3N1XlrlsD+BYduoJXW5TMm/bMWLoEyGfNmtVJCJIuo0zU2XdN3DsIkCa43OF3YHHQuOqBBx6woIzve9/7LLUxAtcptWZhqaYzNI1Wu6uwEKo2UPJZXv0uX6spleAtsyR8OzTmCV7mumTJElsUSPYfbWXf8Y53+LCpE9d0DWWiE0zJIWIQIC2uDsWI3/jGN2yqIn7htgYf/He/+11z/PHH28yY/fbbbxTYrBoQjhHkDeFHSBqtDvI2XQSo05Lz4j9NCN4y3hZZTUWClyLWuXPnWoXkoosuGrlHy97Xpd+7ijLRJR4JLYMAaWlV5s+fb66//np7cPNfmwJEWECNCC1BqQQ+77zzRkHOENdGneylukvhk57aFdyvPHyyptxVPrzOspokjsX92s0F71GGADykc+Zxxx3Xy/qNrqNM+Kxbk9cMAqRJbv/lXWRHbbPNNlZLA0G3bQtEs4CDgAIuWv8S8KT1r7i0iroexspeqrsceQHhKmnDdWkpu18X9eHWwnXUVA+RMtr07wjd//qv/xrtA9dV+J//+Z82xkGbA9ot97WtbF9QJkLWLvW1gwBJzeGM50+dOtXMmDHDgh7iQumSABFyH3vsMQsRj5sNXC2pVHcrw8nekn9jLjGyl2IsiVhN/Cm4X027q3zmIRYRf8Ljui10fd4Zco12p8E/6GS/7rXXXnbdyeIDEw63D2CIfa3p6CPKRMg6prp2ECCpOJvzXLR7TH1wfxhdFSDQBtTJSSedZB5//HEbYF911VVHWii/oS1DP4eMoOV26QDRoIxd6YOht4VOa4Y+LJAu4ZNlxbHoCrjjjjvaoDjxDrCq6BKI4Ovr6CvKRBf4PQiQBleBPHhcVz/84Q/NGmus0XkBIq4rBN4pp5xiqBzebbfdbA+U5557zgBXzejSoQc9bvMpNHtiDgi3Lmj4ec2xtNUEndLrvsEtal9V1LwLAULaK83UwFYD4eDwww/vreUhSlzfUCaa3hN57xsESIMrAYLvkUceOULD5dWvvPKKDVrvv//+Fnq9q4O4DS4tqofvu+8+s/fee9vDg0MZNFWsEA69tkEZpcodOrCKhB7BqeJ3gr9N4mnJmroQH5o+fU3KYs6i/VUEQYI1ghXKf2DCAZGDK4ukC+Jkt912W6+FSFe/u67TNQiQBlcILRjtXQ96qt94440Wbv1tb3tbg9SEver73/+++fjHP24tDw4MQBmlX4MOoIfWYoRRkX+1b5V71bTkunTmQXzkPTdWkaQv3UUQJD/+8Y9tW9ktt9zSZlnpfUojKJJBgMsZxvhxYBAgLa85GnJX0njzWAHkCQIDXzfFYRRa4bY45JBDzBFHHFHY9TA1e6sU26XCqcqaq87+8i0g1NZIUeZbDN4WZaeBm8a6L1682Fx88cVWcehSjCvG/Idn1OPAIEDq8W8s7sbXjWWBtSTqg3lSAAAO1UlEQVSDns/k+lM7QmLAyiuvbH8SV1FqqPC6xXYp8LT0ZvBxV/lunhQ9UYogSBCwWMXSVhbwzTZdk758Gq5rngODAGme5xPmjRxCdI8744wz7GGz/fbbj0AZxVVUF0Qwi1kxi+007lcoMnCR+4ksNQ5iKbarq7m7MRyCvlWfqS0wN3uOjDsy71AWWNN3vetdnd2vXUFy6CyDGiBsECANMHmiv4LsMkAZaVQF6qr0TKkLIujyrYq7yof3Lu5X1cO5jrvKh06uqdNRsAiChEQIMKtwp5IcAcBmVQHlO5c613URyaHOfPp67yBA+rpyHaObgw1LhBalV1xxhVl33XVHLi3x40u/idCDSbubUtZzhOBp5bmrmihW1BaEbw+PorayNEWjP8eBBx5orQ9RADq2xUbkdBnJoas8S0XXIEBScbaB59KgByTdhx56yPqoN9hgA5sR09bgoCfFl46HZGwdfPDBtQPsTYMyhh7ObWFr5UG2FFltboYcGXWAZzIHINelrqet/eP73j4gOfjOpe/XDQKkpyuI8Nh1110NVbRUA6OZk265+eabtz4jUpWpd+GQ42CStM+Q7KfYnfdCmOJzOHcFWysP6LLIaqPOhMSH6667zlqN1PSEWoUh/Ix5bZ+QHGLOu6vPGgRIV1emhK5tt93W5uUT6Ozi4GC7+uqrrT8dWO8Pf/jDXl0PuwLKCE+zYjg6u6oJd5XP2roZZVJ5z70aMZfrHnzwQdtWdqeddrIFgX1qK9tHJAef9evzNYMA6eHqkeHDh09x17333mtAQ6URFF0F0Sa7NMjqoYKdQkncJQLPkZX9JFXk7sHX5nzcwDN0Ixy7iv0lqLlu9hvp1iQ4PPPMMxZlWYpA2+Rt6Lv7jOQQOte+XD8IkL6slKLz+eeft1ha73znO82CBQvMBz/4QQvQCLwEMQgsky4NgugIN2I1BNjXXHNNS552A6HNy8HM4dcll4pOoYWuN73pTZ2qi3BrTqDxm9/8pgG3ikJPkGYpBMTyoPgTXvdx9BnJoY/89qF5ECA+XOrYNRTxEVcA4JDubzKmTZtmNtlkE3PWWWd1jOLXhAUIxCeccIKtaMdSwpJ64oknzFprrWXpxToBT6srwsMttsPqkJ4dbeFpuQubB0GCZYrwgGbiYgiQPrWV9d3AfUBy8J1LH68bBEgfV80Ys84669jWs30RIMLml156yWrBCAoskr/5m78xN9xwg9WKESgciG0i0Qqdef2++b0tPC29VYuC+CgYZ555pk2qAKgT9GeAOulBM4yBAzE5MAiQmNxs8FlkN332s5815PBvtNFG5o477hi5sKSLYIPkeL/qqaeeshAogDMSWCcNWXc9bAuJVibgxjzQ4LMsopCMMm/meFxYBkHy9a9/3QoPsMpIpSY775ZbbrFZcSQ0UPA5jIEDsTgwCJBYnGzhOVQOExB99dVXrUVy+umndxoVlbRR3Cp0YqS3CAFd4MDRjI899thRXEEH2Jvq31F0MOctbWo8Lfe9RRAkJFJQBPiWt7zFtpWVfjPyjBdffNFaI31u/NTCJza8soQDgwAZtkhjHPjlL39phR1BfxlkDYHwywFIgF2wl1x4kZT9O4rcVT7MSYGn5bqrpJofPlApLoFwAstYFvTjIKWbOFhXYkg+vBuu6TcHBgHS7/WbENQjLOirTac7+k3o3top4w1F2FChjI2Fp+W+twiC5Hvf+55NSNhzzz3tnwT2hzFwoEkODAKkSW4P7yrkANAa1Ix84AMfsBXSciDmVVvXYacIJjR54hyx2sfWATvU8ymqxCc9l5oamjmBRDBp0qQ6rEh2b9egdpJNdIwfPAiQMV78Lk4ddxDJAbfeeqt1aa2//vqWTG0t1Ol6WBRHiMWPUDwt110liQQucCTWCDz54he/aKvIaYPc1ZqOLkPtxFrn4TnGDAJkzHfBsmXLzJw5c8w999xjaxzQ/qkjASqlzcEBRMD9sMMOs0F3OSirNldqGiLFB0+ryF0lle4iPB9++GEbJN9qq62sddbl9sfQ3HWonTb39kR69yBAJtJqVpjLPvvsY15++WUbhH37299uA7Jkc+FOavuQIuBOdhZ/4qqRQjipDPftetgmRIpPT5SiPiK0lWU9lixZYosBN910084HyfsEtVPhkxluURwYBMiYbwcyotDwqRlgkBUFzhbFZ11A9uVwJf0Xq+i8886zmq1kGWExcVjldT0UVxKCpo7bq+4WyXO/uRAk0CitY6Gdbo/MmbU56qijOgWfUsSTvkHt1F3fcb5/ECDjvPrG2EPqyiuvNNdff71ZaaWVbA0BPvbHHnusU42F6MtOEdzWW29ts7UkrVcH2Klx4ABu2l3lu4WkYRXuOFJxSc3NansLACVAmdRynHvuuRbzrE+jj1A7feJvl2gdBEiXVqMFWnBVod3SSZBMpBVXXNG6s6gS79rAFUXnPOI1CD3B0HIFBm4jhoYy78pcEBhYefzpYn/x7+ecc45tK3vhhRea7bbbrvPuqjy+9hVqpyv7pC90DAKkLyuVgE4O3rXXXtv2v8bywHV15513Wk0fVF8gUro2oJn6B2IjADPShhWXFnESrA+EBxq+WCNdod+tdCfDCivvqquusr3I6SRJrOOggw6ywfKUhZNN8KSvUDtN8GYivWMQIBNpNQPnQudAAtM//elPzcYbbzy6m0At0PAnn3xy4BObu/yVV16xGVocxNRBEGBetGiRbcuKa8g3wN4ExXmpw/T2njVrlq3CR5DPnz+/N21lffjWN6gdnzkN1yzPgUGAjPmOAA138uTJNlj75je/2fYXAeWXfhLbb799p7lz9913m5kzZ1qLA1BGLCeskSoptCkmWhSLIQGAzDJiT/Rvuemmm6zAZh6xihpTzGl45sABzYFBgIz5fhAQPlqdorkTuKUuhMysrg4sp2OOOcYKO0AZccFhjey22242+Ky7HpKlxUHetEurCIIEJGIqyenSSEEggvvRRx+17jiENoJlGAMH+sCBQYD0YZUGGpfjAEKBDod02FtttdXsb4AKcig/8sgjtlpb0GhjVbD7LkERBAlFm7SVJXEBFGWsPz2YF7EcAZT0fedw3cCBtjgwCJC2OD+8NzoHEBZYJbiCOKgBGZSaEUmhJdBOdlZsCBAN7e5CkBDYp583lgVCDryv2O+PzszhgQMHPDgwCBAPJg2X9IsDgA1ySK+++uoWV4se5oxUTaC0u8qFIFm8eLGFq8fagBZqbYYxcGCicGAQIBNlJYd5LMcBhAWwLNdee6257LLLRllmMZtAFUGQUEwHND0V/RdddJGtq+lin46uYqEN27kfHBgESD/WqVNU3njjjdaHT+D3j3/8o+0Rrl0yaN3Ab9CTGzwt2qtSANjGgAa6HhKgJvAudNZpAlUGQUIhJr3qAYOED13OquoyFlob+2V4ZxgHBgESxq/hamNspTSZUP/93/9ts5+0AEGgrLvuuvbQJsOIHug0iKI47vjjj2+Ff9BEZtnSpUvNvHnzRtAgVZpACThiFgQJcCtkgVHNT1o0LrSuj65joXWdf+NO3yBAxn0H1Jg/hXs77LDDcgKEYDGB4hdeeGGk7VOVTKHfz3/+8xpvq3crwuLmm2+2lhDWwZQpU0YuJZ+uh1rYuOCNZIAhMG6//XbbVnbq1KmddFdlcbAvWGj1Vn+4OxUHBgGSirNj8NwsAULAGDDAb33rWyMO0Ntjm222sSmq1Dy0OZ599llbcAhMy2c+8xmL0svIC7C7ECRkcAliLr+By0U72b333tuccsopvWsr2ycstDb3zfDubA4MAmTYGZU5kCVAcGkBCohmK+OJJ54wG2ywgXUhSd1G5ZdGuJGsKawQLAZqRtZbbz37VDfATjou1gVuK8mukkD4iy++aC0tguWk5+K269voIxZa33g80ekdBMhEX+GE8+ujBSLs4PCk+v7II4+0aMSHHHLIcl0Pie9wTVZb2csvv9xcffXV1h02Y8aM3tZ09BkLLeG2Hh4dwIFBgAQwa7h0eQ5kCRAAAakQ1zEQ0ljR0tuMgeSt3e9//3tz9NFHW0uDOA3AkmRu8W9kbJFRhtuL/uMPPfSQTQYAO4y2sm9961t7vyX6jIXWe+ZPgAkMAmQCLGLTUyBeQOAZAUKG1R/+8AcbFyC4jPsKdFyysGj8hNAQjKq2srDK+IOlQaAfSHtQfqH7uOOOs4Hwu+66y84FFxxzvvTSS82HPvSh3gTJy+beRyy0sjkNvzfHgUGANMfrCfMmMq2AIZd4AAcwf6dPBy1n6d89e/Zsq8mjpaPNAy3SxUF8g0JDUHAp9gOPCnRcAuMIRdByaV6FkERw8v+bbbZZF6cy0DRwoHEODAKkcZYPL+wSB6hWpygSF9u0adMMMOsIu+985zvWosKaIjWXvin8CfovLX8POOCALk1joGXgQCscGARIK2wfXtoVDhAsJ9Yh6bzQJS4tIODJKtMQJD/60Y/MKqusYt773vd2ZQoDHQMHWuPAIEBaY/3w4oEDAwcGDvSbA4MA6ff6DdQPHBg4MHCgNQ4MAqQ11g8vLgJlxFUEmi2pswS211xzTXPCCSfYeo2JPPoEVDmR12GYmx8HBgHix6fhqgQcKAJlBArlN7/5jdl1111tAPvee++1DaKAZ99jjz0SUNONR/YNqLIbXBuoaIsDgwBpi/PDe0ccyCpIzGLP9OnTbfCazKmJPvoEVDnR12KYXz4HBgEy7I7WOeAjQMCcArPq7LPPNjNnzmyd5tQE9BkmJjVvhud3hwODAOnOWowtJWUChApw3Fb8SX3GOPQT7ytQ5dhu4jGd+CBAxnThuzTtIgFCAB3XFQi6oOdSmzEOY7BAxmGV+z/HQYD0fw17P4M8AQLQIThaBNFvueUWi4w7LmMiAFWOy1qN8zwHATLOq9/y3ItAGZctW2Z23nlnC2J43XXXjZo4tUxy8tdPNKDK5AwbXtAqBwYB0ir7x/vlRaCMpO3SMVBcVgIn8pGPfMQsWLBgwjJuIgFVTthFGiY24sAgQIbNMHBg4MDAgYEDlTgwCJBKbBtuGjgwcGDgwMCBQYAMe2DgwMCBgQMDBypx4P8D45cxzND/ZrwAAAAASUVORK5CYII=\">"
      ],
      "text/plain": [
       "<IPython.core.display.HTML object>"
      ]
     },
     "metadata": {},
     "output_type": "display_data"
    },
    {
     "data": {
      "application/javascript": [
       "/* Put everything inside the global mpl namespace */\n",
       "window.mpl = {};\n",
       "\n",
       "mpl.get_websocket_type = function() {\n",
       "    if (typeof(WebSocket) !== 'undefined') {\n",
       "        return WebSocket;\n",
       "    } else if (typeof(MozWebSocket) !== 'undefined') {\n",
       "        return MozWebSocket;\n",
       "    } else {\n",
       "        alert('Your browser does not have WebSocket support.' +\n",
       "              'Please try Chrome, Safari or Firefox ≥ 6. ' +\n",
       "              'Firefox 4 and 5 are also supported but you ' +\n",
       "              'have to enable WebSockets in about:config.');\n",
       "    };\n",
       "}\n",
       "\n",
       "mpl.figure = function(figure_id, websocket, ondownload, parent_element) {\n",
       "    this.id = figure_id;\n",
       "\n",
       "    this.ws = websocket;\n",
       "\n",
       "    this.supports_binary = (this.ws.binaryType != undefined);\n",
       "\n",
       "    if (!this.supports_binary) {\n",
       "        var warnings = document.getElementById(\"mpl-warnings\");\n",
       "        if (warnings) {\n",
       "            warnings.style.display = 'block';\n",
       "            warnings.textContent = (\n",
       "                \"This browser does not support binary websocket messages. \" +\n",
       "                    \"Performance may be slow.\");\n",
       "        }\n",
       "    }\n",
       "\n",
       "    this.imageObj = new Image();\n",
       "\n",
       "    this.context = undefined;\n",
       "    this.message = undefined;\n",
       "    this.canvas = undefined;\n",
       "    this.rubberband_canvas = undefined;\n",
       "    this.rubberband_context = undefined;\n",
       "    this.format_dropdown = undefined;\n",
       "\n",
       "    this.image_mode = 'full';\n",
       "\n",
       "    this.root = $('<div/>');\n",
       "    this._root_extra_style(this.root)\n",
       "    this.root.attr('style', 'display: inline-block');\n",
       "\n",
       "    $(parent_element).append(this.root);\n",
       "\n",
       "    this._init_header(this);\n",
       "    this._init_canvas(this);\n",
       "    this._init_toolbar(this);\n",
       "\n",
       "    var fig = this;\n",
       "\n",
       "    this.waiting = false;\n",
       "\n",
       "    this.ws.onopen =  function () {\n",
       "            fig.send_message(\"supports_binary\", {value: fig.supports_binary});\n",
       "            fig.send_message(\"send_image_mode\", {});\n",
       "            fig.send_message(\"refresh\", {});\n",
       "        }\n",
       "\n",
       "    this.imageObj.onload = function() {\n",
       "            if (fig.image_mode == 'full') {\n",
       "                // Full images could contain transparency (where diff images\n",
       "                // almost always do), so we need to clear the canvas so that\n",
       "                // there is no ghosting.\n",
       "                fig.context.clearRect(0, 0, fig.canvas.width, fig.canvas.height);\n",
       "            }\n",
       "            fig.context.drawImage(fig.imageObj, 0, 0);\n",
       "        };\n",
       "\n",
       "    this.imageObj.onunload = function() {\n",
       "        this.ws.close();\n",
       "    }\n",
       "\n",
       "    this.ws.onmessage = this._make_on_message_function(this);\n",
       "\n",
       "    this.ondownload = ondownload;\n",
       "}\n",
       "\n",
       "mpl.figure.prototype._init_header = function() {\n",
       "    var titlebar = $(\n",
       "        '<div class=\"ui-dialog-titlebar ui-widget-header ui-corner-all ' +\n",
       "        'ui-helper-clearfix\"/>');\n",
       "    var titletext = $(\n",
       "        '<div class=\"ui-dialog-title\" style=\"width: 100%; ' +\n",
       "        'text-align: center; padding: 3px;\"/>');\n",
       "    titlebar.append(titletext)\n",
       "    this.root.append(titlebar);\n",
       "    this.header = titletext[0];\n",
       "}\n",
       "\n",
       "\n",
       "\n",
       "mpl.figure.prototype._canvas_extra_style = function(canvas_div) {\n",
       "\n",
       "}\n",
       "\n",
       "\n",
       "mpl.figure.prototype._root_extra_style = function(canvas_div) {\n",
       "\n",
       "}\n",
       "\n",
       "mpl.figure.prototype._init_canvas = function() {\n",
       "    var fig = this;\n",
       "\n",
       "    var canvas_div = $('<div/>');\n",
       "\n",
       "    canvas_div.attr('style', 'position: relative; clear: both; outline: 0');\n",
       "\n",
       "    function canvas_keyboard_event(event) {\n",
       "        return fig.key_event(event, event['data']);\n",
       "    }\n",
       "\n",
       "    canvas_div.keydown('key_press', canvas_keyboard_event);\n",
       "    canvas_div.keyup('key_release', canvas_keyboard_event);\n",
       "    this.canvas_div = canvas_div\n",
       "    this._canvas_extra_style(canvas_div)\n",
       "    this.root.append(canvas_div);\n",
       "\n",
       "    var canvas = $('<canvas/>');\n",
       "    canvas.addClass('mpl-canvas');\n",
       "    canvas.attr('style', \"left: 0; top: 0; z-index: 0; outline: 0\")\n",
       "\n",
       "    this.canvas = canvas[0];\n",
       "    this.context = canvas[0].getContext(\"2d\");\n",
       "\n",
       "    var rubberband = $('<canvas/>');\n",
       "    rubberband.attr('style', \"position: absolute; left: 0; top: 0; z-index: 1;\")\n",
       "\n",
       "    var pass_mouse_events = true;\n",
       "\n",
       "    canvas_div.resizable({\n",
       "        start: function(event, ui) {\n",
       "            pass_mouse_events = false;\n",
       "        },\n",
       "        resize: function(event, ui) {\n",
       "            fig.request_resize(ui.size.width, ui.size.height);\n",
       "        },\n",
       "        stop: function(event, ui) {\n",
       "            pass_mouse_events = true;\n",
       "            fig.request_resize(ui.size.width, ui.size.height);\n",
       "        },\n",
       "    });\n",
       "\n",
       "    function mouse_event_fn(event) {\n",
       "        if (pass_mouse_events)\n",
       "            return fig.mouse_event(event, event['data']);\n",
       "    }\n",
       "\n",
       "    rubberband.mousedown('button_press', mouse_event_fn);\n",
       "    rubberband.mouseup('button_release', mouse_event_fn);\n",
       "    // Throttle sequential mouse events to 1 every 20ms.\n",
       "    rubberband.mousemove('motion_notify', mouse_event_fn);\n",
       "\n",
       "    rubberband.mouseenter('figure_enter', mouse_event_fn);\n",
       "    rubberband.mouseleave('figure_leave', mouse_event_fn);\n",
       "\n",
       "    canvas_div.on(\"wheel\", function (event) {\n",
       "        event = event.originalEvent;\n",
       "        event['data'] = 'scroll'\n",
       "        if (event.deltaY < 0) {\n",
       "            event.step = 1;\n",
       "        } else {\n",
       "            event.step = -1;\n",
       "        }\n",
       "        mouse_event_fn(event);\n",
       "    });\n",
       "\n",
       "    canvas_div.append(canvas);\n",
       "    canvas_div.append(rubberband);\n",
       "\n",
       "    this.rubberband = rubberband;\n",
       "    this.rubberband_canvas = rubberband[0];\n",
       "    this.rubberband_context = rubberband[0].getContext(\"2d\");\n",
       "    this.rubberband_context.strokeStyle = \"#000000\";\n",
       "\n",
       "    this._resize_canvas = function(width, height) {\n",
       "        // Keep the size of the canvas, canvas container, and rubber band\n",
       "        // canvas in synch.\n",
       "        canvas_div.css('width', width)\n",
       "        canvas_div.css('height', height)\n",
       "\n",
       "        canvas.attr('width', width);\n",
       "        canvas.attr('height', height);\n",
       "\n",
       "        rubberband.attr('width', width);\n",
       "        rubberband.attr('height', height);\n",
       "    }\n",
       "\n",
       "    // Set the figure to an initial 600x600px, this will subsequently be updated\n",
       "    // upon first draw.\n",
       "    this._resize_canvas(600, 600);\n",
       "\n",
       "    // Disable right mouse context menu.\n",
       "    $(this.rubberband_canvas).bind(\"contextmenu\",function(e){\n",
       "        return false;\n",
       "    });\n",
       "\n",
       "    function set_focus () {\n",
       "        canvas.focus();\n",
       "        canvas_div.focus();\n",
       "    }\n",
       "\n",
       "    window.setTimeout(set_focus, 100);\n",
       "}\n",
       "\n",
       "mpl.figure.prototype._init_toolbar = function() {\n",
       "    var fig = this;\n",
       "\n",
       "    var nav_element = $('<div/>')\n",
       "    nav_element.attr('style', 'width: 100%');\n",
       "    this.root.append(nav_element);\n",
       "\n",
       "    // Define a callback function for later on.\n",
       "    function toolbar_event(event) {\n",
       "        return fig.toolbar_button_onclick(event['data']);\n",
       "    }\n",
       "    function toolbar_mouse_event(event) {\n",
       "        return fig.toolbar_button_onmouseover(event['data']);\n",
       "    }\n",
       "\n",
       "    for(var toolbar_ind in mpl.toolbar_items) {\n",
       "        var name = mpl.toolbar_items[toolbar_ind][0];\n",
       "        var tooltip = mpl.toolbar_items[toolbar_ind][1];\n",
       "        var image = mpl.toolbar_items[toolbar_ind][2];\n",
       "        var method_name = mpl.toolbar_items[toolbar_ind][3];\n",
       "\n",
       "        if (!name) {\n",
       "            // put a spacer in here.\n",
       "            continue;\n",
       "        }\n",
       "        var button = $('<button/>');\n",
       "        button.addClass('ui-button ui-widget ui-state-default ui-corner-all ' +\n",
       "                        'ui-button-icon-only');\n",
       "        button.attr('role', 'button');\n",
       "        button.attr('aria-disabled', 'false');\n",
       "        button.click(method_name, toolbar_event);\n",
       "        button.mouseover(tooltip, toolbar_mouse_event);\n",
       "\n",
       "        var icon_img = $('<span/>');\n",
       "        icon_img.addClass('ui-button-icon-primary ui-icon');\n",
       "        icon_img.addClass(image);\n",
       "        icon_img.addClass('ui-corner-all');\n",
       "\n",
       "        var tooltip_span = $('<span/>');\n",
       "        tooltip_span.addClass('ui-button-text');\n",
       "        tooltip_span.html(tooltip);\n",
       "\n",
       "        button.append(icon_img);\n",
       "        button.append(tooltip_span);\n",
       "\n",
       "        nav_element.append(button);\n",
       "    }\n",
       "\n",
       "    var fmt_picker_span = $('<span/>');\n",
       "\n",
       "    var fmt_picker = $('<select/>');\n",
       "    fmt_picker.addClass('mpl-toolbar-option ui-widget ui-widget-content');\n",
       "    fmt_picker_span.append(fmt_picker);\n",
       "    nav_element.append(fmt_picker_span);\n",
       "    this.format_dropdown = fmt_picker[0];\n",
       "\n",
       "    for (var ind in mpl.extensions) {\n",
       "        var fmt = mpl.extensions[ind];\n",
       "        var option = $(\n",
       "            '<option/>', {selected: fmt === mpl.default_extension}).html(fmt);\n",
       "        fmt_picker.append(option)\n",
       "    }\n",
       "\n",
       "    // Add hover states to the ui-buttons\n",
       "    $( \".ui-button\" ).hover(\n",
       "        function() { $(this).addClass(\"ui-state-hover\");},\n",
       "        function() { $(this).removeClass(\"ui-state-hover\");}\n",
       "    );\n",
       "\n",
       "    var status_bar = $('<span class=\"mpl-message\"/>');\n",
       "    nav_element.append(status_bar);\n",
       "    this.message = status_bar[0];\n",
       "}\n",
       "\n",
       "mpl.figure.prototype.request_resize = function(x_pixels, y_pixels) {\n",
       "    // Request matplotlib to resize the figure. Matplotlib will then trigger a resize in the client,\n",
       "    // which will in turn request a refresh of the image.\n",
       "    this.send_message('resize', {'width': x_pixels, 'height': y_pixels});\n",
       "}\n",
       "\n",
       "mpl.figure.prototype.send_message = function(type, properties) {\n",
       "    properties['type'] = type;\n",
       "    properties['figure_id'] = this.id;\n",
       "    this.ws.send(JSON.stringify(properties));\n",
       "}\n",
       "\n",
       "mpl.figure.prototype.send_draw_message = function() {\n",
       "    if (!this.waiting) {\n",
       "        this.waiting = true;\n",
       "        this.ws.send(JSON.stringify({type: \"draw\", figure_id: this.id}));\n",
       "    }\n",
       "}\n",
       "\n",
       "\n",
       "mpl.figure.prototype.handle_save = function(fig, msg) {\n",
       "    var format_dropdown = fig.format_dropdown;\n",
       "    var format = format_dropdown.options[format_dropdown.selectedIndex].value;\n",
       "    fig.ondownload(fig, format);\n",
       "}\n",
       "\n",
       "\n",
       "mpl.figure.prototype.handle_resize = function(fig, msg) {\n",
       "    var size = msg['size'];\n",
       "    if (size[0] != fig.canvas.width || size[1] != fig.canvas.height) {\n",
       "        fig._resize_canvas(size[0], size[1]);\n",
       "        fig.send_message(\"refresh\", {});\n",
       "    };\n",
       "}\n",
       "\n",
       "mpl.figure.prototype.handle_rubberband = function(fig, msg) {\n",
       "    var x0 = msg['x0'];\n",
       "    var y0 = fig.canvas.height - msg['y0'];\n",
       "    var x1 = msg['x1'];\n",
       "    var y1 = fig.canvas.height - msg['y1'];\n",
       "    x0 = Math.floor(x0) + 0.5;\n",
       "    y0 = Math.floor(y0) + 0.5;\n",
       "    x1 = Math.floor(x1) + 0.5;\n",
       "    y1 = Math.floor(y1) + 0.5;\n",
       "    var min_x = Math.min(x0, x1);\n",
       "    var min_y = Math.min(y0, y1);\n",
       "    var width = Math.abs(x1 - x0);\n",
       "    var height = Math.abs(y1 - y0);\n",
       "\n",
       "    fig.rubberband_context.clearRect(\n",
       "        0, 0, fig.canvas.width, fig.canvas.height);\n",
       "\n",
       "    fig.rubberband_context.strokeRect(min_x, min_y, width, height);\n",
       "}\n",
       "\n",
       "mpl.figure.prototype.handle_figure_label = function(fig, msg) {\n",
       "    // Updates the figure title.\n",
       "    fig.header.textContent = msg['label'];\n",
       "}\n",
       "\n",
       "mpl.figure.prototype.handle_cursor = function(fig, msg) {\n",
       "    var cursor = msg['cursor'];\n",
       "    switch(cursor)\n",
       "    {\n",
       "    case 0:\n",
       "        cursor = 'pointer';\n",
       "        break;\n",
       "    case 1:\n",
       "        cursor = 'default';\n",
       "        break;\n",
       "    case 2:\n",
       "        cursor = 'crosshair';\n",
       "        break;\n",
       "    case 3:\n",
       "        cursor = 'move';\n",
       "        break;\n",
       "    }\n",
       "    fig.rubberband_canvas.style.cursor = cursor;\n",
       "}\n",
       "\n",
       "mpl.figure.prototype.handle_message = function(fig, msg) {\n",
       "    fig.message.textContent = msg['message'];\n",
       "}\n",
       "\n",
       "mpl.figure.prototype.handle_draw = function(fig, msg) {\n",
       "    // Request the server to send over a new figure.\n",
       "    fig.send_draw_message();\n",
       "}\n",
       "\n",
       "mpl.figure.prototype.handle_image_mode = function(fig, msg) {\n",
       "    fig.image_mode = msg['mode'];\n",
       "}\n",
       "\n",
       "mpl.figure.prototype.updated_canvas_event = function() {\n",
       "    // Called whenever the canvas gets updated.\n",
       "    this.send_message(\"ack\", {});\n",
       "}\n",
       "\n",
       "// A function to construct a web socket function for onmessage handling.\n",
       "// Called in the figure constructor.\n",
       "mpl.figure.prototype._make_on_message_function = function(fig) {\n",
       "    return function socket_on_message(evt) {\n",
       "        if (evt.data instanceof Blob) {\n",
       "            /* FIXME: We get \"Resource interpreted as Image but\n",
       "             * transferred with MIME type text/plain:\" errors on\n",
       "             * Chrome.  But how to set the MIME type?  It doesn't seem\n",
       "             * to be part of the websocket stream */\n",
       "            evt.data.type = \"image/png\";\n",
       "\n",
       "            /* Free the memory for the previous frames */\n",
       "            if (fig.imageObj.src) {\n",
       "                (window.URL || window.webkitURL).revokeObjectURL(\n",
       "                    fig.imageObj.src);\n",
       "            }\n",
       "\n",
       "            fig.imageObj.src = (window.URL || window.webkitURL).createObjectURL(\n",
       "                evt.data);\n",
       "            fig.updated_canvas_event();\n",
       "            fig.waiting = false;\n",
       "            return;\n",
       "        }\n",
       "        else if (typeof evt.data === 'string' && evt.data.slice(0, 21) == \"data:image/png;base64\") {\n",
       "            fig.imageObj.src = evt.data;\n",
       "            fig.updated_canvas_event();\n",
       "            fig.waiting = false;\n",
       "            return;\n",
       "        }\n",
       "\n",
       "        var msg = JSON.parse(evt.data);\n",
       "        var msg_type = msg['type'];\n",
       "\n",
       "        // Call the  \"handle_{type}\" callback, which takes\n",
       "        // the figure and JSON message as its only arguments.\n",
       "        try {\n",
       "            var callback = fig[\"handle_\" + msg_type];\n",
       "        } catch (e) {\n",
       "            console.log(\"No handler for the '\" + msg_type + \"' message type: \", msg);\n",
       "            return;\n",
       "        }\n",
       "\n",
       "        if (callback) {\n",
       "            try {\n",
       "                // console.log(\"Handling '\" + msg_type + \"' message: \", msg);\n",
       "                callback(fig, msg);\n",
       "            } catch (e) {\n",
       "                console.log(\"Exception inside the 'handler_\" + msg_type + \"' callback:\", e, e.stack, msg);\n",
       "            }\n",
       "        }\n",
       "    };\n",
       "}\n",
       "\n",
       "// from http://stackoverflow.com/questions/1114465/getting-mouse-location-in-canvas\n",
       "mpl.findpos = function(e) {\n",
       "    //this section is from http://www.quirksmode.org/js/events_properties.html\n",
       "    var targ;\n",
       "    if (!e)\n",
       "        e = window.event;\n",
       "    if (e.target)\n",
       "        targ = e.target;\n",
       "    else if (e.srcElement)\n",
       "        targ = e.srcElement;\n",
       "    if (targ.nodeType == 3) // defeat Safari bug\n",
       "        targ = targ.parentNode;\n",
       "\n",
       "    // jQuery normalizes the pageX and pageY\n",
       "    // pageX,Y are the mouse positions relative to the document\n",
       "    // offset() returns the position of the element relative to the document\n",
       "    var x = e.pageX - $(targ).offset().left;\n",
       "    var y = e.pageY - $(targ).offset().top;\n",
       "\n",
       "    return {\"x\": x, \"y\": y};\n",
       "};\n",
       "\n",
       "/*\n",
       " * return a copy of an object with only non-object keys\n",
       " * we need this to avoid circular references\n",
       " * http://stackoverflow.com/a/24161582/3208463\n",
       " */\n",
       "function simpleKeys (original) {\n",
       "  return Object.keys(original).reduce(function (obj, key) {\n",
       "    if (typeof original[key] !== 'object')\n",
       "        obj[key] = original[key]\n",
       "    return obj;\n",
       "  }, {});\n",
       "}\n",
       "\n",
       "mpl.figure.prototype.mouse_event = function(event, name) {\n",
       "    var canvas_pos = mpl.findpos(event)\n",
       "\n",
       "    if (name === 'button_press')\n",
       "    {\n",
       "        this.canvas.focus();\n",
       "        this.canvas_div.focus();\n",
       "    }\n",
       "\n",
       "    var x = canvas_pos.x;\n",
       "    var y = canvas_pos.y;\n",
       "\n",
       "    this.send_message(name, {x: x, y: y, button: event.button,\n",
       "                             step: event.step,\n",
       "                             guiEvent: simpleKeys(event)});\n",
       "\n",
       "    /* This prevents the web browser from automatically changing to\n",
       "     * the text insertion cursor when the button is pressed.  We want\n",
       "     * to control all of the cursor setting manually through the\n",
       "     * 'cursor' event from matplotlib */\n",
       "    event.preventDefault();\n",
       "    return false;\n",
       "}\n",
       "\n",
       "mpl.figure.prototype._key_event_extra = function(event, name) {\n",
       "    // Handle any extra behaviour associated with a key event\n",
       "}\n",
       "\n",
       "mpl.figure.prototype.key_event = function(event, name) {\n",
       "\n",
       "    // Prevent repeat events\n",
       "    if (name == 'key_press')\n",
       "    {\n",
       "        if (event.which === this._key)\n",
       "            return;\n",
       "        else\n",
       "            this._key = event.which;\n",
       "    }\n",
       "    if (name == 'key_release')\n",
       "        this._key = null;\n",
       "\n",
       "    var value = '';\n",
       "    if (event.ctrlKey && event.which != 17)\n",
       "        value += \"ctrl+\";\n",
       "    if (event.altKey && event.which != 18)\n",
       "        value += \"alt+\";\n",
       "    if (event.shiftKey && event.which != 16)\n",
       "        value += \"shift+\";\n",
       "\n",
       "    value += 'k';\n",
       "    value += event.which.toString();\n",
       "\n",
       "    this._key_event_extra(event, name);\n",
       "\n",
       "    this.send_message(name, {key: value,\n",
       "                             guiEvent: simpleKeys(event)});\n",
       "    return false;\n",
       "}\n",
       "\n",
       "mpl.figure.prototype.toolbar_button_onclick = function(name) {\n",
       "    if (name == 'download') {\n",
       "        this.handle_save(this, null);\n",
       "    } else {\n",
       "        this.send_message(\"toolbar_button\", {name: name});\n",
       "    }\n",
       "};\n",
       "\n",
       "mpl.figure.prototype.toolbar_button_onmouseover = function(tooltip) {\n",
       "    this.message.textContent = tooltip;\n",
       "};\n",
       "mpl.toolbar_items = [[\"Home\", \"Reset original view\", \"fa fa-home icon-home\", \"home\"], [\"Back\", \"Back to  previous view\", \"fa fa-arrow-left icon-arrow-left\", \"back\"], [\"Forward\", \"Forward to next view\", \"fa fa-arrow-right icon-arrow-right\", \"forward\"], [\"\", \"\", \"\", \"\"], [\"Pan\", \"Pan axes with left mouse, zoom with right\", \"fa fa-arrows icon-move\", \"pan\"], [\"Zoom\", \"Zoom to rectangle\", \"fa fa-square-o icon-check-empty\", \"zoom\"], [\"\", \"\", \"\", \"\"], [\"Download\", \"Download plot\", \"fa fa-floppy-o icon-save\", \"download\"]];\n",
       "\n",
       "mpl.extensions = [\"eps\", \"jpeg\", \"pdf\", \"png\", \"ps\", \"raw\", \"svg\", \"tif\"];\n",
       "\n",
       "mpl.default_extension = \"png\";var comm_websocket_adapter = function(comm) {\n",
       "    // Create a \"websocket\"-like object which calls the given IPython comm\n",
       "    // object with the appropriate methods. Currently this is a non binary\n",
       "    // socket, so there is still some room for performance tuning.\n",
       "    var ws = {};\n",
       "\n",
       "    ws.close = function() {\n",
       "        comm.close()\n",
       "    };\n",
       "    ws.send = function(m) {\n",
       "        //console.log('sending', m);\n",
       "        comm.send(m);\n",
       "    };\n",
       "    // Register the callback with on_msg.\n",
       "    comm.on_msg(function(msg) {\n",
       "        //console.log('receiving', msg['content']['data'], msg);\n",
       "        // Pass the mpl event to the overriden (by mpl) onmessage function.\n",
       "        ws.onmessage(msg['content']['data'])\n",
       "    });\n",
       "    return ws;\n",
       "}\n",
       "\n",
       "mpl.mpl_figure_comm = function(comm, msg) {\n",
       "    // This is the function which gets called when the mpl process\n",
       "    // starts-up an IPython Comm through the \"matplotlib\" channel.\n",
       "\n",
       "    var id = msg.content.data.id;\n",
       "    // Get hold of the div created by the display call when the Comm\n",
       "    // socket was opened in Python.\n",
       "    var element = $(\"#\" + id);\n",
       "    var ws_proxy = comm_websocket_adapter(comm)\n",
       "\n",
       "    function ondownload(figure, format) {\n",
       "        window.open(figure.imageObj.src);\n",
       "    }\n",
       "\n",
       "    var fig = new mpl.figure(id, ws_proxy,\n",
       "                           ondownload,\n",
       "                           element.get(0));\n",
       "\n",
       "    // Call onopen now - mpl needs it, as it is assuming we've passed it a real\n",
       "    // web socket which is closed, not our websocket->open comm proxy.\n",
       "    ws_proxy.onopen();\n",
       "\n",
       "    fig.parent_element = element.get(0);\n",
       "    fig.cell_info = mpl.find_output_cell(\"<div id='\" + id + \"'></div>\");\n",
       "    if (!fig.cell_info) {\n",
       "        console.error(\"Failed to find cell for figure\", id, fig);\n",
       "        return;\n",
       "    }\n",
       "\n",
       "    var output_index = fig.cell_info[2]\n",
       "    var cell = fig.cell_info[0];\n",
       "\n",
       "};\n",
       "\n",
       "mpl.figure.prototype.handle_close = function(fig, msg) {\n",
       "    fig.root.unbind('remove')\n",
       "\n",
       "    // Update the output cell to use the data from the current canvas.\n",
       "    fig.push_to_output();\n",
       "    var dataURL = fig.canvas.toDataURL();\n",
       "    // Re-enable the keyboard manager in IPython - without this line, in FF,\n",
       "    // the notebook keyboard shortcuts fail.\n",
       "    IPython.keyboard_manager.enable()\n",
       "    $(fig.parent_element).html('<img src=\"' + dataURL + '\">');\n",
       "    fig.close_ws(fig, msg);\n",
       "}\n",
       "\n",
       "mpl.figure.prototype.close_ws = function(fig, msg){\n",
       "    fig.send_message('closing', msg);\n",
       "    // fig.ws.close()\n",
       "}\n",
       "\n",
       "mpl.figure.prototype.push_to_output = function(remove_interactive) {\n",
       "    // Turn the data on the canvas into data in the output cell.\n",
       "    var dataURL = this.canvas.toDataURL();\n",
       "    this.cell_info[1]['text/html'] = '<img src=\"' + dataURL + '\">';\n",
       "}\n",
       "\n",
       "mpl.figure.prototype.updated_canvas_event = function() {\n",
       "    // Tell IPython that the notebook contents must change.\n",
       "    IPython.notebook.set_dirty(true);\n",
       "    this.send_message(\"ack\", {});\n",
       "    var fig = this;\n",
       "    // Wait a second, then push the new image to the DOM so\n",
       "    // that it is saved nicely (might be nice to debounce this).\n",
       "    setTimeout(function () { fig.push_to_output() }, 1000);\n",
       "}\n",
       "\n",
       "mpl.figure.prototype._init_toolbar = function() {\n",
       "    var fig = this;\n",
       "\n",
       "    var nav_element = $('<div/>')\n",
       "    nav_element.attr('style', 'width: 100%');\n",
       "    this.root.append(nav_element);\n",
       "\n",
       "    // Define a callback function for later on.\n",
       "    function toolbar_event(event) {\n",
       "        return fig.toolbar_button_onclick(event['data']);\n",
       "    }\n",
       "    function toolbar_mouse_event(event) {\n",
       "        return fig.toolbar_button_onmouseover(event['data']);\n",
       "    }\n",
       "\n",
       "    for(var toolbar_ind in mpl.toolbar_items){\n",
       "        var name = mpl.toolbar_items[toolbar_ind][0];\n",
       "        var tooltip = mpl.toolbar_items[toolbar_ind][1];\n",
       "        var image = mpl.toolbar_items[toolbar_ind][2];\n",
       "        var method_name = mpl.toolbar_items[toolbar_ind][3];\n",
       "\n",
       "        if (!name) { continue; };\n",
       "\n",
       "        var button = $('<button class=\"btn btn-default\" href=\"#\" title=\"' + name + '\"><i class=\"fa ' + image + ' fa-lg\"></i></button>');\n",
       "        button.click(method_name, toolbar_event);\n",
       "        button.mouseover(tooltip, toolbar_mouse_event);\n",
       "        nav_element.append(button);\n",
       "    }\n",
       "\n",
       "    // Add the status bar.\n",
       "    var status_bar = $('<span class=\"mpl-message\" style=\"text-align:right; float: right;\"/>');\n",
       "    nav_element.append(status_bar);\n",
       "    this.message = status_bar[0];\n",
       "\n",
       "    // Add the close button to the window.\n",
       "    var buttongrp = $('<div class=\"btn-group inline pull-right\"></div>');\n",
       "    var button = $('<button class=\"btn btn-mini btn-primary\" href=\"#\" title=\"Stop Interaction\"><i class=\"fa fa-power-off icon-remove icon-large\"></i></button>');\n",
       "    button.click(function (evt) { fig.handle_close(fig, {}); } );\n",
       "    button.mouseover('Stop Interaction', toolbar_mouse_event);\n",
       "    buttongrp.append(button);\n",
       "    var titlebar = this.root.find($('.ui-dialog-titlebar'));\n",
       "    titlebar.prepend(buttongrp);\n",
       "}\n",
       "\n",
       "mpl.figure.prototype._root_extra_style = function(el){\n",
       "    var fig = this\n",
       "    el.on(\"remove\", function(){\n",
       "\tfig.close_ws(fig, {});\n",
       "    });\n",
       "}\n",
       "\n",
       "mpl.figure.prototype._canvas_extra_style = function(el){\n",
       "    // this is important to make the div 'focusable\n",
       "    el.attr('tabindex', 0)\n",
       "    // reach out to IPython and tell the keyboard manager to turn it's self\n",
       "    // off when our div gets focus\n",
       "\n",
       "    // location in version 3\n",
       "    if (IPython.notebook.keyboard_manager) {\n",
       "        IPython.notebook.keyboard_manager.register_events(el);\n",
       "    }\n",
       "    else {\n",
       "        // location in version 2\n",
       "        IPython.keyboard_manager.register_events(el);\n",
       "    }\n",
       "\n",
       "}\n",
       "\n",
       "mpl.figure.prototype._key_event_extra = function(event, name) {\n",
       "    var manager = IPython.notebook.keyboard_manager;\n",
       "    if (!manager)\n",
       "        manager = IPython.keyboard_manager;\n",
       "\n",
       "    // Check for shift+enter\n",
       "    if (event.shiftKey && event.which == 13) {\n",
       "        this.canvas_div.blur();\n",
       "        // select the cell after this one\n",
       "        var index = IPython.notebook.find_cell_index(this.cell_info[0]);\n",
       "        IPython.notebook.select(index + 1);\n",
       "    }\n",
       "}\n",
       "\n",
       "mpl.figure.prototype.handle_save = function(fig, msg) {\n",
       "    fig.ondownload(fig, null);\n",
       "}\n",
       "\n",
       "\n",
       "mpl.find_output_cell = function(html_output) {\n",
       "    // Return the cell and output element which can be found *uniquely* in the notebook.\n",
       "    // Note - this is a bit hacky, but it is done because the \"notebook_saving.Notebook\"\n",
       "    // IPython event is triggered only after the cells have been serialised, which for\n",
       "    // our purposes (turning an active figure into a static one), is too late.\n",
       "    var cells = IPython.notebook.get_cells();\n",
       "    var ncells = cells.length;\n",
       "    for (var i=0; i<ncells; i++) {\n",
       "        var cell = cells[i];\n",
       "        if (cell.cell_type === 'code'){\n",
       "            for (var j=0; j<cell.output_area.outputs.length; j++) {\n",
       "                var data = cell.output_area.outputs[j];\n",
       "                if (data.data) {\n",
       "                    // IPython >= 3 moved mimebundle to data attribute of output\n",
       "                    data = data.data;\n",
       "                }\n",
       "                if (data['text/html'] == html_output) {\n",
       "                    return [cell, data, j];\n",
       "                }\n",
       "            }\n",
       "        }\n",
       "    }\n",
       "}\n",
       "\n",
       "// Register the function which deals with the matplotlib target/channel.\n",
       "// The kernel may be null if the page has been refreshed.\n",
       "if (IPython.notebook.kernel != null) {\n",
       "    IPython.notebook.kernel.comm_manager.register_target('matplotlib', mpl.mpl_figure_comm);\n",
       "}\n"
      ],
      "text/plain": [
       "<IPython.core.display.Javascript object>"
      ]
     },
     "metadata": {},
     "output_type": "display_data"
    },
    {
     "data": {
      "text/html": [
       "<img src=\"data:image/png;base64,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\">"
      ],
      "text/plain": [
       "<IPython.core.display.HTML object>"
      ]
     },
     "metadata": {},
     "output_type": "display_data"
    }
   ],
   "source": [
    "# create instance of gridworld animator and plot\n",
    "%matplotlib notebook\n",
    "animator = gridworld_animators.animator()\n",
    "animator.show_optimal_policy_in_3d(world = small_maze,learner = qlearner)"
   ]
  },
  {
   "cell_type": "markdown",
   "metadata": {
    "slideshow": {
     "slide_type": "subslide"
    }
   },
   "source": [
    "##  Q as a set of functions"
   ]
  },
  {
   "cell_type": "markdown",
   "metadata": {
    "slideshow": {
     "slide_type": "fragment"
    }
   },
   "source": [
    "- In general, Q a set of *mathematical functions* --> one for each *possible action*"
   ]
  },
  {
   "cell_type": "markdown",
   "metadata": {
    "slideshow": {
     "slide_type": "fragment"
    }
   },
   "source": [
    "- So far we could view the *tabular version* of each *mathematical function* of $Q$"
   ]
  },
  {
   "cell_type": "markdown",
   "metadata": {
    "slideshow": {
     "slide_type": "fragment"
    }
   },
   "source": [
    "- But for RL problems with very large state spaces we can't store / compute with such versions"
   ]
  },
  {
   "cell_type": "markdown",
   "metadata": {
    "slideshow": {
     "slide_type": "fragment"
    }
   },
   "source": [
    "- We will need to view each function as an *equation* --> function approximator"
   ]
  },
  {
   "cell_type": "markdown",
   "metadata": {
    "slideshow": {
     "slide_type": "slide"
    }
   },
   "source": [
    "# Function approximation"
   ]
  },
  {
   "cell_type": "markdown",
   "metadata": {
    "slideshow": {
     "slide_type": "subslide"
    }
   },
   "source": [
    "## Two views of a mathematical function"
   ]
  },
  {
   "cell_type": "markdown",
   "metadata": {
    "slideshow": {
     "slide_type": "fragment"
    }
   },
   "source": [
    "- Viewed as *equation* e.g., $$ y = w_0 + w_1x$$"
   ]
  },
  {
   "cell_type": "markdown",
   "metadata": {
    "slideshow": {
     "slide_type": "fragment"
    }
   },
   "source": [
    "- Viewed as a *table of values* (for $w_0 = 3$, $w_1 = -2$)\n",
    "\n",
    "$$\\begin{array}{c|c}\n",
    "~~ \\text{Input} ~ (x) &  ~~ \\text{Output} ~~ (y = 3 -2 x) \\\\\n",
    "\\hline 0 & 3 \\\\\n",
    "\\ -0.4 & 3.8 \\\\\n",
    "\\ 5.2 & -7.2 \\\\\n",
    "\\vdots & \\vdots\\\\\n",
    "\\end{array}$$"
   ]
  },
  {
   "cell_type": "markdown",
   "metadata": {
    "slideshow": {
     "slide_type": "fragment"
    }
   },
   "source": [
    "- The **equation view** e.g., $$ y = w_0 + w_1x + w_2x^2$$"
   ]
  },
  {
   "cell_type": "markdown",
   "metadata": {
    "slideshow": {
     "slide_type": "fragment"
    }
   },
   "source": [
    "- The **table view** (for $w_0 = 3,\\, w_1 = -2, \\, w_3 = 5$)\n",
    "\n",
    "$$\\begin{array}{c|c}\n",
    "~~ \\text{Input} ~(x) & \\text{Output}  ~~ (y = 3 -2 x + 5x^2) \\\\\n",
    "\\hline 0 & 3 \\\\\n",
    "\\ -0.4 & 4.6 \\\\\n",
    "\\ 5.2 & 127.8 \\\\\n",
    "\\vdots & \\vdots\\\\\n",
    "\\end{array}$$"
   ]
  },
  {
   "cell_type": "markdown",
   "metadata": {
    "slideshow": {
     "slide_type": "subslide"
    }
   },
   "source": [
    "## We can plot a table of values (not an equation)"
   ]
  },
  {
   "cell_type": "code",
   "execution_count": 9,
   "metadata": {
    "collapsed": false,
    "scrolled": true,
    "slideshow": {
     "slide_type": "fragment"
    }
   },
   "outputs": [
    {
     "data": {
      "application/javascript": [
       "/* Put everything inside the global mpl namespace */\n",
       "window.mpl = {};\n",
       "\n",
       "mpl.get_websocket_type = function() {\n",
       "    if (typeof(WebSocket) !== 'undefined') {\n",
       "        return WebSocket;\n",
       "    } else if (typeof(MozWebSocket) !== 'undefined') {\n",
       "        return MozWebSocket;\n",
       "    } else {\n",
       "        alert('Your browser does not have WebSocket support.' +\n",
       "              'Please try Chrome, Safari or Firefox ≥ 6. ' +\n",
       "              'Firefox 4 and 5 are also supported but you ' +\n",
       "              'have to enable WebSockets in about:config.');\n",
       "    };\n",
       "}\n",
       "\n",
       "mpl.figure = function(figure_id, websocket, ondownload, parent_element) {\n",
       "    this.id = figure_id;\n",
       "\n",
       "    this.ws = websocket;\n",
       "\n",
       "    this.supports_binary = (this.ws.binaryType != undefined);\n",
       "\n",
       "    if (!this.supports_binary) {\n",
       "        var warnings = document.getElementById(\"mpl-warnings\");\n",
       "        if (warnings) {\n",
       "            warnings.style.display = 'block';\n",
       "            warnings.textContent = (\n",
       "                \"This browser does not support binary websocket messages. \" +\n",
       "                    \"Performance may be slow.\");\n",
       "        }\n",
       "    }\n",
       "\n",
       "    this.imageObj = new Image();\n",
       "\n",
       "    this.context = undefined;\n",
       "    this.message = undefined;\n",
       "    this.canvas = undefined;\n",
       "    this.rubberband_canvas = undefined;\n",
       "    this.rubberband_context = undefined;\n",
       "    this.format_dropdown = undefined;\n",
       "\n",
       "    this.image_mode = 'full';\n",
       "\n",
       "    this.root = $('<div/>');\n",
       "    this._root_extra_style(this.root)\n",
       "    this.root.attr('style', 'display: inline-block');\n",
       "\n",
       "    $(parent_element).append(this.root);\n",
       "\n",
       "    this._init_header(this);\n",
       "    this._init_canvas(this);\n",
       "    this._init_toolbar(this);\n",
       "\n",
       "    var fig = this;\n",
       "\n",
       "    this.waiting = false;\n",
       "\n",
       "    this.ws.onopen =  function () {\n",
       "            fig.send_message(\"supports_binary\", {value: fig.supports_binary});\n",
       "            fig.send_message(\"send_image_mode\", {});\n",
       "            fig.send_message(\"refresh\", {});\n",
       "        }\n",
       "\n",
       "    this.imageObj.onload = function() {\n",
       "            if (fig.image_mode == 'full') {\n",
       "                // Full images could contain transparency (where diff images\n",
       "                // almost always do), so we need to clear the canvas so that\n",
       "                // there is no ghosting.\n",
       "                fig.context.clearRect(0, 0, fig.canvas.width, fig.canvas.height);\n",
       "            }\n",
       "            fig.context.drawImage(fig.imageObj, 0, 0);\n",
       "        };\n",
       "\n",
       "    this.imageObj.onunload = function() {\n",
       "        this.ws.close();\n",
       "    }\n",
       "\n",
       "    this.ws.onmessage = this._make_on_message_function(this);\n",
       "\n",
       "    this.ondownload = ondownload;\n",
       "}\n",
       "\n",
       "mpl.figure.prototype._init_header = function() {\n",
       "    var titlebar = $(\n",
       "        '<div class=\"ui-dialog-titlebar ui-widget-header ui-corner-all ' +\n",
       "        'ui-helper-clearfix\"/>');\n",
       "    var titletext = $(\n",
       "        '<div class=\"ui-dialog-title\" style=\"width: 100%; ' +\n",
       "        'text-align: center; padding: 3px;\"/>');\n",
       "    titlebar.append(titletext)\n",
       "    this.root.append(titlebar);\n",
       "    this.header = titletext[0];\n",
       "}\n",
       "\n",
       "\n",
       "\n",
       "mpl.figure.prototype._canvas_extra_style = function(canvas_div) {\n",
       "\n",
       "}\n",
       "\n",
       "\n",
       "mpl.figure.prototype._root_extra_style = function(canvas_div) {\n",
       "\n",
       "}\n",
       "\n",
       "mpl.figure.prototype._init_canvas = function() {\n",
       "    var fig = this;\n",
       "\n",
       "    var canvas_div = $('<div/>');\n",
       "\n",
       "    canvas_div.attr('style', 'position: relative; clear: both; outline: 0');\n",
       "\n",
       "    function canvas_keyboard_event(event) {\n",
       "        return fig.key_event(event, event['data']);\n",
       "    }\n",
       "\n",
       "    canvas_div.keydown('key_press', canvas_keyboard_event);\n",
       "    canvas_div.keyup('key_release', canvas_keyboard_event);\n",
       "    this.canvas_div = canvas_div\n",
       "    this._canvas_extra_style(canvas_div)\n",
       "    this.root.append(canvas_div);\n",
       "\n",
       "    var canvas = $('<canvas/>');\n",
       "    canvas.addClass('mpl-canvas');\n",
       "    canvas.attr('style', \"left: 0; top: 0; z-index: 0; outline: 0\")\n",
       "\n",
       "    this.canvas = canvas[0];\n",
       "    this.context = canvas[0].getContext(\"2d\");\n",
       "\n",
       "    var rubberband = $('<canvas/>');\n",
       "    rubberband.attr('style', \"position: absolute; left: 0; top: 0; z-index: 1;\")\n",
       "\n",
       "    var pass_mouse_events = true;\n",
       "\n",
       "    canvas_div.resizable({\n",
       "        start: function(event, ui) {\n",
       "            pass_mouse_events = false;\n",
       "        },\n",
       "        resize: function(event, ui) {\n",
       "            fig.request_resize(ui.size.width, ui.size.height);\n",
       "        },\n",
       "        stop: function(event, ui) {\n",
       "            pass_mouse_events = true;\n",
       "            fig.request_resize(ui.size.width, ui.size.height);\n",
       "        },\n",
       "    });\n",
       "\n",
       "    function mouse_event_fn(event) {\n",
       "        if (pass_mouse_events)\n",
       "            return fig.mouse_event(event, event['data']);\n",
       "    }\n",
       "\n",
       "    rubberband.mousedown('button_press', mouse_event_fn);\n",
       "    rubberband.mouseup('button_release', mouse_event_fn);\n",
       "    // Throttle sequential mouse events to 1 every 20ms.\n",
       "    rubberband.mousemove('motion_notify', mouse_event_fn);\n",
       "\n",
       "    rubberband.mouseenter('figure_enter', mouse_event_fn);\n",
       "    rubberband.mouseleave('figure_leave', mouse_event_fn);\n",
       "\n",
       "    canvas_div.on(\"wheel\", function (event) {\n",
       "        event = event.originalEvent;\n",
       "        event['data'] = 'scroll'\n",
       "        if (event.deltaY < 0) {\n",
       "            event.step = 1;\n",
       "        } else {\n",
       "            event.step = -1;\n",
       "        }\n",
       "        mouse_event_fn(event);\n",
       "    });\n",
       "\n",
       "    canvas_div.append(canvas);\n",
       "    canvas_div.append(rubberband);\n",
       "\n",
       "    this.rubberband = rubberband;\n",
       "    this.rubberband_canvas = rubberband[0];\n",
       "    this.rubberband_context = rubberband[0].getContext(\"2d\");\n",
       "    this.rubberband_context.strokeStyle = \"#000000\";\n",
       "\n",
       "    this._resize_canvas = function(width, height) {\n",
       "        // Keep the size of the canvas, canvas container, and rubber band\n",
       "        // canvas in synch.\n",
       "        canvas_div.css('width', width)\n",
       "        canvas_div.css('height', height)\n",
       "\n",
       "        canvas.attr('width', width);\n",
       "        canvas.attr('height', height);\n",
       "\n",
       "        rubberband.attr('width', width);\n",
       "        rubberband.attr('height', height);\n",
       "    }\n",
       "\n",
       "    // Set the figure to an initial 600x600px, this will subsequently be updated\n",
       "    // upon first draw.\n",
       "    this._resize_canvas(600, 600);\n",
       "\n",
       "    // Disable right mouse context menu.\n",
       "    $(this.rubberband_canvas).bind(\"contextmenu\",function(e){\n",
       "        return false;\n",
       "    });\n",
       "\n",
       "    function set_focus () {\n",
       "        canvas.focus();\n",
       "        canvas_div.focus();\n",
       "    }\n",
       "\n",
       "    window.setTimeout(set_focus, 100);\n",
       "}\n",
       "\n",
       "mpl.figure.prototype._init_toolbar = function() {\n",
       "    var fig = this;\n",
       "\n",
       "    var nav_element = $('<div/>')\n",
       "    nav_element.attr('style', 'width: 100%');\n",
       "    this.root.append(nav_element);\n",
       "\n",
       "    // Define a callback function for later on.\n",
       "    function toolbar_event(event) {\n",
       "        return fig.toolbar_button_onclick(event['data']);\n",
       "    }\n",
       "    function toolbar_mouse_event(event) {\n",
       "        return fig.toolbar_button_onmouseover(event['data']);\n",
       "    }\n",
       "\n",
       "    for(var toolbar_ind in mpl.toolbar_items) {\n",
       "        var name = mpl.toolbar_items[toolbar_ind][0];\n",
       "        var tooltip = mpl.toolbar_items[toolbar_ind][1];\n",
       "        var image = mpl.toolbar_items[toolbar_ind][2];\n",
       "        var method_name = mpl.toolbar_items[toolbar_ind][3];\n",
       "\n",
       "        if (!name) {\n",
       "            // put a spacer in here.\n",
       "            continue;\n",
       "        }\n",
       "        var button = $('<button/>');\n",
       "        button.addClass('ui-button ui-widget ui-state-default ui-corner-all ' +\n",
       "                        'ui-button-icon-only');\n",
       "        button.attr('role', 'button');\n",
       "        button.attr('aria-disabled', 'false');\n",
       "        button.click(method_name, toolbar_event);\n",
       "        button.mouseover(tooltip, toolbar_mouse_event);\n",
       "\n",
       "        var icon_img = $('<span/>');\n",
       "        icon_img.addClass('ui-button-icon-primary ui-icon');\n",
       "        icon_img.addClass(image);\n",
       "        icon_img.addClass('ui-corner-all');\n",
       "\n",
       "        var tooltip_span = $('<span/>');\n",
       "        tooltip_span.addClass('ui-button-text');\n",
       "        tooltip_span.html(tooltip);\n",
       "\n",
       "        button.append(icon_img);\n",
       "        button.append(tooltip_span);\n",
       "\n",
       "        nav_element.append(button);\n",
       "    }\n",
       "\n",
       "    var fmt_picker_span = $('<span/>');\n",
       "\n",
       "    var fmt_picker = $('<select/>');\n",
       "    fmt_picker.addClass('mpl-toolbar-option ui-widget ui-widget-content');\n",
       "    fmt_picker_span.append(fmt_picker);\n",
       "    nav_element.append(fmt_picker_span);\n",
       "    this.format_dropdown = fmt_picker[0];\n",
       "\n",
       "    for (var ind in mpl.extensions) {\n",
       "        var fmt = mpl.extensions[ind];\n",
       "        var option = $(\n",
       "            '<option/>', {selected: fmt === mpl.default_extension}).html(fmt);\n",
       "        fmt_picker.append(option)\n",
       "    }\n",
       "\n",
       "    // Add hover states to the ui-buttons\n",
       "    $( \".ui-button\" ).hover(\n",
       "        function() { $(this).addClass(\"ui-state-hover\");},\n",
       "        function() { $(this).removeClass(\"ui-state-hover\");}\n",
       "    );\n",
       "\n",
       "    var status_bar = $('<span class=\"mpl-message\"/>');\n",
       "    nav_element.append(status_bar);\n",
       "    this.message = status_bar[0];\n",
       "}\n",
       "\n",
       "mpl.figure.prototype.request_resize = function(x_pixels, y_pixels) {\n",
       "    // Request matplotlib to resize the figure. Matplotlib will then trigger a resize in the client,\n",
       "    // which will in turn request a refresh of the image.\n",
       "    this.send_message('resize', {'width': x_pixels, 'height': y_pixels});\n",
       "}\n",
       "\n",
       "mpl.figure.prototype.send_message = function(type, properties) {\n",
       "    properties['type'] = type;\n",
       "    properties['figure_id'] = this.id;\n",
       "    this.ws.send(JSON.stringify(properties));\n",
       "}\n",
       "\n",
       "mpl.figure.prototype.send_draw_message = function() {\n",
       "    if (!this.waiting) {\n",
       "        this.waiting = true;\n",
       "        this.ws.send(JSON.stringify({type: \"draw\", figure_id: this.id}));\n",
       "    }\n",
       "}\n",
       "\n",
       "\n",
       "mpl.figure.prototype.handle_save = function(fig, msg) {\n",
       "    var format_dropdown = fig.format_dropdown;\n",
       "    var format = format_dropdown.options[format_dropdown.selectedIndex].value;\n",
       "    fig.ondownload(fig, format);\n",
       "}\n",
       "\n",
       "\n",
       "mpl.figure.prototype.handle_resize = function(fig, msg) {\n",
       "    var size = msg['size'];\n",
       "    if (size[0] != fig.canvas.width || size[1] != fig.canvas.height) {\n",
       "        fig._resize_canvas(size[0], size[1]);\n",
       "        fig.send_message(\"refresh\", {});\n",
       "    };\n",
       "}\n",
       "\n",
       "mpl.figure.prototype.handle_rubberband = function(fig, msg) {\n",
       "    var x0 = msg['x0'];\n",
       "    var y0 = fig.canvas.height - msg['y0'];\n",
       "    var x1 = msg['x1'];\n",
       "    var y1 = fig.canvas.height - msg['y1'];\n",
       "    x0 = Math.floor(x0) + 0.5;\n",
       "    y0 = Math.floor(y0) + 0.5;\n",
       "    x1 = Math.floor(x1) + 0.5;\n",
       "    y1 = Math.floor(y1) + 0.5;\n",
       "    var min_x = Math.min(x0, x1);\n",
       "    var min_y = Math.min(y0, y1);\n",
       "    var width = Math.abs(x1 - x0);\n",
       "    var height = Math.abs(y1 - y0);\n",
       "\n",
       "    fig.rubberband_context.clearRect(\n",
       "        0, 0, fig.canvas.width, fig.canvas.height);\n",
       "\n",
       "    fig.rubberband_context.strokeRect(min_x, min_y, width, height);\n",
       "}\n",
       "\n",
       "mpl.figure.prototype.handle_figure_label = function(fig, msg) {\n",
       "    // Updates the figure title.\n",
       "    fig.header.textContent = msg['label'];\n",
       "}\n",
       "\n",
       "mpl.figure.prototype.handle_cursor = function(fig, msg) {\n",
       "    var cursor = msg['cursor'];\n",
       "    switch(cursor)\n",
       "    {\n",
       "    case 0:\n",
       "        cursor = 'pointer';\n",
       "        break;\n",
       "    case 1:\n",
       "        cursor = 'default';\n",
       "        break;\n",
       "    case 2:\n",
       "        cursor = 'crosshair';\n",
       "        break;\n",
       "    case 3:\n",
       "        cursor = 'move';\n",
       "        break;\n",
       "    }\n",
       "    fig.rubberband_canvas.style.cursor = cursor;\n",
       "}\n",
       "\n",
       "mpl.figure.prototype.handle_message = function(fig, msg) {\n",
       "    fig.message.textContent = msg['message'];\n",
       "}\n",
       "\n",
       "mpl.figure.prototype.handle_draw = function(fig, msg) {\n",
       "    // Request the server to send over a new figure.\n",
       "    fig.send_draw_message();\n",
       "}\n",
       "\n",
       "mpl.figure.prototype.handle_image_mode = function(fig, msg) {\n",
       "    fig.image_mode = msg['mode'];\n",
       "}\n",
       "\n",
       "mpl.figure.prototype.updated_canvas_event = function() {\n",
       "    // Called whenever the canvas gets updated.\n",
       "    this.send_message(\"ack\", {});\n",
       "}\n",
       "\n",
       "// A function to construct a web socket function for onmessage handling.\n",
       "// Called in the figure constructor.\n",
       "mpl.figure.prototype._make_on_message_function = function(fig) {\n",
       "    return function socket_on_message(evt) {\n",
       "        if (evt.data instanceof Blob) {\n",
       "            /* FIXME: We get \"Resource interpreted as Image but\n",
       "             * transferred with MIME type text/plain:\" errors on\n",
       "             * Chrome.  But how to set the MIME type?  It doesn't seem\n",
       "             * to be part of the websocket stream */\n",
       "            evt.data.type = \"image/png\";\n",
       "\n",
       "            /* Free the memory for the previous frames */\n",
       "            if (fig.imageObj.src) {\n",
       "                (window.URL || window.webkitURL).revokeObjectURL(\n",
       "                    fig.imageObj.src);\n",
       "            }\n",
       "\n",
       "            fig.imageObj.src = (window.URL || window.webkitURL).createObjectURL(\n",
       "                evt.data);\n",
       "            fig.updated_canvas_event();\n",
       "            fig.waiting = false;\n",
       "            return;\n",
       "        }\n",
       "        else if (typeof evt.data === 'string' && evt.data.slice(0, 21) == \"data:image/png;base64\") {\n",
       "            fig.imageObj.src = evt.data;\n",
       "            fig.updated_canvas_event();\n",
       "            fig.waiting = false;\n",
       "            return;\n",
       "        }\n",
       "\n",
       "        var msg = JSON.parse(evt.data);\n",
       "        var msg_type = msg['type'];\n",
       "\n",
       "        // Call the  \"handle_{type}\" callback, which takes\n",
       "        // the figure and JSON message as its only arguments.\n",
       "        try {\n",
       "            var callback = fig[\"handle_\" + msg_type];\n",
       "        } catch (e) {\n",
       "            console.log(\"No handler for the '\" + msg_type + \"' message type: \", msg);\n",
       "            return;\n",
       "        }\n",
       "\n",
       "        if (callback) {\n",
       "            try {\n",
       "                // console.log(\"Handling '\" + msg_type + \"' message: \", msg);\n",
       "                callback(fig, msg);\n",
       "            } catch (e) {\n",
       "                console.log(\"Exception inside the 'handler_\" + msg_type + \"' callback:\", e, e.stack, msg);\n",
       "            }\n",
       "        }\n",
       "    };\n",
       "}\n",
       "\n",
       "// from http://stackoverflow.com/questions/1114465/getting-mouse-location-in-canvas\n",
       "mpl.findpos = function(e) {\n",
       "    //this section is from http://www.quirksmode.org/js/events_properties.html\n",
       "    var targ;\n",
       "    if (!e)\n",
       "        e = window.event;\n",
       "    if (e.target)\n",
       "        targ = e.target;\n",
       "    else if (e.srcElement)\n",
       "        targ = e.srcElement;\n",
       "    if (targ.nodeType == 3) // defeat Safari bug\n",
       "        targ = targ.parentNode;\n",
       "\n",
       "    // jQuery normalizes the pageX and pageY\n",
       "    // pageX,Y are the mouse positions relative to the document\n",
       "    // offset() returns the position of the element relative to the document\n",
       "    var x = e.pageX - $(targ).offset().left;\n",
       "    var y = e.pageY - $(targ).offset().top;\n",
       "\n",
       "    return {\"x\": x, \"y\": y};\n",
       "};\n",
       "\n",
       "/*\n",
       " * return a copy of an object with only non-object keys\n",
       " * we need this to avoid circular references\n",
       " * http://stackoverflow.com/a/24161582/3208463\n",
       " */\n",
       "function simpleKeys (original) {\n",
       "  return Object.keys(original).reduce(function (obj, key) {\n",
       "    if (typeof original[key] !== 'object')\n",
       "        obj[key] = original[key]\n",
       "    return obj;\n",
       "  }, {});\n",
       "}\n",
       "\n",
       "mpl.figure.prototype.mouse_event = function(event, name) {\n",
       "    var canvas_pos = mpl.findpos(event)\n",
       "\n",
       "    if (name === 'button_press')\n",
       "    {\n",
       "        this.canvas.focus();\n",
       "        this.canvas_div.focus();\n",
       "    }\n",
       "\n",
       "    var x = canvas_pos.x;\n",
       "    var y = canvas_pos.y;\n",
       "\n",
       "    this.send_message(name, {x: x, y: y, button: event.button,\n",
       "                             step: event.step,\n",
       "                             guiEvent: simpleKeys(event)});\n",
       "\n",
       "    /* This prevents the web browser from automatically changing to\n",
       "     * the text insertion cursor when the button is pressed.  We want\n",
       "     * to control all of the cursor setting manually through the\n",
       "     * 'cursor' event from matplotlib */\n",
       "    event.preventDefault();\n",
       "    return false;\n",
       "}\n",
       "\n",
       "mpl.figure.prototype._key_event_extra = function(event, name) {\n",
       "    // Handle any extra behaviour associated with a key event\n",
       "}\n",
       "\n",
       "mpl.figure.prototype.key_event = function(event, name) {\n",
       "\n",
       "    // Prevent repeat events\n",
       "    if (name == 'key_press')\n",
       "    {\n",
       "        if (event.which === this._key)\n",
       "            return;\n",
       "        else\n",
       "            this._key = event.which;\n",
       "    }\n",
       "    if (name == 'key_release')\n",
       "        this._key = null;\n",
       "\n",
       "    var value = '';\n",
       "    if (event.ctrlKey && event.which != 17)\n",
       "        value += \"ctrl+\";\n",
       "    if (event.altKey && event.which != 18)\n",
       "        value += \"alt+\";\n",
       "    if (event.shiftKey && event.which != 16)\n",
       "        value += \"shift+\";\n",
       "\n",
       "    value += 'k';\n",
       "    value += event.which.toString();\n",
       "\n",
       "    this._key_event_extra(event, name);\n",
       "\n",
       "    this.send_message(name, {key: value,\n",
       "                             guiEvent: simpleKeys(event)});\n",
       "    return false;\n",
       "}\n",
       "\n",
       "mpl.figure.prototype.toolbar_button_onclick = function(name) {\n",
       "    if (name == 'download') {\n",
       "        this.handle_save(this, null);\n",
       "    } else {\n",
       "        this.send_message(\"toolbar_button\", {name: name});\n",
       "    }\n",
       "};\n",
       "\n",
       "mpl.figure.prototype.toolbar_button_onmouseover = function(tooltip) {\n",
       "    this.message.textContent = tooltip;\n",
       "};\n",
       "mpl.toolbar_items = [[\"Home\", \"Reset original view\", \"fa fa-home icon-home\", \"home\"], [\"Back\", \"Back to  previous view\", \"fa fa-arrow-left icon-arrow-left\", \"back\"], [\"Forward\", \"Forward to next view\", \"fa fa-arrow-right icon-arrow-right\", \"forward\"], [\"\", \"\", \"\", \"\"], [\"Pan\", \"Pan axes with left mouse, zoom with right\", \"fa fa-arrows icon-move\", \"pan\"], [\"Zoom\", \"Zoom to rectangle\", \"fa fa-square-o icon-check-empty\", \"zoom\"], [\"\", \"\", \"\", \"\"], [\"Download\", \"Download plot\", \"fa fa-floppy-o icon-save\", \"download\"]];\n",
       "\n",
       "mpl.extensions = [\"eps\", \"jpeg\", \"pdf\", \"png\", \"ps\", \"raw\", \"svg\", \"tif\"];\n",
       "\n",
       "mpl.default_extension = \"png\";var comm_websocket_adapter = function(comm) {\n",
       "    // Create a \"websocket\"-like object which calls the given IPython comm\n",
       "    // object with the appropriate methods. Currently this is a non binary\n",
       "    // socket, so there is still some room for performance tuning.\n",
       "    var ws = {};\n",
       "\n",
       "    ws.close = function() {\n",
       "        comm.close()\n",
       "    };\n",
       "    ws.send = function(m) {\n",
       "        //console.log('sending', m);\n",
       "        comm.send(m);\n",
       "    };\n",
       "    // Register the callback with on_msg.\n",
       "    comm.on_msg(function(msg) {\n",
       "        //console.log('receiving', msg['content']['data'], msg);\n",
       "        // Pass the mpl event to the overriden (by mpl) onmessage function.\n",
       "        ws.onmessage(msg['content']['data'])\n",
       "    });\n",
       "    return ws;\n",
       "}\n",
       "\n",
       "mpl.mpl_figure_comm = function(comm, msg) {\n",
       "    // This is the function which gets called when the mpl process\n",
       "    // starts-up an IPython Comm through the \"matplotlib\" channel.\n",
       "\n",
       "    var id = msg.content.data.id;\n",
       "    // Get hold of the div created by the display call when the Comm\n",
       "    // socket was opened in Python.\n",
       "    var element = $(\"#\" + id);\n",
       "    var ws_proxy = comm_websocket_adapter(comm)\n",
       "\n",
       "    function ondownload(figure, format) {\n",
       "        window.open(figure.imageObj.src);\n",
       "    }\n",
       "\n",
       "    var fig = new mpl.figure(id, ws_proxy,\n",
       "                           ondownload,\n",
       "                           element.get(0));\n",
       "\n",
       "    // Call onopen now - mpl needs it, as it is assuming we've passed it a real\n",
       "    // web socket which is closed, not our websocket->open comm proxy.\n",
       "    ws_proxy.onopen();\n",
       "\n",
       "    fig.parent_element = element.get(0);\n",
       "    fig.cell_info = mpl.find_output_cell(\"<div id='\" + id + \"'></div>\");\n",
       "    if (!fig.cell_info) {\n",
       "        console.error(\"Failed to find cell for figure\", id, fig);\n",
       "        return;\n",
       "    }\n",
       "\n",
       "    var output_index = fig.cell_info[2]\n",
       "    var cell = fig.cell_info[0];\n",
       "\n",
       "};\n",
       "\n",
       "mpl.figure.prototype.handle_close = function(fig, msg) {\n",
       "    fig.root.unbind('remove')\n",
       "\n",
       "    // Update the output cell to use the data from the current canvas.\n",
       "    fig.push_to_output();\n",
       "    var dataURL = fig.canvas.toDataURL();\n",
       "    // Re-enable the keyboard manager in IPython - without this line, in FF,\n",
       "    // the notebook keyboard shortcuts fail.\n",
       "    IPython.keyboard_manager.enable()\n",
       "    $(fig.parent_element).html('<img src=\"' + dataURL + '\">');\n",
       "    fig.close_ws(fig, msg);\n",
       "}\n",
       "\n",
       "mpl.figure.prototype.close_ws = function(fig, msg){\n",
       "    fig.send_message('closing', msg);\n",
       "    // fig.ws.close()\n",
       "}\n",
       "\n",
       "mpl.figure.prototype.push_to_output = function(remove_interactive) {\n",
       "    // Turn the data on the canvas into data in the output cell.\n",
       "    var dataURL = this.canvas.toDataURL();\n",
       "    this.cell_info[1]['text/html'] = '<img src=\"' + dataURL + '\">';\n",
       "}\n",
       "\n",
       "mpl.figure.prototype.updated_canvas_event = function() {\n",
       "    // Tell IPython that the notebook contents must change.\n",
       "    IPython.notebook.set_dirty(true);\n",
       "    this.send_message(\"ack\", {});\n",
       "    var fig = this;\n",
       "    // Wait a second, then push the new image to the DOM so\n",
       "    // that it is saved nicely (might be nice to debounce this).\n",
       "    setTimeout(function () { fig.push_to_output() }, 1000);\n",
       "}\n",
       "\n",
       "mpl.figure.prototype._init_toolbar = function() {\n",
       "    var fig = this;\n",
       "\n",
       "    var nav_element = $('<div/>')\n",
       "    nav_element.attr('style', 'width: 100%');\n",
       "    this.root.append(nav_element);\n",
       "\n",
       "    // Define a callback function for later on.\n",
       "    function toolbar_event(event) {\n",
       "        return fig.toolbar_button_onclick(event['data']);\n",
       "    }\n",
       "    function toolbar_mouse_event(event) {\n",
       "        return fig.toolbar_button_onmouseover(event['data']);\n",
       "    }\n",
       "\n",
       "    for(var toolbar_ind in mpl.toolbar_items){\n",
       "        var name = mpl.toolbar_items[toolbar_ind][0];\n",
       "        var tooltip = mpl.toolbar_items[toolbar_ind][1];\n",
       "        var image = mpl.toolbar_items[toolbar_ind][2];\n",
       "        var method_name = mpl.toolbar_items[toolbar_ind][3];\n",
       "\n",
       "        if (!name) { continue; };\n",
       "\n",
       "        var button = $('<button class=\"btn btn-default\" href=\"#\" title=\"' + name + '\"><i class=\"fa ' + image + ' fa-lg\"></i></button>');\n",
       "        button.click(method_name, toolbar_event);\n",
       "        button.mouseover(tooltip, toolbar_mouse_event);\n",
       "        nav_element.append(button);\n",
       "    }\n",
       "\n",
       "    // Add the status bar.\n",
       "    var status_bar = $('<span class=\"mpl-message\" style=\"text-align:right; float: right;\"/>');\n",
       "    nav_element.append(status_bar);\n",
       "    this.message = status_bar[0];\n",
       "\n",
       "    // Add the close button to the window.\n",
       "    var buttongrp = $('<div class=\"btn-group inline pull-right\"></div>');\n",
       "    var button = $('<button class=\"btn btn-mini btn-primary\" href=\"#\" title=\"Stop Interaction\"><i class=\"fa fa-power-off icon-remove icon-large\"></i></button>');\n",
       "    button.click(function (evt) { fig.handle_close(fig, {}); } );\n",
       "    button.mouseover('Stop Interaction', toolbar_mouse_event);\n",
       "    buttongrp.append(button);\n",
       "    var titlebar = this.root.find($('.ui-dialog-titlebar'));\n",
       "    titlebar.prepend(buttongrp);\n",
       "}\n",
       "\n",
       "mpl.figure.prototype._root_extra_style = function(el){\n",
       "    var fig = this\n",
       "    el.on(\"remove\", function(){\n",
       "\tfig.close_ws(fig, {});\n",
       "    });\n",
       "}\n",
       "\n",
       "mpl.figure.prototype._canvas_extra_style = function(el){\n",
       "    // this is important to make the div 'focusable\n",
       "    el.attr('tabindex', 0)\n",
       "    // reach out to IPython and tell the keyboard manager to turn it's self\n",
       "    // off when our div gets focus\n",
       "\n",
       "    // location in version 3\n",
       "    if (IPython.notebook.keyboard_manager) {\n",
       "        IPython.notebook.keyboard_manager.register_events(el);\n",
       "    }\n",
       "    else {\n",
       "        // location in version 2\n",
       "        IPython.keyboard_manager.register_events(el);\n",
       "    }\n",
       "\n",
       "}\n",
       "\n",
       "mpl.figure.prototype._key_event_extra = function(event, name) {\n",
       "    var manager = IPython.notebook.keyboard_manager;\n",
       "    if (!manager)\n",
       "        manager = IPython.keyboard_manager;\n",
       "\n",
       "    // Check for shift+enter\n",
       "    if (event.shiftKey && event.which == 13) {\n",
       "        this.canvas_div.blur();\n",
       "        // select the cell after this one\n",
       "        var index = IPython.notebook.find_cell_index(this.cell_info[0]);\n",
       "        IPython.notebook.select(index + 1);\n",
       "    }\n",
       "}\n",
       "\n",
       "mpl.figure.prototype.handle_save = function(fig, msg) {\n",
       "    fig.ondownload(fig, null);\n",
       "}\n",
       "\n",
       "\n",
       "mpl.find_output_cell = function(html_output) {\n",
       "    // Return the cell and output element which can be found *uniquely* in the notebook.\n",
       "    // Note - this is a bit hacky, but it is done because the \"notebook_saving.Notebook\"\n",
       "    // IPython event is triggered only after the cells have been serialised, which for\n",
       "    // our purposes (turning an active figure into a static one), is too late.\n",
       "    var cells = IPython.notebook.get_cells();\n",
       "    var ncells = cells.length;\n",
       "    for (var i=0; i<ncells; i++) {\n",
       "        var cell = cells[i];\n",
       "        if (cell.cell_type === 'code'){\n",
       "            for (var j=0; j<cell.output_area.outputs.length; j++) {\n",
       "                var data = cell.output_area.outputs[j];\n",
       "                if (data.data) {\n",
       "                    // IPython >= 3 moved mimebundle to data attribute of output\n",
       "                    data = data.data;\n",
       "                }\n",
       "                if (data['text/html'] == html_output) {\n",
       "                    return [cell, data, j];\n",
       "                }\n",
       "            }\n",
       "        }\n",
       "    }\n",
       "}\n",
       "\n",
       "// Register the function which deals with the matplotlib target/channel.\n",
       "// The kernel may be null if the page has been refreshed.\n",
       "if (IPython.notebook.kernel != null) {\n",
       "    IPython.notebook.kernel.comm_manager.register_target('matplotlib', mpl.mpl_figure_comm);\n",
       "}\n"
      ],
      "text/plain": [
       "<IPython.core.display.Javascript object>"
      ]
     },
     "metadata": {},
     "output_type": "display_data"
    },
    {
     "data": {
      "text/html": [
       "<img src=\"data:image/png;base64,iVBORw0KGgoAAAANSUhEUgAAA8AAAAFACAYAAABz+RVqAAAgAElEQVR4Xu29D9RdV1nn/yHYEqG0sTE0JY2ukaFNfaExEjFoV2uiJFMRMmbJyqryx6VAnKGQX2Mgk4iU8ichEIIZCBiLMEt/CBnMaECsrzIEa8EUgzGtgbS1iLRD0x8Ek1Iwkwr81n57zsvNzb3vPeees8/e+9nfuxaLNDln7/18nmef5/mec/Y+j0M/ERABERABERABERABERABERABEciAwOMysFEmioAIiIAIiIAIiIAIiIAIiIAIiAASwAoCERABERABERABERABERABERCBLAhIAGfhZhkpAiIgAiIgAiIgAiIgAiIgAiIgAawYEAEREAEREAEREAEREAEREAERyIKABHAWbpaRIiACIiACIiACIiACIiACIiACEsCKAREQAREQAREQAREQAREQAREQgSwISABn4WYZKQIiIAIiIAIiIAIiIAIiIAIiIAGsGBABERABERABERABERABERABEciCgARwFm6WkSIgAiIgAiIgAiIgAiIgAiIgAhLAigEREAEREAEREAEREAEREAEREIEsCEgAZ+FmGSkCIiACIiACIiACIiACIiACIiABrBgQAREQAREQAREQAREQAREQARHIgoAEcBZulpEiIAIiIAIiIAIiIAIiIAIiIAISwIoBERABERABERABERABERABERCBLAhIAGfhZhkpAiIgAiIgAiIgAiIgAiIgAiIgAawYEAEREAEREAEREAEREAEREAERyIKABHAWbpaRIiACIiACIiACIiACIiACIiACEsCKAREQAREQAREQAREQAREQAREQgSwISABn4WYZKQIiIAIiIAIiIAIiIAIiIAIiIAGsGBABERABERABERABERABERABEciCgARwFm6WkSIgAiIgAiIgAiIgAiIgAiIgAhLAigEREAEREAEREAEREAEREAEREIEsCEgAZ+FmGSkCIiACIiACIiACIiACIiACIiABrBgQAREQAREQAREQAREQAREQARHIgoAEcBZulpEiIAIiIAIiIAIiIAIiIAIiIAISwIoBERABERABERABERABERABERCBLAhIAMfn5rXAK4HFwAXAecB3eobp/nwa+HfA+e+7wHOAo/GZohGJgAiIgAh4JjAqZ5wPvAH4ZeAHga8Cvw38vz3juhl4GXAh8LkiBymneHacmhcBERABEQhDQAI4DPeZen0ucDHwROB9QwTwzwIH4hu6RiQCIiACItAxgVE546PAE4DfAP65EME/ANxbjPM1wA3AdcB9wE3AS4DLgW91bIu6EwEREAEREAHvBCSAvSMeu4NrgU8OEcA/V/zb2I3rRBEQAREQAVMEBuUMd7PUCeAfBr42xNovAjuBdxf//njgK8AG4IOmCMkYERABERABESheoRWIOAnMJICPF8L4X4DfLZ4Ux2mFRiUCIiACItAFgUE5YxvwfOAvilegHwX+N+Ce+p4oXnk+WSyjuaNnkJPAXcDGLgauPkRABERABESgSwJ6Atwl7Xp9DRPAy4HPAN8G3Ktv7g79ZmDPgOadf58KfKNe1zpaBERABESgh8CTi6eibs+FWH+DcsYtwK8D7wI2Ac4OlzPcHhI/D1wGfBm4Eri7x7APAw8Dr1BeidXdGpcIiEDiBFLIK4kjHj58CeB4XTtMAPeP+PXASuDqAaYsAB6I10SNTAREQASSIeDE4v+JeLSDcsY7gPXFhopu80T3WwbcXvyd2yCr7hNg5ZWIg0BDEwERSIpA7HklKZh1BisBXIdWt8fWEcCrgJ8eMDy3o+ep+++/nwsvdH+099uyZQtbt261Z1iPRZZtfPjhh1m4cCGK0bRDOIcYBS4qnorG6qxBOeNXgP9RPPktBbD7asBtxevP/wYMWgP8IHDjkDXAyiuxRkCNceUwZ5VXagREhIfmEKMJ5JUII6OdIUkAt8OxzVZmFet7XTFza1G4uNedzwA/Vqzbdmuz3OeQ3AYnHwLcU+DdwwTwqVOnzArgZz/72Xz2s59tk390bVm20Qngiy66CMVodGFXa0A5xGjEhcpMOeP7gS8A+4qlMu7Teu4VaCeG/3PhZLfO1+0C/bxCDLt88iLgiiG7QE8JYM3ZWlMkuoNzmLOK0ejCrtaAcojRiPNKLV+leLAEcHxeeynwgeL7vm505bd+3dpfV3i8rVi35dZwuU2w3gO4dV6DfuYLlXXr1rFnz6Dlz/E5dtwRWbYxBwFs2X9lTFu2sYzRiAuVmXKGe9LrPmfkdnh2T35PAR8v1gO7V5/Ln/tO8LrihuuhEd8BVl4Z92Ie0Xk5zFnLAtiy/5RXIrpQGB6KBLBh5xaC2fSd+snJSVatcm+A2/1ZtjEHAWzZf+Wss2xjAgK464ufeQFsOZ5zmrOWBbBitOvLXrv9Ka+0y3Oc1iSAx6GWzjnmC5V0XKGRDiKQgwCW59MmoELlHP8pr6Qd0uZHr7xi3sXJG6i8Et6FEsDhfeBzBOYLFd0F9Rk+/tvOoVBRjPqPI589qFDJTwBrzvqcUf7bVl7xz7iLHizPQ+WVLiJo5j4kgMP7wOcIzAvgvXv3snbtWp8Mg7dt2cYcChXL/isnh2UbVajkJ4Atx3NOc9byK9CK0eClWaMBKK80wtfKyRLArWCMthHzAjha8hpYJQI5COBKIHRQtARUqOQngKMNRg2sEgHllUqYdFBAAsorAeEXXUsAh/eBzxFIAPukq7YbE1Ch0hihGvBMQIWKBLDnEFPzLRNQXmkZqJprnYDySutIazcoAVwbWVInmBfAp0+fZvbs2Uk5pe5gLduYQ6Fi2X9lLFu2UYVKfgLYcjznNGctvwKtGK1bScV1vPJKeH9IAIf3gc8RmBfAGzZsYOfOnT4ZBm/bso05CGDL/isnh2UbVajkJ4Atx3NOc9ayAFaMBi/NGg1AeaURvlZOlgBuBWO0jZgXwLoLGm3sVRpYDgJYMVopFKI9SIVKfgJYczba6VhpYMorlTBFf5Dleai8Ej78JIDD+8DnCMwLYJ/w1LZ/AjkUKv4pqgefBFSo5CeAfcaT2vZPQHnFP2P10IyA8kozfm2cLQHcBsV425AAjtc3GhmgQkVhEDsBFSoSwLHHqMZ3NgHlFUVE7ASUV8J7SAI4vA98jsC8ANa38HyGj/+2cyhUFKP+48hnDypU8hPAmrM+Z5T/tpVX/DPuogfL81B5pYsImrkPCeDwPvA5AvMCeHJyklWrVvlkGLxtyzbmUKhY9l85OSzbqEIlPwFsOZ5zmrOWN8FSjAYvzRoNQHmlEb5WTpYAbgVjtI10KoC/853vcOLECebOncusWbOihaKBxUMgBwEcD22NZBwCKlTyE8DjxInOiYeA8ko8vtBIBhNQXgkfGRLA4X3gcwSdCeC7P/lJHtq4kUuPHuXBiQku2bGDK1as8Gmb2jZAQIWKAScaN0GFigSw8RA3Z57yijmXmjNIeSW8SyWAw/vA5wg6EcDuye/tS5dyzeHD07bctmQJVx865P1J8PHjx5k/f75PhsHbtmxjDoWKZf+Vk8OyjSpU8hPAluM5pzlr+RVoxWjw0qzRAJRXGuFr5WQJ4FYwRttIJwL4q1/9Kicvu4ynnzkzDeLe889nzgMPMG/ePK9wNm/ezLZt27z2EbpxyzbmIIAt+6+cG5ZtVKGSnwC2HM85zVnLAlgxGroya9a/8kozfm2cLQHcBsV42+hEAId8Ahwveo2sCoEcBHAVDjomXgIqVPITwPFGo0ZWhYDyShVKOiYkAeWVkPQf61sCOLwPfI6gEwHsDJhpDbA2x/Lp4rTbVqGStv9yGL0KFQngHOLcko3KK5a8adMW5ZXwfpUADu8DnyPoTAA7IwYJXW2O5dO96betQiV9H1q3IIFCZS3wSmAxcAFwnrscD/DLs4C/BQ4C1/T9+83AywCXMz5XtHd0iG87zSvW40v2tU9AeaV9pmqxXQIJ5JV2DY6wNQngCJ3S4pCCFipdvBq9Z88e1q1b1yKy+JqybGMOhYpl/5WzxbKNCRQqzwUuBp4IvG+IAH4C8HfAcWB2nwB+DXADcB1wH3AT8BLgcuBbA66IQfNKF1doy/Gc05y1vAZYMdrFlcBfHwnkFX/GR9KyBHAkjvA0jKCFShebYx08eJBly5Z5whdHs5ZtzEEAW/ZfOUMs25hQoXIt8MkhAngH4D7Ofgr42T4B/EVgJ/Duwp+PB74CbAA+mKMAthzPOc1ZywJYMRpHfTbuKBLKK+OaGP15EsDRu6jRAIMK4FFPgLU2uJFvTZycgwA24aiMjUioUBkmgN3rznuAJcCmPgHscsRJ4DnAHT1ungTuAjbmKIAzDncTpiuvmHCjaSMSyitm/SABbNa1U4YFFcBuAMPWAGttsO3Aq2qdCpWqpHRcKAIJFSqDBPCTgH8AfhX4dPF6c+8T4MuALwNXust1D+MPAw8Dr5AADhV56ndcAsor45LTeV0RSCivdIWk834kgDtH3mmHwQWws7b/Se+oJ8N1CB07doxFixbVOSW5Yy3bmEOhYtl/5WSybGNChcogAfy7wGng/yl85db39grgsZ8Ar1y5komJialmly9fzoEDB9i6dSuzZ7slxrB3717mzJnDqlWrpv77+PHj7Nq166zvtrt1jIsXL55exuLiaP/+/Wza5B5UP/Z761vfyjXXXDN1zKxZs3Cvfh45cuSsvR/cN1HXr1/P/Pnzp86ZnJzk5MmTrF3r9geD06dPs2XLlsrjK+O5yvi2b9/O6tWrp/NQF+Mr2TQZ37XXXjs95rb5tTG+3r096o6vnLP79u1jzZo1jeIvVv+WMRrr+MoYaDI+d21w9V3d+Rs6/oZd/9w1asGCBVPDO3PmDLt373Z/vKi42ZhcbZr6gCWAU/fgzOOPQgD3D7HNtcHu4tpbLFl0p2UbcxDAlv3XW+RYnYeJC+B/Lgqsbxe+chtluV2i3WvPbvMEt/530BrgB4EbQ68BDvWmkOZs2plUeSVt/ymv2PBf7FZIAMfuoWbji1IAz/QE2Jl74sQJ5s6dO3W3Xz/bBHIoVGx70L51CQhgd6F0otY9Ab4VeDLgBO8ZYB7wfT1e+k3gp4FfBB4qPpfk1vm6XaCfV4jh1wMvAq4IuQt0m28K2Y9SWdhLQHlF8RA7gQTySuwIG49PArgxwqgbiFIAO2KD7uy7v39o40YuPXqUBycmuGTHDq5YsSJqwBpcMwIqVJrx09n+CSRQqLwU+ADw3YKGy+vuz8uB2/oI9b8CXf7zGwD3PTknng/F8B3gNt8U8h8l6iEmAsorMXlDYxlEIIG8Yt5xEsC2XRytAHbYe9cGu/++felSrjl8eNojty1ZwtWHDulJsOEYVaFi2LlGTFOhco4jO8kregJsZAIFMEN5JQB0dVmLgPJKLVxeDpYA9oI1mkY7KVTasHbcu/1aq9UG/XBt5FCoKEbDxVcbPatQCSOAXa9aA9xGBA9uw/J1SXnFX9x02XIOMapNsLqMqLP7kgAOx76LnpMRwKPu9g/7ZrDl3WfLALFsYw6FimX/5RSjKlSmU1aneSXE9+I1Z7soT/z1obzij22XLVueh7qx2mUkDe5LAji8D3yOoNNCpakh+mZwU4LpnZ9DoZKeVzTiXgIqVMI9AVYkisA4BJRXxqGmc7okoLzSJW0J4PC0ux9BUgLY4fH5zeDu8avHUQRUqIwipH8PTUCFigRw6BhU//UIKK/U46WjuyegvNI98/4e9QQ4vA98jiA5AdwPY9Ta4IMHD7Jsmfucpd2fZRtzKFQs+6+cdZZtVKGSnwC2HM85zdlTp05x4YWuDLL3U4ym7VPllfD+kwAO7wOfI0heAI9aG/ze976XX/qlXzL93eA9e/awbp37Qom9Xw4C2LL/yoi0bKMKlfwEsOV4zmnOWhbAitG06yHllfD+kwAO7wOfI0heADs4WhvsM0TCtp2DAA5LWL03JaBCJT8B3DRmdH5YAsorYfmr99EElFdGM/J9hASwb8Jh2zchgB1CrQ0OG0i+eleh4ous2m2LgAoVCeC2YkntdENAeaUbzuplfALKK+Oza+tMCeC2SMbZjhkB3I931NrgON2hUfUTUKGimIidgAoVCeDYY1TjO5uA8ooiInYCyivhPSQBHN4HPkdgVgCXa4NvPXyYbQXB25Ys4epDh5g1a5ZPpp23vXnzZrZtK63svHuvHeZQqFj2Xxkclm1UoZKfALYczznNWctrgBWjXksT740rr3hHPLIDCeCRiJI+wKwAdl5xa4M/v349z7jnHh6cmOCSHTu4YsWKKYf1vzKdshePHz/O/PnzUzZh6NhzEMCW/Vc61rKNKlTiFMA+r/GW4zmnOWtZACtG0y6JlFfC+08COLwPfI7AtAAeJnSHbZrlE7TaHo9ADgJ4PDI6KxYCKlTiE8C6xscyO+Ich/JKnH7RqL5HQHklfDRIAIf3gc8RmBfA/fBGfTbJJ2y1XZ+ACpX6zHRGtwRUqMQlgHWN7zb+U+xNeSVFr+U1ZuWV8P6WAA7vg/4RrAVeCSwGLgDOc2/09hx0FfAu4FnASeAW4OYhZpgXwJOTk6xatWrafIubY/XbGF/Ijj+iHAoVy/4rPW/ZRhUqcQngLq7xluM5pzlr+RVoxej4dUcMZyqvhPeCBHB4H/SP4LnAxcATgff1CWAniO8B3g+8EbgcuBXYAewaYIp5Abx3717WrnX3DB77zfR0wP37iRMnmDt3blIbZfXbGF/Ijj+iHASwZf+VnrdsowqVuARwF0+ALcdzTnPWsgBWjI5fd8RwpvJKeC9IAIf3wbARXAt8sk8AvxTYDjy156nwq4FXAU/PUQAPgjdofZg77qGNG7n06NFzNsyKNwTsjywHAWzfi7YtVKESlwB2o9EaYNtzrql1yitNCep83wSUV3wTHt2+BPBoRqGOGCSAdwJXAtf1DOo5wO3ARcAjfYM1/wR4mHN6dwh1x9y+dCnXHD48fbjVTyaFCtZx+1WhMi45ndcVARUq8QlgNyKfu0B3FVvqxw8B5RU/XNVqewSUV9pjOW5LEsDjkvN/3iAB7F6JfhJwfU/3i4CjwELgK7kJ4NOnTzN79uwZvdHFmjGf4VDFRp/9+2w7h0LFsv/K2LBsowqVOAWwz+uS5XjOac5afgVaMerzCuC/beUV/4xH9SABPIpQuH9v7QnwypUrmZiYmLJk+fLlHDhwgK1bt04LR7eWZM6cOdObSbnvy+3atYtt27ZNW79nzx4WL17MsmXLpv7u2LFj7N+/n02bNk0fs337dlavXs2iRU6Tw8GDBzly5Ajr1q2bPsZ9vH39+vXT37V1GzmcPHlyeh2vu6hv2bKl8vg2bNjAzp07mWl85Zqxvz18mNWAG517Avx97343d911Fy9/+cun1wb/1m/9VqvjKw1vwu/uu++estH92ubXxvia+LdMAvv27WPNmjVTw0kp/qrwK2M0xPyoMr7ymCbju+OOO6ZitO787Wp85T4BVcfnrlELFiyYGt6ZM2fYvXu3+6N7y+bhcClhaM8zbZz4bOB1wE8A3w/8C/BO4H/0teY2UnwZ4N4a+lyxEaO7sTroZ/7NonLORujr1oZk2cYcbqxa9l8Z5JZtlABu7VI2dkMSwGOj837iIAH8EuBtfWuA1wM35LoGuOpd0GFrxlJYS1bVRu8R6aGDHAoVy/4rQ8KyjQkUKjNtnOiWy8wD/hz4GvAzwH7gxcBHC/+9psgh7tj7gJsAl2vcJovfGjDtzQtgy/Gc05zVE2APSbvDJi3PwwTySoeeDtOVBHAY7jP1OqvY+MoJYLfD85OBb7sHEcXrz3cXu0C/pRC9Hwfekesu0HXc179mrIvdROuML8djcxDAOfrVks0JFSqDbpoOcsWfAF8Cbiz+8YuAe8Xk3cV/P75YTrMB+GCOAthS/OZoi/JKjl5Py+aE8kpaYGuMVgK4BqyODnU7PX8A+G7Rn/OR+/Ny9+Yu8AzgPcV3gE8B7wXeNGRs5u/UN/FJ6muDm9gey7kqVGLxhMYxjEBChUoVAexywjHArV35w+KVZ/c9ebeZ4h09DCaBu4CNEsCaG6kRUF5JzWP5jTehvGLWORLAZl07ZZh5AdzkW3ijngDHsstoExtjD+8cChXL/ivjy7KNCRUqowTwecVrz+7/Vxaf0rsM+HLxdQH3dlH5+3Cx3vkVOQpgy/Gc05y1/Aq0YjT26mbm8SWUV9IGPcPoJYDNujYPAew20Vq1atXYXkxhbXBTG8eG08GJOQhgy/4rQ8SyjQkVKjMJYLcBlnv1+fuAF/Ss7XU3SfUEuO9aZzmec5qzlgWwYrSDAsVjFwnlFY8UwjYtARyWv+/ezT8BbgOg1ga3QXG8NnIQwOOR0VmxEEioUBkmgOcAbq8ItwnWLwGP9rEdtAb4wWKN8NA1wLF+XcBdzz/ykY9MfSf4+usf+2Jg1d2/U/n6Qem/Jl8XaLJ7v+s/5q9H5PB1gTIGmuzeX3d3fMvz4/LLL5/6Gsi999479XUQH/Mjsa8LxJKCvY1DAtgb2igalgAeww1aGzwGtDFPkQAeE5xO64xAAgJ4po0TnwL8VfGt+BcVGyr2s3PrfN2XBJ4HODH8esAde0Vqu0CnsKt/Z4GbcUfKKxk7fwzTQ1w3EsgrY5BM6xQJ4LT8VXe05gWw+2bs/Pnz63KZ8fjY1gb7sLFVYA0ay6FQsey/0vWWbUygUJlp40T32SP3WaPyc0bl5op/Uwje0oVvANwH291XBw6l+B3gUdftOpcpy/Gc05y1/Aq0YrTOjB5+bJvXjTojSiCv1DEnyWMlgJN0W+VBmxfAmzdvZtu2bZWBVD0wprXBvmysysLncTkIYMv+K2PDso0qVM65AkSZV9p8c8dyPOc0Zy0LYMVoO5VJm9eNOiNSXqlDy8+xEsB+uMbSapSFSixwRo1Da4NHEWr+7zkI4OaU1EJIAipU0hDAoZ7khIxN9T2YgPKKIqMqgVDXDeWVqh7yd5wEsD+2MbQsAdyiF0LdKWzRhOiaUqESnUs0oD4CKlTSEMBulCHW8mnCxEdAeSU+n8Q8ohDXDeWV8BEhARzeBz5HIAHcIt2Z7hS6btwOgnPnzmXWLLcnjX5VCKhQqUJJx4QkoEIlHQHsRhrL99tDxmzufSuv5B4B9e3v+rqhvFLfR22fIQHcNtG42jMvgN1nIHq3q/eNf9CdQtfnQxs3cunRozw4McElO3ZwxYoVrQ2laxtbG3iFhnIoVCz7r3SxZRtVqKQlgCtcdkYeYjmec5qzltcAK0ZHTuOoD1BeCe8eCeDwPvA5AvMC+ODBgyxbtswnw3Pa7r1T6P7x9qVLuebw4enjbluyhKsPHWrtSXAIG7sCmoMAtuy/Mk4s26hCJT8BbDmec5qzlgWwYrSrKsVPP8orfrjWaVUCuA6t9I41L4BDu0Trgpt5IAcB3IyQzg5NQIVKfgI4dMyp/2YElFea8dPZ/gkor/hnPKoHCeBRhNL+dwlgz/4LtYOgZ7M6a16FSmeo1dGYBFSoSACPGTo6LRAB5ZVA4NVtZQLKK5VReTtQAtgb2igaNi+Ajx07xqJFi4LCnmkHwTY2VojBRl+AcyhULPuvjAvLNqpQyU8AW47nnOas5VegFaO+qpJu2lVe6YbzTL1IAIf3gc8RmBfA27dvZ9OmTT4ZVmp7kNBta2v9WGysBKLmQTkIYMv+K91t2UYVKvkJYMvxnNOctSyAFaM1i43IDldeCe8QCeDwPvA5AvMC2Ce8Jm3r1ehq9HIQwNVI6KhYCahQyU8AxxqLGlc1Asor1TjleFQbb+W1wU15pQ2KzdqQAG7GL/azJYADeUibY1UDr0KlGicdFY6ACpX0BXAsRW+4KM6rZ+WVvPxd1dq23sqr2t9MxymvtEGxWRsSwM34xX62BHAgD416AqyC7DHHqFAJFKDqtjIBFSppC+CYit7KQacDGxFQXmmEz+TJo2qyro1WXuma+Ln9SQCH94HPEZgXwDGvgxlWeNUtyGK2sWnw5lCoWPZf6X/LNqpQSVcAj1v0Wo7nnOas1gA3zdBhz29zHsb2Vp7yStjYcr1LAIf3gc8RmBfAse+E2P+kd5yCLHYbmwRwDgLYsv9K31u2UYVKugJ43KLXcjznNGctC2DFaL3KY5zaq14P9Y5WXqnHy8fREsA+qMbTpnkBHA/qaiMZtyCr1np6R+UggNPzikbcS0CFSroCOLaiVzOrGwLKK91wTq2Xum/f+bRPecUn3WptSwBX45TqURLAkXluVEGW29pgFSqRBaiGcw4BFSrpCmA38piKXk2vbggor3TDOcVeYqmxlFfCR48EcHgf+ByBeQF88OBBli1b5pNh623XXRucoo1VoeVQqFj2X+lnyzaqUElbALvR1y16LcdzTnPW8ivQitGqVUacxymvhPeLBHB4H/gcgXkBvGfPHtatW+eToZe266wNvuWWW5K0sQq4HARwqjFaxX/lMZZtVKGSvgCuE8vuWMvxnNOctSyAFaN1Z3VcxyuvhPeHBHB4H/gcgXkB7BNel23nujY4BwHcZRypr/YJqFDJTwC3H0VqsUsCyitd0lZf4xBQXhmHWrvnSAC3yzO21iSAY/PIkPHMtDbYnXLixAnmzp3LrFmzErGo2jBVqFTjpKPCEUigUFkLvBJYDFwAnOfe+u0hdhXwLuBZwEngFuDmPqLuv18GuJzxuaK9o0OoK6+EC0f1XIGA8koFSDokKIEE8kpQPl10LgHcBeVwfahQCce+ds+D1ga7Rh7auJFLjx7lwYkJLtmxgytWrKjddqwnqFCJ1TMaV0kggULlucDFwBOB9/UJYCeI7wHeD7wRuBy4FdgB7CpsfA1wA3AdcB9wE/CS4thvDYgE5RVNj6gJKK9E7R4NDkggr5j3kwSwbRebL1Q2b97Mtm3bzHixd22wM+r2pUu59fBhSgtvW7KEqw8dMvMkOIdCxVqMDppslm1MqFC5FvhknwB+KbAdeGrPU+FXA68Cnl748ovATuDdxX8/HvgKsAH4YF6k/B0AACAASURBVI4C2HI8l/60bKPyio2SKIcYBS5yetiGx9KyQgI4LX/VHa15AXz8+HHmz59fl0sSx5frgp985gylhfeefz5zHniAefPmJWHDqEHmUKhYjtHSv5ZtTFwAO2F7ZfF0t3TXc9y9taLwcmsq3GvR7u/u6Jmvk8BdwMYcBbDleM5pzlreBEsxOnN1UXfn91G1Stv/nlBeadv0aNqTAI7GFV4GYl4Ae6EWSaM5fDM4BwEcSThpGGMSSKhQGfQE2L0S/STg+h7zFwFufe9CwAngLxci+e6eYz5cPJV4hWUBHHuRPGbIZn+a8kreIZDCt78Tyitmg0kC2KxrpwyTAE7cv3W/GZyauSpUUvNYfuNNqFAZJIC9PQFeuXIlExMTUwGxfPlyDhw4wNatW5k9e/bU3+3du5c5c+awatWqqf92T6x27dp11pIV9ymXxYsXT3/L/dixY+zfv59NmzZNB9r27dtZvXo1ixY53Q7u+6dHjhw569Nw7lXJ9evXT78NNDk5ycmTJ1m71u0PBqdPn2bLli1nje+dv/3bfPtDH2L1/fdP7a8wa8sWPv65z0Uzvtj5xTy+cs7u27ePNWvWRBl/MfNLYf4O4/eWt7xlaunYNYcPs6fYGfBMsXTsnnvu6ez6Mmh87hq1YMGCqXg8c+YMu3fvdn/UK9CBygoJ4EDgO+rWvAB2hU5ZYHXEtPNubr31VpYuXTq9C/SoJ8OdD7BBhzkI4Bxi1LKNiQtgt5nV2/rWAK8vNr2aaQ3wg8CNVtcAj7qGWo7n8nJt2UbllQZJOaJTx4nRVD4pmVBeiSgi2h2KBHC7PGNrzbwAdnfZyrv8scFvazz9NqZyga9ifw6FSo4xWsX3qRyTQKHiXmN2nz5yT4DdDs9PBr7tHjIUrz+7V5vdLtBvKTa++jjwjp5doN06X7cL9PMAtyHW64EXAVcAJneBHnUN1ZxNZXYOHqfyStr+K0c/zjwcdXMrFjIJ5JVYUHkbhwSwN7RRNGxeAEdBueNBpHKBr4Ilh0KlCgcdEy+BBAoVt9PzB4DvFhRdXnd/Xg7cBjwDeE/xHeBTwHuBN/URfwOwrhDPh6x/B9jSNTTemRNuZMor4djH0LPWAMfghfjHIAEcv4+ajFACuAm9iM+d6QKf0sYuKlQiDjINbYpAAgK4a0+ZyCspFMldO9ZKf8orVjw5vh2x10HKK+P7tq0zJYDbIhlnOyYKlZnQus1Nyk1X4nRB81ENs3HQBT61oi6HQiXnGG0e/eFbUKFyjg/M5JVhRbLmbPh512QEyitN6MVzruV5qLwSPs4kgMP7wOcIzBQqwyBt2LCBnTvdRqd2f1VtTPG1vhwKlar+SzmCLduoQsWuAFZesZk7lVdSzibfG7vyig0/xmqFBHCsnmlnXOYFsOU7hGUIVLVx1MYu7YRUu63kUKhU9V+7ZLttzbKNEsD5CWDL8Vw3r3R7JWmnN+WVdjiGbsXyPFReCR1dIAEc3gc+R2BeAPuEl1rbo54Ax7gmJodCJbU40njPJqBCJT8BrDmQNgHllbT9l8PolVfCe1kCOLwPfI5AAtgn3QjbHrYGONa1wSpUIgwiDeksAipUJIA1JdIioLySlr9yHK3ySnivSwCH94HPEZgXwON8J84ncB9t17Wx/0nvqCfDPsZctc0cCpW6/qvKLqbjLNuoQiU/AWw5nktvWrZReSWm7DD+WHKIUeAi97GB8SnpzHEJSACPSy6N88wL4MnJSVatWpWGN8YcZVMbY14bnEOh0tR/Y4ZNp6dZtlECOD8BfOutt7J06VLmzp3LrFmzOp1LXXWWw5w9deoUF17oyiB7P8v+K71V1cYYl3eNijjllVGE/P+7BLB/xm33cBPw28C3eGwN93eBjwG/MqAj8wK4bbgW25vpCbCz98SJE8EKvRwEsMWYyskmFSp5CeBYl4vkNOea2qq80pRgOuenOl+VV8LHmARweB/UHYETwD8LXFPhRAngCpByOGRQknB2P7RxI5cePcqDExNcsmMHV6xY0SkOFSqd4lZnYxBQoZKPAI55ucgYoZvtKcorebg+5fmqvBI+RiWAw/ug7ggkgHuIHT9+nPnz59dlmNTxbdnY+5qQA3D70qVcc/jwNIvblizh6kOHOn3lL4dCpS3/xRy0lm1UoZKPAC6Xizz5zBnKrHLv+ecz54EHmDdvXsxTsPbYcpizll+Btuy/MphH2Rjz8q5RE1J5ZRQh//8uAeyfcds9OAG8sXgF2r0G/Rngt4AvDejI/BPgzZs3s23btrYZR9WeDxtjSRw5CGAf/osqQAHLNqpQyUcAl0+Ubj18mDKrhLgx2MX8zmHOWhbAlv1Xxv8oG/UEuIsrhd0+JIDT8+2PAt8A7gcuBd4OLAOuKkRxr0XmBXB67otjxKMSR1ebSuQggOPwuEYxLgEJ4HwEsLM01TWF48a3xfOUVyx6dbBNqc5X5ZXwMSoBHN4HTUdwPnAKeD7wib7GpgTwypUrmZiYmPqn5cuXc+DAAbZu3crs2bOn/s5tNT9nzpzp3ZTdaye7du0668nqnj17WLx4McuWOa0Nx44dY//+/WzatGm6y+3bt7N69WoWLVo09XcHDx7kyJEjrFu3bvoYd0dv/fr1068tu13+Tp48ydq1a6eOOX36NFu2bNH4OuD3q8997vQa4D2XXMJPvPa1rL3hhqkC8LM33MCd99zD86+6anptsA//lklg3759rFmzZioGFH+aH6GvL+4atWDBgql4PHPmDLt373Z/1OcqHruSm7+x2tUNwKbJX+cPJiABnFdkpDhfJYDDx6gEcHgfNB1BKYBfAPzVIAFs+TWgpvByPz/0N4NVqOQegfHbr0LlHB+ZF8DxR6VGOBMB5RXFR+wElFfCe0gCOLwP6o7ghcAn3ddrgEuKV6CvBp4JfDM3AeyeTPc+Ya4LM4Xju7Sx67XBORQqXfovVDxbtlGFSn4C2HI8l960bKPySqhM0G6/OcSo3ixqN2bqtCYBXIdWHMfuL9b8Pgn4V+C24rvAXxwwPPN36t1r1uVr2XG4p/1RdGlj12uDcyhUuvRf+9FXrUXLNkoA5yeALcdz6U3LNiqvVLtux35UDjEqARwuCiWAw7HvomfzArgLiLn1MWxTCR+bTeRQqOQWP9bslQDOTwBbi+Hc7FFeyc3j6dmrvBLeZxLA4X3gcwQSwD7pGm67q7XBKlQMB5ER01SoSAAbCeVszFBeycbVyRqqvBLedRLA4X3gcwTmBbDbLbbcddonyJBtx2Cjr7XBORQqMfjPd/xattFIofIU4HeAFYDbOPEL7vPNxRIaFx7uM3rvAp4FnARuAW4eEjfZ5pUUd5sdNvdzmLOWNwC17L8yZvtttDT/jOQV36WF1/YlgL3iDd64+ULFfZqn91NMwYl7GEAMNvpaG5yDAI7Bfx7C8qwmLdtopFDZB/wg8IvF3hE3Am8Afgj4d+Ae4P3AG4HLgVuBHcCuAbGTZV7xsQTE97ycqf0c5qxlAWzZf2Xc9tpobf4ZySshL2GN+5YAboww6gbMFypR0zc2OB9rg3MQwMbCIDtzjBQq/wD8fvGU1/nQbaL4DeAngSuBtwFPBb5TOPjVwKuAp+cogPttHnUDMLtJEbnByiuRO6jm8CzOPyN5paYn4zpcAjguf7Q9Ggngtolm3l7ba4NVqGQeUAmYb6RQuR54OfDLxSf0NgC/Vrz6vK0Qwdf1uOM5wO3FDqWP9Lkpu7ziawlIAuGf5BCVV5J029BBW5x/RvJK0oEmAZy0+0YOPrtCZSQRHdAqgaaJSYVKq+5QYx4IGClU3KvOvwv8p+KV568Xr0P/LfC+4omwE8nlbxFwFFgIfCV3AWzxCZSHqRJNk8or0biilYFYnH9G8kor/g3ViARwKPLd9GteAOe2DqabsKneS9PElEOhohitHk8xHmmgUHF5/p+ATwHuya979fkXgD8ArgF+VU+Az468QXPW2hpEy9cl5ZUYr6T1x6Q1wPWZ6YzqBCSAq7NK8UjzAjjHnRBjC8RhhWGVHRtzKFQUo7FFbL3xGBDAFwNfA5YAR3qs/xzwYeChAWuA1wM3zLQGeOXKlUxMTEw1t3z5cg4cOMDWrVuZPXv21N/t3buXOXPmsGrVqqn/Pn78OLt27WLbNvfG9WO/PXv2sHjxYpYtWzb1326u7N+//6yNDV0RvHr16und/g8ePMiRI0dYt27ddDubN29m/fr1zJ8/f+rvJicnOXnyJGvXrp3679OnT7Nly5bK4yvnbP/4Pv/5z/OhD32Im2++mVmzZk21HWJ8bfC79tprp5m2za+N8TXxbzln9+3bx5o1a5KLvyr8yhhNNf6q+NddG9xXPsr5++Y3v5lvfvObzJ07l4985CPJXV/cNWrBggVT7j1z5gy7d+92f7wIeLheVtLRbRCQAG6DYrxtmBfA8aLPa2T9Yrfq05IcBHBekWDPWgMC2DnlH4HPAL8JuDW9zwM+Avw88HfA3cUu0G8pRO/HgXfkugu0vSjOyyLllbz8naK1RvJKiuinxywBnLT7Rg5eAngkIh3QNoE6r0WrUGmbvtprm4CRQuVpxWeNfgp4AnB/8V1gtzO0+z0DeE/xHeBTwHuBNw1hqbzSdpCpvVYJKK+0ilONeSBgJK94INNdkxLA3bEO0ZP5QsW9Dle+PhcCcBd9pmZjnY2xcihUUvPfODFt2UYVKudEhPLKOJMksnNymLOWvwNs2X/lVLFso/JK+AuiBHB4H/gcgflCxa3R6l1L4hNmqLZTs3HUE+De16UfeeQRLrroIiwXKqn5b5w4t2yjCpX8BLDleC69adnGHG6sWvZfTjGqNcDjVBztnCMB3A7HWFsxL4BjBZ/7uIatAe7/+yfdfDNLX/AC0wI491hI3X4J4PwEcJ2YrbLZX532dGxzAjkI4OaU4m0hhzmlvBI+/iSAw/vA5wgkgH3SVdszEuhPYoOeDN961VX8/J13SgArlqIloEJFAnhYcFbd7C/a4DY6MAngdB2by5xSXgkfoxLA4X3gcwQSwD7pqu1aBAatDT583nn8+KOPSgDXIqmDuySgQkUCeFC8jVrq0WWMqq+zCUgApxkROc0p5ZXwMSoBHN4HPkdgXgC77xf2flfSJ8xQbVuxcdQT4AsuuIATJ05MfeOv/MZmKOZt9mvFfzMxsWyjCpX8BHCVeK6z2V+b15O22qpiY1t9dd1ODgLYov/659Rm4NfOP585DzzAvHnzug4jr/0pr3jFW6lxCeBKmJI9yLwAPn78OPPnz0/WQVUGbsnGYWuAD330o3zzppu49OhRHpyY4JIdO7hixYoqeKI/xpL/hsG2bKMKlfwEcJV4Tv1pVRUbo7+4DhlgDgLYov/659Rx4J4lS7j60CFTN8Vd2CqvhL+6SACH94HPEZgXwD7hqW0/BAbtAv3nV13FdXfeOd3hbUaTnh+iatUnARUq+QngqvGUy3rFqjxiOS4HARwL67bHkcucUl5pO3LqtycBXJ9ZSmdIAKfkrQzHWiaBvz/vPJY8+ug0gXuNvvaUoYuTN1mFigTwTEGcw461qU1iCeDUPHb2eHOYU8or4WNUAji8D3yOwLwAnpycZNWqVT4ZBm/bso1lEpjpCXDqydCy/8rJYdlGFSr5CWDL8ZzTnLX8fXnFaPDSrNEAlFca4WvlZAngVjBG24h5Abx3717Wrl0brQPaGJhlG8skMGwNsIXXoSz7r4xvyzaqUMlPAFuO55zmrGUBrBhto7oK14bySjj2Zc8SwOF94HME5gWwT3hq2z+B3lfV+neBTn2TGf/01EMXBFSo5CeAu4gr9eGPgF6B9sdWLbdDQHmlHY5NWpEAbkIv/nMlgOP3UdYjnKlQSf0zI1k71pDxKlQkgA2FcxamSABn4eakjVReCe8+CeDwPvA5AvMC+PTp08yePdsnw+BtW7ZxpkJlpifAzimpfDPYsv/KyWHZRhUq+QngNuI59r0L2rAxeHIcMoAcBLAF/42aIxZsHDZHlFfCXz0kgMP7wOcIzAvgDRs2sHPnTp8Mg7dt2cZRhcqgNcDOIQ9t3JjMN4Mt+6+cHJZtVKGSnwBuGs8p7F3Q1MbgiXGGAYzKKzGPverYUvdflTmSuo0z+VJ5pWqk+ztOAtgf2xhaNi+ALd8hzOnp2kyblfTeJXZMbl+6lGsOH56eX7F/M1gxGsOlcPwxqFDJTwA3mbOp7F3QxMbxZ1M3Z+YggFP2X9U5krKNoyJdeWUUIf//LgHsn3HIHswL4JBw1XdzAnULFa0Lbs5cLdQjoEIlPwFcL0LOPlrXqCb02jm3bl5pp1e1UpWA5ggor1SNFn/HSQD7YxtDyxLAMXhBYxhKoG6hUvXOsZCLQFsEVKhIANeJJV2j6tDyc2zdvOJnFGp1GAHNEQngGGaHBHAMXvA3BvMCWN/C8xc8XbQ8TqEy09qhUZtqdGFTfx+K0RDU2+tTAjg/Adx0zlZZ39hehI7XUlMbx+u1m7PGySvdjKy9XlL3X5U5krqNM3lbeaW9uTBuSxLA45JL4zzzAnhycpJVq1al4Y0xR2nZxnELlUFCt0pCHdMFjU6z7L8SjGUbVajkJ4DbiOcYb8b1erINGxtdGD2ePG5e8Tik1pu24L9Rc8SCjcMcr7zS+pSo3aAEcG1kSZ1gXgAn5Q0N9hwCbRUqeqVKweWLgKFC5TnAm4GfAL4NHAWuLrhdBbwLeBZwErgFuHkIU+UVX8Gmdlsh0FZeaWUwakQEBhAwlFeS9a8EcLKuqzRwFSqVMOmgUATaKlS0qUYoD9rv10ih4sTvnwM3AH8MPFqI3b8DLgDuAd4PvBG4HLgV2AHsGuBh5RX7YZ+0hW3llaQhaPBREzCSV6JmPGpwEsCjCKX97+YLlePHjzN//vy0vTRi9JZtbKtQGfUEeNSrVj4DyLL/Sm6WbTRSqNwG3AG8ZkCsvxTYDjwV+E7x768GXgU8PUcBbDmec5qzM31ez+c1v4u2FaNdUPbXh5G84g9QBy1LAHcAOWAX5gXw5s2b2bZtW0DE/ru2bGNbAth5Ydga4NBrgy37r4x+yzYaKFS+H/gG8A7gZ4CnAf8MuAvn/wJ2AlcC1/VczdwT49uBi4BH+q5yyisNLvshb8b1DjuHOWtZAKfmv3HiPjUb61wWDOSVOuZGeawEcJRuaW1Q5guV1kipoSAE2hTAzoD+JDvqyXAQo9VpUgQMFCoLgPuBh4DnAf8ArAY+DFwLvAx4EnB9j2MWFWuEFwJfyU0A+wrQ0DfjfNkVW7tt55XY7EttPIr7cz1mIK+kFobnjFcCOHkXzmiABLBt/yZvne9CRWuDkw+R4AYYKFRcHnAbW70V2NID9C+Aw8ATxnkCvHLlSiYmJqaaW758OQcOHGDr1q3Mnj176u/cJ0zmzJkzvUu/e2Vz165dZ72xs2fPHhYvXsyyZcumzjl27Bj79+9n06ZN08Pcvn07q1evZtEip8nh4MGDHDlyhHXr1k0f454UrV+/fno5jNs99uTJk6xdu3bqmNOnT7Nly5ag43vVq17FP/3CL3DN4cNMFg65dMkSrj50iDNnzgQfX+z86oyvnLP79u1jzZo1UzGQe/zV4dfm/H3rW9/Kgj/4A178hS88Nn/dJgQLF/K2L32JWbNmTf1dCvO3DX6ujQUL3P1Ipub87t273R/dWzYPB090GQ5AAti20yWAbfs3eet8C+BRT4DHeS0reegyoBYBAwLY2Xsv8JEhAthVpm/rWwO8vtgwK8s1wLUCpOLBuhlXEVQLh/nOKy0MMZsmFPeDXW0kryQdxxLASbtv5ODNC2D3BKH3ScBIIgkeYNnGLgqV0GuDLfuvnE6WbTRSqLhNrf5bsc73TuD5xSvQ17gHr24JfbEL9FuKja8+XqwZznIXaB/xPOpmXNepyYeNXdswrL8u8kpoW1PxX5O4T8XGcWLBSF4Zx/RozpEAjsYVXgZiXgC71+HK1+e8EIygUcs2dlWohFwbbNl/5fSwbKOhQsW9V/zK4pU790T4DcCfFT58BvCe4tNIp4D3Am8acvlTXhkzL8S0FjKHOWt5E6yU/Ddu3KdkY91LgqG8Utf0aI6XAI7GFV4GYr5Q8UJNjXZGoCsB3G+QXsvqzMXJd6RC5RwXKq80iGotu2gAr+KpofJKxeFleZji/my3K6+EnwYSwOF94HMEKlR80lXbjQmEKlRmei3LGXXixAnmzp07vUlHY0PVQLIEVKhIACcbvJkOPFReyRS3zB6DgPLKGNBaPkUCuGWgHTZ3c/H5CidyP1e82na0r3/zAtjtGlruDtoh+067smxjyEJl0GtZzrEPbdzIpUeP8uDEBJfs2MEVK1Y08rdl/5VgLNuoQiU/AWw5nnOas5ZfgVaMNkrLwU9WXgnuAiSAw/tgnBG8ptih8zrgPuAm4CXA5cC3eho0L4DdJzJ6P5kxDszYz7FsY0gB7Pze+1qW++/bly6d+kxJ+but+ExJ+bmGcWLFsv9KHpZtVKGSnwC2HM85zVnLAjjWGG3zVedYbRynDug/R3mlDYrN2pAAbsYv1NlfBHYC7y4G8HjgK8AG4IM5CeBQDlC/7RAILYB7rdC64HZ8aq0VFSr5CeAQMdymcAgx/pj6jCmvxMTF91jG3ezK97hibF95JbxXJIDD+6DuCNxT3ZPAc4A7ek6eBO4CNkoA10Wq40MRiKlQGfW5BhWooaIkbL8qVCSAfUeghEO7hGPKK+1aFm9ro/JnvCMPMzLllTDce3uVAA7vg7ojuAz4MnBl8e3G8vwPAw8Dr5AArotUx4ciEFuhEvqbwaH8oH6HE1ChIgHsc35IOLRPN7a80r6F8bWoN6jq+UR5pR4vH0dLAPug6rfN2k+A77//fi680J1m7/fOd76TG2+80Z5hPRZZttElgYULFxJTjLqC9Otf/zoXX3zx1C7Q7r//9tpr+ek775z2yqevuorn/PVfV9ol2rL/SiCWbSxjtPh+rrvJmPtPe0u0GAGhhEMO6yu1BrjFQB3RlI8bOTnEqPJKdzHa35MEcDj2TXoetAb4QcApwXPWADfpSOeKgAiIgAhMEbioeMsmdxzmBXCXO+z6EA5VArRLG6uMp81jcngCHKP/2n6VP0Yb24pTPQFui+T47UgAj88u5Jlune8NwPMAJ4ZfD7wIuGLQLtAxPV0LCU19x0cgxifA/ZRGPQHuf2IcH2WNqAkBPQE+h555AdwkXsY5t23hMM4YLJ2TgwCO1V/aK6OaZySAq3HyeZQEsE+6ftt+A7AOeDJwKNfvAPtFrNZ9E0ilUNHaYN+REG/7KlQkgLuITgmH9iinklfas1gtpUZAeSW8xySAw/vA5wjM36k/ePAgy5Yt88kweNuWbUypUOkvUKu+umjZf+XksGyjCpX8BLDleM5pzlpeA6wYDV6aNRqA8kojfK2cLAHcCsZoGzEvgPfs2cO6de5BuN2fZRtTEsD9EVZ18xrL/iuZWLZRhUp+AjiWePb5VDgWG31k7pTzSlUeof3nMzaVV6pGgY5rQkACuAm9+M81L4Djd4FGOBOBlAuVqk+AFQFpE5AAzk8AxxCxWhc8vhdSzivjW93dmYrN5qyVV5ozbNqCBHBTgnGfLwEct3+yH13qhcpMhUAXd8izD6AOAKhQkQDuIMzO6kI315oRTz2vNLPe79mKzXb4Kq+0w7FJKxLATejFf64EcPw+ynqEFgqVQUJXd8jthLUKFQngrqO56vKKrseVSn8W8kqsrBWb7XhGeaUdjk1akQBuQi/+c80L4M2bN7Nt27b4PdFghJZttFio9N8h3wxct2QJVx86xKxZsxpEQryn5hCj+g7wdPwpr3ieil08ZcthzlreBCuU/7qIzXJ6hbLR8/Seal4CuAvKM/chARzeBz5HYL5QOX78OPPnz/fJMHjblm20KID775AfB75x/vnMeeAB5s2bFzyefAwghxiVAM5HAMcQz77fIonBRh/Xol5xYVkAh/Sf79gs4yKkjb5is2xXAtg34dHtSwCPZpTyEeYFcMrO0di/dxfUUqEy0x1y5/MTJ04wd+5cs0+DrcW1CpVzPKq80lGQax+B8UBbvLE6Hgl/Zyk2m7FVXmnGr42zJYDboBhvGypU4vWNRtbzGpAlAewcO+gOufv7hzZu5NKjR3lwYoJLduzgihUrFAeREzBYqPwJsBr4OeCTBf6rgHcBzwJOArcANw9xjfJK5DGb+/AkgHOPgPjtN5hX4ofeN0IJ4ORcVmvA5guVyclJVq1aVQtKagdbttFyoVLeIT906NBUjN6+dCnXHD48HX63GVoXnEOMGnkF+iXALwPPLf7nBPAFwD3A+4E3ApcDtwI7gF0DrpfKK6klkQHjzWHOWrux2uvGrvwX8klvVzaGmM4SwCGon92nBHB4H/gcgflCZe/evaxdu9Ynw+BtW7bRsgAuA8f5b8WKFZy87DKefubMdDzda2hdcA4xakAAXwbcDlwNfLnnCfBLge3AU4HvFAH6auBVwNNzFMCxx3MboiR2G5sk3lzyiu/ap6u1vsN8nUOMGsgrTaZq0HMlgIPi9965eQHsnaA68Eogh0LFARy1c2YbBa1XR2XcuKE79ZPA/wR+vxC65SvQO4Er3WblPW5+TiGWLwIe6XO/8krA+RBalAQ0vXLXueSVykDGOHBUzhqjSZ3SQ8BQXknWrxLAybqu0sBVqFTCpINCEcipUBlWuKqgDRV91fo1Uqj812Ldb7lexD3pLQXw+4AnAdf3EFkEHAUWAl+RAK4WK76PkiipRjinvFKNSP2j9L3f+szqnGEkr9QxObpjJYCjc0mrAzIvgE+fPs3s2bNbhRZbY5ZtzKFQ6fVf/5NeKwVtDjGa8KtqP1I8zf1J4P7i+tYrgPUEuO+iH2s8tylKYrWxjfybW15pg1l/GzHkphxiNOG84iPsOm1TArhT3J13Zl4Ab9iwgZ07Xf1m92fZxhwKlZn812ZBG3IG5BCjCRcqbo3vHrfp0eut9wAAIABJREFUOlDm/LnAKWAv8Bng7cClPWuA1wM3zLQGeOXKlUxMTEyF3fLlyzlw4ABbt26dviHp1u/NmTNnepNC903PXbt2sW3btulQ3bNnD4sXL2bZsmVTf3fs2DH279/Ppk2bpo/Zvn07q1evZtEi91AaDh48yJEjR1i3bt30MZs3b2b9+vXT34R3m+ecPHlyen8IV0hv2bKl8vjKeI5tfL/zO7/Dz//lX05vpuec+p3LL2fdF74w9Vm1Ovzuvvvu6dzZNr/SMaH4lXll3759rFmzZmo4KcVfFX5ljPqcH9/40pe4fO/eqS8X/OPll3PrM5/J7/3RH3U2f++4446pGK07f6vwK4/xya//+ueuUQsWLJjq+syZM+zevdv90S0zcddm/TomIAHcMfCOuzMvgC3fISxjxbKNOQjgmfw36i57KmuDc4jRhAsV94rMxX255wHA7R74V8C/uy93FbtAv6UQvR8H3pHrLtAxx3NbSyZitrFpnZR7XmnKr/f8kDkohxhNOK+0GWZB2pIADoK9s07NC+DOSKojLwRyKFRGgdPa4FGEwv670bVa3+75DJID/AzgPcV3gN2T4fcCbxpCXnklbEhObap34sQJ5s6dO/XkV7+zCSivKCJiJ2A0r8SO/azxSQAn5a7ag1WhUhuZTuiSgAqVx2hbXRvcZSz56kuFyjlklVd8BVvDdiWMHwOovDJeICl+xuM2zlnKK+NQa/ccCeB2ecbWmvlCxfJ34spgsmxjDoXKOP5LbW3wODbGdrEcNh4VKvkJ4BTjue6r0SnaWPWaobxSldT3jqsbP/V7qH9GDjGqV6Drx0VbZ0gAt0UyznbMC2C32cmqVeWXPeJ0QtNRWbYxh0JlHP+ltjZ4HBubzouuzpcAzk8ApxbPo64Xg+ZKajbWme/KK3Vojf5Ofb3W2js6hxiVAG4vXuq2JAFcl1hax5sXwGm5Q6PtJ5BDoTKu17U2eFxy7Z4nAZyfAG43gvy3ltobI76JKK/UI6z4qcerjaOVV9qg2KwNCeBm/GI/WwI4dg9lPj4VKjMHgNYGh58gKlQkgMNH4ejrxO1Ll05/HskdfduSJVx96FCWm2Qpr9SL2HHeIKjXg44edvNfT4DDxYYEcDj2XfRsXgC7b/vNnz+/C5bB+rBsYw6FSpv+i/VOfZs2BptoQzqWAM5PAKcYz3XXcKZoY9Vrg/JKVVLfO65u/NTvof4ZOcSoBHD9uGjrDAngtkjG2Y55Abx582a2bdsWJ/2WRmXZxhwKlTb9N9OdehduoT6N0qaNLU2b1pqRAM5PAKcaz3V28U3VxioTW3mlCqVzj6kTP+P1UO+sHGJUArheTLR5tARwmzTja8u8AI4PuUZUh0AOhUodHlWOHXSn3p330MaNXHr0KA9OTHDJjh1csWJFleZ0zAgCEsD5CWBNirQJKK/M7L/YhG7a0Tbe6JVXxuPW5lkSwG3SjK8tCeD4fKIR9RBQoTJeOPQWMK4Frf8bj2OVs1SoSABXiZOYj8lN8CivDI/GGF91jnnu+Bqb8oovstXblQCuzirFIyWAU/RaRmNWodLc2bGuC25uWRwtqFCRAI4jEscbRY6CR3llcKxos6vx5pCPs5RXfFCt16YEcD1eqR1tXgDv2bOHdevWpeaXWuO1bGMOhYpv/8VQ1Pi2sdaEaflgFSr5CWAr8TzTteGWW24xmzuVVwZfBFO7WWplHg7yhvJKy4l6jOYkgMeAltAp5gXwwYMHWbZsWUIuqT9UyzbmUKh04b+ZnvJ08fpjFzbWnzntnKFCJT8BbCWeZxI89913n9ncqbxi4wmwlXkoAdxOLm67FQngtonG1Z55ARwXbo2mLoEcCpW6TMY9fpDQzfH1x3H5DTtPAjg/Adx2DIVqL4a3Q0LYrrwynLpyQoiIPLdP5ZXwfpAADu8DnyOQAPZJV203JqBCpTHCoQ3kWvy2TVSFigRw2zHVZXs5Ch7llZkjrIu3grqM8RT7Ul4J7zUJ4PA+8DkC8wL42LFjLFq0yCfD4G1btjGHQiWU/7pc7xXKxi4mpwqV/ASwtXgeJHg+//nPM2/ePObOncusWbO6mEqd9aG88hjq1IWutXnYOwGUVzq7HAztSAI4vA98jsC8AN6+fTubNm3yyTB425ZtzKFQCeW/UU+A2yyOQtnYxeRUoZKfALYcz86b7qnwO1/8Yn7za18z+d1w5ZXHfJz6t+Etz0PllS6y98x9SACH94HPEZgXwD7hqW3/BHIoVPxTHN7DsCLIQnHUFVcVKvkJ4K5iK0Q/o26MhRhT233mnldy8HHbMdN1e8orXRM/tz8J4PA+8DkCCWCfdNV2YwK5FyqNAVZooP9Jr4qjCtB6DlGhIgFcL2LiPrrLpRGhSOSeV3LwcajYaqtf5ZW2SI7fjgTw+OxSOFMCOAUvZTzG3AuVEK5XcVSPugoVCeB6ERP30TncAMs9r+Tg47hn2ejRKa+MZuT7CAlg34TDtm9eAFteI1KGjmUbcyhUYvPfqOJonLXBsdnY5mVXhUp+AthyPDtvag1wm1eIMG2NilELy1xG2RiGfDu9Kq+0w7FJKxLATejFf655AWx5l8AyvCzbmIMAjtF/ba8NjtHGti7PBgqVbcDzgB8GHgH+Gngt8EAPo6uAdwHPAk4CtwA3D2GovNJWcAVsZ9gu0OPcAAtoxsCuc8srw3yWui+VV2KbWbbGIwFsy5/91pgvVGy7z751ORQqsXpRa4OrecaAAH4L8MfAXcATgfcCPwosKQhcANwDvB94I3A5cCuwA9g1gJLySrXQSe4oC08NHfSc8ooVnyU3WRoO2EBeaUgg/OkSwOF94HMEKlR80lXbjQnkVKg0huW5Aa0NHgzYYKGyGPh74GLgFPBSYDvwVPfp0ILCq4FXAU+XAPY88SJpftTSiEiGWWkYueQVSz6r5FhDBxnMK8l5RwI4OZfVGrB5AXzw4EGWLVtWC0pqB1u2MYdCJRX/zVRMuTlz4sQJ5s6dy6xZs86ZQqnYOM7cN1iouNeffwP4kYLHTuBK4LoePs8BbgcuKl6b7kWnvDJOIEV2Tv+ctXQDLJe88rSnPY2Tl13G08+cmY6ue88/nzkPPMC8efMii7j6w1Feqc9MZ1QnIAFcnVWKR5ovVPbs2cO6detS9E3lMVu2MYdCJSX/DXqdzgXqQxs3cunRozw4McElO3ZwxYoVZ8VvSjZWnnjFgcYE8M8BfwKsAf6qMPF9wJOA63vYLAKOAguBr/QxU16pG0QRHt8/Zy09Tcwlr7z85S/n9qVLuebw4ekIu23JEq4+dGjgjcoIw3DGISmvpOaxtMYrAZyWv64FDvTckXf++1fgh4aYYb5QSct9Gm0/gRwKldS83rs22I3dcoFVxTeGBPAvAH9YvPL80R7bx3oCvHLlSiYmJqaaWb58OQcOHGDr1q3Mnj176u/27t3LnDlzWLVq1dR/Hz9+nF27drFtm9uT67GfK3AXL148/RaP2/Rm//79bNq0afoYtxPs6tWrWbTIaXJwT4WOHDly1o3PzZs3s379eubPnz91zOTkJCdPnmTt2rVT/3369Gm2bNmi8Y3gd+rzn5+62fVPd93Fly+7jOt///enbnY5fo7xhg0bWLBgwZS4itm/5Zzdt28fa9a4ez124u9P//RP+fVf//Xpt3E2vvzlLP70p1l2331TNygf/LVf4+R552l+RHh9cdcoN3/c78yZM+zevdv90b1l83CVXKRj2iUgAdwuT9+tOQH8SeD7gO9W6EwCuAIkHRKOgARwOPZVerb0WmQVewcdY0QA/wrwbuCFwCf67HwJ8La+NcDrgRu0BnjcqEn3vEE7B6e20ZLVvDLMD6nv9pzubBl/5EbyyvgAIjhTAjgCJ9QYQimAzwe+XeE8CeAKkHRIOAJWC5VwRNvtedRrkTkUXgYKFSdk3e7Ozwc+PSBC3C7Qdxe7QLsdo93GVx8H3qFdoNudTym2NuoaEKNNFvNKin6IMTZiGZOBvBILyrHHIQE8NrogJ5YC2H2/8QnFZy3eBNw2ZDTmBbB7Lav3lbogXvHcqWUbLRYq/eGQuv+qfDP45h/4AX77j/7onLXBnqdGJ80bKFTczs6PAv+3AObyvnuDyG16VQriZwDvKb4D7HaGdp9Kcrll0E95pZPI89tJ1etSim+BWMwr/X7YDPyaoQ2vBkV71Rj1O1P8tG4gr/gB02GrEsAdwp6hqw8U67JcUTLIJ58C3K4zlwBPKTYn+f5iJ883Az8J3DmgffOFiltXVq77isOV7Y/Cso0WC5X+CLDgv1HfDD7uPiRraPOVXh+qUDnnmqa80v5lvvMWq16XUnzyaDGv9PvB8jW3nAxVY7TzydNCh8orLUBs2IQEcEOALZ3+ROCxnUMG/9zd+28M+Te3JvgzwOtyFMAt8VczgQhYLFQCoey02xSfCo0LSIVKfgJ43Fixet5Ma4BjXAZhIa9YWIttdT60YZfyShsUm7UhAdyMXwxn/2+3sSPwW8MEsHbrfIyMdhONbzdWy7t1Wt7N9ilPecrU7tD/dvgwJwG31677/MbS22/nda97XfK77Wq3zhlTm/knwDEk9tjGkJIgS10Ap3bDIbZYTWE8EsDhvSQBHN4HdUaw0r1pCPxL8cTYfQDXfVPip4G/z/EJsPvcRfmZjTogUzrWso2pFypV4siq/3qLtP0LF/L83/u96TXAMT4VquKrQceoUMnvCbDVOdvryaY2xvxqdMp5pSrXpv4b93rY5XmWbVRe6TKSBvclARzeB3VG4F5zfjlwMfBvxSZYbnfPvx7SiPk79e5bhOW3HuuATOlYyzamXKhUjSHL/iuF7ic+8Qmuv/76KSSpfTJllB9VqOQngC3P2dKbTW2MeRlEynmlKtem/ht13Yvh3y3bqLwSPsIkgMP7wOcIzAtgn/DUtn8CKRcq/umk10PVpxcpWaZCJT8BnFJ8hhrrTHPdjenEiRPMnTuXWbNmdT7ElPLKqA0GHTy3vOTqQ4eCsOzceZl0qLwS3tESwOF94HMEEsA+6artxgRSKlQaG5tBA1WfXqSEQoWKBHBK8drlWAe97eH6f2jjRi49epQHJya4ZMeOzj+PlkpeqfKJuVAMu4yjHPtSXgnvdQng8D7wOQLzAvj06dPMnj3TBto+8XbTtmUbUylUmnjasv9KLqWNo54Ap7g2WIVKfgI4pznb5Nrmzu2d0+6/3eZ41xw+PN1siKeXKeSVptdKxWjTyA17vvJKWP6udwng8D7wOQLzAnjDhg3s3LnTJ8PgbVu2MYVCpWkAWPZfyabXRmtPNVSo5CeAc5uzTa9x5fmxvAGSQl5pykox2lbUhmlHeSUM995eJYDD+8DnCMwLYN0F9Rk+/ttOoVBpSiHHGLW0rk2FSn4COMc52/Q6Vz4NnukJcFdvgMSYV9q+JipG24jYcG0or4RjX/YsARzeBz5HYF4A+4Sntv0TiLFQ8W91fj00fdoRkpgKlfwEcMh4S73vGN4AiS2vxMAk9biyNn7llfAelQAO7wOfI5AA9klXbTcmEFuh0tggNTCQQMw7xo5ymQoVCeBRMaJ/P5tA20876/KNKa80Xetb13YdnwYB5ZXwfpIADu8DnyMwL4AtfyeuDAzLNsZUqPiaiJb9VydGY90xdpTfVajkJ4A1Z0fNinr/PuoNkLZfjQ6dV3rtcZ+DOnnZZTz9zJlpaPeefz5zHniAefPm1QPZc7RidGx0UZyovBLeDRLA4X3gcwTmBfDk5CSrVq3yyTB425ZtDF2odOFcy/4r+VW1McYdY0fFgAqV/ARw1XgeFTsx/3uXNs70FPTeT32q9c8mhcwr/Tf65r3tbXz1ta9tfWfsLv0XKo4t26i8EiqqvtevBHB4H/gcgXkB7BOe2vZPIGSh4t869TATgVFPhWKhp0IlPwEcS+xZGsegN0Ce/jM/M+Nnk8Z9MtxVXqn6qve8t7+dr77mNUG/jWwplizYorwS3osSwOF94HMEEsA+6artxgS6KlQaD1QNtE4glbVxKlQkgFsP/kwb7BeMM90E+/pdd439ZLiLvDJI0F/8zGcOfd157ty5uNeh3f/PmjUr0wiQ2SUB5ZXwsSABHN4HPkdgXgAfP36c+fPn+2QYvG3LNnZRqIR2oGX/lWzHtTGF3VFVqOQngMeN59DXmjr9x2DjsJtgP/XZz/KZZz974GvDzsZRQrLtvFL1Se9M425b9MbgvzrxNs6xlm1UXhknIto9RwK4XZ6xtWZeAG/evJlt27bFxr3V8Vi2se1CpVXwLTVm2X8loiY2Vi0urz50KMiTExUq+QngJvHc0mXDezOx2FjnSeqJD32IM29+88BXiXuvI4888ggXXXQRp06d4sILXRl07m/Q69WD/q7O+NzGVk2eXNdxeiz+qzPmusdatlF5pW40tH+8BHD7TGNq0bwAjgm2xlKfQA4CuD6VvM+IbW2wCpX8BHDeM7B766vcBPvUj/0Yj3vc47j28OHpAd62ZAnuxlj/RlpPuvlmlr7gBVMC+IILLjjniXHVHemHrVEe9aR33LXL3ZNXj6EIKK+EIv+9fiWAw/vA5wgkgH3SVduNCUgAN0ZoroHY1gZnVqjcDLwMcLnjc8ArgaN9Qaa8Ym7WxWdQv0g973Wv4wevv/6czwld+OUvc/d11531uvStV13Fz995J4c++lG+edNNZz0xHiRqh4nrK269lYd/6IcGfsKoqye98XlGI2qDQGZ5pQ1krbchAdw60qgaVKESlTs0mH4CEsCKiUEEYlobnFGh8hrgBuA64D7gJuAlwOXAt3r8pLyiadsJgSqfTRskUg+fdx4//uij/PlVV3HdnXee9cR40PF3nHceP/C4x3F537d6B4nr8qmzW9OrJ72dhIHJTjLKK9H6TwI4Wte0MjDzhcqePXtYt25dK7BibcSyjTkIYMv+K+eMDxurvBbZW4z6mr8ZFSpfBHYC7y5YPh74CrAB+GBOAthHPPuKz3HbTdHGqp9SKp8A//1557Hk0UenEd17/vkMErV1Xq++ZMcOrlixYlzsrZ2Xov/qGm/ZxozySl23d3a8BHBnqIN0ZF4AHzx4kGXLlgWB21Wnlm3MQQBb9l85B7qwMdTa4EwKFZcrTgLPAe7oubZNAncBG3MSwF3Ec1f5Y1g/qdpYZaOqcg3woCfAg9YMO1Hrfg9t3Dhyg622d3MeNw5S9V8dey3bmEleqePuzo+VAO4ceacdmhfAndJUZ60TyEEAtw4t0wZHrQ32hSWTQuUy4MvAlcDdPSw/DDwMvCInAewrltSuPwKDdoEetAa4fHpbdRdofyNWyzkTyCSvRO1iCeCo3dN4cBLAjRGqAZ8EJIB90rXX9rC1wT4tzaRQqf0E+P777x/6iRmf/lDbIjCKgJuzCxcuxMWo2wX661//OhdffHGQz6iNGqv+PU8CZYwCFxU3GfMEEdBqCeCA8Dvo2rwAPnbsGIsWLeoAZbguLNuYgwC27L9yVnRpY9cbz2QigJ0rB60BfhC4cdAa4HBXRPUsAiIgAmYISAAHcqUEcCDwHXVrXgBv376dTZs2dYQzTDeWbcxBAFv2XzkjLNuYkQB263zdLtDPK8Tw64EXAVcM2gXa8hPgd77zndx4o9P9dn+Wbex9Anzhha4Msvez7L/SW5Zt1BPg8HNSAji8D3yOwLwA9glPbfsnkIMA9k9RPfgkkJEAdhjfALht9Z8MHNJ3gH1Gltr2RUB5xRdZtdsWgczySlvYWm1HArhVnNE1JgEcnUs0oF4CKlQUD7ETUKFyjoeUV2IP2szHp7ySeQAkYL7ySngnSQCH94HPEahQ8UlXbTcmoEKlMUI14JmAChUJYM8hpuZbJqC80jJQNdc6AeWV1pHWblACuDaypE4wL4Atrz0sI82yjTkUKpb9l1OMarfO6dynvJJUGTB4sJavS8orBgIUyCFGlVfCxaoEcDj2XfRsvlDpcvfZLhw2qA/LNuZQqFj2Xxmvlm3Unfr8ngBbjuec5uypU6fMfqpLMRqqImunX+WVdjg2aUUCuAm9+M81L4Djd4FGOBOBHASwIiBtAipU8hPAaUesRq+8ohiInYDySngPSQCH94HPEUgA+6SrthsTUKHSGKEa8ExAhYoEsOcQU/MtE1BeaRmommudgPJK60hrNygBXBtZUieYF8AHDx5k2bJlSTml7mAt25hDoWLZf2UsW7ZRhUp+AthyPOc0Zy2/Aq0YrVtJxXW88kp4f0gAh/eBzxGYF8B79uxh3Tr32Uq7P8s25iCALfuvnHWWbVShkp8AthzPOc1ZywJYMZp2zae8Et5/EsDhfeBzBOYFsE94ats/gRwEsH+K6sEnARUq+Qlgn/Gktv0TUF7xz1g9NCOgvNKMXxtnSwC3QTHeNiSA4/WNRgaoUFEYxE5AhYoEcOwxqvGdTUB5RREROwHllfAekgAO7wOfI5AA9klXbTcmoEKlMUI14JmAChUJYM8hpuZbJqC80jJQNdc6AeWV1pHWblACuDaypE4wL4A3b97Mtm3bknJK3cFatjGHQsWy/8pYtmyjCpX8BLDleM5pzlpeA6wYrVtJxXW88kp4f0gAh/eBzxGYF8DHjx9n/vz5PhkGb9uyjTkIYMv+KyeHZRtVqOQngC3Hc05z1rIAVowGL80aDUB5pRG+Vk6WAG4FY7SNmBfA0ZLXwCoRyEEAVwKhg6IloEIlPwEcbTBqYJUIKK9UwqSDAhJQXgkIv+haAji8D3yOQALYJ1213ZiACpXGCNWAZwIqVCSAPYeYmm+ZgPJKy0DVXOsElFdaR1q7QQng2siSOsG8AJ6cnGTVqlVJOaXuYC3bmEOhYtl/ZSxbtlGFSn4C2HI85zRnLb8CrRitW0nFdbzySnh/SACH94HPEZgXwHv37mXt2rU+GQZv27KNOQhgy/4rJ4dlG1Wo5CeALcdzTnPWsgBWjAYvzRoNQHmlEb5WTpYAbgVjtI2YF8DRktfAKhHIQQBXAqGDoiWgQiU/ARxtMGpglQgor1TCpIMCElBeCQi/6FoCOLwPfI5AAtgnXbXdmIAKlcYI1YBnAipUJIA9h5iab5mA8krLQNVc6wSUV1pHWrtBCeDayJI6wbwAPn36NLNnz07KKXUHa9nGHAoVy/4rY9myjSpU8hPAluM5pzlr+RVoxWjdSiqu45VXwvtDAji8D3pHcBXwVmAJcAnwc8An+4Y4B9gNPA/4DvBx4Abg1ABTzAvgDRs2sHPnzri82PJoLNuYgwC27L8y1C3bmHih8mJgHXBlkS/uAl4HfKbnMlUnp7jTlFdavsaHaC6HOWtZAFv2n/JKiCtCfn1KAMfl80XATwOHgb8DnjtAADvBex7gdn5y/tsLfBP4zzkK4I997GM8//nPj8uLLY/Gso05CGDL/itD3bKNiQvg/wL8UyF4Txc3S98EuFzzlcJ/dXJKFgLYcjznNGctC2DFaMuFVsfNJZ5XOqblpzsJYD9c22jVPd3tfwL8Q8CXAPek+B+LTtyf/wFw//ZAX8e6U9+GJwK3YflObw4C2LL/dKc+8MVhvO7/FfhVYH+RN+rklCwEsObseIEVy1nKK7F4otk4LM9DCeBmsdHG2RLAbVD008YgAfwC4MPAE/u6dHf2fwn4MwlgP84I2WoOScDynXrL/pMADnllGKvvnwT+Bri8uJlaN6dIAI+FPb6TLF+XJIDji7dxRpRDjAIXAQ+Pw0fnNCMgAdyMX9WzPwC8FPhu8dpy/3mfAlb0/eUgAfwi4O3ApX3HHgc2AH80SADff//9XHihexhs7/fCF76Qj3zkI/YM67HIso2uUFm4cCGK0bRDOIcYjaxQGSenLARuA/4AuKmIuLo5ZVoAa85qzsZKQHklVs/UG5fySj1eOroeAQngerzGPdo9sZ1pq+JHgW9UEMB179YvGPBa9Lg26DwREAERyJnAZcD/iQRA3ZzyH4G/LPaM2NxjQ92c4k5VXokkCDQMERCB5AnElFeSh1nHAAngOrS6PXbYGuB/Bhb3rAF2f/574IcHiF3n36cOENfdWqLeREAERCBtAk8uNo1yb/Gk9nP7RPwF8G5ga9/g3d4RdXKKO115JbUI0HhFQARiJJByXomRZ60xSQDXwtXJwU8oCoxvAdcB7vXofwe+XfT+sWIX6F8pjvsQ8Ajwi52MTp2IgAiIgAikQuCnAJczbgb++5BBK6ek4k2NUwREQAREoBUCEsCtYGytEfcU192N73/K4IqXNxa9uG82ujv5v1Ac54oX9x1gLaJvzQ1qSAREQARMEHDfkb8GcDdUy3zv8ot7Euy+Oe9+yikmXC0jREAEREAEqhKQAK5KSseJgAiIgAiIgAiIgAiIgAiIgAgkTUACOGn31R6827xkO/CfgPOBfwGu71lPXLvBSE9YD7wTeDPw+kjHWHdYLwbWAVcCbn34XcDrgM/UbSiy493bDS8D3DblnwNeCRyNbIzjDGcb8Lxibb5bovDXwGsNb0r3J8DqAd8uH4ddbOc8p7iW/ESxFMXF59WxDTLQeHLJKQ6v8kqgIBujW+WVMaBFeIrySoROsTIkCWArnhxtxw8Um2W5bwa5199OAk8DTgFfG316MkdcAfx5sfHXRw0J4P8C/FMheN13n91r728CFhWb8yTjoJ6Bvqaww611v6/4NMtLim+Uulc2U/69Bfjj4kaF27H3vcCPAktSNmrI2J3Pfhl4bvE/99qtlZ8Tv+564uab86fbsf9ZwN9ZMbCBHbnkFIdIeaVBoHR8qvJKx8A9dae84gmsmn2MgARwPpHgxNIq4NmGTZ5VCEQn8G8E/saQAB7ktn8FfhXYn6hPvwjsLNa0OxMeX4h5903rDyZq07Bhl7u1X1zcdLJinvuEw+3FE9EvG3wC7L6bewfgimr9ziaQQ05xFiuvpBX5yitp+WvQaJVX0vdh9BZIAEfvotYG+LfFK8/u1edrgf+vEBlOLLpXai383CvB7k69e134gHGTVH1wAAAFQUlEQVQB/JOFfZcDX0rQee6VZ/cWgnvC5gRG+ZssnppuTNCmmYbsXn/+DeBHjNnl/PU/gd8vriM/B1h5Avz9xZsk7wB+pnhjxm1S6F5v/1/G/DiOOTnkFMdFeWWc6AhzjvJKGO5t96q80jZRtXcOAQng9IPiA8BLix2hB/nTfUZpBXAv8B8KcegK1gngz4B3AW+PGENV+34M+FPA/b8TVqkI4Kr29bpoIeCeTP1B8dpwxO4bOjR3h9c9MXRrmu/uOerDxY7mr0jRqCFjdqLQrWVaA/yVIbv+a7Hu171Z4n6Dvl2esrlufev9wEPFeu5/KOx1Mep2Vu69cZOynf1jr3pNSjWnOHur2qi8klZkK6+k5a9Bo1VeSd+HSVggAZyEm2YcpFtfOHuGI9yatW8UGwydKZ64lYf/t6Kgc0/hYv1Vse/fCvtuKkSwsyUVAVzFPue/8vcfgb8E9gKbY3VahXHlcqfefa7sD4ubVG5NupWfe5LtXn12byI4kWhRAJcx6j4XtKXHcX8BHE58/s0Uh1WvSW7TuhRzirO9io3KK+ldrZRX0vNZ74iVV9Ku65KKPgngpNzVaLC3FE99f6qnlRQEcBWj3feT3bqfEz3r2i8qNqxxf//MKo0kcMxVgCu+3Xeg3avrqf8GrdV6sFi/bWEN8K8Uvnoh8InUndU3fvfWyZ7iaX2ZR+YW65vdzRn3ureFn3vK6TYOzEkAV/Wb5ZziGCivVI2EuI5TXonLH3VGo7wiAVwnXhodKwHcCF9SJ/94sUGU21nP7WbqXj39OPA7xf+SMqZvsC6OL+37O2eje0XRPb1xrzCm/nM3Lj4GuM87/PfUjSnG79b5ut113eeCXNHiPln1omIdd+q7QDu73gg8H/i0EX/1muHeOnEbevX+HgDWFq95u2UIFn6vBtyNQrdT+Z2FP8tXoA9ZMLCBDZZzisOivNIgOAKeqrwSEH7DrpVXIPe80jCEqp8uAVydlYUjndBwG7i4tcDHgd+LfP1vE+ZuIx73iqaV7wA7e9y6QycMy3n73eJJsBP5qf7eUHzf+Mk8duG38h1gtx7WLT/4v4VjnM+cv5yQsiiInZnfNvgZJGfXpiIu3Vsl7omwi1m3f4J+j928yiWnOH8rr6QR9corafipyiiVV6pQ0jG1CUgA10amE0RABERABERABERABERABERABFIkIAGcotc0ZhEQAREQAREQAREQAREQAREQgdoEJIBrI9MJIiACIiACIiACIiACIiACIiACKRKQAE7RaxqzCIiACIiACIiACIiACIiACIhAbQISwLWR6QQREAEREAEREAEREAEREAEREIEUCUgAp+g1jVkEREAEREAEREAEREAEREAERKA2AQng2sh0ggiIgAiIgAiIgAiIgAiIgAiIQIoEJIBT9JrGLAIiIAIiIAIiIAIiIAIiIAIiUJuABHBtZDpBBERABERABERABERABERABEQgRQISwCl6TWMWAREQAREQAREQAREQAREQARGoTUACuDYynSACIiACIiACIiACIiACIiACIpAiAQngFL2mMYuACIiACIiACIiACIiACIiACNQmIAFcG5lOEAEREAEREAEREAEREAEREAERSJGABHCKXtOYRUAEREAEREAEREAEREAEREAEahOQAK6NTCeIgAiIgAiIgAiIgAiIgAiIgAikSEACOEWvacwiIAIiIAIiIAIiIAIiIAIiIAK1CUgA10amE0RABERABERABERABERABERABFIkIAGcotc0ZhEQAREQAREQAREQAREQAREQgdoE/n9zf4TTJKWdcQAAAABJRU5ErkJggg==\">"
      ],
      "text/plain": [
       "<IPython.core.display.HTML object>"
      ]
     },
     "metadata": {},
     "output_type": "display_data"
    }
   ],
   "source": [
    "import numpy as np\n",
    "import matplotlib.pyplot as plt\n",
    "# generate a simple table of values to plot\n",
    "x = np.linspace(-5,5,50)                  # range of input for our functions\n",
    "\n",
    "# generate line table\n",
    "w_0 = 3\n",
    "w_1 = -2\n",
    "y = w_0 + w_1*x\n",
    "line_table = np.stack((x,y),axis = 1)  # make table of values for our function\n",
    "\n",
    "# parabola table\n",
    "w_0 = 3\n",
    "w_1 = -2\n",
    "w_2 = 5\n",
    "y = w_0 + w_1*x + w_2*x**2\n",
    "parabola_table = np.stack((x,y),axis = 1)    # make table of values for our function\n",
    "\n",
    "# plot these elementary functions \n",
    "fig = plt.figure(figsize = (12,4))\n",
    "ax1 = fig.add_subplot(121); ax2 = fig.add_subplot(122); \n",
    "ax1.scatter(line_table[:,0],line_table[:,1],c = 'r',linewidth = 0.2)\n",
    "ax2.scatter(parabola_table[:,0],parabola_table[:,1],c = 'r',linewidth = 0.2)\n",
    "\n",
    "# clean up plot, plot x and y axes\n",
    "s = np.linspace(-10,10)\n",
    "ax1.grid(True, which='both'),ax2.grid(True, which='both')\n",
    "ax1.axhline(y=0, color='k'),ax2.axhline(y=0, color='k')\n",
    "ax1.axvline(x=0, color='k'),ax2.axvline(x=0, color='k')\n",
    "\n",
    "plt.show()"
   ]
  },
  {
   "cell_type": "markdown",
   "metadata": {
    "slideshow": {
     "slide_type": "subslide"
    }
   },
   "source": [
    "## Which view is more powerful?"
   ]
  },
  {
   "cell_type": "markdown",
   "metadata": {
    "slideshow": {
     "slide_type": "fragment"
    }
   },
   "source": [
    "- if we had only *one* - the equation or table of values - which would be better?"
   ]
  },
  {
   "cell_type": "markdown",
   "metadata": {
    "slideshow": {
     "slide_type": "fragment"
    }
   },
   "source": [
    "- *The equation*: it can be used to generate the table of values"
   ]
  },
  {
   "cell_type": "markdown",
   "metadata": {
    "slideshow": {
     "slide_type": "fragment"
    }
   },
   "source": [
    "- e.g., \n",
    "$$\\begin{array}{c|c}\n",
    "~~ \\text{Input} ~ (x) &  ~~ \\text{Output} ~~ (y = 3 -2 x) \\\\\n",
    "\\hline 0 & 3 \\\\\n",
    "\\ -0.4 & 3.8 \\\\\n",
    "\\ 5.2 & -7.2 \\\\\n",
    "\\vdots & \\vdots\\\\\n",
    "\\end{array}$$"
   ]
  },
  {
   "cell_type": "markdown",
   "metadata": {
    "slideshow": {
     "slide_type": "subslide"
    }
   },
   "source": [
    "## Which view is more powerful?"
   ]
  },
  {
   "cell_type": "markdown",
   "metadata": {
    "slideshow": {
     "slide_type": "fragment"
    }
   },
   "source": [
    "- if we have a table of values --> can we find an equation?"
   ]
  },
  {
   "cell_type": "markdown",
   "metadata": {
    "slideshow": {
     "slide_type": "fragment"
    }
   },
   "source": [
    "- Note: table of values (with no known equation) defines a mathematical function"
   ]
  },
  {
   "cell_type": "markdown",
   "metadata": {
    "slideshow": {
     "slide_type": "fragment"
    }
   },
   "source": [
    "e.g., \n",
    "\n",
    "\n",
    "$$\\begin{array}{c|c}\n",
    "~~ \\text{Input} ~ (x) &  ~~ \\text{Output} ~~ (y) \\\\\n",
    "\\hline 0 & 3 \\\\\n",
    "\\ -0.4 & 3.8 \\\\\n",
    "\\ 5.2 & -7.2 \\\\\n",
    "\\vdots & \\vdots\\\\\n",
    "\\end{array}$$"
   ]
  },
  {
   "cell_type": "markdown",
   "metadata": {
    "slideshow": {
     "slide_type": "subslide"
    }
   },
   "source": [
    "## Which view is more powerful?\n",
    "\n",
    "- if we have a table of values --> can we find an equation?"
   ]
  },
  {
   "cell_type": "markdown",
   "metadata": {
    "slideshow": {
     "slide_type": "fragment"
    }
   },
   "source": [
    "- can we just 'eye-ball' the equation by plotting the table of values? "
   ]
  },
  {
   "cell_type": "code",
   "execution_count": 12,
   "metadata": {
    "collapsed": false,
    "slideshow": {
     "slide_type": "fragment"
    }
   },
   "outputs": [
    {
     "data": {
      "application/javascript": [
       "/* Put everything inside the global mpl namespace */\n",
       "window.mpl = {};\n",
       "\n",
       "mpl.get_websocket_type = function() {\n",
       "    if (typeof(WebSocket) !== 'undefined') {\n",
       "        return WebSocket;\n",
       "    } else if (typeof(MozWebSocket) !== 'undefined') {\n",
       "        return MozWebSocket;\n",
       "    } else {\n",
       "        alert('Your browser does not have WebSocket support.' +\n",
       "              'Please try Chrome, Safari or Firefox ≥ 6. ' +\n",
       "              'Firefox 4 and 5 are also supported but you ' +\n",
       "              'have to enable WebSockets in about:config.');\n",
       "    };\n",
       "}\n",
       "\n",
       "mpl.figure = function(figure_id, websocket, ondownload, parent_element) {\n",
       "    this.id = figure_id;\n",
       "\n",
       "    this.ws = websocket;\n",
       "\n",
       "    this.supports_binary = (this.ws.binaryType != undefined);\n",
       "\n",
       "    if (!this.supports_binary) {\n",
       "        var warnings = document.getElementById(\"mpl-warnings\");\n",
       "        if (warnings) {\n",
       "            warnings.style.display = 'block';\n",
       "            warnings.textContent = (\n",
       "                \"This browser does not support binary websocket messages. \" +\n",
       "                    \"Performance may be slow.\");\n",
       "        }\n",
       "    }\n",
       "\n",
       "    this.imageObj = new Image();\n",
       "\n",
       "    this.context = undefined;\n",
       "    this.message = undefined;\n",
       "    this.canvas = undefined;\n",
       "    this.rubberband_canvas = undefined;\n",
       "    this.rubberband_context = undefined;\n",
       "    this.format_dropdown = undefined;\n",
       "\n",
       "    this.image_mode = 'full';\n",
       "\n",
       "    this.root = $('<div/>');\n",
       "    this._root_extra_style(this.root)\n",
       "    this.root.attr('style', 'display: inline-block');\n",
       "\n",
       "    $(parent_element).append(this.root);\n",
       "\n",
       "    this._init_header(this);\n",
       "    this._init_canvas(this);\n",
       "    this._init_toolbar(this);\n",
       "\n",
       "    var fig = this;\n",
       "\n",
       "    this.waiting = false;\n",
       "\n",
       "    this.ws.onopen =  function () {\n",
       "            fig.send_message(\"supports_binary\", {value: fig.supports_binary});\n",
       "            fig.send_message(\"send_image_mode\", {});\n",
       "            fig.send_message(\"refresh\", {});\n",
       "        }\n",
       "\n",
       "    this.imageObj.onload = function() {\n",
       "            if (fig.image_mode == 'full') {\n",
       "                // Full images could contain transparency (where diff images\n",
       "                // almost always do), so we need to clear the canvas so that\n",
       "                // there is no ghosting.\n",
       "                fig.context.clearRect(0, 0, fig.canvas.width, fig.canvas.height);\n",
       "            }\n",
       "            fig.context.drawImage(fig.imageObj, 0, 0);\n",
       "        };\n",
       "\n",
       "    this.imageObj.onunload = function() {\n",
       "        this.ws.close();\n",
       "    }\n",
       "\n",
       "    this.ws.onmessage = this._make_on_message_function(this);\n",
       "\n",
       "    this.ondownload = ondownload;\n",
       "}\n",
       "\n",
       "mpl.figure.prototype._init_header = function() {\n",
       "    var titlebar = $(\n",
       "        '<div class=\"ui-dialog-titlebar ui-widget-header ui-corner-all ' +\n",
       "        'ui-helper-clearfix\"/>');\n",
       "    var titletext = $(\n",
       "        '<div class=\"ui-dialog-title\" style=\"width: 100%; ' +\n",
       "        'text-align: center; padding: 3px;\"/>');\n",
       "    titlebar.append(titletext)\n",
       "    this.root.append(titlebar);\n",
       "    this.header = titletext[0];\n",
       "}\n",
       "\n",
       "\n",
       "\n",
       "mpl.figure.prototype._canvas_extra_style = function(canvas_div) {\n",
       "\n",
       "}\n",
       "\n",
       "\n",
       "mpl.figure.prototype._root_extra_style = function(canvas_div) {\n",
       "\n",
       "}\n",
       "\n",
       "mpl.figure.prototype._init_canvas = function() {\n",
       "    var fig = this;\n",
       "\n",
       "    var canvas_div = $('<div/>');\n",
       "\n",
       "    canvas_div.attr('style', 'position: relative; clear: both; outline: 0');\n",
       "\n",
       "    function canvas_keyboard_event(event) {\n",
       "        return fig.key_event(event, event['data']);\n",
       "    }\n",
       "\n",
       "    canvas_div.keydown('key_press', canvas_keyboard_event);\n",
       "    canvas_div.keyup('key_release', canvas_keyboard_event);\n",
       "    this.canvas_div = canvas_div\n",
       "    this._canvas_extra_style(canvas_div)\n",
       "    this.root.append(canvas_div);\n",
       "\n",
       "    var canvas = $('<canvas/>');\n",
       "    canvas.addClass('mpl-canvas');\n",
       "    canvas.attr('style', \"left: 0; top: 0; z-index: 0; outline: 0\")\n",
       "\n",
       "    this.canvas = canvas[0];\n",
       "    this.context = canvas[0].getContext(\"2d\");\n",
       "\n",
       "    var rubberband = $('<canvas/>');\n",
       "    rubberband.attr('style', \"position: absolute; left: 0; top: 0; z-index: 1;\")\n",
       "\n",
       "    var pass_mouse_events = true;\n",
       "\n",
       "    canvas_div.resizable({\n",
       "        start: function(event, ui) {\n",
       "            pass_mouse_events = false;\n",
       "        },\n",
       "        resize: function(event, ui) {\n",
       "            fig.request_resize(ui.size.width, ui.size.height);\n",
       "        },\n",
       "        stop: function(event, ui) {\n",
       "            pass_mouse_events = true;\n",
       "            fig.request_resize(ui.size.width, ui.size.height);\n",
       "        },\n",
       "    });\n",
       "\n",
       "    function mouse_event_fn(event) {\n",
       "        if (pass_mouse_events)\n",
       "            return fig.mouse_event(event, event['data']);\n",
       "    }\n",
       "\n",
       "    rubberband.mousedown('button_press', mouse_event_fn);\n",
       "    rubberband.mouseup('button_release', mouse_event_fn);\n",
       "    // Throttle sequential mouse events to 1 every 20ms.\n",
       "    rubberband.mousemove('motion_notify', mouse_event_fn);\n",
       "\n",
       "    rubberband.mouseenter('figure_enter', mouse_event_fn);\n",
       "    rubberband.mouseleave('figure_leave', mouse_event_fn);\n",
       "\n",
       "    canvas_div.on(\"wheel\", function (event) {\n",
       "        event = event.originalEvent;\n",
       "        event['data'] = 'scroll'\n",
       "        if (event.deltaY < 0) {\n",
       "            event.step = 1;\n",
       "        } else {\n",
       "            event.step = -1;\n",
       "        }\n",
       "        mouse_event_fn(event);\n",
       "    });\n",
       "\n",
       "    canvas_div.append(canvas);\n",
       "    canvas_div.append(rubberband);\n",
       "\n",
       "    this.rubberband = rubberband;\n",
       "    this.rubberband_canvas = rubberband[0];\n",
       "    this.rubberband_context = rubberband[0].getContext(\"2d\");\n",
       "    this.rubberband_context.strokeStyle = \"#000000\";\n",
       "\n",
       "    this._resize_canvas = function(width, height) {\n",
       "        // Keep the size of the canvas, canvas container, and rubber band\n",
       "        // canvas in synch.\n",
       "        canvas_div.css('width', width)\n",
       "        canvas_div.css('height', height)\n",
       "\n",
       "        canvas.attr('width', width);\n",
       "        canvas.attr('height', height);\n",
       "\n",
       "        rubberband.attr('width', width);\n",
       "        rubberband.attr('height', height);\n",
       "    }\n",
       "\n",
       "    // Set the figure to an initial 600x600px, this will subsequently be updated\n",
       "    // upon first draw.\n",
       "    this._resize_canvas(600, 600);\n",
       "\n",
       "    // Disable right mouse context menu.\n",
       "    $(this.rubberband_canvas).bind(\"contextmenu\",function(e){\n",
       "        return false;\n",
       "    });\n",
       "\n",
       "    function set_focus () {\n",
       "        canvas.focus();\n",
       "        canvas_div.focus();\n",
       "    }\n",
       "\n",
       "    window.setTimeout(set_focus, 100);\n",
       "}\n",
       "\n",
       "mpl.figure.prototype._init_toolbar = function() {\n",
       "    var fig = this;\n",
       "\n",
       "    var nav_element = $('<div/>')\n",
       "    nav_element.attr('style', 'width: 100%');\n",
       "    this.root.append(nav_element);\n",
       "\n",
       "    // Define a callback function for later on.\n",
       "    function toolbar_event(event) {\n",
       "        return fig.toolbar_button_onclick(event['data']);\n",
       "    }\n",
       "    function toolbar_mouse_event(event) {\n",
       "        return fig.toolbar_button_onmouseover(event['data']);\n",
       "    }\n",
       "\n",
       "    for(var toolbar_ind in mpl.toolbar_items) {\n",
       "        var name = mpl.toolbar_items[toolbar_ind][0];\n",
       "        var tooltip = mpl.toolbar_items[toolbar_ind][1];\n",
       "        var image = mpl.toolbar_items[toolbar_ind][2];\n",
       "        var method_name = mpl.toolbar_items[toolbar_ind][3];\n",
       "\n",
       "        if (!name) {\n",
       "            // put a spacer in here.\n",
       "            continue;\n",
       "        }\n",
       "        var button = $('<button/>');\n",
       "        button.addClass('ui-button ui-widget ui-state-default ui-corner-all ' +\n",
       "                        'ui-button-icon-only');\n",
       "        button.attr('role', 'button');\n",
       "        button.attr('aria-disabled', 'false');\n",
       "        button.click(method_name, toolbar_event);\n",
       "        button.mouseover(tooltip, toolbar_mouse_event);\n",
       "\n",
       "        var icon_img = $('<span/>');\n",
       "        icon_img.addClass('ui-button-icon-primary ui-icon');\n",
       "        icon_img.addClass(image);\n",
       "        icon_img.addClass('ui-corner-all');\n",
       "\n",
       "        var tooltip_span = $('<span/>');\n",
       "        tooltip_span.addClass('ui-button-text');\n",
       "        tooltip_span.html(tooltip);\n",
       "\n",
       "        button.append(icon_img);\n",
       "        button.append(tooltip_span);\n",
       "\n",
       "        nav_element.append(button);\n",
       "    }\n",
       "\n",
       "    var fmt_picker_span = $('<span/>');\n",
       "\n",
       "    var fmt_picker = $('<select/>');\n",
       "    fmt_picker.addClass('mpl-toolbar-option ui-widget ui-widget-content');\n",
       "    fmt_picker_span.append(fmt_picker);\n",
       "    nav_element.append(fmt_picker_span);\n",
       "    this.format_dropdown = fmt_picker[0];\n",
       "\n",
       "    for (var ind in mpl.extensions) {\n",
       "        var fmt = mpl.extensions[ind];\n",
       "        var option = $(\n",
       "            '<option/>', {selected: fmt === mpl.default_extension}).html(fmt);\n",
       "        fmt_picker.append(option)\n",
       "    }\n",
       "\n",
       "    // Add hover states to the ui-buttons\n",
       "    $( \".ui-button\" ).hover(\n",
       "        function() { $(this).addClass(\"ui-state-hover\");},\n",
       "        function() { $(this).removeClass(\"ui-state-hover\");}\n",
       "    );\n",
       "\n",
       "    var status_bar = $('<span class=\"mpl-message\"/>');\n",
       "    nav_element.append(status_bar);\n",
       "    this.message = status_bar[0];\n",
       "}\n",
       "\n",
       "mpl.figure.prototype.request_resize = function(x_pixels, y_pixels) {\n",
       "    // Request matplotlib to resize the figure. Matplotlib will then trigger a resize in the client,\n",
       "    // which will in turn request a refresh of the image.\n",
       "    this.send_message('resize', {'width': x_pixels, 'height': y_pixels});\n",
       "}\n",
       "\n",
       "mpl.figure.prototype.send_message = function(type, properties) {\n",
       "    properties['type'] = type;\n",
       "    properties['figure_id'] = this.id;\n",
       "    this.ws.send(JSON.stringify(properties));\n",
       "}\n",
       "\n",
       "mpl.figure.prototype.send_draw_message = function() {\n",
       "    if (!this.waiting) {\n",
       "        this.waiting = true;\n",
       "        this.ws.send(JSON.stringify({type: \"draw\", figure_id: this.id}));\n",
       "    }\n",
       "}\n",
       "\n",
       "\n",
       "mpl.figure.prototype.handle_save = function(fig, msg) {\n",
       "    var format_dropdown = fig.format_dropdown;\n",
       "    var format = format_dropdown.options[format_dropdown.selectedIndex].value;\n",
       "    fig.ondownload(fig, format);\n",
       "}\n",
       "\n",
       "\n",
       "mpl.figure.prototype.handle_resize = function(fig, msg) {\n",
       "    var size = msg['size'];\n",
       "    if (size[0] != fig.canvas.width || size[1] != fig.canvas.height) {\n",
       "        fig._resize_canvas(size[0], size[1]);\n",
       "        fig.send_message(\"refresh\", {});\n",
       "    };\n",
       "}\n",
       "\n",
       "mpl.figure.prototype.handle_rubberband = function(fig, msg) {\n",
       "    var x0 = msg['x0'];\n",
       "    var y0 = fig.canvas.height - msg['y0'];\n",
       "    var x1 = msg['x1'];\n",
       "    var y1 = fig.canvas.height - msg['y1'];\n",
       "    x0 = Math.floor(x0) + 0.5;\n",
       "    y0 = Math.floor(y0) + 0.5;\n",
       "    x1 = Math.floor(x1) + 0.5;\n",
       "    y1 = Math.floor(y1) + 0.5;\n",
       "    var min_x = Math.min(x0, x1);\n",
       "    var min_y = Math.min(y0, y1);\n",
       "    var width = Math.abs(x1 - x0);\n",
       "    var height = Math.abs(y1 - y0);\n",
       "\n",
       "    fig.rubberband_context.clearRect(\n",
       "        0, 0, fig.canvas.width, fig.canvas.height);\n",
       "\n",
       "    fig.rubberband_context.strokeRect(min_x, min_y, width, height);\n",
       "}\n",
       "\n",
       "mpl.figure.prototype.handle_figure_label = function(fig, msg) {\n",
       "    // Updates the figure title.\n",
       "    fig.header.textContent = msg['label'];\n",
       "}\n",
       "\n",
       "mpl.figure.prototype.handle_cursor = function(fig, msg) {\n",
       "    var cursor = msg['cursor'];\n",
       "    switch(cursor)\n",
       "    {\n",
       "    case 0:\n",
       "        cursor = 'pointer';\n",
       "        break;\n",
       "    case 1:\n",
       "        cursor = 'default';\n",
       "        break;\n",
       "    case 2:\n",
       "        cursor = 'crosshair';\n",
       "        break;\n",
       "    case 3:\n",
       "        cursor = 'move';\n",
       "        break;\n",
       "    }\n",
       "    fig.rubberband_canvas.style.cursor = cursor;\n",
       "}\n",
       "\n",
       "mpl.figure.prototype.handle_message = function(fig, msg) {\n",
       "    fig.message.textContent = msg['message'];\n",
       "}\n",
       "\n",
       "mpl.figure.prototype.handle_draw = function(fig, msg) {\n",
       "    // Request the server to send over a new figure.\n",
       "    fig.send_draw_message();\n",
       "}\n",
       "\n",
       "mpl.figure.prototype.handle_image_mode = function(fig, msg) {\n",
       "    fig.image_mode = msg['mode'];\n",
       "}\n",
       "\n",
       "mpl.figure.prototype.updated_canvas_event = function() {\n",
       "    // Called whenever the canvas gets updated.\n",
       "    this.send_message(\"ack\", {});\n",
       "}\n",
       "\n",
       "// A function to construct a web socket function for onmessage handling.\n",
       "// Called in the figure constructor.\n",
       "mpl.figure.prototype._make_on_message_function = function(fig) {\n",
       "    return function socket_on_message(evt) {\n",
       "        if (evt.data instanceof Blob) {\n",
       "            /* FIXME: We get \"Resource interpreted as Image but\n",
       "             * transferred with MIME type text/plain:\" errors on\n",
       "             * Chrome.  But how to set the MIME type?  It doesn't seem\n",
       "             * to be part of the websocket stream */\n",
       "            evt.data.type = \"image/png\";\n",
       "\n",
       "            /* Free the memory for the previous frames */\n",
       "            if (fig.imageObj.src) {\n",
       "                (window.URL || window.webkitURL).revokeObjectURL(\n",
       "                    fig.imageObj.src);\n",
       "            }\n",
       "\n",
       "            fig.imageObj.src = (window.URL || window.webkitURL).createObjectURL(\n",
       "                evt.data);\n",
       "            fig.updated_canvas_event();\n",
       "            fig.waiting = false;\n",
       "            return;\n",
       "        }\n",
       "        else if (typeof evt.data === 'string' && evt.data.slice(0, 21) == \"data:image/png;base64\") {\n",
       "            fig.imageObj.src = evt.data;\n",
       "            fig.updated_canvas_event();\n",
       "            fig.waiting = false;\n",
       "            return;\n",
       "        }\n",
       "\n",
       "        var msg = JSON.parse(evt.data);\n",
       "        var msg_type = msg['type'];\n",
       "\n",
       "        // Call the  \"handle_{type}\" callback, which takes\n",
       "        // the figure and JSON message as its only arguments.\n",
       "        try {\n",
       "            var callback = fig[\"handle_\" + msg_type];\n",
       "        } catch (e) {\n",
       "            console.log(\"No handler for the '\" + msg_type + \"' message type: \", msg);\n",
       "            return;\n",
       "        }\n",
       "\n",
       "        if (callback) {\n",
       "            try {\n",
       "                // console.log(\"Handling '\" + msg_type + \"' message: \", msg);\n",
       "                callback(fig, msg);\n",
       "            } catch (e) {\n",
       "                console.log(\"Exception inside the 'handler_\" + msg_type + \"' callback:\", e, e.stack, msg);\n",
       "            }\n",
       "        }\n",
       "    };\n",
       "}\n",
       "\n",
       "// from http://stackoverflow.com/questions/1114465/getting-mouse-location-in-canvas\n",
       "mpl.findpos = function(e) {\n",
       "    //this section is from http://www.quirksmode.org/js/events_properties.html\n",
       "    var targ;\n",
       "    if (!e)\n",
       "        e = window.event;\n",
       "    if (e.target)\n",
       "        targ = e.target;\n",
       "    else if (e.srcElement)\n",
       "        targ = e.srcElement;\n",
       "    if (targ.nodeType == 3) // defeat Safari bug\n",
       "        targ = targ.parentNode;\n",
       "\n",
       "    // jQuery normalizes the pageX and pageY\n",
       "    // pageX,Y are the mouse positions relative to the document\n",
       "    // offset() returns the position of the element relative to the document\n",
       "    var x = e.pageX - $(targ).offset().left;\n",
       "    var y = e.pageY - $(targ).offset().top;\n",
       "\n",
       "    return {\"x\": x, \"y\": y};\n",
       "};\n",
       "\n",
       "/*\n",
       " * return a copy of an object with only non-object keys\n",
       " * we need this to avoid circular references\n",
       " * http://stackoverflow.com/a/24161582/3208463\n",
       " */\n",
       "function simpleKeys (original) {\n",
       "  return Object.keys(original).reduce(function (obj, key) {\n",
       "    if (typeof original[key] !== 'object')\n",
       "        obj[key] = original[key]\n",
       "    return obj;\n",
       "  }, {});\n",
       "}\n",
       "\n",
       "mpl.figure.prototype.mouse_event = function(event, name) {\n",
       "    var canvas_pos = mpl.findpos(event)\n",
       "\n",
       "    if (name === 'button_press')\n",
       "    {\n",
       "        this.canvas.focus();\n",
       "        this.canvas_div.focus();\n",
       "    }\n",
       "\n",
       "    var x = canvas_pos.x;\n",
       "    var y = canvas_pos.y;\n",
       "\n",
       "    this.send_message(name, {x: x, y: y, button: event.button,\n",
       "                             step: event.step,\n",
       "                             guiEvent: simpleKeys(event)});\n",
       "\n",
       "    /* This prevents the web browser from automatically changing to\n",
       "     * the text insertion cursor when the button is pressed.  We want\n",
       "     * to control all of the cursor setting manually through the\n",
       "     * 'cursor' event from matplotlib */\n",
       "    event.preventDefault();\n",
       "    return false;\n",
       "}\n",
       "\n",
       "mpl.figure.prototype._key_event_extra = function(event, name) {\n",
       "    // Handle any extra behaviour associated with a key event\n",
       "}\n",
       "\n",
       "mpl.figure.prototype.key_event = function(event, name) {\n",
       "\n",
       "    // Prevent repeat events\n",
       "    if (name == 'key_press')\n",
       "    {\n",
       "        if (event.which === this._key)\n",
       "            return;\n",
       "        else\n",
       "            this._key = event.which;\n",
       "    }\n",
       "    if (name == 'key_release')\n",
       "        this._key = null;\n",
       "\n",
       "    var value = '';\n",
       "    if (event.ctrlKey && event.which != 17)\n",
       "        value += \"ctrl+\";\n",
       "    if (event.altKey && event.which != 18)\n",
       "        value += \"alt+\";\n",
       "    if (event.shiftKey && event.which != 16)\n",
       "        value += \"shift+\";\n",
       "\n",
       "    value += 'k';\n",
       "    value += event.which.toString();\n",
       "\n",
       "    this._key_event_extra(event, name);\n",
       "\n",
       "    this.send_message(name, {key: value,\n",
       "                             guiEvent: simpleKeys(event)});\n",
       "    return false;\n",
       "}\n",
       "\n",
       "mpl.figure.prototype.toolbar_button_onclick = function(name) {\n",
       "    if (name == 'download') {\n",
       "        this.handle_save(this, null);\n",
       "    } else {\n",
       "        this.send_message(\"toolbar_button\", {name: name});\n",
       "    }\n",
       "};\n",
       "\n",
       "mpl.figure.prototype.toolbar_button_onmouseover = function(tooltip) {\n",
       "    this.message.textContent = tooltip;\n",
       "};\n",
       "mpl.toolbar_items = [[\"Home\", \"Reset original view\", \"fa fa-home icon-home\", \"home\"], [\"Back\", \"Back to  previous view\", \"fa fa-arrow-left icon-arrow-left\", \"back\"], [\"Forward\", \"Forward to next view\", \"fa fa-arrow-right icon-arrow-right\", \"forward\"], [\"\", \"\", \"\", \"\"], [\"Pan\", \"Pan axes with left mouse, zoom with right\", \"fa fa-arrows icon-move\", \"pan\"], [\"Zoom\", \"Zoom to rectangle\", \"fa fa-square-o icon-check-empty\", \"zoom\"], [\"\", \"\", \"\", \"\"], [\"Download\", \"Download plot\", \"fa fa-floppy-o icon-save\", \"download\"]];\n",
       "\n",
       "mpl.extensions = [\"eps\", \"jpeg\", \"pdf\", \"png\", \"ps\", \"raw\", \"svg\", \"tif\"];\n",
       "\n",
       "mpl.default_extension = \"png\";var comm_websocket_adapter = function(comm) {\n",
       "    // Create a \"websocket\"-like object which calls the given IPython comm\n",
       "    // object with the appropriate methods. Currently this is a non binary\n",
       "    // socket, so there is still some room for performance tuning.\n",
       "    var ws = {};\n",
       "\n",
       "    ws.close = function() {\n",
       "        comm.close()\n",
       "    };\n",
       "    ws.send = function(m) {\n",
       "        //console.log('sending', m);\n",
       "        comm.send(m);\n",
       "    };\n",
       "    // Register the callback with on_msg.\n",
       "    comm.on_msg(function(msg) {\n",
       "        //console.log('receiving', msg['content']['data'], msg);\n",
       "        // Pass the mpl event to the overriden (by mpl) onmessage function.\n",
       "        ws.onmessage(msg['content']['data'])\n",
       "    });\n",
       "    return ws;\n",
       "}\n",
       "\n",
       "mpl.mpl_figure_comm = function(comm, msg) {\n",
       "    // This is the function which gets called when the mpl process\n",
       "    // starts-up an IPython Comm through the \"matplotlib\" channel.\n",
       "\n",
       "    var id = msg.content.data.id;\n",
       "    // Get hold of the div created by the display call when the Comm\n",
       "    // socket was opened in Python.\n",
       "    var element = $(\"#\" + id);\n",
       "    var ws_proxy = comm_websocket_adapter(comm)\n",
       "\n",
       "    function ondownload(figure, format) {\n",
       "        window.open(figure.imageObj.src);\n",
       "    }\n",
       "\n",
       "    var fig = new mpl.figure(id, ws_proxy,\n",
       "                           ondownload,\n",
       "                           element.get(0));\n",
       "\n",
       "    // Call onopen now - mpl needs it, as it is assuming we've passed it a real\n",
       "    // web socket which is closed, not our websocket->open comm proxy.\n",
       "    ws_proxy.onopen();\n",
       "\n",
       "    fig.parent_element = element.get(0);\n",
       "    fig.cell_info = mpl.find_output_cell(\"<div id='\" + id + \"'></div>\");\n",
       "    if (!fig.cell_info) {\n",
       "        console.error(\"Failed to find cell for figure\", id, fig);\n",
       "        return;\n",
       "    }\n",
       "\n",
       "    var output_index = fig.cell_info[2]\n",
       "    var cell = fig.cell_info[0];\n",
       "\n",
       "};\n",
       "\n",
       "mpl.figure.prototype.handle_close = function(fig, msg) {\n",
       "    fig.root.unbind('remove')\n",
       "\n",
       "    // Update the output cell to use the data from the current canvas.\n",
       "    fig.push_to_output();\n",
       "    var dataURL = fig.canvas.toDataURL();\n",
       "    // Re-enable the keyboard manager in IPython - without this line, in FF,\n",
       "    // the notebook keyboard shortcuts fail.\n",
       "    IPython.keyboard_manager.enable()\n",
       "    $(fig.parent_element).html('<img src=\"' + dataURL + '\">');\n",
       "    fig.close_ws(fig, msg);\n",
       "}\n",
       "\n",
       "mpl.figure.prototype.close_ws = function(fig, msg){\n",
       "    fig.send_message('closing', msg);\n",
       "    // fig.ws.close()\n",
       "}\n",
       "\n",
       "mpl.figure.prototype.push_to_output = function(remove_interactive) {\n",
       "    // Turn the data on the canvas into data in the output cell.\n",
       "    var dataURL = this.canvas.toDataURL();\n",
       "    this.cell_info[1]['text/html'] = '<img src=\"' + dataURL + '\">';\n",
       "}\n",
       "\n",
       "mpl.figure.prototype.updated_canvas_event = function() {\n",
       "    // Tell IPython that the notebook contents must change.\n",
       "    IPython.notebook.set_dirty(true);\n",
       "    this.send_message(\"ack\", {});\n",
       "    var fig = this;\n",
       "    // Wait a second, then push the new image to the DOM so\n",
       "    // that it is saved nicely (might be nice to debounce this).\n",
       "    setTimeout(function () { fig.push_to_output() }, 1000);\n",
       "}\n",
       "\n",
       "mpl.figure.prototype._init_toolbar = function() {\n",
       "    var fig = this;\n",
       "\n",
       "    var nav_element = $('<div/>')\n",
       "    nav_element.attr('style', 'width: 100%');\n",
       "    this.root.append(nav_element);\n",
       "\n",
       "    // Define a callback function for later on.\n",
       "    function toolbar_event(event) {\n",
       "        return fig.toolbar_button_onclick(event['data']);\n",
       "    }\n",
       "    function toolbar_mouse_event(event) {\n",
       "        return fig.toolbar_button_onmouseover(event['data']);\n",
       "    }\n",
       "\n",
       "    for(var toolbar_ind in mpl.toolbar_items){\n",
       "        var name = mpl.toolbar_items[toolbar_ind][0];\n",
       "        var tooltip = mpl.toolbar_items[toolbar_ind][1];\n",
       "        var image = mpl.toolbar_items[toolbar_ind][2];\n",
       "        var method_name = mpl.toolbar_items[toolbar_ind][3];\n",
       "\n",
       "        if (!name) { continue; };\n",
       "\n",
       "        var button = $('<button class=\"btn btn-default\" href=\"#\" title=\"' + name + '\"><i class=\"fa ' + image + ' fa-lg\"></i></button>');\n",
       "        button.click(method_name, toolbar_event);\n",
       "        button.mouseover(tooltip, toolbar_mouse_event);\n",
       "        nav_element.append(button);\n",
       "    }\n",
       "\n",
       "    // Add the status bar.\n",
       "    var status_bar = $('<span class=\"mpl-message\" style=\"text-align:right; float: right;\"/>');\n",
       "    nav_element.append(status_bar);\n",
       "    this.message = status_bar[0];\n",
       "\n",
       "    // Add the close button to the window.\n",
       "    var buttongrp = $('<div class=\"btn-group inline pull-right\"></div>');\n",
       "    var button = $('<button class=\"btn btn-mini btn-primary\" href=\"#\" title=\"Stop Interaction\"><i class=\"fa fa-power-off icon-remove icon-large\"></i></button>');\n",
       "    button.click(function (evt) { fig.handle_close(fig, {}); } );\n",
       "    button.mouseover('Stop Interaction', toolbar_mouse_event);\n",
       "    buttongrp.append(button);\n",
       "    var titlebar = this.root.find($('.ui-dialog-titlebar'));\n",
       "    titlebar.prepend(buttongrp);\n",
       "}\n",
       "\n",
       "mpl.figure.prototype._root_extra_style = function(el){\n",
       "    var fig = this\n",
       "    el.on(\"remove\", function(){\n",
       "\tfig.close_ws(fig, {});\n",
       "    });\n",
       "}\n",
       "\n",
       "mpl.figure.prototype._canvas_extra_style = function(el){\n",
       "    // this is important to make the div 'focusable\n",
       "    el.attr('tabindex', 0)\n",
       "    // reach out to IPython and tell the keyboard manager to turn it's self\n",
       "    // off when our div gets focus\n",
       "\n",
       "    // location in version 3\n",
       "    if (IPython.notebook.keyboard_manager) {\n",
       "        IPython.notebook.keyboard_manager.register_events(el);\n",
       "    }\n",
       "    else {\n",
       "        // location in version 2\n",
       "        IPython.keyboard_manager.register_events(el);\n",
       "    }\n",
       "\n",
       "}\n",
       "\n",
       "mpl.figure.prototype._key_event_extra = function(event, name) {\n",
       "    var manager = IPython.notebook.keyboard_manager;\n",
       "    if (!manager)\n",
       "        manager = IPython.keyboard_manager;\n",
       "\n",
       "    // Check for shift+enter\n",
       "    if (event.shiftKey && event.which == 13) {\n",
       "        this.canvas_div.blur();\n",
       "        // select the cell after this one\n",
       "        var index = IPython.notebook.find_cell_index(this.cell_info[0]);\n",
       "        IPython.notebook.select(index + 1);\n",
       "    }\n",
       "}\n",
       "\n",
       "mpl.figure.prototype.handle_save = function(fig, msg) {\n",
       "    fig.ondownload(fig, null);\n",
       "}\n",
       "\n",
       "\n",
       "mpl.find_output_cell = function(html_output) {\n",
       "    // Return the cell and output element which can be found *uniquely* in the notebook.\n",
       "    // Note - this is a bit hacky, but it is done because the \"notebook_saving.Notebook\"\n",
       "    // IPython event is triggered only after the cells have been serialised, which for\n",
       "    // our purposes (turning an active figure into a static one), is too late.\n",
       "    var cells = IPython.notebook.get_cells();\n",
       "    var ncells = cells.length;\n",
       "    for (var i=0; i<ncells; i++) {\n",
       "        var cell = cells[i];\n",
       "        if (cell.cell_type === 'code'){\n",
       "            for (var j=0; j<cell.output_area.outputs.length; j++) {\n",
       "                var data = cell.output_area.outputs[j];\n",
       "                if (data.data) {\n",
       "                    // IPython >= 3 moved mimebundle to data attribute of output\n",
       "                    data = data.data;\n",
       "                }\n",
       "                if (data['text/html'] == html_output) {\n",
       "                    return [cell, data, j];\n",
       "                }\n",
       "            }\n",
       "        }\n",
       "    }\n",
       "}\n",
       "\n",
       "// Register the function which deals with the matplotlib target/channel.\n",
       "// The kernel may be null if the page has been refreshed.\n",
       "if (IPython.notebook.kernel != null) {\n",
       "    IPython.notebook.kernel.comm_manager.register_target('matplotlib', mpl.mpl_figure_comm);\n",
       "}\n"
      ],
      "text/plain": [
       "<IPython.core.display.Javascript object>"
      ]
     },
     "metadata": {},
     "output_type": "display_data"
    },
    {
     "data": {
      "text/html": [
       "<img src=\"data:image/png;base64,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\">"
      ],
      "text/plain": [
       "<IPython.core.display.HTML object>"
      ]
     },
     "metadata": {},
     "output_type": "display_data"
    }
   ],
   "source": [
    "# generate a simple table of values to plot\n",
    "x = np.linspace(0,1,50)                  # range of input for our functions\n",
    "wave = np.sin(2*np.pi*x)\n",
    "wave_table = np.stack((x,wave),axis=1)    # make table of values for our function\n",
    "\n",
    "# load in a toughy to plot\n",
    "guess_this_table = np.loadtxt('guess_this.txt',delimiter=',')\n",
    "\n",
    "# plot these elementary functions \n",
    "fig = plt.figure(figsize = (12,4))\n",
    "ax1 = fig.add_subplot(121); ax2 = fig.add_subplot(122); \n",
    "ax1.plot(wave_table[:,0],wave_table[:,1],c = 'r',linewidth = 2.5)\n",
    "ax2.plot(guess_this_table[:,0],guess_this_table[:,1],c = 'r',linewidth = 2.5)\n",
    "\n",
    "# clean up plot, plot x and y axes\n",
    "s = np.linspace(-10,10)\n",
    "ax1.grid(True, which='both'),ax2.grid(True, which='both')\n",
    "ax1.axhline(y=0, color='k'),ax2.axhline(y=0, color='k')\n",
    "ax1.axvline(x=0, color='k'),ax2.axvline(x=0, color='k')\n",
    "\n",
    "plt.show()"
   ]
  },
  {
   "cell_type": "markdown",
   "metadata": {
    "slideshow": {
     "slide_type": "subslide"
    }
   },
   "source": [
    "## Which view is more powerful?\n",
    "\n",
    "- if we have a table of values --> can we find an equation?\n",
    "\n",
    "- can we just 'eye-ball' the equation by plotting the table of values? "
   ]
  },
  {
   "cell_type": "markdown",
   "metadata": {
    "slideshow": {
     "slide_type": "fragment"
    }
   },
   "source": [
    "- One on the left: $$y=\\text{sin}(2\\pi x)$$"
   ]
  },
  {
   "cell_type": "markdown",
   "metadata": {
    "slideshow": {
     "slide_type": "fragment"
    }
   },
   "source": [
    "- One on the right\n",
    "\n",
    "$$y = e^{3x}\\frac{\\text{sin}(3\\pi (x-0.5))}{3{\\pi}^2(x-0.5)}$$\n"
   ]
  },
  {
   "cell_type": "markdown",
   "metadata": {
    "slideshow": {
     "slide_type": "subslide"
    }
   },
   "source": [
    "## Which view is more powerful?\n",
    "\n",
    "- if we have a table of values --> can we find an equation?\n",
    "\n",
    "- can we just 'eye-ball' the equation by plotting the table of values? "
   ]
  },
  {
   "cell_type": "markdown",
   "metadata": {
    "slideshow": {
     "slide_type": "fragment"
    }
   },
   "source": [
    "- NO: tables often represent complex functions"
   ]
  },
  {
   "cell_type": "markdown",
   "metadata": {
    "slideshow": {
     "slide_type": "fragment"
    }
   },
   "source": [
    "- NO: can't plot most anyway, too high dimensional (too many inputs)"
   ]
  },
  {
   "cell_type": "markdown",
   "metadata": {
    "slideshow": {
     "slide_type": "fragment"
    }
   },
   "source": [
    "- So can't guess by visualizing, but we can use *function approximators*"
   ]
  },
  {
   "cell_type": "markdown",
   "metadata": {
    "slideshow": {
     "slide_type": "subslide"
    }
   },
   "source": [
    "## What does this have to do with machine learning?\n",
    "\n",
    "> In terms of our 'two views of functions', the aim of supervised learning is to recover the equation of a function based on *noisy* samples of its table of values.\n",
    "\n",
    "<img src=\"demo_images/regr_to_func_approx.gif\\\" width=300 height=300/>"
   ]
  },
  {
   "cell_type": "markdown",
   "metadata": {
    "slideshow": {
     "slide_type": "subslide"
    }
   },
   "source": [
    "## What does this have to do with machine learning?\n",
    "\n",
    "> In terms of our 'two views of functions', the aim of supervised learning is to recover the equation of a function based on *noisy* samples of its table of values.\n",
    "\n",
    "<img src=\"demo_images/class_to_func_approx_2d_slow.gif\\\" width=350 height=300/>\n",
    "\n",
    "<img src=\"demo_images/class_to_func_approx_3d.gif\\\" width=400 height=300/>"
   ]
  },
  {
   "cell_type": "markdown",
   "metadata": {
    "slideshow": {
     "slide_type": "subslide"
    }
   },
   "source": [
    "## Function approximators"
   ]
  },
  {
   "cell_type": "markdown",
   "metadata": {
    "slideshow": {
     "slide_type": "fragment"
    }
   },
   "source": [
    "- catalogs of simple mathematical functions with known equations"
   ]
  },
  {
   "cell_type": "markdown",
   "metadata": {
    "slideshow": {
     "slide_type": "fragment"
    }
   },
   "source": [
    "- combine and tune these equations to match a table of values using a cost function (e.g., least squares)"
   ]
  },
  {
   "cell_type": "markdown",
   "metadata": {
    "slideshow": {
     "slide_type": "fragment"
    }
   },
   "source": [
    "- their combination gives an equation for the table values"
   ]
  },
  {
   "cell_type": "markdown",
   "metadata": {
    "slideshow": {
     "slide_type": "subslide"
    }
   },
   "source": [
    "## Function approximators"
   ]
  },
  {
   "cell_type": "markdown",
   "metadata": {
    "slideshow": {
     "slide_type": "fragment"
    }
   },
   "source": [
    "- most relevant for us going forward are neural networks - a catalog or 'basis' of functions of similar type"
   ]
  },
  {
   "cell_type": "markdown",
   "metadata": {
    "slideshow": {
     "slide_type": "fragment"
    }
   },
   "source": [
    "- Consist of compositions of elementary (equation) functions"
   ]
  },
  {
   "cell_type": "markdown",
   "metadata": {
    "slideshow": {
     "slide_type": "fragment"
    }
   },
   "source": [
    "- e.g., composition of a line and the hyperbolic tangent function\n",
    "\n",
    "$$f(x)=\\text{tanh}(w_0+w_1x)$$"
   ]
  },
  {
   "cell_type": "markdown",
   "metadata": {
    "slideshow": {
     "slide_type": "fragment"
    }
   },
   "source": [
    "- Use many of these --> each with their own weights -->  'single hidden layer' network"
   ]
  },
  {
   "cell_type": "markdown",
   "metadata": {
    "slideshow": {
     "slide_type": "subslide"
    }
   },
   "source": [
    "## Function approximators"
   ]
  },
  {
   "cell_type": "code",
   "execution_count": 16,
   "metadata": {
    "collapsed": false,
    "slideshow": {
     "slide_type": "fragment"
    }
   },
   "outputs": [
    {
     "ename": "ImportError",
     "evalue": "cannot import name mean_variance_axis",
     "output_type": "error",
     "traceback": [
      "\u001b[0;31m---------------------------------------------------------------------------\u001b[0m",
      "\u001b[0;31mImportError\u001b[0m                               Traceback (most recent call last)",
      "\u001b[0;32m<ipython-input-16-663c931704aa>\u001b[0m in \u001b[0;36m<module>\u001b[0;34m()\u001b[0m\n\u001b[1;32m      3\u001b[0m \u001b[0msys\u001b[0m\u001b[0;34m.\u001b[0m\u001b[0mpath\u001b[0m\u001b[0;34m.\u001b[0m\u001b[0mappend\u001b[0m\u001b[0;34m(\u001b[0m\u001b[0;34m'demo_python_backend_files'\u001b[0m\u001b[0;34m)\u001b[0m\u001b[0;34m\u001b[0m\u001b[0m\n\u001b[1;32m      4\u001b[0m \u001b[0;34m\u001b[0m\u001b[0m\n\u001b[0;32m----> 5\u001b[0;31m \u001b[0;32mfrom\u001b[0m \u001b[0msuper_viz_lib\u001b[0m \u001b[0;32mimport\u001b[0m \u001b[0mRegressionFit\u001b[0m\u001b[0;34m\u001b[0m\u001b[0m\n\u001b[0m\u001b[1;32m      6\u001b[0m \u001b[0mfunc_fit\u001b[0m \u001b[0;34m=\u001b[0m \u001b[0mRegressionFit\u001b[0m\u001b[0;34m.\u001b[0m\u001b[0mRegressionFit\u001b[0m\u001b[0;34m(\u001b[0m\u001b[0;34m)\u001b[0m\u001b[0;34m\u001b[0m\u001b[0m\n\u001b[1;32m      7\u001b[0m \u001b[0mfunc_fit\u001b[0m\u001b[0;34m.\u001b[0m\u001b[0mload_target\u001b[0m\u001b[0;34m(\u001b[0m\u001b[0;34m'demo_datasets/sin_function.csv'\u001b[0m\u001b[0;34m)\u001b[0m\u001b[0;34m\u001b[0m\u001b[0m\n",
      "\u001b[0;32m/Users/Nurgetson/Dropbox/github_repos/mlrefined/demo_python_backend_files/super_viz_lib/RegressionFit.py\u001b[0m in \u001b[0;36m<module>\u001b[0;34m()\u001b[0m\n\u001b[1;32m      9\u001b[0m \u001b[0;31m# import sklearn libraries\u001b[0m\u001b[0;34m\u001b[0m\u001b[0;34m\u001b[0m\u001b[0m\n\u001b[1;32m     10\u001b[0m \u001b[0;31m#from sklearn.preprocessing import PolynomialFeatures\u001b[0m\u001b[0;34m\u001b[0m\u001b[0;34m\u001b[0m\u001b[0m\n\u001b[0;32m---> 11\u001b[0;31m \u001b[0;32mfrom\u001b[0m \u001b[0msklearn\u001b[0m \u001b[0;32mimport\u001b[0m \u001b[0mlinear_model\u001b[0m\u001b[0;34m\u001b[0m\u001b[0m\n\u001b[0m\u001b[1;32m     12\u001b[0m \u001b[0;32mfrom\u001b[0m \u001b[0msklearn\u001b[0m\u001b[0;34m.\u001b[0m\u001b[0mneural_network\u001b[0m \u001b[0;32mimport\u001b[0m \u001b[0mMLPRegressor\u001b[0m\u001b[0;34m\u001b[0m\u001b[0m\n\u001b[1;32m     13\u001b[0m \u001b[0;32mfrom\u001b[0m \u001b[0msklearn\u001b[0m \u001b[0;32mimport\u001b[0m \u001b[0mensemble\u001b[0m\u001b[0;34m\u001b[0m\u001b[0m\n",
      "\u001b[0;32m/Users/Nurgetson/anaconda2/lib/python2.7/site-packages/sklearn/linear_model/__init__.py\u001b[0m in \u001b[0;36m<module>\u001b[0;34m()\u001b[0m\n\u001b[1;32m     10\u001b[0m \u001b[0;31m# complete documentation.\u001b[0m\u001b[0;34m\u001b[0m\u001b[0;34m\u001b[0m\u001b[0m\n\u001b[1;32m     11\u001b[0m \u001b[0;34m\u001b[0m\u001b[0m\n\u001b[0;32m---> 12\u001b[0;31m \u001b[0;32mfrom\u001b[0m \u001b[0;34m.\u001b[0m\u001b[0mbase\u001b[0m \u001b[0;32mimport\u001b[0m \u001b[0mLinearRegression\u001b[0m\u001b[0;34m\u001b[0m\u001b[0m\n\u001b[0m\u001b[1;32m     13\u001b[0m \u001b[0;34m\u001b[0m\u001b[0m\n\u001b[1;32m     14\u001b[0m \u001b[0;32mfrom\u001b[0m \u001b[0;34m.\u001b[0m\u001b[0mbayes\u001b[0m \u001b[0;32mimport\u001b[0m \u001b[0mBayesianRidge\u001b[0m\u001b[0;34m,\u001b[0m \u001b[0mARDRegression\u001b[0m\u001b[0;34m\u001b[0m\u001b[0m\n",
      "\u001b[0;32m/Users/Nurgetson/anaconda2/lib/python2.7/site-packages/sklearn/linear_model/base.py\u001b[0m in \u001b[0;36m<module>\u001b[0;34m()\u001b[0m\n\u001b[1;32m     31\u001b[0m \u001b[0;32mfrom\u001b[0m \u001b[0;34m.\u001b[0m\u001b[0;34m.\u001b[0m\u001b[0mutils\u001b[0m \u001b[0;32mimport\u001b[0m \u001b[0mcheck_random_state\u001b[0m\u001b[0;34m\u001b[0m\u001b[0m\n\u001b[1;32m     32\u001b[0m \u001b[0;32mfrom\u001b[0m \u001b[0;34m.\u001b[0m\u001b[0;34m.\u001b[0m\u001b[0mutils\u001b[0m\u001b[0;34m.\u001b[0m\u001b[0mextmath\u001b[0m \u001b[0;32mimport\u001b[0m \u001b[0msafe_sparse_dot\u001b[0m\u001b[0;34m\u001b[0m\u001b[0m\n\u001b[0;32m---> 33\u001b[0;31m \u001b[0;32mfrom\u001b[0m \u001b[0;34m.\u001b[0m\u001b[0;34m.\u001b[0m\u001b[0mutils\u001b[0m\u001b[0;34m.\u001b[0m\u001b[0msparsefuncs\u001b[0m \u001b[0;32mimport\u001b[0m \u001b[0mmean_variance_axis\u001b[0m\u001b[0;34m,\u001b[0m \u001b[0minplace_column_scale\u001b[0m\u001b[0;34m\u001b[0m\u001b[0m\n\u001b[0m\u001b[1;32m     34\u001b[0m \u001b[0;32mfrom\u001b[0m \u001b[0;34m.\u001b[0m\u001b[0;34m.\u001b[0m\u001b[0mutils\u001b[0m\u001b[0;34m.\u001b[0m\u001b[0mfixes\u001b[0m \u001b[0;32mimport\u001b[0m \u001b[0msparse_lsqr\u001b[0m\u001b[0;34m\u001b[0m\u001b[0m\n\u001b[1;32m     35\u001b[0m \u001b[0;32mfrom\u001b[0m \u001b[0;34m.\u001b[0m\u001b[0;34m.\u001b[0m\u001b[0mutils\u001b[0m\u001b[0;34m.\u001b[0m\u001b[0mseq_dataset\u001b[0m \u001b[0;32mimport\u001b[0m \u001b[0mArrayDataset\u001b[0m\u001b[0;34m,\u001b[0m \u001b[0mCSRDataset\u001b[0m\u001b[0;34m\u001b[0m\u001b[0m\n",
      "\u001b[0;31mImportError\u001b[0m: cannot import name mean_variance_axis"
     ]
    }
   ],
   "source": [
    "# import class for visualizing complete function approximation\n",
    "import sys\n",
    "sys.path.append('demo_python_backend_files')\n",
    "\n",
    "from super_viz_lib import RegressionFit\n",
    "func_fit = RegressionFit.RegressionFit()\n",
    "func_fit.load_target('demo_datasets/sin_function.csv')\n",
    "func_fit.browse_fit(model_choice = 'nnet',param_range=np.arange(1,10))"
   ]
  },
  {
   "cell_type": "code",
   "execution_count": null,
   "metadata": {
    "collapsed": true
   },
   "outputs": [],
   "source": []
  },
  {
   "cell_type": "code",
   "execution_count": null,
   "metadata": {
    "collapsed": true
   },
   "outputs": [],
   "source": []
  },
  {
   "cell_type": "markdown",
   "metadata": {
    "slideshow": {
     "slide_type": "subslide"
    }
   },
   "source": [
    "## What can we do?"
   ]
  },
  {
   "cell_type": "markdown",
   "metadata": {
    "slideshow": {
     "slide_type": "fragment"
    }
   },
   "source": [
    "- instead of storing entire column, pick flexible parameterized function and compactly represent (e.g., line, polynomial, neural network, trees)"
   ]
  },
  {
   "cell_type": "markdown",
   "metadata": {
    "slideshow": {
     "slide_type": "fragment"
    }
   },
   "source": [
    "- $h_1(s)$ for first column, $h_2(s)$ for second, etc.,...,$h_M(s)$ for final column"
   ]
  },
  {
   "cell_type": "markdown",
   "metadata": {
    "slideshow": {
     "slide_type": "subslide"
    }
   },
   "source": [
    "## Example: cart-pole"
   ]
  },
  {
   "cell_type": "code",
   "execution_count": 1,
   "metadata": {
    "collapsed": false,
    "slideshow": {
     "slide_type": "fragment"
    }
   },
   "outputs": [
    {
     "name": "stderr",
     "output_type": "stream",
     "text": [
      "[2017-04-06 18:16:47,683] Making new env: CartPole-v0\n"
     ]
    },
    {
     "name": "stdout",
     "output_type": "stream",
     "text": [
      "q-learning process complete, best number of average steps in test runs = 199.0\n"
     ]
    }
   ],
   "source": [
    "from my_cartpole import my_cartpole\n",
    "cartpole_test = my_cartpole()\n",
    "cartpole_test.qlearn(gamma=0.8,num_episodes = 100)"
   ]
  },
  {
   "cell_type": "code",
   "execution_count": 2,
   "metadata": {
    "collapsed": false,
    "slideshow": {
     "slide_type": "fragment"
    }
   },
   "outputs": [
    {
     "name": "stdout",
     "output_type": "stream",
     "text": [
      "lasted 199 timesteps\n",
      "lasted 199 timesteps\n"
     ]
    }
   ],
   "source": [
    "# run a few test runs of cart-pole using the trained function approximators\n",
    "cartpole_test.animate_test_run()\n",
    "cartpole_test.animate_test_run()"
   ]
  },
  {
   "cell_type": "markdown",
   "metadata": {
    "slideshow": {
     "slide_type": "subslide"
    }
   },
   "source": [
    "## How does this adjust Q-Learning algorithm?"
   ]
  },
  {
   "cell_type": "markdown",
   "metadata": {},
   "source": [
    "- Thats where we pick up next time!"
   ]
  },
  {
   "cell_type": "markdown",
   "metadata": {
    "nbpresent": {
     "id": "58d8c203-d0fa-4b45-93cd-5302fb71903c"
    },
    "slideshow": {
     "slide_type": "slide"
    }
   },
   "source": [
    "<a id='bib_cell'></a>\n",
    "\n",
    "## Notes and bibliography\n",
    "\n",
    "[0] Harmon, Mance E., and Stephanie S. Harmon. Reinforcement Learning: A Tutorial. No. WL-TR-97-1028. WRIGHT LAB WRIGHT-PATTERSON AFB OH, 1997\n",
    "\n",
    "[1]  There are many algorithms specifically designed to solve just this task - the most popular being [Dijkstra’s and A\\* algorithms](http://www.redblobgames.com/pathfinding/a-star/introduction.html).  However the more flexible RL framework too provides great results.\n",
    "\n",
    "[2] Lai, Matthew. \"Giraffe: Using deep reinforcement learning to play chess.\" arXiv preprint arXiv:1509.01549 (2015).\n",
    "APA\t\n",
    "\n",
    "[3]  Mnih, Volodymyr, et al. \"Playing atari with deep reinforcement learning.\" arXiv preprint arXiv:1312.5602 (2013).\n",
    "    \n",
    "[4]  Image taken from http://ai.berkeley.edu/project_overview.html\n",
    "\n",
    "[5] Watkins, Christopher JCH, and Peter Dayan. \"Q-learning.\" Machine learning 8.3-4 (1992): 279-292.\n",
    "\n",
    "[6]  Image taken from https://gym.openai.com/"
   ]
  }
 ],
 "metadata": {
  "anaconda-cloud": {},
  "celltoolbar": "Slideshow",
  "kernelspec": {
   "display_name": "Python [default]",
   "language": "python",
   "name": "python2"
  },
  "language_info": {
   "codemirror_mode": {
    "name": "ipython",
    "version": 2
   },
   "file_extension": ".py",
   "mimetype": "text/x-python",
   "name": "python",
   "nbconvert_exporter": "python",
   "pygments_lexer": "ipython2",
   "version": "2.7.13"
  },
  "nbpresent": {
   "slides": {
    "103e09af-0663-4e64-8399-0c1b3d356dca": {
     "id": "103e09af-0663-4e64-8399-0c1b3d356dca",
     "prev": "19aab01e-507d-4d78-96c5-55c2b2525c01",
     "regions": {
      "be147851-eac8-4f64-bf29-64c54e3b9dce": {
       "attrs": {
        "height": 0.8,
        "width": 0.8,
        "x": 0.1,
        "y": 0.1
       },
       "content": {
        "cell": "33a9e261-c05f-4c8a-b7fa-c0b02db77a1e",
        "part": "whole"
       },
       "id": "be147851-eac8-4f64-bf29-64c54e3b9dce"
      }
     }
    },
    "121d21f0-5059-4196-ab6d-d001b6638e5b": {
     "id": "121d21f0-5059-4196-ab6d-d001b6638e5b",
     "prev": "bab20373-68ec-487b-8996-a9da7e77e157",
     "regions": {
      "a5e05869-1e65-41ba-8b53-51960ac8d442": {
       "attrs": {
        "height": 0.8,
        "width": 0.8,
        "x": 0.1,
        "y": 0.1
       },
       "content": {
        "cell": "574a99b9-b69d-49d2-868e-0b01e166181a",
        "part": "whole"
       },
       "id": "a5e05869-1e65-41ba-8b53-51960ac8d442"
      }
     }
    },
    "175d56f0-9172-4a57-91a4-cf0ef21c6543": {
     "id": "175d56f0-9172-4a57-91a4-cf0ef21c6543",
     "prev": "b6d6c2a9-4564-4889-8042-9644c7b5c5bc",
     "regions": {
      "34d0b44d-d9bd-4556-b285-644e01029937": {
       "attrs": {
        "height": 0.8,
        "width": 0.8,
        "x": 0.1,
        "y": 0.1
       },
       "content": {
        "cell": "80b44f75-5087-43bc-b6fc-7a52100f1949",
        "part": "whole"
       },
       "id": "34d0b44d-d9bd-4556-b285-644e01029937"
      }
     }
    },
    "17f76fc1-6351-4f23-b4fc-cda7cbc9dd01": {
     "id": "17f76fc1-6351-4f23-b4fc-cda7cbc9dd01",
     "prev": "c3a0d00b-f56b-48b7-bdc8-5d6fff30c19b",
     "regions": {
      "4aa4c7f4-4534-4df4-8f85-946ab1cfb2c0": {
       "attrs": {
        "height": 0.8,
        "width": 0.8,
        "x": 0.1,
        "y": 0.1
       },
       "content": {
        "cell": "155a267a-4cd5-458a-b663-c39f8cf452c5",
        "part": "whole"
       },
       "id": "4aa4c7f4-4534-4df4-8f85-946ab1cfb2c0"
      }
     }
    },
    "180769c9-41d4-4081-9d74-e7aa3677ff8f": {
     "id": "180769c9-41d4-4081-9d74-e7aa3677ff8f",
     "prev": "103e09af-0663-4e64-8399-0c1b3d356dca",
     "regions": {
      "8a3b7c61-2e24-40c2-b0ba-0198f87c9389": {
       "attrs": {
        "height": 0.8,
        "width": 0.8,
        "x": 0.1,
        "y": 0.1
       },
       "content": {
        "cell": "5e7d6182-de8c-46d1-97e0-96b7a32a7acc",
        "part": "whole"
       },
       "id": "8a3b7c61-2e24-40c2-b0ba-0198f87c9389"
      }
     }
    },
    "19aab01e-507d-4d78-96c5-55c2b2525c01": {
     "id": "19aab01e-507d-4d78-96c5-55c2b2525c01",
     "prev": "36a06564-6b02-4b17-aa69-50b633821bdc",
     "regions": {
      "54d8ed34-82d6-4ece-9271-eff7f882cf9c": {
       "attrs": {
        "height": 0.8,
        "width": 0.8,
        "x": 0.1,
        "y": 0.1
       },
       "content": {
        "cell": "927e80af-f6b8-431f-b01b-5d174308a3f4",
        "part": "whole"
       },
       "id": "54d8ed34-82d6-4ece-9271-eff7f882cf9c"
      }
     }
    },
    "22a68a2b-9663-4c68-828d-c1821c6a3471": {
     "id": "22a68a2b-9663-4c68-828d-c1821c6a3471",
     "prev": "89a23b9f-5ed7-4c16-ba9b-2371715c5fc0",
     "regions": {
      "ca8b7725-225b-46b6-9fc2-7ccd1cc4daea": {
       "attrs": {
        "height": 0.8,
        "width": 0.8,
        "x": 0.1,
        "y": 0.1
       },
       "content": {
        "cell": "0de3084c-51b4-4b28-a228-5fe211c5c423",
        "part": "whole"
       },
       "id": "ca8b7725-225b-46b6-9fc2-7ccd1cc4daea"
      }
     }
    },
    "2474b1e1-1a78-4dfa-85e4-c226e926012a": {
     "id": "2474b1e1-1a78-4dfa-85e4-c226e926012a",
     "prev": "c313db45-2c40-418a-8211-e92d997e640a",
     "regions": {
      "71a6d63f-5b36-46df-a90b-ef4169011662": {
       "attrs": {
        "height": 0.8,
        "width": 0.8,
        "x": 0.1,
        "y": 0.1
       },
       "content": {
        "cell": "d98a2406-78f9-470b-a05a-b2d2d8bfdbb4",
        "part": "whole"
       },
       "id": "71a6d63f-5b36-46df-a90b-ef4169011662"
      }
     }
    },
    "2503811e-c43e-429f-b1ee-373a23fff7bd": {
     "id": "2503811e-c43e-429f-b1ee-373a23fff7bd",
     "prev": "64de807f-f727-49eb-b1bf-656c5035990e",
     "regions": {
      "034cafb3-38cb-4c95-ae0a-2792c5ccb4b2": {
       "attrs": {
        "height": 0.8,
        "width": 0.8,
        "x": 0.1,
        "y": 0.1
       },
       "content": {
        "cell": "ccf13294-28a3-4010-b0aa-ef530331b8de",
        "part": "whole"
       },
       "id": "034cafb3-38cb-4c95-ae0a-2792c5ccb4b2"
      }
     }
    },
    "30b37ac1-3996-4850-886e-ce949ffcd63b": {
     "id": "30b37ac1-3996-4850-886e-ce949ffcd63b",
     "prev": "22a68a2b-9663-4c68-828d-c1821c6a3471",
     "regions": {
      "e78a347a-967f-4741-9c53-b1ddfbaa7318": {
       "attrs": {
        "height": 0.8,
        "width": 0.8,
        "x": 0.1,
        "y": 0.1
       },
       "content": {
        "cell": "b9072c13-e0c9-40d4-9352-5c4ee6d6d899",
        "part": "whole"
       },
       "id": "e78a347a-967f-4741-9c53-b1ddfbaa7318"
      }
     }
    },
    "30dc0be7-6bee-4c47-b085-9478e10a3612": {
     "id": "30dc0be7-6bee-4c47-b085-9478e10a3612",
     "prev": "d7e439f7-ba39-40c2-b293-c49ccd578921",
     "regions": {
      "1d13e784-73fa-4b35-91cb-c91e38220355": {
       "attrs": {
        "height": 0.8,
        "width": 0.8,
        "x": 0.1,
        "y": 0.1
       },
       "content": {
        "cell": "58d8c203-d0fa-4b45-93cd-5302fb71903c",
        "part": "whole"
       },
       "id": "1d13e784-73fa-4b35-91cb-c91e38220355"
      }
     }
    },
    "33fa4ab7-c3f9-42ae-a52a-1443a3cc5171": {
     "id": "33fa4ab7-c3f9-42ae-a52a-1443a3cc5171",
     "prev": "180769c9-41d4-4081-9d74-e7aa3677ff8f",
     "regions": {
      "1580bb0a-869f-481a-a8c8-aaecd4337f20": {
       "attrs": {
        "height": 0.8,
        "width": 0.8,
        "x": 0.1,
        "y": 0.1
       },
       "content": {
        "cell": "3c5a038b-0bf8-441c-b717-003ea370821c",
        "part": "whole"
       },
       "id": "1580bb0a-869f-481a-a8c8-aaecd4337f20"
      }
     }
    },
    "36a06564-6b02-4b17-aa69-50b633821bdc": {
     "id": "36a06564-6b02-4b17-aa69-50b633821bdc",
     "prev": "f3d73ea4-5cf9-4d51-9808-dcb7a9f68e4f",
     "regions": {
      "f95d7256-18aa-4c5a-90a7-ad5c7f7eb133": {
       "attrs": {
        "height": 0.8,
        "width": 0.8,
        "x": 0.1,
        "y": 0.1
       },
       "content": {
        "cell": "9ad83361-14c6-47d5-859e-6cb60dc28ee5",
        "part": "whole"
       },
       "id": "f95d7256-18aa-4c5a-90a7-ad5c7f7eb133"
      }
     }
    },
    "37a33dbe-b23e-4381-a7b0-e19609aa3c02": {
     "id": "37a33dbe-b23e-4381-a7b0-e19609aa3c02",
     "prev": "ed7af3f2-9d07-4670-ad36-c7b5a91ab405",
     "regions": {
      "857c183c-c411-48db-af8e-308aad501163": {
       "attrs": {
        "height": 0.8,
        "width": 0.8,
        "x": 0.1,
        "y": 0.1
       },
       "content": {
        "cell": "80b6e088-c022-4941-aea9-d91efbabfc0a",
        "part": "whole"
       },
       "id": "857c183c-c411-48db-af8e-308aad501163"
      }
     }
    },
    "496834fc-f5f8-4528-8fdf-ffada7493069": {
     "id": "496834fc-f5f8-4528-8fdf-ffada7493069",
     "prev": "17f76fc1-6351-4f23-b4fc-cda7cbc9dd01",
     "regions": {
      "35d67abf-b7e8-4255-b1e8-bf679995c973": {
       "attrs": {
        "height": 0.8,
        "width": 0.8,
        "x": 0.1,
        "y": 0.1
       },
       "content": {
        "cell": "208d2d6b-5355-48b1-8ee8-2808be856b52",
        "part": "whole"
       },
       "id": "35d67abf-b7e8-4255-b1e8-bf679995c973"
      }
     }
    },
    "49adca23-00f5-4439-b9e2-2b05d8cd82b9": {
     "id": "49adca23-00f5-4439-b9e2-2b05d8cd82b9",
     "prev": "2474b1e1-1a78-4dfa-85e4-c226e926012a",
     "regions": {
      "021c2c5e-f76d-4172-ada9-5780a305c237": {
       "attrs": {
        "height": 0.8,
        "width": 0.8,
        "x": 0.1,
        "y": 0.1
       },
       "content": {
        "cell": "397f4ea8-fcff-4f69-95b3-df392caed841",
        "part": "whole"
       },
       "id": "021c2c5e-f76d-4172-ada9-5780a305c237"
      }
     }
    },
    "4a80d23f-7c82-4f86-9f04-e347d3d768dd": {
     "id": "4a80d23f-7c82-4f86-9f04-e347d3d768dd",
     "prev": "9a608089-c148-4fb0-8723-be913c1bbcff",
     "regions": {
      "f4b40992-5c94-4c32-9673-a85f8e4350a9": {
       "attrs": {
        "height": 0.8,
        "width": 0.8,
        "x": 0.1,
        "y": 0.1
       },
       "content": {
        "cell": "bf94ec38-70f3-4fdc-9201-afb5acc48a72",
        "part": "whole"
       },
       "id": "f4b40992-5c94-4c32-9673-a85f8e4350a9"
      }
     }
    },
    "56a70e4e-1e1d-4a0c-b8fe-7be0702d64f1": {
     "id": "56a70e4e-1e1d-4a0c-b8fe-7be0702d64f1",
     "layout": "manual",
     "prev": null,
     "regions": {
      "b43e60e5-f5dd-40b0-bde0-7778c61d27d8": {
       "attrs": {
        "height": 0.8333333333333334,
        "pad": 0.01,
        "width": 0.8333333333333335,
        "x": 0.06416400425985085,
        "y": 0.09469293574724885
       },
       "content": {
        "cell": "455d9b79-0cf5-467b-a6b1-01b3d8fd246e",
        "part": "whole"
       },
       "id": "b43e60e5-f5dd-40b0-bde0-7778c61d27d8"
      }
     }
    },
    "5aed3973-5af7-45d7-bbb5-33fd276a60ab": {
     "id": "5aed3973-5af7-45d7-bbb5-33fd276a60ab",
     "prev": "d1b21011-e21a-419b-9ad3-a7144cdb1aee",
     "regions": {
      "7e8008c1-d1d5-4ba3-bdbd-b88736545fd8": {
       "attrs": {
        "height": 0.8,
        "width": 0.8,
        "x": 0.1,
        "y": 0.1
       },
       "content": {
        "cell": "8a941a86-6b59-411b-bbf1-dec883fee3a5",
        "part": "whole"
       },
       "id": "7e8008c1-d1d5-4ba3-bdbd-b88736545fd8"
      }
     }
    },
    "5b06d5bd-a39d-42b4-8b26-15d416ba856b": {
     "id": "5b06d5bd-a39d-42b4-8b26-15d416ba856b",
     "prev": "a6482400-8fe1-49a6-af87-644c7affbbca",
     "regions": {
      "e99e3150-230a-4588-b026-68225e8f1557": {
       "attrs": {
        "height": 0.8,
        "width": 0.8,
        "x": 0.1,
        "y": 0.1
       },
       "content": {
        "cell": "8d396714-1e9a-4a9f-8063-1ad7da279f40",
        "part": "whole"
       },
       "id": "e99e3150-230a-4588-b026-68225e8f1557"
      }
     }
    },
    "64de807f-f727-49eb-b1bf-656c5035990e": {
     "id": "64de807f-f727-49eb-b1bf-656c5035990e",
     "prev": "8e531252-dacb-46b3-b65c-adb229353bfb",
     "regions": {
      "1f5fe189-d8d9-470d-9abb-ef02772cee95": {
       "attrs": {
        "height": 0.8,
        "width": 0.8,
        "x": 0.1,
        "y": 0.1
       },
       "content": {
        "cell": "c24d8d3e-aa9a-4aa7-ae93-c36ada604ac9",
        "part": "whole"
       },
       "id": "1f5fe189-d8d9-470d-9abb-ef02772cee95"
      }
     }
    },
    "803c2834-255f-42c3-9a0c-fc21b0263b72": {
     "id": "803c2834-255f-42c3-9a0c-fc21b0263b72",
     "prev": "121d21f0-5059-4196-ab6d-d001b6638e5b",
     "regions": {
      "9b8b4d07-1ab5-4a02-b27c-c8344543919c": {
       "attrs": {
        "height": 0.8,
        "width": 0.8,
        "x": 0.1,
        "y": 0.1
       },
       "content": {
        "cell": "2e1c1be0-8560-4875-99bf-6b0c26fd1b73",
        "part": "whole"
       },
       "id": "9b8b4d07-1ab5-4a02-b27c-c8344543919c"
      }
     }
    },
    "842c745f-b6ae-4550-860b-859aeb373a20": {
     "id": "842c745f-b6ae-4550-860b-859aeb373a20",
     "prev": "5b06d5bd-a39d-42b4-8b26-15d416ba856b",
     "regions": {
      "5056739f-aef1-40c7-bbde-78fbbd09bbb4": {
       "attrs": {
        "height": 0.8,
        "width": 0.8,
        "x": 0.1,
        "y": 0.1
       },
       "content": {
        "cell": "4ae730c2-5ed4-4f05-b22a-2fa7a3bc2479",
        "part": "whole"
       },
       "id": "5056739f-aef1-40c7-bbde-78fbbd09bbb4"
      }
     }
    },
    "8698651c-b5ca-4a73-a5fb-ec597deb8021": {
     "id": "8698651c-b5ca-4a73-a5fb-ec597deb8021",
     "prev": "8b651f58-724a-48ae-b508-685f1e953950",
     "regions": {
      "6138b768-4c1a-4614-9b4e-f64f7f2c5514": {
       "attrs": {
        "height": 0.8,
        "width": 0.8,
        "x": 0.1,
        "y": 0.1
       },
       "content": {
        "cell": "fee7308b-2b56-4b52-b349-9bce13a524c9",
        "part": "whole"
       },
       "id": "6138b768-4c1a-4614-9b4e-f64f7f2c5514"
      }
     }
    },
    "87e50aad-4575-43c0-8c20-1ef97944f051": {
     "id": "87e50aad-4575-43c0-8c20-1ef97944f051",
     "prev": "49adca23-00f5-4439-b9e2-2b05d8cd82b9",
     "regions": {
      "a499fcbc-2e9f-42e5-b553-27681921c5a2": {
       "attrs": {
        "height": 0.8,
        "width": 0.8,
        "x": 0.1,
        "y": 0.1
       },
       "content": {
        "cell": "6077b959-8b7b-4ec1-9351-92bc51dfdef1",
        "part": "whole"
       },
       "id": "a499fcbc-2e9f-42e5-b553-27681921c5a2"
      }
     }
    },
    "89a23b9f-5ed7-4c16-ba9b-2371715c5fc0": {
     "id": "89a23b9f-5ed7-4c16-ba9b-2371715c5fc0",
     "prev": "fa7ed61c-a009-46e4-b4c5-aa47ae767510",
     "regions": {
      "a19a5a4b-6a4d-4b8e-9c67-d82da9a99f6b": {
       "attrs": {
        "height": 0.8,
        "width": 0.8,
        "x": 0.1,
        "y": 0.1
       },
       "content": {
        "cell": "0c1e60b7-54f9-43e6-b52a-ee1e0d750e4a",
        "part": "whole"
       },
       "id": "a19a5a4b-6a4d-4b8e-9c67-d82da9a99f6b"
      }
     }
    },
    "8b651f58-724a-48ae-b508-685f1e953950": {
     "id": "8b651f58-724a-48ae-b508-685f1e953950",
     "prev": "a43fc2a8-30c1-46c8-be2a-8c25d5328fc2",
     "regions": {
      "21ef8c58-03b9-400e-86e0-1d2761902db3": {
       "attrs": {
        "height": 0.8,
        "width": 0.8,
        "x": 0.1,
        "y": 0.1
       },
       "content": {
        "cell": "75aa9571-1616-416a-90a5-5a49682ba16d",
        "part": "whole"
       },
       "id": "21ef8c58-03b9-400e-86e0-1d2761902db3"
      }
     }
    },
    "8e531252-dacb-46b3-b65c-adb229353bfb": {
     "id": "8e531252-dacb-46b3-b65c-adb229353bfb",
     "prev": "ac456b44-0236-4d29-ae9a-c6398ad2d3c0",
     "regions": {
      "10ae65b3-c6ff-43b1-82c2-6fff56e3a1f8": {
       "attrs": {
        "height": 0.8,
        "width": 0.8,
        "x": 0.1,
        "y": 0.1
       },
       "content": {
        "cell": "9f669eb6-a546-4682-8d5a-3a431cdc096b",
        "part": "whole"
       },
       "id": "10ae65b3-c6ff-43b1-82c2-6fff56e3a1f8"
      }
     }
    },
    "959cb6bc-88b5-4bd5-bf45-b566db69ec2e": {
     "id": "959cb6bc-88b5-4bd5-bf45-b566db69ec2e",
     "prev": "b38fff8f-d041-4b97-9632-142062eee767",
     "regions": {
      "057a76a0-f489-4572-81ce-eff65b8b3602": {
       "attrs": {
        "height": 0.8,
        "width": 0.8,
        "x": 0.1,
        "y": 0.1
       },
       "content": {
        "cell": "be46c919-bc7b-4ad8-8821-a97d6558713d",
        "part": "whole"
       },
       "id": "057a76a0-f489-4572-81ce-eff65b8b3602"
      }
     }
    },
    "96312088-219e-4cb0-ad1e-05613e9d7cbb": {
     "id": "96312088-219e-4cb0-ad1e-05613e9d7cbb",
     "prev": "5aed3973-5af7-45d7-bbb5-33fd276a60ab",
     "regions": {
      "f86eb4f0-0a3c-4fee-a419-cbbb55946a0f": {
       "attrs": {
        "height": 0.8,
        "width": 0.8,
        "x": 0.1,
        "y": 0.1
       },
       "content": {
        "cell": "55105149-4e07-4b0b-9943-5c09e101c772",
        "part": "whole"
       },
       "id": "f86eb4f0-0a3c-4fee-a419-cbbb55946a0f"
      }
     }
    },
    "9a608089-c148-4fb0-8723-be913c1bbcff": {
     "id": "9a608089-c148-4fb0-8723-be913c1bbcff",
     "prev": "b84ae454-7f80-46d1-8582-f9643aa3c88a",
     "regions": {
      "ab53ef3c-7c5f-46c1-902b-b1d7a10364e5": {
       "attrs": {
        "height": 0.8,
        "width": 0.8,
        "x": 0.1,
        "y": 0.1
       },
       "content": {
        "cell": "1102635f-30c9-4210-8b98-3d835342eb96",
        "part": "whole"
       },
       "id": "ab53ef3c-7c5f-46c1-902b-b1d7a10364e5"
      }
     }
    },
    "a136411a-5769-462c-abda-2ee72d38a7f0": {
     "id": "a136411a-5769-462c-abda-2ee72d38a7f0",
     "prev": "da779fc9-40e1-4659-8dc0-b31c6a3c147c",
     "regions": {
      "ce6b1991-5c7e-4f4e-8de9-4a615735ddf5": {
       "attrs": {
        "height": 0.8,
        "width": 0.8,
        "x": 0.1,
        "y": 0.1
       },
       "content": {
        "cell": "deec2d50-ef21-4cba-8ac1-5290b92cfee4",
        "part": "whole"
       },
       "id": "ce6b1991-5c7e-4f4e-8de9-4a615735ddf5"
      }
     }
    },
    "a43fc2a8-30c1-46c8-be2a-8c25d5328fc2": {
     "id": "a43fc2a8-30c1-46c8-be2a-8c25d5328fc2",
     "prev": "959cb6bc-88b5-4bd5-bf45-b566db69ec2e",
     "regions": {
      "22a7246d-778a-445e-ab0c-aa8968685a1f": {
       "attrs": {
        "height": 0.8,
        "width": 0.8,
        "x": 0.1,
        "y": 0.1
       },
       "content": {
        "cell": "3dea2040-0bfa-4943-88ef-0b0251976f64",
        "part": "whole"
       },
       "id": "22a7246d-778a-445e-ab0c-aa8968685a1f"
      }
     }
    },
    "a6482400-8fe1-49a6-af87-644c7affbbca": {
     "id": "a6482400-8fe1-49a6-af87-644c7affbbca",
     "prev": "37a33dbe-b23e-4381-a7b0-e19609aa3c02",
     "regions": {
      "925e8c6c-b8f6-49c2-9b56-b70caf5aaad8": {
       "attrs": {
        "height": 0.8,
        "width": 0.8,
        "x": 0.1,
        "y": 0.1
       },
       "content": {
        "cell": "dc0ee197-cabb-4c5b-8160-2f57e080abde",
        "part": "whole"
       },
       "id": "925e8c6c-b8f6-49c2-9b56-b70caf5aaad8"
      }
     }
    },
    "ac456b44-0236-4d29-ae9a-c6398ad2d3c0": {
     "id": "ac456b44-0236-4d29-ae9a-c6398ad2d3c0",
     "prev": "4a80d23f-7c82-4f86-9f04-e347d3d768dd",
     "regions": {
      "b8c6503d-df74-4701-9d3e-809b05be4d03": {
       "attrs": {
        "height": 0.8,
        "width": 0.8,
        "x": 0.1,
        "y": 0.1
       },
       "content": {
        "cell": "0242c84b-d837-41c3-8eb2-734718ae9fd1",
        "part": "whole"
       },
       "id": "b8c6503d-df74-4701-9d3e-809b05be4d03"
      }
     }
    },
    "b38fff8f-d041-4b97-9632-142062eee767": {
     "id": "b38fff8f-d041-4b97-9632-142062eee767",
     "prev": "803c2834-255f-42c3-9a0c-fc21b0263b72",
     "regions": {
      "ac6eb288-ea23-4432-9bdd-983a268f8a84": {
       "attrs": {
        "height": 0.8,
        "width": 0.8,
        "x": 0.1,
        "y": 0.1
       },
       "content": {
        "cell": "3ff43055-986b-415f-b39b-e770bcda3c9a",
        "part": "whole"
       },
       "id": "ac6eb288-ea23-4432-9bdd-983a268f8a84"
      }
     }
    },
    "b6d6c2a9-4564-4889-8042-9644c7b5c5bc": {
     "id": "b6d6c2a9-4564-4889-8042-9644c7b5c5bc",
     "prev": "496834fc-f5f8-4528-8fdf-ffada7493069",
     "regions": {
      "c3b7fecd-2ee4-4bb3-963c-d088acfc1793": {
       "attrs": {
        "height": 0.8,
        "width": 0.8,
        "x": 0.1,
        "y": 0.1
       },
       "content": {
        "cell": "1a431e2a-534b-4e13-b544-ec8d094b156a",
        "part": "whole"
       },
       "id": "c3b7fecd-2ee4-4bb3-963c-d088acfc1793"
      }
     }
    },
    "b791f6b1-9d83-43b3-aa81-d7751791263a": {
     "id": "b791f6b1-9d83-43b3-aa81-d7751791263a",
     "prev": "8698651c-b5ca-4a73-a5fb-ec597deb8021",
     "regions": {
      "e6c5721a-6d0c-466a-9127-f6dd5e5f12dd": {
       "attrs": {
        "height": 0.8,
        "width": 0.8,
        "x": 0.1,
        "y": 0.1
       },
       "content": {
        "cell": "15768f98-e34d-414e-b54b-5b9365c98b95",
        "part": "whole"
       },
       "id": "e6c5721a-6d0c-466a-9127-f6dd5e5f12dd"
      }
     }
    },
    "b84ae454-7f80-46d1-8582-f9643aa3c88a": {
     "id": "b84ae454-7f80-46d1-8582-f9643aa3c88a",
     "prev": "96312088-219e-4cb0-ad1e-05613e9d7cbb",
     "regions": {
      "f31323a6-9e0d-4367-bb39-5f0b63d46e45": {
       "attrs": {
        "height": 0.8,
        "width": 0.8,
        "x": 0.1,
        "y": 0.1
       },
       "content": {
        "cell": "bee761ea-e3ef-4d34-b9b3-1b0edc3a5796",
        "part": "whole"
       },
       "id": "f31323a6-9e0d-4367-bb39-5f0b63d46e45"
      }
     }
    },
    "bab20373-68ec-487b-8996-a9da7e77e157": {
     "id": "bab20373-68ec-487b-8996-a9da7e77e157",
     "prev": "2503811e-c43e-429f-b1ee-373a23fff7bd",
     "regions": {
      "99b9f810-c6db-4883-b29e-abb744540979": {
       "attrs": {
        "height": 0.8,
        "width": 0.8,
        "x": 0.1,
        "y": 0.1
       },
       "content": {
        "cell": "d5ba04c5-1dd1-48f1-94ae-a022814135a6",
        "part": "whole"
       },
       "id": "99b9f810-c6db-4883-b29e-abb744540979"
      }
     }
    },
    "c313db45-2c40-418a-8211-e92d997e640a": {
     "id": "c313db45-2c40-418a-8211-e92d997e640a",
     "prev": "a136411a-5769-462c-abda-2ee72d38a7f0",
     "regions": {
      "ccc54f2e-8f57-4ee4-8020-cb26e4954af4": {
       "attrs": {
        "height": 0.8,
        "width": 0.8,
        "x": 0.1,
        "y": 0.1
       },
       "content": {
        "cell": "bd876102-b7a8-48c6-ac8a-78b751ed87f4",
        "part": "whole"
       },
       "id": "ccc54f2e-8f57-4ee4-8020-cb26e4954af4"
      }
     }
    },
    "c3a0d00b-f56b-48b7-bdc8-5d6fff30c19b": {
     "id": "c3a0d00b-f56b-48b7-bdc8-5d6fff30c19b",
     "prev": "f2316f2a-3fbc-4878-b05b-970a21f83f48",
     "regions": {
      "7dde43b1-dde2-45b7-aa41-684ccbf487e2": {
       "attrs": {
        "height": 0.8,
        "width": 0.8,
        "x": 0.1,
        "y": 0.1
       },
       "content": {
        "cell": "854fe942-b5b9-4e49-a921-b5e05037593f",
        "part": "whole"
       },
       "id": "7dde43b1-dde2-45b7-aa41-684ccbf487e2"
      }
     }
    },
    "d1b21011-e21a-419b-9ad3-a7144cdb1aee": {
     "id": "d1b21011-e21a-419b-9ad3-a7144cdb1aee",
     "prev": "842c745f-b6ae-4550-860b-859aeb373a20",
     "regions": {
      "d13f70b5-82cf-40f0-a704-9ba8ecd32421": {
       "attrs": {
        "height": 0.8,
        "width": 0.8,
        "x": 0.1,
        "y": 0.1
       },
       "content": {
        "cell": "55b90582-ddad-4923-a73c-27600676aa58",
        "part": "whole"
       },
       "id": "d13f70b5-82cf-40f0-a704-9ba8ecd32421"
      }
     }
    },
    "d7e439f7-ba39-40c2-b293-c49ccd578921": {
     "id": "d7e439f7-ba39-40c2-b293-c49ccd578921",
     "prev": "30b37ac1-3996-4850-886e-ce949ffcd63b",
     "regions": {
      "c9c9cc79-8e10-4ec2-a71c-ba309c9c6df4": {
       "attrs": {
        "height": 0.8,
        "width": 0.8,
        "x": 0.1,
        "y": 0.1
       },
       "content": {
        "cell": "9603d2df-fbe3-4b96-ad00-c617dc4fa3aa",
        "part": "whole"
       },
       "id": "c9c9cc79-8e10-4ec2-a71c-ba309c9c6df4"
      }
     }
    },
    "da779fc9-40e1-4659-8dc0-b31c6a3c147c": {
     "id": "da779fc9-40e1-4659-8dc0-b31c6a3c147c",
     "prev": "b791f6b1-9d83-43b3-aa81-d7751791263a",
     "regions": {
      "23214a71-4b61-4a13-af23-f74b3077ac0a": {
       "attrs": {
        "height": 0.8,
        "width": 0.8,
        "x": 0.1,
        "y": 0.1
       },
       "content": {
        "cell": "ee899eb2-27f6-4f24-82e4-5d48701e2f92",
        "part": "whole"
       },
       "id": "23214a71-4b61-4a13-af23-f74b3077ac0a"
      }
     }
    },
    "ed7af3f2-9d07-4670-ad36-c7b5a91ab405": {
     "id": "ed7af3f2-9d07-4670-ad36-c7b5a91ab405",
     "prev": "175d56f0-9172-4a57-91a4-cf0ef21c6543",
     "regions": {
      "19aefe5d-1380-4b50-8eee-daee5d56cade": {
       "attrs": {
        "height": 0.8,
        "width": 0.8,
        "x": 0.1,
        "y": 0.1
       },
       "content": {
        "cell": "5431ea7e-8bc9-41b7-b866-b67f3655ad44",
        "part": "whole"
       },
       "id": "19aefe5d-1380-4b50-8eee-daee5d56cade"
      }
     }
    },
    "f2316f2a-3fbc-4878-b05b-970a21f83f48": {
     "id": "f2316f2a-3fbc-4878-b05b-970a21f83f48",
     "prev": "33fa4ab7-c3f9-42ae-a52a-1443a3cc5171",
     "regions": {
      "46a7950d-31a2-4f80-8953-ccc134adbec3": {
       "attrs": {
        "height": 0.8,
        "width": 0.8,
        "x": 0.1,
        "y": 0.1
       },
       "content": {
        "cell": "a406c3d9-9c15-4399-9088-589a1c8a9ed8",
        "part": "whole"
       },
       "id": "46a7950d-31a2-4f80-8953-ccc134adbec3"
      }
     }
    },
    "f3d73ea4-5cf9-4d51-9808-dcb7a9f68e4f": {
     "id": "f3d73ea4-5cf9-4d51-9808-dcb7a9f68e4f",
     "prev": "56a70e4e-1e1d-4a0c-b8fe-7be0702d64f1",
     "regions": {
      "cb3852a7-6094-45ab-9509-9c299769a524": {
       "attrs": {
        "height": 0.8,
        "width": 0.8,
        "x": 0.1,
        "y": 0.1
       },
       "content": {
        "cell": "ab541cac-38eb-4f27-8dfa-891b5b8ac8d0",
        "part": "whole"
       },
       "id": "cb3852a7-6094-45ab-9509-9c299769a524"
      }
     }
    },
    "fa7ed61c-a009-46e4-b4c5-aa47ae767510": {
     "id": "fa7ed61c-a009-46e4-b4c5-aa47ae767510",
     "prev": "87e50aad-4575-43c0-8c20-1ef97944f051",
     "regions": {
      "e08aadba-fe8a-4e4a-87dd-b195e630aee2": {
       "attrs": {
        "height": 0.8,
        "width": 0.8,
        "x": 0.1,
        "y": 0.1
       },
       "content": {
        "cell": "30c7ba17-8733-4a92-8b7e-758a38dd5822",
        "part": "whole"
       },
       "id": "e08aadba-fe8a-4e4a-87dd-b195e630aee2"
      }
     }
    }
   },
   "themes": {}
  }
 },
 "nbformat": 4,
 "nbformat_minor": 0
}
